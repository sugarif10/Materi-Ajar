{
 "cells": [
  {
   "cell_type": "markdown",
   "id": "fa70111675990702",
   "metadata": {},
   "source": [
    "# <p style=\"background-color:lime; font-family:calibri; color:maroon; font-size:150%; text-align:center; border-radius:15px 50px;\">Data Preprocessing</p>"
   ]
  },
  {
   "cell_type": "markdown",
   "id": "2ea1457c6cde4b15",
   "metadata": {},
   "source": [
    "<div style=\"border-radius:10px; padding: 15px; background-color: #C02929; font-size:115%; text-align:left\">\n",
    "\n",
    "<h3 align=\"left\"><font color=black>Objectives:\n",
    "  \n",
    "  \n",
    "1. Install Libraries\n",
    "2. Import Libraries\n",
    "3. Load Dataset\n",
    "4. Data Exploration\n",
    "5. Data Quality\n",
    "   - Penanganan Nilai yang hilang\n",
    "   - Penanganan Format yang sesuai standard\n",
    "6. Data Visualization\n",
    "\n",
    "\n",
    "</font></h3>"
   ]
  },
  {
   "cell_type": "markdown",
   "id": "c4eefff77668896c",
   "metadata": {},
   "source": [
    "# <p style=\"background-color:#8502d1; font-family:calibri; color:white; font-size:150%; text-align:center; border-radius:15px 50px;\">Step 1 | Install Libraries</p>"
   ]
  },
  {
   "cell_type": "code",
   "execution_count": null,
   "id": "db6fc52f1f43bee0",
   "metadata": {},
   "outputs": [],
   "source": [
    "# !pip install pandas\n",
    "# !pip install numpy\n",
    "# !pip install scikit-learn\n",
    "# !pip install matplotlib\n",
    "# !pip install seaborn"
   ]
  },
  {
   "cell_type": "markdown",
   "id": "150b35dfcf74d27a",
   "metadata": {},
   "source": [
    "# <p style=\"background-color:#8502d1; font-family:calibri; color:white; font-size:150%; text-align:center; border-radius:15px 50px;\">Step 2 | Import Libraries</p>"
   ]
  },
  {
   "cell_type": "code",
   "execution_count": null,
   "id": "fd8a31bda293921",
   "metadata": {
    "ExecuteTime": {
     "end_time": "2024-10-24T12:21:38.205207Z",
     "start_time": "2024-10-24T12:21:36.893745Z"
    }
   },
   "outputs": [],
   "source": [
    "import pandas as pd\n",
    "import numpy as np\n",
    "from sklearn import preprocessing\n",
    "from matplotlib import pyplot as plt\n",
    "import seaborn as sns"
   ]
  },
  {
   "cell_type": "markdown",
   "id": "7a0e41c6afd9e305",
   "metadata": {},
   "source": [
    "# <p style=\"background-color:#8502d1; font-family:calibri; color:white; font-size:150%; text-align:center; border-radius:15px 50px;\">Step 3 | Load Dataset</p>"
   ]
  },
  {
   "cell_type": "code",
   "execution_count": null,
   "id": "947f0872c4c800e5",
   "metadata": {},
   "outputs": [],
   "source": [
    "df = pd.read_csv('datakelulusanmahasiswa.csv')\n"
   ]
  },
  {
   "cell_type": "markdown",
   "id": "12caeb93cb90f030",
   "metadata": {},
   "source": [
    "<div style=\"border-radius:10px; padding: 15px; background-color: #C02929; font-size:110%; text-align:left\">\n",
    "\n",
    "<h2 align=\"left\"><font color=black>Dataset Description:</font></h2>\n",
    "    \n",
    "| __Variable__         | __Description__                                                       |\n",
    "|:---------------------|:----------------------------------------------------------------------|      \n",
    "| __NAMA__             | Nama Mahasiswa                                                        |                \n",
    "| __JENIS KELAMIN__    | Jenis Kelamin Mahasiswa yang terdiri dari 'Laki-Laki' dan 'Perempuan' |                        \n",
    "| __STATUS MAHASISWA__ | Status Mahasiswa yang terdiri dari 'Bekerja' dan 'Mahasiswa'          |\n",
    "| __UMUR__             | Usia Mahasiswa                                                        |\n",
    "| __STATUS NIKAH__     | Status Nikah terdiri dari 'Belum Menikah' dan 'Menikah'               |                     \n",
    "| __IPS 1__            | Indeks Prestasi Mahasiswa Semester 1                                  |\n",
    "| __IPS 2__            | Indeks Prestasi Mahasiswa Semester 2                                  |\n",
    "| __IPS 3__            | Indeks Prestasi Mahasiswa Semester 3                                  |\n",
    "| __IPS 4__            | Indeks Prestasi Mahasiswa Semester 4                                  |\n",
    "| __IPS 5__            | Indeks Prestasi Mahasiswa Semester 5                                  |\n",
    "| __IPS 6__            | Indeks Prestasi Mahasiswa Semester 6                                  |\n",
    "| __IPS 7__            | Indeks Prestasi Mahasiswa Semester 7                                  |\n",
    "| __IPS 8__            | Indeks Prestasi Mahasiswa Semester 8                                  |\n",
    "| __IPK__              | Indeks Prestasi Kumulatif Mahasiswa selama 8 semester                 |\n",
    "| __STATUS KELULUSAN__ | Status Kelulusan Mahasiswa yang terdiri dari 'Lulus' dan 'Tidak Lulus' |  \n"
   ]
  },
  {
   "cell_type": "markdown",
   "id": "27020209702927cc",
   "metadata": {},
   "source": [
    "# <p style=\"background-color:#8502d1; font-family:calibri; color:white; font-size:150%; text-align:center; border-radius:15px 50px;\">Step 4 | Data Exploration</p>"
   ]
  },
  {
   "cell_type": "code",
   "execution_count": null,
   "id": "a95ef00a771f2243",
   "metadata": {},
   "outputs": [],
   "source": [
    "# Menampilkan semua baris dan kolom\n",
    "df"
   ]
  },
  {
   "cell_type": "code",
   "execution_count": null,
   "id": "74de91ff4f3b91ca",
   "metadata": {},
   "outputs": [],
   "source": [
    "# Menampilkan baris pertama\n",
    "df.head()"
   ]
  },
  {
   "cell_type": "code",
   "execution_count": null,
   "id": "765fa024ff3bfa72",
   "metadata": {},
   "outputs": [],
   "source": [
    "# Menampilkan baris terakhir\n",
    "df.tail()"
   ]
  },
  {
   "cell_type": "code",
   "execution_count": null,
   "id": "9ebca5427d572adf",
   "metadata": {},
   "outputs": [],
   "source": [
    "# Menampilkan ringkasan dataframe\n",
    "df.info()"
   ]
  },
  {
   "cell_type": "code",
   "execution_count": null,
   "id": "4498ae7ed77a1af9",
   "metadata": {},
   "outputs": [],
   "source": [
    "df.describe()"
   ]
  },
  {
   "cell_type": "code",
   "execution_count": null,
   "id": "32ea4f53d56d96ad",
   "metadata": {},
   "outputs": [],
   "source": [
    "# Menampilkan spesifik kolom/atribut\n",
    "df[[ 'NAMA', 'JENIS KELAMIN', 'STATUS MAHASISWA', 'STATUS NIKAH', 'STATUS KELULUSAN']].describe()"
   ]
  },
  {
   "cell_type": "markdown",
   "id": "39d82add3ad6886b",
   "metadata": {},
   "source": [
    "# <p style=\"background-color:#8502d1; font-family:calibri; color:white; font-size:150%; text-align:center; border-radius:15px 50px;\">Step 5 | Data Quality</p>"
   ]
  },
  {
   "cell_type": "code",
   "execution_count": null,
   "id": "22d184611ce6a795",
   "metadata": {},
   "outputs": [],
   "source": [
    "# Mengecek nilai yang hilang\n",
    "df.isnull().sum()"
   ]
  },
  {
   "cell_type": "code",
   "execution_count": null,
   "id": "cedd2430c353b62b",
   "metadata": {},
   "outputs": [],
   "source": [
    "# Mengisi nilai yang hilang\n",
    "df['UMUR'].fillna(df['UMUR'].median(), inplace=True)\n",
    "df['IPS 1'].fillna(df['IPS 1'].mean(), inplace=True)\n",
    "df['IPS 2'].fillna(df['IPS 2'].mean(), inplace=True)\n",
    "df['IPS 3'].fillna(df['IPS 3'].mean(), inplace=True)\n",
    "df['IPS 4'].fillna(df['IPS 4'].mean(), inplace=True)\n",
    "df['IPS 5'].fillna(df['IPS 5'].mean(), inplace=True)\n",
    "df['IPS 6'].fillna(df['IPS 6'].mode()[0], inplace=True)\n",
    "df['IPS 7'].fillna(df['IPS 7'].mode()[0], inplace=True)\n",
    "df['IPS 8'].fillna(df['IPS 8'].mode()[0], inplace=True)\n",
    "df['IPK '].fillna(df['IPK '].mean(), inplace=True)\n"
   ]
  },
  {
   "cell_type": "code",
   "execution_count": null,
   "id": "e4b831fd292044fb",
   "metadata": {},
   "outputs": [],
   "source": [
    "print('Data setelah dibersihkan : ')\n",
    "df.isnull().sum()"
   ]
  },
  {
   "cell_type": "markdown",
   "id": "6a147a59df083c89",
   "metadata": {},
   "source": [
    "<div style=\"border-radius:10px; padding: 15px; background-color: #C02929; font-size:110%; text-align:left\">\n",
    "\n",
    "<h2 align=\"left\"><font color=black>Keterangan:</font></h2>\n",
    "    \n",
    "    \n",
    "* __`UMUR`__: Nilai yang hilang dari atribut Umur diisi oleh nilai median.\n",
    "* __`IPS 1`__, __`IPS 2`__, __`IPS 3`__, __`IPS 4`__, __`IPS 5`__,  __`IPK`__: Nilai yang hilang dari atribut IPS 1 hingga IPS 5 dan IPK diganti dengan nilai Mean\n",
    "* __`IPS 6`__, __`IPS 7`__, __`IPS 8`__: Nilai yang hilang dari atribut IPS 6 hingga IPS 7 diganti dengan nilai Modus\n"
   ]
  },
  {
   "cell_type": "code",
   "execution_count": null,
   "id": "6fbdfe60830d78d8",
   "metadata": {},
   "outputs": [],
   "source": [
    "# Mengubah Value pada kolom JENIS KELAMIN\n",
    "\n",
    "df['JENIS KELAMIN'].unique()"
   ]
  },
  {
   "cell_type": "code",
   "execution_count": null,
   "id": "2c59b905229a1d0c",
   "metadata": {},
   "outputs": [],
   "source": [
    "# Mengubah format standard\n",
    "\n",
    "df['JENIS KELAMIN'] = df['JENIS KELAMIN'].replace('pEreMpuAn', 'PEREMPUAN')"
   ]
  },
  {
   "cell_type": "code",
   "execution_count": null,
   "id": "6d7398089b38cbc7",
   "metadata": {},
   "outputs": [],
   "source": [
    "df['JENIS KELAMIN']     = df['JENIS KELAMIN'].replace('LaKi-lAki', 'LAKI - LAKI')"
   ]
  },
  {
   "cell_type": "code",
   "execution_count": null,
   "id": "693b2a7d49d1514b",
   "metadata": {},
   "outputs": [],
   "source": [
    "df['JENIS KELAMIN'] = df['JENIS KELAMIN'].replace('LaKi-LakI', 'LAKI - LAKI')"
   ]
  },
  {
   "cell_type": "code",
   "execution_count": null,
   "id": "79be9815d93c6771",
   "metadata": {},
   "outputs": [],
   "source": [
    "df['JENIS KELAMIN'].unique()"
   ]
  },
  {
   "cell_type": "code",
   "execution_count": null,
   "id": "1848b0428a90706e",
   "metadata": {},
   "outputs": [],
   "source": [
    "df.info()"
   ]
  },
  {
   "cell_type": "markdown",
   "id": "b3275740f3bf7fb2",
   "metadata": {},
   "source": [
    "<div style=\"border-radius:10px; padding: 15px; background-color: #C02929; font-size:110%; text-align:left\">\n",
    "\n",
    "<h2 align=\"left\"><font color=black>Keterangan:</font></h2>\n",
    "    \n",
    "    \n",
    "* __`JENIS KELAMIN`__: Nilai yang formatnya tidak sesuai diubah menjadi format yang sesuai menjadi 'LAKI - LAKI' dan 'PEREMPUAN'\n",
    "\n"
   ]
  },
  {
   "cell_type": "code",
   "execution_count": null,
   "id": "7a4b859ce28f3253",
   "metadata": {},
   "outputs": [],
   "source": [
    "# Encode categorical variables\n",
    "le = preprocessing.LabelEncoder()\n",
    "df['JENIS KELAMIN'] = le.fit_transform(df['JENIS KELAMIN'])\n"
   ]
  },
  {
   "cell_type": "code",
   "execution_count": null,
   "id": "bc6da1466fe54fa6",
   "metadata": {},
   "outputs": [],
   "source": [
    "df['STATUS MAHASISWA'] = le.fit_transform(df['STATUS MAHASISWA'])"
   ]
  },
  {
   "cell_type": "code",
   "execution_count": null,
   "id": "1dc201565d9719b4",
   "metadata": {},
   "outputs": [],
   "source": [
    "df['STATUS NIKAH'] = le.fit_transform(df['STATUS NIKAH'])"
   ]
  },
  {
   "cell_type": "code",
   "execution_count": null,
   "id": "411ebbb2fa20826f",
   "metadata": {},
   "outputs": [],
   "source": [
    "df['STATUS KELULUSAN'] = le.fit_transform(df['STATUS KELULUSAN'])"
   ]
  },
  {
   "cell_type": "code",
   "execution_count": null,
   "id": "dacbd48e5add4429",
   "metadata": {},
   "outputs": [],
   "source": [
    "df"
   ]
  },
  {
   "cell_type": "markdown",
   "id": "d2bbf7f2341471d9",
   "metadata": {},
   "source": [
    "<div style=\"border-radius:10px; padding: 15px; background-color: #C02929; font-size:110%; text-align:left\">\n",
    "\n",
    "<h2 align=\"left\"><font color=black>Keterangan:</font></h2>\n",
    "    \n",
    "    \n",
    "* __`JENIS KELAMIN`__: Nilai dari Atribut Jenis Kelamin diubah menjadi nilai 0 dan 1 menggunakan fungsi Label Encoder yang mana 'Laki - Laki' menjadi '0' dan 'PEREMPUAN' menjadi '1'\n",
    "* __`STATUS MAHASISWA`__: Nilai dari Atribut Status Mahasiswa diubah menjadi nilai 0 dan 1 menggunakan fungsi Label Encoder yang mana 'Bekerja' menjadi '0' dan 'Mahasiswa' menjadi '1'\n",
    "* __`STATUS NIKAH`__: Nilai dari Atribut Status Nikah diubah menjadi nilai 0 dan 1 menggunakan fungsi Label Encoder yang mana 'Belum Menikah' menjadi '0' dan 'Menikah' menjadi '1'\n",
    "* __`STATUS KELULUSAN`__: Nilai dari Atribut Status Kelulusan diubah menjadi nilai 0 dan 1 menggunakan fungsi Label Encoder yang mana 'Tepat' menjadi '0' dan 'Terlambat' menjadi '1'\n"
   ]
  },
  {
   "cell_type": "code",
   "execution_count": null,
   "id": "df486816b9c24bd2",
   "metadata": {},
   "outputs": [],
   "source": [
    "df['IPS 1'] = df['IPS 1'].round(2)\n",
    "df['IPS 2'] = df['IPS 2'].round(2)\n",
    "df['IPS 3'] = df['IPS 3'].round(2)\n",
    "df['IPS 4'] = df['IPS 4'].round(2)\n",
    "df['IPS 5'] = df['IPS 5'].round(2)      \n",
    "df['IPS 6'] = df['IPS 6'].round(2)\n",
    "df['IPS 7'] = df['IPS 7'].round(2)\n",
    "df['IPS 8'] = df['IPS 8'].round(2)\n",
    "df['IPK '] = df['IPK '].round(2)"
   ]
  },
  {
   "cell_type": "code",
   "execution_count": null,
   "id": "f674904afdc7ccff",
   "metadata": {},
   "outputs": [],
   "source": [
    "df"
   ]
  },
  {
   "cell_type": "markdown",
   "id": "ce57a5121400a3ac",
   "metadata": {},
   "source": [
    "<div style=\"border-radius:10px; padding: 15px; background-color: #C02929; font-size:110%; text-align:left\">\n",
    "\n",
    "<h2 align=\"left\"><font color=black>Keterangan:</font></h2>\n",
    "    \n",
    "    \n",
    "* __`IPS 1`__, __`IPS 2`__, __`IPS 3`__, __`IPS 4`__, __`IPS 5`__, __`IPS 6`__, __`IPS 7`__, __`IPS 8`__, __`IPK`__: Nilai dari IPS 1 hingga IPK dibulatkan 2 angka dibelakang koma\n",
    "\n"
   ]
  },
  {
   "cell_type": "markdown",
   "id": "3765bc67218e8c4",
   "metadata": {},
   "source": [
    "# <p style=\"background-color:#8502d1; font-family:calibri; color:white; font-size:150%; text-align:center; border-radius:15px 50px;\">Step 6 | Data Visualization</p>"
   ]
  },
  {
   "cell_type": "code",
   "execution_count": null,
   "id": "78b899495d8c2caf",
   "metadata": {},
   "outputs": [],
   "source": [
    "# Histogram Digunakan untuk menunjukkan distribusi variabel tunggal.\n",
    "\n",
    "# Menampilkan visualisasi Jenis Kelamin\n",
    "\n",
    "# Membuat histogram dari kolom JENIS KELAMIN\n",
    "# kind='hist' digunakan untuk membuat histogram\n",
    "# bins = 20 digunakan untuk mengatur jumlah bins dalam histogram\n",
    "# title='JENIS KELAMIN' digunakan untuk mengatur judul histogram\n",
    "df['JENIS KELAMIN'].plot(kind='hist', bins = 20, title='JENIS KELAMIN')\n",
    "# Menghilangkan garis atas dan kanan dari plot\n",
    "plt.gca().spines[['top', 'right',]].set_visible(False)"
   ]
  },
  {
   "cell_type": "code",
   "execution_count": null,
   "id": "9e63f99766d9c1f1",
   "metadata": {},
   "outputs": [],
   "source": [
    "# Histogram Digunakan untuk menunjukkan distribusi variabel tunggal.\n",
    "\n",
    "# Menampilkan visualisasi Status Mahasiswa\n",
    "# Membuat histogram dari kolom STATUS MAHASISWA\n",
    "# parameter bins=20 untuk mengatur jumlah bin pada histogram\n",
    "# title='STATUS MAHASISWA' untuk mengatur judul histogram\n",
    "df['STATUS MAHASISWA'].plot(kind='hist', bins=20, title='STATUS MAHASISWA')\n",
    "\n",
    "# Menghilangkan spines atas dan kanan pada plot\n",
    "plt.gca().spines[['top', 'right',]].set_visible(False)"
   ]
  },
  {
   "cell_type": "code",
   "execution_count": null,
   "id": "d6b45bd6de73824b",
   "metadata": {},
   "outputs": [],
   "source": [
    "\n",
    "# Histogram Digunakan untuk menunjukkan distribusi variabel tunggal.\n",
    "\n",
    "# Membuat histogram dari kolom UMUR\n",
    "# parameter bins=20 artinya akan dibagi menjadi 20 bagian\n",
    "# parameter title='UMUR' artinya judul dari plot adalah 'UMUR'\n",
    "df['UMUR'].plot(kind='hist', bins=20, title='UMUR')\n",
    "\n",
    "# Menghilangkan garis atas dan kanan dari plot\n",
    "# dengan cara mengatur visibility dari spines\n",
    "plt.gca().spines[['top', 'right',]].set_visible(False)"
   ]
  },
  {
   "cell_type": "code",
   "execution_count": null,
   "id": "c223c22dd539b8e2",
   "metadata": {},
   "outputs": [],
   "source": [
    "# Membuat count plot untuk kolom 'JENIS KELAMIN' dengan pembeda warna berdasarkan 'STATUS KELULUSAN'\n",
    "sns.countplot(data=df, x='JENIS KELAMIN', hue='STATUS KELULUSAN')\n",
    "\n",
    "# Menambahkan judul pada plot\n",
    "plt.title('Jenis Kelamin vs Status Kelulusan')\n",
    "\n",
    "# Menambahkan label pada sumbu x\n",
    "plt.xlabel('Jenis Kelamin')\n",
    "\n",
    "# Menambahkan label pada sumbu y\n",
    "plt.ylabel('Jumlah')\n",
    "\n",
    "# Menampilkan legenda dengan judul 'Status Kelulusan'\n",
    "plt.legend(title='Status Kelulusan')\n",
    "\n",
    "# Menampilkan plot\n",
    "plt.show()"
   ]
  },
  {
   "cell_type": "code",
   "execution_count": null,
   "id": "b24c42e9e79bede6",
   "metadata": {},
   "outputs": [],
   "source": [
    "\n",
    "\n",
    "# Membuat gambar dengan ukuran 10x6 inci\n",
    "plt.figure(figsize=(10, 6))\n",
    "\n",
    "# Membuat plot hitungan (countplot) menggunakan seaborn\n",
    "# data=df: menggunakan dataframe df sebagai sumber data\n",
    "# x='STATUS MAHASISWA': menggunakan kolom STATUS MAHASISWA sebagai sumbu x\n",
    "# hue='STATUS KELULUSAN': membedakan warna berdasarkan STATUS KELULUSAN\n",
    "sns.countplot(data=df, x='STATUS MAHASISWA', hue='STATUS KELULUSAN')\n",
    "\n",
    "# Menambahkan judul plot\n",
    "plt.title('Status Mahasiswa vs Status Kelulusan')\n",
    "\n",
    "# Menambahkan label untuk sumbu x\n",
    "plt.xlabel('STATUS MAHASISWA')\n",
    "\n",
    "# Menambahkan label untuk sumbu y\n",
    "plt.ylabel('STATUS KELULUSAN')\n",
    "\n",
    "# Menambahkan legenda dengan judul 'Status Kelulusan'\n",
    "plt.legend(title='Status Kelulusan')\n",
    "\n",
    "# Mengubah label sumbu x menjadi 'Bekerja' dan 'Mahasiswa'\n",
    "plt.xticks([0,1], ['Bekerja', 'Mahasiswa'])\n",
    "\n",
    "# Menampilkan plot\n",
    "plt.show()"
   ]
  },
  {
   "cell_type": "code",
   "execution_count": null,
   "id": "f4b301ba96e49264",
   "metadata": {},
   "outputs": [],
   "source": [
    "# Line Chart: Digunakan untuk menunjukkan tren dari waktu ke waktu atau di berbagai kategori.\n",
    "\n",
    "# Menampilkan visualisasi Line Chart untuk kolom IPK\n",
    "# Membuat gambar dengan ukuran 10x5 inci\n",
    "plt.figure(figsize=(10, 5))\n",
    "\n",
    "# Membuat plot garis untuk data IPK\n",
    "# marker='o': menambahkan titik pada setiap data\n",
    "# linestyle='-': menggunakan garis solid\n",
    "# color='b': menggunakan warna biru\n",
    "plt.plot(df['IPK '], marker='o', linestyle='-', color='b')\n",
    "\n",
    "# Menambahkan judul grafik\n",
    "plt.title('Line Chart IPK')\n",
    "\n",
    "# Menambahkan label untuk sumbu x\n",
    "plt.xlabel('Index')\n",
    "\n",
    "# Menambahkan label untuk sumbu y\n",
    "plt.ylabel('IPK')\n",
    "\n",
    "# Menambahkan grid pada grafik\n",
    "plt.grid()\n",
    "\n",
    "# Menampilkan grafik\n",
    "plt.show()"
   ]
  },
  {
   "cell_type": "code",
   "execution_count": null,
   "id": "104e0faaf535969e",
   "metadata": {},
   "outputs": [],
   "source": [
    "# Line Chart: Digunakan untuk menunjukkan tren dari waktu ke waktu atau di berbagai kategori.\n",
    "\n",
    "# Membuat gambar dengan ukuran 12x6 inci\n",
    "plt.figure(figsize=(12, 6))\n",
    "\n",
    "# Melakukan iterasi untuk setiap IPS dari 1 sampai 8\n",
    "for i in range(1, 9):\n",
    "    kolom_ips = f'IPS {i}'\n",
    "    # Membuat plot untuk setiap IPS dengan marker bulat, garis solid, dan ukuran marker 4\n",
    "    plt.plot(df[kolom_ips], label=kolom_ips, marker='o', linestyle='-', markersize=4)\n",
    "\n",
    "# Menambahkan judul grafik\n",
    "plt.title('Perbandingan IPS 1 sampai IPS 8')\n",
    "# Menambahkan label untuk sumbu x\n",
    "plt.xlabel('Indeks Mahasiswa')\n",
    "# Menambahkan label untuk sumbu y\n",
    "plt.ylabel('Nilai IPS')\n",
    "\n",
    "# Menambahkan legenda di luar plot di sebelah kanan atas\n",
    "plt.legend(loc='upper left', bbox_to_anchor=(1.05, 1))\n",
    "\n",
    "# Menambahkan grid dengan garis putus-putus dan transparansi 0.7\n",
    "plt.grid(True, linestyle='--', alpha=0.7)\n",
    "\n",
    "# Mengatur tata letak plot agar tidak tumpang tindih\n",
    "plt.tight_layout()\n",
    "\n",
    "# Menampilkan plot\n",
    "plt.show()"
   ]
  },
  {
   "cell_type": "code",
   "execution_count": null,
   "id": "cb828ac46489e261",
   "metadata": {},
   "outputs": [],
   "source": [
    "# Membuat heatmap korelasi: Digunakan untuk menunjukkan korelasi antara berbagai variabel.\n",
    "# Membuat gambar dengan ukuran 10x8 inci\n",
    "plt.figure(figsize=(10, 8))\n",
    "\n",
    "# Mendefinisikan daftar kolom IPS dan IPK yang akan dianalisis\n",
    "IPS = ['IPS 1', 'IPS 2', 'IPS 3', 'IPS 4', 'IPS 5', 'IPS 6', 'IPS 7', 'IPS 8', 'IPK ']\n",
    "\n",
    "# Menghitung matriks korelasi antara kolom-kolom IPS dan IPK\n",
    "correlation_matrix = df[IPS].corr()\n",
    "\n",
    "# Membuat heatmap menggunakan seaborn\n",
    "# annot=True: Menampilkan nilai korelasi di setiap sel\n",
    "# cmap='coolwarm': Menggunakan skema warna dari biru (korelasi negatif) ke merah (korelasi positif)\n",
    "# linewidths=.5: Menambahkan garis pemisah antar sel dengan ketebalan 0.5\n",
    "# fmt='.2f': Menampilkan nilai korelasi dengan 2 angka desimal\n",
    "sns.heatmap(correlation_matrix, annot=True, cmap='coolwarm', linewidths=.5, fmt='.2f')\n",
    "\n",
    "# Menambahkan judul pada heatmap\n",
    "plt.title('Heatmap Korelasi IPS dan IPK')\n",
    "\n",
    "# Mengatur tata letak plot agar tidak tumpang tindih\n",
    "plt.tight_layout()\n",
    "\n",
    "# Menampilkan plot\n",
    "plt.show()"
   ]
  },
  {
   "cell_type": "code",
   "execution_count": null,
   "id": "199581d7bde616f4",
   "metadata": {},
   "outputs": [],
   "source": [
    "# Boxplots: Digunakan untuk menunjukkan hubungan antara dua variabel kontinu\n",
    "\n",
    "# Membuat gambar dengan ukuran 12x6 inci\n",
    "plt.figure(figsize=(12, 6))\n",
    "\n",
    "# Membuat boxplot untuk IPS 1 sampai IPS 8 menggunakan seaborn\n",
    "sns.boxplot(data=df[['IPS 1', 'IPS 2', 'IPS 3', 'IPS 4', 'IPS 5', 'IPS 6', 'IPS 7', 'IPS 8']])\n",
    "\n",
    "# Menambahkan judul pada plot\n",
    "plt.title('Distribusi IPS per Semester')\n",
    "\n",
    "# Menambahkan label untuk sumbu y\n",
    "plt.ylabel('Nilai IPS')\n",
    "\n",
    "# Memutar label sumbu x sebesar 45 derajat untuk memudahkan pembacaan\n",
    "plt.xticks(rotation=45)\n",
    "\n",
    "# Menampilkan plot\n",
    "plt.show()"
   ]
  },
  {
   "cell_type": "code",
   "execution_count": null,
   "id": "d0d0b21ad8254030",
   "metadata": {},
   "outputs": [],
   "source": [
    "# Violin plot adalah jenis visualisasi data yang menggabungkan fitur box plot dan plot densitas untuk menampilkan distribusi data numerik\n",
    "\n",
    "# Membuat gambar dengan ukuran 10x6 inci\n",
    "plt.figure(figsize=(10, 6))\n",
    "\n",
    "# Membuat violin plot untuk menampilkan distribusi IPK berdasarkan status mahasiswa\n",
    "sns.violinplot(x='STATUS MAHASISWA', y='IPK ', data=df)\n",
    "\n",
    "# Menambahkan judul pada plot\n",
    "plt.title('Distribusi IPK berdasarkan Status Mahasiswa')\n",
    "\n",
    "# Menambahkan label untuk sumbu x\n",
    "plt.xlabel('Status Mahasiswa')\n",
    "\n",
    "# Menambahkan label untuk sumbu y\n",
    "plt.ylabel('IPK')\n",
    "\n",
    "# Mengubah label sumbu x dari angka menjadi kategori yang sesuai\n",
    "plt.xticks([0, 1], ['Bekerja', 'Mahasiswa'])\n",
    "\n",
    "# Menampilkan plot\n",
    "plt.show()"
   ]
  },
  {
   "cell_type": "code",
   "execution_count": null,
   "id": "5b3c5d7d519aa5a1",
   "metadata": {},
   "outputs": [],
   "source": [
    "# Pairplot adalah jenis visualisasi data yang menampilkan hubungan berpasangan antara beberapa variabel dalam satu gambar.\n",
    "# Membuat pairplot untuk variabel numerik terpilih\n",
    "# Pairplot menampilkan hubungan antara variabel dalam bentuk scatter plot dan histogram\n",
    "sns.pairplot(df[['UMUR', 'IPS 1', 'IPS 8', 'IPK ', 'STATUS KELULUSAN']], hue='STATUS KELULUSAN')\n",
    "\n",
    "# Menambahkan judul utama di atas pairplot\n",
    "# Parameter y=1.02 menempatkan judul sedikit di atas plot\n",
    "plt.suptitle('Pairplot Variabel Numerik', y=1.02)\n",
    "\n",
    "# Menampilkan plot\n",
    "plt.show()"
   ]
  },
  {
   "cell_type": "code",
   "execution_count": null,
   "id": "c350ccb751fd463b",
   "metadata": {},
   "outputs": [],
   "source": [
    "# Crosstab, atau tabel silang, adalah metode untuk menampilkan frekuensi atau proporsi dari kombinasi dua atau lebih variabel kategorikal.\n",
    "\n",
    "# Membuat tabel silang (crosstab) antara JENIS KELAMIN dan STATUS KELULUSAN\n",
    "# normalize='index' menghasilkan proporsi untuk setiap jenis kelamin\n",
    "status_gender = pd.crosstab(df['JENIS KELAMIN'], df['STATUS KELULUSAN'], normalize='index')\n",
    "\n",
    "# Membuat plot batang bertumpuk dari tabel silang\n",
    "# kind='bar' untuk plot batang, stacked=True untuk menumpuk batang\n",
    "# figsize=(10, 6) mengatur ukuran gambar menjadi 10x6 inci\n",
    "status_gender.plot(kind='bar', stacked=True, figsize=(10, 6))\n",
    "\n",
    "# Menambahkan judul ke plot\n",
    "plt.title('Komposisi Status Kelulusan berdasarkan Jenis Kelamin')\n",
    "\n",
    "# Menambahkan label untuk sumbu x\n",
    "plt.xlabel('Jenis Kelamin')\n",
    "\n",
    "# Menambahkan label untuk sumbu y\n",
    "plt.ylabel('Proporsi')\n",
    "\n",
    "# Menambahkan legenda dengan judul 'Status Kelulusan'\n",
    "plt.legend(title='Status Kelulusan')\n",
    "\n",
    "# Mengubah label sumbu x dari angka (0, 1) menjadi kategori yang sesuai\n",
    "plt.xticks([0, 1], ['Laki-laki', 'Perempuan'])\n",
    "\n",
    "# Menampilkan plot\n",
    "plt.show()"
   ]
  },
  {
   "cell_type": "code",
   "execution_count": null,
   "id": "26c1c6644b17d753",
   "metadata": {},
   "outputs": [],
   "source": [
    "# Hitung jumlah untuk setiap status kelulusan\n",
    "# Menghitung jumlah untuk setiap status kelulusan\n",
    "status_counts = df['STATUS KELULUSAN'].value_counts()\n",
    "\n",
    "# Membuat gambar baru dengan ukuran 10x8 inci\n",
    "plt.figure(figsize=(10, 8))\n",
    "\n",
    "# Membuat diagram pie\n",
    "# status_counts.values: data yang akan diplot\n",
    "# labels: label untuk setiap bagian pie\n",
    "# autopct: menampilkan persentase dengan 1 angka desimal\n",
    "# startangle: sudut awal untuk memulai pie (90 derajat)\n",
    "plt.pie(status_counts.values, labels=['LAKI - LAKI', 'PEREMPUAN'], autopct='%1.1f%%', startangle=90)\n",
    "\n",
    "# Menambahkan judul ke diagram\n",
    "plt.title('Distribusi Status Kelulusan')\n",
    "\n",
    "# Memastikan pie berbentuk lingkaran sempurna\n",
    "plt.axis('equal')\n",
    "\n",
    "# Menampilkan diagram\n",
    "plt.show()"
   ]
  },
  {
   "cell_type": "code",
   "execution_count": null,
   "id": "a36046897e2ebd5a",
   "metadata": {},
   "outputs": [],
   "source": [
    "# Menghitung jumlah untuk setiap status mahasiswa\n",
    "status_counts = df['STATUS MAHASISWA'].value_counts()\n",
    "\n",
    "# Membuat gambar baru dengan ukuran 10x8 inci\n",
    "plt.figure(figsize=(10, 8))\n",
    "\n",
    "# Membuat diagram pie\n",
    "# status_counts.values: data yang akan diplot\n",
    "# labels: label untuk setiap bagian pie (Mahasiswa dan Bekerja)\n",
    "# autopct: menampilkan persentase dengan 1 angka desimal\n",
    "# startangle: sudut awal untuk memulai pie (90 derajat)\n",
    "plt.pie(status_counts.values, labels=['Mahasiswa', 'Bekerja'], autopct='%1.1f%%', startangle=90)\n",
    "\n",
    "# Menambahkan judul ke diagram\n",
    "plt.title('Distribusi Status Mahasiswa')\n",
    "\n",
    "# Memastikan pie berbentuk lingkaran sempurna\n",
    "plt.axis('equal')\n",
    "\n",
    "# Menampilkan diagram\n",
    "plt.show()"
   ]
  }
 ],
 "metadata": {
  "kernelspec": {
   "display_name": "venv",
   "language": "python",
   "name": "python3"
  },
  "language_info": {
   "codemirror_mode": {
    "name": "ipython",
    "version": 3
   },
   "file_extension": ".py",
   "mimetype": "text/x-python",
   "name": "python",
   "nbconvert_exporter": "python",
   "pygments_lexer": "ipython3",
   "version": "3.12.0"
  }
 },
 "nbformat": 4,
 "nbformat_minor": 5
}
