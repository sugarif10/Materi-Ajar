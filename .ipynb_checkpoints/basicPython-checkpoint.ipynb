{
 "cells": [
  {
   "cell_type": "markdown",
   "id": "75310cd041064813",
   "metadata": {},
   "source": [
    "# <p style=\"background-color:lime; font-family:calibri; color:maroon; font-size:150%; text-align:center; border-radius:15px 50px;\">Modul 1: Pengenalan Python untuk Analisis Data</p>"
   ]
  },
  {
   "cell_type": "markdown",
   "id": "ec3b3e3816d34da",
   "metadata": {},
   "source": [
    "# <p style=\"background-color:#8502d1; font-family:calibri; color:white; font-size:150%; text-align:center; border-radius:15px 50px;\">A. Pengenalan Python</p>"
   ]
  },
  {
   "cell_type": "markdown",
   "id": "0c28b828",
   "metadata": {},
   "source": [
    "<div style=\"border-radius:10px; padding: 15px; background-color: #C02929; font-size:115%; text-align:left\">\n",
    "<h3 align=\"left\"><font color=black>1. Apa itu Python?\n",
    "  \n",
    "Python adalah bahasa pemrograman tingkat tinggi yang bersifat interpreted (dijalankan baris per baris) dan general-purpose (serbaguna). Dalam konteks analisis data, Python populer karena: Sintaks Sederhana: Mudah dibaca dan dipelajari, cocok untuk pemula.\n",
    "\n",
    "</font></h3>"
   ]
  },
  {
   "cell_type": "markdown",
   "id": "b7378354",
   "metadata": {},
   "source": [
    "<div style=\"border-radius:10px; padding: 15px; background-color: #C02929; font-size:115%; text-align:left\">\n",
    "<h5 align=\"left\"><font color=black>\n",
    "\n",
    "<li>Sintaks Sederhana: Mudah dibaca dan dipelajari, cocok untuk pemula.</li>\n",
    "<li>Komunitas Besar: Banyak sumber belajar, forum (Stack Overflow), dan dokumentasi lengkap.</li>\n",
    "<li>Library Khusus Data: Seperti Pandas (manipulasi data), NumPy (komputasi numerik), Matplotlib (visualisasi), dan Scikit-learn (machine learning).</li>\n",
    "\n",
    "</font></h5>"
   ]
  },
  {
   "cell_type": "markdown",
   "id": "c8c86c4186bc1ae0",
   "metadata": {},
   "source": [
    "<div style=\"border-radius:10px; padding: 15px; background-color: #C02929; font-size:115%; text-align:left\">\n",
    "<h5 align=\"left\"><font color=black> 2. Keunggulan Python untuk Analisis Data\n",
    "\n",
    "<li>Interaktif: Bisa digunakan di Jupyter Notebook untuk eksplorasi data secara interaktif.</li>\n",
    "\n",
    "<li>Integrasi dengan Tools Data: Terhubung dengan SQL, Excel, dan big data tools (Spark).</li>\n",
    "\n",
    "<li>Efisiensi: Kode lebih singkat dibanding bahasa seperti Java atau C++.</li>\n",
    "</font></h5>"
   ]
  },
  {
   "cell_type": "markdown",
   "id": "9053b31749b7135a",
   "metadata": {},
   "source": [
    "<div style=\"border-radius:10px; padding: 15px; background-color: #C02929; font-size:115%; text-align:left\">\n",
    "<h5 align=\"left\"><font color=black> 3. Instalasi Tools\n",
    "\n",
    "<li>Anaconda (Direkomendasikan):\n",
    "Paket instalasi yang sudah termasuk Python, Jupyter Notebook, dan library data (Panduan instalasi: Anaconda Docs).</li>\n",
    "\n",
    "<li>Google Colab (Alternatif Cloud):\n",
    "Tidak perlu instalasi, bisa langsung coding di browser dengan akses GPU/TPU.\n",
    "Link: colab.research.google.com.</li>\n",
    "\n",
    "</font></h5>"
   ]
  },
  {
   "cell_type": "code",
   "execution_count": null,
   "id": "db4c2df010638d8d",
   "metadata": {
    "jupyter": {
     "is_executing": true
    }
   },
   "outputs": [],
   "source": [
    "print(\"Hello, World!\")  # Tidak perlu titik koma atau kurung kurawal"
   ]
  },
  {
   "cell_type": "markdown",
   "id": "ace171e0",
   "metadata": {},
   "source": [
    "# <p style=\"background-color:#8502d1; font-family:calibri; color:white; font-size:150%; text-align:center; border-radius:15px 50px;\">B. Dasar Sintaks Python</p>"
   ]
  },
  {
   "cell_type": "markdown",
   "id": "542eaa882bebe8e9",
   "metadata": {},
   "source": [
    "<div style=\"border-radius:10px; padding: 15px; background-color: #C02929; font-size:115%; text-align:left\">\n",
    "<h3 align=\"left\"><font color=black> 1. Variabel dan Tipe Data\n",
    "\n",
    "Variabel digunakan untuk menyimpan data. Python tidak memerlukan deklarasi tipe data secara eksplisit (dynamic typing).\n",
    "\n",
    "</font></h3>"
   ]
  },
  {
   "cell_type": "markdown",
   "id": "91719421",
   "metadata": {},
   "source": [
    "<div style=\"border-radius:10px; padding: 15px; background-color: #C02929; font-size:115%; text-align:left\">\n",
    "<h5 align=\"left\"><font color=black> Contoh Tipe Data:\n",
    "\n",
    "<li>Integer: Bilangan bulat (usia = 25).</li>\n",
    "\n",
    "<li>Float: Bilangan desimal (tinggi = 175.5).</li>\n",
    "\n",
    "<li>String: Teks (nama = \"Anna\").</li>\n",
    "\n",
    "<li>Boolean: True atau False (lulus = True).</li>\n",
    "\n",
    "</font></h5>"
   ]
  },
  {
   "cell_type": "markdown",
   "id": "f5472914",
   "metadata": {},
   "source": [
    "<div style=\"border-radius:10px; padding: 15px; background-color: #C02929; font-size:115%; text-align:left\">\n",
    "<h5 align=\"left\"><font color=black> Aturan Penamaan Variabel:\n",
    "\n",
    "<li>Tidak boleh diawali angka (misal: 2nama ❌).</li>\n",
    "\n",
    "<li>Boleh menggunakan underscore (_) atau huruf kapital (misal: nama_mahasiswa, totalHarga).</li>\n",
    "\n",
    "</font></h5>"
   ]
  },
  {
   "cell_type": "code",
   "execution_count": null,
   "id": "a89ad486d5fba955",
   "metadata": {},
   "outputs": [],
   "source": [
    "nama = \"Diana\"\n",
    "usia = 22\n",
    "ipk = 3.75\n",
    "aktif = True\n",
    "\n",
    "print(\"Nama:\", nama)\n",
    "print(\"Usia:\", usia, \"tahun\")"
   ]
  },
  {
   "cell_type": "markdown",
   "id": "5782e640a529c36e",
   "metadata": {},
   "source": [
    "<div style=\"border-radius:10px; padding: 15px; background-color: #C02929; font-size:115%; text-align:left\">\n",
    "<h5 align=\"left\"><font color=black> 2. Operasi Dasar\n",
    "\n",
    "Aritmatika\n",
    "<li> Penjumlahan: + </li>\n",
    "<li> Pengurangan: - </li>\n",
    "<li> Perkalian: * </li>\n",
    "<li> Pembagian: / </li>\n",
    "<li> Modulo (Modulus): % </li>\n",
    "<li> Pangkat: ** </li>\n",
    "\n",
    "</font></h5>"
   ]
  },
  {
   "cell_type": "markdown",
   "id": "ddebeb5d386f1352",
   "metadata": {},
   "source": [
    "### Aritmatika\n",
    "<li> Penjumlahan: + </li>\n",
    "<li> Pengurangan: - </li>\n",
    "<li> Perkalian: * </li>\n",
    "<li> Pembagian: / </li>\n",
    "<li> Modulo (Modulus): % </li>\n",
    "<li> Pangkat: ** </li>"
   ]
  },
  {
   "cell_type": "code",
   "execution_count": null,
   "id": "4b070fe7de9d65b8",
   "metadata": {},
   "outputs": [],
   "source": [
    "a = 10\n",
    "b = 3\n",
    "print(a + b)   # 13 (penjumlahan)\n",
    "print(a // b)  # 3 (pembagian bulat)\n",
    "print(a ** b)  # 1000 (pangkat)"
   ]
  },
  {
   "cell_type": "markdown",
   "id": "1a5487e120a0ee8b",
   "metadata": {},
   "source": [
    "<div style=\"border-radius:10px; padding: 15px; background-color: #C02929; font-size:115%; text-align:left\">\n",
    "<h5 align=\"left\"><font color=black> Perbandingan\n",
    "\n",
    "<li> Sama dengan: == </li>\n",
    "<li> Tidak sama dengan: != </li>\n",
    "<li> Lebih besar: > </li>\n",
    "<li> Lebih besar atau sama dengan: >= </li>\n",
    "<li> Lebih kecil: < </li>\n",
    "<li> Lebih kecil atau sama dengan: <= </li>\n",
    "\n",
    "</font></h5>"
   ]
  },
  {
   "cell_type": "code",
   "execution_count": null,
   "id": "f8eb63824d77375d",
   "metadata": {},
   "outputs": [],
   "source": [
    "a = 10\n",
    "b = 3\n",
    "print(a == b)  # False (a tidak sama dengan b)\n",
    "print(a != b)  # True (a tidak sama dengan b)\n",
    "print(a > b)   # True (a lebih besar dari b)\n",
    "print(a >= b)  # True (a lebih besar atau sama dengan b)\n",
    "print(a < b)   # False (a lebih kecil dari b)\n",
    "print(a <= b)  # False (a lebih kecil atau sama dengan b)"
   ]
  },
  {
   "cell_type": "code",
   "execution_count": 5,
   "id": "78d199e65691d73f",
   "metadata": {},
   "outputs": [],
   "source": [
    "# LOGIKA\n",
    "nilai = 85\n",
    "lulus = (nilai >= 70) and (nilai <= 100)\n",
    "print(lulus)  # True"
   ]
  },
  {
   "cell_type": "markdown",
   "id": "8802678f3335146c",
   "metadata": {},
   "source": [
    "<div style=\"border-radius:10px; padding: 15px; background-color: #C02929; font-size:115%; text-align:left\">\n",
    "<h5 align=\"left\"><font color=black> 3. Input/Output Sederhana\n",
    "\n",
    "<li> Input: Mengambil data dari pengguna dengan input(). </li>\n",
    "<li> Output: Menampilkan data dengan print(). </li>\n",
    "\n",
    "\n",
    "</font></h5>"
   ]
  },
  {
   "cell_type": "code",
   "execution_count": null,
   "id": "e044b72e3991e3a1",
   "metadata": {},
   "outputs": [],
   "source": [
    "nama = input(\"Masukkan nama Anda: \")\n",
    "umur = int(input(\"Masukkan umur: \"))  # Konversi ke integer\n",
    "print(f\"Halo {nama}, Anda berusia {umur} tahun.\")"
   ]
  },
  {
   "cell_type": "markdown",
   "id": "4aa94d529d1cd0ff",
   "metadata": {},
   "source": [
    "Catatan Penting:\n",
    "\n",
    "<li>Fungsi input() selalu menghasilkan string. Untuk konversi ke angka, gunakan int() atau float().</li>\n",
    "\n",
    "<li>f-string (formatted string) memudahkan pencetakan variabel dalam teks (contoh: f\"Halo {nama}\").</li>"
   ]
  },
  {
   "cell_type": "markdown",
   "id": "6c96109a943d33b6",
   "metadata": {},
   "source": [
    "# <p style=\"background-color:lime; font-family:calibri; color:maroon; font-size:150%; text-align:center; border-radius:15px 50px;\">Modul 2: Struktur Data Python</p>"
   ]
  },
  {
   "cell_type": "markdown",
   "id": "328fc228e78f9717",
   "metadata": {},
   "source": [
    "<div style=\"border-radius:10px; padding: 15px; background-color: #C02929; font-size:115%; text-align:left\">\n",
    "<h5 align=\"left\"><font color=black> \n",
    "Struktur data adalah cara menyimpan dan mengorganisasi data secara efisien. Python memiliki 4 struktur data utama yang sering digunakan dalam analisis data:\n",
    "\n",
    "</font></h5>"
   ]
  },
  {
   "cell_type": "markdown",
   "id": "fd59cf60efbe2fec",
   "metadata": {},
   "source": [
    "# <p style=\"background-color:#8502d1; font-family:calibri; color:white; font-size:150%; text-align:center; border-radius:15px 50px;\">A. List (Daftar)</p>\n"
   ]
  },
  {
   "cell_type": "markdown",
   "id": "45837942",
   "metadata": {},
   "source": [
    "<div style=\"border-radius:10px; padding: 15px; background-color: #C02929; font-size:115%; text-align:left\">\n",
    "<h5 align=\"left\"><font color=black> \n",
    "1. Definisi\n",
    "\n",
    "<li>List: Kumpulan data terurut (ordered), bisa diubah (mutable), dan memperbolehkan nilai duplikat.</li>\n",
    "\n",
    "<li>Digunakan untuk menyimpan sekumpulan data heterogen (misal: angka, string, atau objek lain).</li>\n",
    "\n",
    "</font></h5>"
   ]
  },
  {
   "cell_type": "markdown",
   "id": "45925a16205e2b8",
   "metadata": {},
   "source": [
    "<div style=\"border-radius:10px; padding: 15px; background-color: #C02929; font-size:115%; text-align:left\">\n",
    "<h5 align=\"left\"><font color=black> \n",
    "2. Cara Membuat List\n",
    "<li>Gunakan tanda kurung siku []:</li>\n",
    "\n",
    "</font></h5>\n"
   ]
  },
  {
   "cell_type": "code",
   "execution_count": 18,
   "id": "c7fa3d14738dda41",
   "metadata": {},
   "outputs": [],
   "source": [
    "buah = [\"apel\", \"mangga\", \"jeruk\", 100, True]\n",
    "angka = [1, 5, 2, 8, 3]"
   ]
  },
  {
   "cell_type": "markdown",
   "id": "56cd8a25e68ebd33",
   "metadata": {},
   "source": [
    "<div style=\"border-radius:10px; padding: 15px; background-color: #C02929; font-size:115%; text-align:left\">\n",
    "<h5 align=\"left\"><font color=black> \n",
    "3. Operasi Dasar pada List\n",
    "\n",
    "<li>Indexing: Mengakses elemen berdasarkan indeks (dimulai dari 0).</li>\n",
    "\n",
    "</font></h5>"
   ]
  },
  {
   "cell_type": "code",
   "execution_count": null,
   "id": "4c95840cdcf34ab8",
   "metadata": {},
   "outputs": [],
   "source": [
    "print(buah[0])   # Output: \"apel\"\n",
    "print(buah[-1])  # Output: True (elemen terakhir)"
   ]
  },
  {
   "cell_type": "markdown",
   "id": "137b1cbe663fbfb2",
   "metadata": {},
   "source": [
    "<div style=\"border-radius:10px; padding: 15px; background-color: #C02929; font-size:115%; text-align:left\">\n",
    "<h5 align=\"left\"><font color=black> \n",
    "<li>Slicing: Mengambil subset list.</li>\n",
    "</font></h5>\n"
   ]
  },
  {
   "cell_type": "code",
   "execution_count": null,
   "id": "9e156ebd13a9d272",
   "metadata": {},
   "outputs": [],
   "source": [
    "print(angka[1:3])   # Output: [5, 2] (indeks 1 sampai 2)\n",
    "print(angka[:3])    # Output: [1, 5, 2] (indeks 0-2)"
   ]
  },
  {
   "cell_type": "markdown",
   "id": "98755350ad78b744",
   "metadata": {},
   "source": [
    "<div style=\"border-radius:10px; padding: 15px; background-color: #C02929; font-size:115%; text-align:left\">\n",
    "<h5 align=\"left\"><font color=black> \n",
    "<li>Menambah Elemen:</li>\n",
    "</font></h5>\n"
   ]
  },
  {
   "cell_type": "code",
   "execution_count": 21,
   "id": "3ad204b875673e63",
   "metadata": {},
   "outputs": [],
   "source": [
    "angka.append(10)       # Tambah elemen di akhir → [1, 5, 2, 8, 3, 10]\n",
    "angka.insert(2, 99)    # Sisipkan 99 di indeks 2 → [1, 5, 99, 2, 8, 3, 10]"
   ]
  },
  {
   "cell_type": "markdown",
   "id": "d037008c0e267b81",
   "metadata": {},
   "source": [
    "<div style=\"border-radius:10px; padding: 15px; background-color: #C02929; font-size:115%; text-align:left\">\n",
    "<h5 align=\"left\"><font color=black> \n",
    "<li>Menghapus Elemen:</li>\n",
    "\n",
    "</font></h5>\n"
   ]
  },
  {
   "cell_type": "code",
   "execution_count": null,
   "id": "b4a909f5aa16dee0",
   "metadata": {},
   "outputs": [],
   "source": [
    "angka.remove(5)    # Hapus elemen bernilai 5 → [1, 99, 2, 8, 3, 10]\n",
    "angka.pop(0)       # Hapus elemen di indeks 0 → [99, 2, 8, 3, 10]"
   ]
  },
  {
   "cell_type": "markdown",
   "id": "58592affc7c11456",
   "metadata": {},
   "source": [
    "<div style=\"border-radius:10px; padding: 15px; background-color: #C02929; font-size:115%; text-align:left\">\n",
    "<h5 align=\"left\"><font color=black> \n",
    "<li>Menggabungkan List:</li>\n",
    "\n",
    "</font></h5>\n"
   ]
  },
  {
   "cell_type": "code",
   "execution_count": 23,
   "id": "9ae1ce9bcd208712",
   "metadata": {},
   "outputs": [],
   "source": [
    "list1 = [1, 2, 3]\n",
    "list2 = [4, 5]\n",
    "gabung = list1 + list2  # [1, 2, 3, 4, 5]"
   ]
  },
  {
   "cell_type": "markdown",
   "id": "466a69d0d00f6f96",
   "metadata": {},
   "source": [
    "<div style=\"border-radius:10px; padding: 15px; background-color: #C02929; font-size:115%; text-align:left\">\n",
    "<h5 align=\"left\"><font color=black> \n",
    "4. Metode Penting pada List\n",
    "<li>len(list) → Jumlah elemen.</li>\n",
    "\n",
    "<li>list.sort() → Mengurutkan list.</li>\n",
    "\n",
    "<li>list.reverse() → Membalik urutan.</li>\n",
    "\n",
    "<li>list.count(nilai) → Hitung kemunculan suatu nilai.</li>\n",
    "\n",
    "</font></h5>\n"
   ]
  },
  {
   "cell_type": "code",
   "execution_count": null,
   "id": "951c841e1dd0c6ba",
   "metadata": {},
   "outputs": [],
   "source": [
    "nilai = [85, 90, 78, 92, 88]\n",
    "nilai.sort()  # Urutkan nilai → [78, 85, 88, 90, 92]\n",
    "rata_rata = sum(nilai) / len(nilai)\n",
    "print(\"Rata-rata:\", rata_rata)"
   ]
  },
  {
   "cell_type": "markdown",
   "id": "1a3ab2ca244bb0e3",
   "metadata": {},
   "source": [
    "# <p style=\"background-color:#8502d1; font-family:calibri; color:white; font-size:150%; text-align:center; border-radius:15px 50px;\">B. Tuple</p>"
   ]
  },
  {
   "cell_type": "markdown",
   "id": "a94f01f7",
   "metadata": {},
   "source": [
    "<div style=\"border-radius:10px; padding: 15px; background-color: #C02929; font-size:115%; text-align:left\">\n",
    "<h5 align=\"left\"><font color=black> \n",
    "1. Definisi\n",
    "\n",
    "<li>Tuple: Kumpulan data terurut tetapi tidak bisa diubah (immutable).</li>\n",
    "\n",
    "<li>Cocok untuk menyimpan data yang tetap, seperti koordinat atau konfigurasi.</li></li>\n",
    "\n",
    "</font></h5>\n"
   ]
  },
  {
   "cell_type": "markdown",
   "id": "8a2e9491209f8b73",
   "metadata": {},
   "source": [
    "<div style=\"border-radius:10px; padding: 15px; background-color: #C02929; font-size:115%; text-align:left\">\n",
    "<h5 align=\"left\"><font color=black> \n",
    "2. Cara Membuat Tuple\n",
    "<li> Gunakan tanda kurung (): </li>\n",
    "\n",
    "</font></h5>"
   ]
  },
  {
   "cell_type": "code",
   "execution_count": 25,
   "id": "60a079037fd5d51b",
   "metadata": {},
   "outputs": [],
   "source": [
    "warna_rgb = (255, 0, 0)\n",
    "kota = (\"Jakarta\", \"Bandung\", \"Surabaya\")"
   ]
  },
  {
   "cell_type": "markdown",
   "id": "800eb0a1f841e42b",
   "metadata": {},
   "source": [
    "<div style=\"border-radius:10px; padding: 15px; background-color: #C02929; font-size:115%; text-align:left\">\n",
    "<h5 align=\"left\"><font color=black> \n",
    "3. Operasi pada Tuple\n",
    "\n",
    "<li>Indexing dan Slicing (sama seperti list).</li>\n",
    "\n",
    "<li>Tidak bisa menambah, menghapus, atau mengubah elemen setelah dibuat.</li>\n",
    "\n",
    "</font></h5>\n"
   ]
  },
  {
   "cell_type": "markdown",
   "id": "561c187abaeacd04",
   "metadata": {},
   "source": [
    "<div style=\"border-radius:10px; padding: 15px; background-color: #C02929; font-size:115%; text-align:left\">\n",
    "<h5 align=\"left\"><font color=black> \n",
    "4. Keunggulan Tuple\n",
    "\n",
    "<li>Lebih cepat diproses dibanding list.</li>\n",
    "\n",
    "<li>Aman digunakan sebagai kunci (key) di dictionary</li>\n",
    "\n",
    "</font></h5>\n"
   ]
  },
  {
   "cell_type": "code",
   "execution_count": null,
   "id": "d332fdc7aa4cf161",
   "metadata": {},
   "outputs": [],
   "source": [
    "# Menyimpan metadata dataset\n",
    "dataset_info = (\"Titanic\", 891, [\"PassengerId\", \"Survived\", \"Pclass\"])\n",
    "print(\"Jumlah baris:\", dataset_info[1])  # Output: 891"
   ]
  },
  {
   "cell_type": "markdown",
   "id": "452b1c39b6a5c0ab",
   "metadata": {},
   "source": [
    "# <p style=\"background-color:#8502d1; font-family:calibri; color:white; font-size:150%; text-align:center; border-radius:15px 50px;\">C. Dictionary (Kamus)</p>\n"
   ]
  },
  {
   "cell_type": "markdown",
   "id": "bfde89f2",
   "metadata": {},
   "source": [
    "<div style=\"border-radius:10px; padding: 15px; background-color: #C02929; font-size:115%; text-align:left\">\n",
    "<h5 align=\"left\"><font color=black> \n",
    "1. Definisi\n",
    "\n",
    "<li>Dictionary: Kumpulan data dengan sistem key-value (kunci-nilai), tidak terurut, dan bisa diubah.</li>\n",
    "\n",
    "<li>Cocok untuk merepresentasikan data terstruktur (misal: data JSON).</li>\n",
    "\n",
    "</font></h5>\n"
   ]
  },
  {
   "cell_type": "markdown",
   "id": "68a755bc4c9d5e8c",
   "metadata": {},
   "source": [
    "<div style=\"border-radius:10px; padding: 15px; background-color: #C02929; font-size:115%; text-align:left\">\n",
    "<h5 align=\"left\"><font color=black> \n",
    "2. Cara Membuat Dictionary\n",
    "<li>Gunakan tanda kurung kurawal {} dan key: value:</li>\n",
    "\n",
    "</font></h5>\n"
   ]
  },
  {
   "cell_type": "code",
   "execution_count": 27,
   "id": "ddfe55b60db03926",
   "metadata": {
    "jupyter": {
     "is_executing": true
    }
   },
   "outputs": [],
   "source": [
    "mahasiswa = {\n",
    "    \"nama\": \"Rina\",\n",
    "    \"usia\": 21,\n",
    "    \"jurusan\": \"Data Science\",\n",
    "    \"lulus\": False\n",
    "}"
   ]
  },
  {
   "cell_type": "markdown",
   "id": "5bf3cde5273a09bf",
   "metadata": {},
   "source": [
    "<div style=\"border-radius:10px; padding: 15px; background-color: #C02929; font-size:115%; text-align:left\">\n",
    "<h5 align=\"left\"><font color=black> \n",
    "3. Operasi Dasar pada Dictionary\n",
    "\n",
    "<li>Akses Nilai menggunakan key:</li>\n",
    "\n",
    "</font></h5>\n"
   ]
  },
  {
   "cell_type": "code",
   "execution_count": null,
   "id": "6ecbe23ae59eb8c2",
   "metadata": {},
   "outputs": [],
   "source": [
    "print(mahasiswa[\"nama\"])  # Output: \"Rina\"\n",
    "print(mahasiswa.get(\"alamat\", \"Key tidak ditemukan\"))  # Output aman jika key tidak ada."
   ]
  },
  {
   "cell_type": "markdown",
   "id": "dd4fc1a18a1fe9f7",
   "metadata": {},
   "source": [
    "<div style=\"border-radius:10px; padding: 15px; background-color: #C02929; font-size:115%; text-align:left\">\n",
    "<h5 align=\"left\"><font color=black> \n",
    "<li>Tambah/Update Nilai:</li>\n",
    "\n",
    "</font></h5>\n",
    "\n"
   ]
  },
  {
   "cell_type": "code",
   "execution_count": 29,
   "id": "f98543bdbc481bc7",
   "metadata": {},
   "outputs": [],
   "source": [
    "mahasiswa[\"ipk\"] = 3.75       # Tambah key baru\n",
    "mahasiswa[\"usia\"] = 22        # Update nilai"
   ]
  },
  {
   "cell_type": "markdown",
   "id": "abc91da53c11c0ec",
   "metadata": {},
   "source": [
    "<div style=\"border-radius:10px; padding: 15px; background-color: #C02929; font-size:115%; text-align:left\">\n",
    "<h5 align=\"left\"><font color=black> \n",
    "<li>Hapus Nilai:</li>\n",
    "\n",
    "</font></h5>"
   ]
  },
  {
   "cell_type": "code",
   "execution_count": 30,
   "id": "2356c4e7919a4a2c",
   "metadata": {},
   "outputs": [],
   "source": [
    "del mahasiswa[\"lulus\"]        # Hapus key \"lulus\"\n",
    "nilai = mahasiswa.pop(\"usia\") # Hapus dan simpan nilainya"
   ]
  },
  {
   "cell_type": "markdown",
   "id": "e05b5ed2",
   "metadata": {},
   "source": [
    "<div style=\"border-radius:10px; padding: 15px; background-color: #C02929; font-size:115%; text-align:left\">\n",
    "<h5 align=\"left\"><font color=black> \n",
    "4. Metode Penting\n",
    "\n",
    "<li>keys() → Daftar semua key.</li>\n",
    "\n",
    "<li>values() → Daftar semua nilai.</li>\n",
    "\n",
    "<li>items() → Pasangan key-value dalam bentuk tuple.</li>\n",
    "\n",
    "</font></h5>\n"
   ]
  },
  {
   "cell_type": "code",
   "execution_count": null,
   "id": "3bf9387d474ccf7a",
   "metadata": {},
   "outputs": [],
   "source": [
    "# Menyimpan data produk\n",
    "produk = {\n",
    "    \"id\": 101,\n",
    "    \"nama\": \"Laptop\",\n",
    "    \"harga\": 12000000,\n",
    "    \"stok\": 15\n",
    "}\n",
    "print(\"Harga produk:\", produk[\"harga\"])"
   ]
  },
  {
   "cell_type": "markdown",
   "id": "3218adcd",
   "metadata": {},
   "source": [
    "# <p style=\"background-color:#8502d1; font-family:calibri; color:white; font-size:150%; text-align:center; border-radius:15px 50px;\">D. Set (Himpunan)</p>\n"
   ]
  },
  {
   "cell_type": "markdown",
   "id": "6ae56c4a",
   "metadata": {},
   "source": [
    "<div style=\"border-radius:10px; padding: 15px; background-color: #C02929; font-size:115%; text-align:left\">\n",
    "<h5 align=\"left\"><font color=black> \n",
    "1. Definisi\n",
    "\n",
    "<li>Set: Kumpulan data unik dan tidak terurut.</li>\n",
    "\n",
    "<li>Berguna untuk operasi himpunan seperti gabungan (union), irisan (intersection), atau menghapus duplikat.</li>\n",
    "\n",
    "</font></h5>\n"
   ]
  },
  {
   "cell_type": "markdown",
   "id": "25342b21",
   "metadata": {},
   "source": [
    "<div style=\"border-radius:10px; padding: 15px; background-color: #C02929; font-size:115%; text-align:left\">\n",
    "<h5 align=\"left\"><font color=black> \n",
    "2. Cara Membuat Set\n",
    "<li>Gunakan {} atau set():</li>\n",
    "\n",
    "</font></h5>"
   ]
  },
  {
   "cell_type": "code",
   "execution_count": 32,
   "id": "c67f26f0",
   "metadata": {},
   "outputs": [],
   "source": [
    "buah = {\"apel\", \"jeruk\", \"anggur\"}\n",
    "angka = set([1, 2, 2, 3, 3])  # Output: {1, 2, 3}"
   ]
  },
  {
   "cell_type": "markdown",
   "id": "ad30d2bb",
   "metadata": {},
   "source": [
    "<div style=\"border-radius:10px; padding: 15px; background-color: #C02929; font-size:115%; text-align:left\">\n",
    "<h5 align=\"left\"><font color=black> \n",
    "3. Operasi pada Set\n",
    "\n",
    "<li>Tambah Elemen:</li>\n",
    "\n",
    "</font></h5>\n"
   ]
  },
  {
   "cell_type": "code",
   "execution_count": 33,
   "id": "ba37cc0f",
   "metadata": {},
   "outputs": [],
   "source": [
    "buah.add(\"mangga\")  "
   ]
  },
  {
   "cell_type": "markdown",
   "id": "8435c7bb",
   "metadata": {},
   "source": [
    "<div style=\"border-radius:10px; padding: 15px; background-color: #C02929; font-size:115%; text-align:left\">\n",
    "<h5 align=\"left\"><font color=black> \n",
    "<li>Hapus Elemen</li>\n",
    "\n",
    "</font></h5>\n",
    "\n"
   ]
  },
  {
   "cell_type": "code",
   "execution_count": 34,
   "id": "c25723f0",
   "metadata": {},
   "outputs": [],
   "source": [
    "buah.remove(\"jeruk\")  # Error jika elemen tidak ada\n",
    "buah.discard(\"nanas\") # Tidak error meski elemen tidak ada"
   ]
  },
  {
   "cell_type": "markdown",
   "id": "c316d931",
   "metadata": {},
   "source": [
    "<div style=\"border-radius:10px; padding: 15px; background-color: #C02929; font-size:115%; text-align:left\">\n",
    "<h5 align=\"left\"><font color=black> \n",
    "<li>Operasi Himpunan:</li>\n",
    "\n",
    "</font></h5>\n"
   ]
  },
  {
   "cell_type": "code",
   "execution_count": null,
   "id": "c857f492",
   "metadata": {},
   "outputs": [],
   "source": [
    "A = {1, 2, 3}\n",
    "B = {3, 4, 5}\n",
    "print(A.union(B))        # {1, 2, 3, 4, 5}\n",
    "print(A.intersection(B)) # {3}"
   ]
  },
  {
   "cell_type": "code",
   "execution_count": 36,
   "id": "9f7dd891",
   "metadata": {},
   "outputs": [],
   "source": [
    "# Menghapus duplikat dari list\n",
    "data = [1, 2, 2, 3, 4, 4, 4]\n",
    "unik = list(set(data))  # [1, 2, 3, 4]\n"
   ]
  },
  {
   "cell_type": "markdown",
   "id": "2037a3d9",
   "metadata": {},
   "source": [
    "<div style=\"border-radius:10px; padding: 15px; background-color: #C02929; font-size:115%; text-align:left\">\n",
    "<h5 align=\"left\"><font color=black> \n",
    "\n",
    "Perbandingan Struktur Data\n",
    "<li>Fitur\tList\tTuple\tDictionary\tSet</li>\n",
    "<li>Urutan\t✔️\t✔️\t❌\t❌</li>\n",
    "<li>Mutable\t✔️\t❌\t✔️\t✔️</li>\n",
    "<li>Duplikat\t✔️\t✔️\t❌ (key)\t❌</li>\n",
    "<li>Kegunaan\tData sequence\tData tetap\tData terstruktur\tData unik</li>\n",
    "\n",
    "</font></h5>\n",
    "\n"
   ]
  },
  {
   "cell_type": "code",
   "execution_count": null,
   "id": "5f4ce3f8",
   "metadata": {},
   "outputs": [],
   "source": [
    "# Studi Kasus: Data Mahasiswa\n",
    "# List of dictionaries untuk merepresentasikan data mahasiswa\n",
    "data_mahasiswa = [\n",
    "    {\"nama\": \"Andi\", \"nilai\": 85},\n",
    "    {\"nama\": \"Budi\", \"nilai\": 72},\n",
    "    {\"nama\": \"Citra\", \"nilai\": 90}\n",
    "]\n",
    "\n",
    "# Hitung rata-rata nilai\n",
    "total = 0\n",
    "for mhs in data_mahasiswa:\n",
    "    total += mhs[\"nilai\"]\n",
    "rata_rata = total / len(data_mahasiswa)\n",
    "print(\"Rata-rata nilai:\", rata_rata)  # Output: 82.333..."
   ]
  },
  {
   "cell_type": "markdown",
   "id": "b2396bea",
   "metadata": {},
   "source": [
    "# <p style=\"background-color:lime; font-family:calibri; color:maroon; font-size:150%; text-align:center; border-radius:15px 50px;\">Modul 3: Kontrol Alur Program</p>\n"
   ]
  },
  {
   "cell_type": "markdown",
   "id": "b3bfa68e",
   "metadata": {},
   "source": [
    "# <p style=\"background-color:#8502d1; font-family:calibri; color:white; font-size:150%; text-align:center; border-radius:15px 50px;\">A. Percabangan (if, elif, else)</p>"
   ]
  },
  {
   "cell_type": "markdown",
   "id": "5e09510b",
   "metadata": {},
   "source": [
    "<div style=\"border-radius:10px; padding: 15px; background-color: #C02929; font-size:115%; text-align:left\">\n",
    "<h5 align=\"left\"><font color=black> \n",
    "<li>Digunakan untuk mengeksekusi blok kode tertentu berdasarkan kondisi yang diberikan.</li>\n",
    "\n",
    "</font></h5>\n"
   ]
  },
  {
   "cell_type": "markdown",
   "id": "307bdfcb",
   "metadata": {},
   "source": [
    "<div style=\"border-radius:10px; padding: 15px; background-color: #C02929; font-size:115%; text-align:left\">\n",
    "<h5 align=\"left\"><font color=black> \n",
    "1. Sintaks Dasar\n",
    "</font></h5>"
   ]
  },
  {
   "cell_type": "code",
   "execution_count": null,
   "id": "4f633387",
   "metadata": {},
   "outputs": [],
   "source": [
    "if kondisi1:\n",
    "    # Kode dijalankan jika kondisi1 True\n",
    "elif kondisi2:\n",
    "    # Kode dijalankan jika kondisi2 True (setelah if)\n",
    "else:\n",
    "    # Kode dijalankan jika semua kondisi False"
   ]
  },
  {
   "cell_type": "markdown",
   "id": "34f5d19b",
   "metadata": {},
   "source": [
    "<div style=\"border-radius:10px; padding: 15px; background-color: #C02929; font-size:115%; text-align:left\">\n",
    "<h5 align=\"left\"><font color=black> \n",
    "2. Contoh Kasus: Klasifikasi Nilai\n",
    "</font></h5>\n"
   ]
  },
  {
   "cell_type": "code",
   "execution_count": null,
   "id": "1b9d6d43",
   "metadata": {},
   "outputs": [],
   "source": [
    "nilai = 78\n",
    "\n",
    "if nilai >= 90:\n",
    "    kategori = \"A\"\n",
    "elif nilai >= 80:\n",
    "    kategori = \"B\"\n",
    "elif nilai >= 70:\n",
    "    kategori = \"C\"\n",
    "else:\n",
    "    kategori = \"D\"\n",
    "\n",
    "print(f\"Kategori: {kategori}\")  # Output: C"
   ]
  },
  {
   "cell_type": "markdown",
   "id": "71761682",
   "metadata": {},
   "source": [
    "<div style=\"border-radius:10px; padding: 15px; background-color: #C02929; font-size:115%; text-align:left\">\n",
    "<h5 align=\"left\"><font color=black> \n",
    "3. Operator yang Sering Digunakan\n",
    "\n",
    "<li>Perbandingan: >, <, ==, !=, >=, <=</li>\n",
    "\n",
    "<li>Logika: and, or, not</li>\n",
    "</font></h5>\n"
   ]
  },
  {
   "cell_type": "code",
   "execution_count": null,
   "id": "e0516aec",
   "metadata": {},
   "outputs": [],
   "source": [
    "umur = 25\n",
    "status = \"mahasiswa\"\n",
    "\n",
    "if umur >= 20 and status == \"mahasiswa\":\n",
    "    print(\"Anda memenuhi syarat.\")\n",
    "else:\n",
    "    print(\"Tidak memenuhi syarat.\")"
   ]
  },
  {
   "cell_type": "markdown",
   "id": "078820de",
   "metadata": {},
   "source": [
    "<div style=\"border-radius:10px; padding: 15px; background-color: #C02929; font-size:115%; text-align:left\">\n",
    "<h5 align=\"left\"><font color=black> \n",
    "4. Kondisi Bersarang\n",
    "</font></h5>\n"
   ]
  },
  {
   "cell_type": "code",
   "execution_count": null,
   "id": "86b99c89",
   "metadata": {},
   "outputs": [],
   "source": [
    "angka = 15\n",
    "if angka > 0:\n",
    "    if angka % 2 == 0:\n",
    "        print(\"Positif dan Genap\")\n",
    "    else:\n",
    "        print(\"Positif dan Ganjil\")\n",
    "else:\n",
    "    print(\"Angka negatif atau nol\")"
   ]
  },
  {
   "cell_type": "markdown",
   "id": "51832edb",
   "metadata": {},
   "source": [
    "# <p style=\"background-color:#8502d1; font-family:calibri; color:white; font-size:150%; text-align:center; border-radius:15px 50px;\">B. Perulangan (for Loop)</p> \n"
   ]
  },
  {
   "cell_type": "markdown",
   "id": "c31a74bd",
   "metadata": {},
   "source": [
    "<div style=\"border-radius:10px; padding: 15px; background-color: #C02929; font-size:115%; text-align:left\">\n",
    "<h5 align=\"left\"><font color=black> \n",
    "Digunakan untuk iterasi melalui elemen dalam objek yang bisa diiterasi (list, tuple, dictionary, dll).\n",
    "</font></h5>\n"
   ]
  },
  {
   "cell_type": "markdown",
   "id": "96754bbf",
   "metadata": {},
   "source": [
    "<div style=\"border-radius:10px; padding: 15px; background-color: #C02929; font-size:115%; text-align:left\">\n",
    "<h5 align=\"left\"><font color=black> \n",
    "1. Sintaks Dasar\n",
    "</font></h5>\n"
   ]
  },
  {
   "cell_type": "code",
   "execution_count": null,
   "id": "dfbd00e1",
   "metadata": {},
   "outputs": [],
   "source": [
    "for variabel in iterable:\n",
    "    # Blok kode yang diulang"
   ]
  },
  {
   "cell_type": "markdown",
   "id": "972de2aa",
   "metadata": {},
   "source": [
    "<div style=\"border-radius:10px; padding: 15px; background-color: #C02929; font-size:115%; text-align:left\">\n",
    "<h5 align=\"left\"><font color=black> \n",
    "2. Contoh Penggunaan\n",
    "<li>Iterasi list:</li>\n",
    "</font></h5>\n"
   ]
  },
  {
   "cell_type": "code",
   "execution_count": null,
   "id": "33ea81f1",
   "metadata": {},
   "outputs": [],
   "source": [
    "buah = [\"apel\", \"jeruk\", \"mangga\"]\n",
    "for b in buah:\n",
    "    print(b)"
   ]
  },
  {
   "cell_type": "markdown",
   "id": "e9e8b3a7",
   "metadata": {},
   "source": [
    "<div style=\"border-radius:10px; padding: 15px; background-color: #C02929; font-size:115%; text-align:left\">\n",
    "<h5 align=\"left\"><font color=black> \n",
    "<li>Iterasi dengan range():</li>\n",
    "</font></h5>\n",
    "\n"
   ]
  },
  {
   "cell_type": "code",
   "execution_count": null,
   "id": "d48a726a",
   "metadata": {},
   "outputs": [],
   "source": [
    "for i in range(3):       # 0, 1, 2\n",
    "    print(i)\n",
    "\n",
    "for i in range(1, 5):    # 1, 2, 3, 4\n",
    "    print(i)\n",
    "\n",
    "for i in range(0, 10, 2): # 0, 2, 4, 6, 8\n",
    "    print(i)"
   ]
  },
  {
   "cell_type": "markdown",
   "id": "f3d5b577",
   "metadata": {},
   "source": [
    "<div style=\"border-radius:10px; padding: 15px; background-color: #C02929; font-size:115%; text-align:left\">\n",
    "<h5 align=\"left\"><font color=black> \n",
    "3. Loop dengan break dan continue\n",
    "<li>break: Menghentikan loop secara paksa.</li>\n",
    "<li>continue: Melompati iterasi saat ini.</li>\n",
    "</font></h5>\n"
   ]
  },
  {
   "cell_type": "code",
   "execution_count": null,
   "id": "b9bdf2a2",
   "metadata": {},
   "outputs": [],
   "source": [
    "for angka in [1, 2, 3, 4, 5]:\n",
    "    if angka == 3:\n",
    "        break  # Loop berhenti di sini\n",
    "    print(angka)  # Output: 1, 2"
   ]
  },
  {
   "cell_type": "code",
   "execution_count": null,
   "id": "a09efbee",
   "metadata": {},
   "outputs": [],
   "source": [
    "for angka in [1, 2, 3, 4, 5]:\n",
    "    if angka == 3:\n",
    "        continue  # Lewati angka 3\n",
    "    print(angka)  # Output: 1, 2, 4, 5"
   ]
  },
  {
   "cell_type": "markdown",
   "id": "18d7855e",
   "metadata": {},
   "source": [
    "<div style=\"border-radius:10px; padding: 15px; background-color: #C02929; font-size:115%; text-align:left\">\n",
    "<h5 align=\"left\"><font color=black> \n",
    "4. Loop dengan else\n",
    "<li> Blok else dijalankan jika loop selesai secara normal (tanpa break):</li>\n",
    "</font></h5>"
   ]
  },
  {
   "cell_type": "code",
   "execution_count": null,
   "id": "1977f29c",
   "metadata": {},
   "outputs": [],
   "source": [
    "for i in range(3):\n",
    "    print(i)\n",
    "else:\n",
    "    print(\"Loop selesai!\")"
   ]
  },
  {
   "cell_type": "markdown",
   "id": "63389990",
   "metadata": {},
   "source": [
    "# <p style=\"background-color:#8502d1; font-family:calibri; color:white; font-size:150%; text-align:center; border-radius:15px 50px;\">C. Perulangan (while Loop)</p> "
   ]
  },
  {
   "cell_type": "markdown",
   "id": "47e0c057",
   "metadata": {},
   "source": [
    "<div style=\"border-radius:10px; padding: 15px; background-color: #C02929; font-size:115%; text-align:left\">\n",
    "<h5 align=\"left\"><font color=black> \n",
    "<li>Digunakan untuk mengulang blok kode selama kondisi bernilai True.</li>\n",
    "</font></h5>\n"
   ]
  },
  {
   "cell_type": "markdown",
   "id": "ba6cbd8c",
   "metadata": {},
   "source": [
    "<div style=\"border-radius:10px; padding: 15px; background-color: #C02929; font-size:115%; text-align:left\">\n",
    "<h5 align=\"left\"><font color=black> \n",
    "1. Sintaks Dasar\n",
    "</font></h5>\n"
   ]
  },
  {
   "cell_type": "code",
   "execution_count": null,
   "id": "b721d30f",
   "metadata": {},
   "outputs": [],
   "source": [
    "while kondisi:\n",
    "    # Blok kode yang diulang"
   ]
  },
  {
   "cell_type": "markdown",
   "id": "38e03cf0",
   "metadata": {},
   "source": [
    "<div style=\"border-radius:10px; padding: 15px; background-color: #C02929; font-size:115%; text-align:left\">\n",
    "<h5 align=\"left\"><font color=black> \n",
    "2. Contoh Kasus: Menghitung Mundur\n",
    "</font></h5>\n"
   ]
  },
  {
   "cell_type": "code",
   "execution_count": null,
   "id": "3037116a",
   "metadata": {},
   "outputs": [],
   "source": [
    "counter = 5\n",
    "while counter > 0:\n",
    "    print(counter)\n",
    "    counter -= 1  # counter = counter - 1\n",
    "print(\"Ledakan!\")  "
   ]
  },
  {
   "cell_type": "markdown",
   "id": "5eed543e",
   "metadata": {},
   "source": [
    "<div style=\"border-radius:10px; padding: 15px; background-color: #C02929; font-size:115%; text-align:left\">\n",
    "<h5 align=\"left\"><font color=black> \n",
    "3. Mengatasi Infinite Loop\n",
    "<li>Pastikan ada kondisi yang mengubah status loop menjadi False:</li>\n",
    "</font></h5>\n"
   ]
  },
  {
   "cell_type": "code",
   "execution_count": 11,
   "id": "b330db18",
   "metadata": {},
   "outputs": [],
   "source": [
    "input_user = \"\"\n",
    "while input_user.lower() != \"stop\":\n",
    "    input_user = input(\"Ketik 'stop' untuk berhenti: \")"
   ]
  },
  {
   "cell_type": "markdown",
   "id": "2baa0888",
   "metadata": {},
   "source": [
    "<div style=\"border-radius:10px; padding: 15px; background-color: #C02929; font-size:115%; text-align:left\">\n",
    "<h5 align=\"left\"><font color=black> \n",
    "4. Loop dengan break dan continue\n",
    "</font></h5>"
   ]
  },
  {
   "cell_type": "code",
   "execution_count": null,
   "id": "8881716f",
   "metadata": {},
   "outputs": [],
   "source": [
    "total = 0\n",
    "while True:\n",
    "    angka = int(input(\"Masukkan angka (0 untuk berhenti): \"))\n",
    "    if angka == 0:\n",
    "        break\n",
    "    total += angka\n",
    "print(f\"Total: {total}\")"
   ]
  },
  {
   "cell_type": "code",
   "execution_count": null,
   "id": "e9bfe4f3",
   "metadata": {},
   "outputs": [],
   "source": [
    "# ### D. Aplikasi dalam Analisis Data\n",
    "# <li>1. Iterasi Data dalam List/Dictionary</li>\n",
    "# <li>Contoh: Menghitung total penjualan dari list dictionary:</li>\n",
    "penjualan = [\n",
    "    {\"produk\": \"Laptop\", \"jumlah\": 5, \"harga\": 10000000},\n",
    "    {\"produk\": \"Mouse\", \"jumlah\": 10, \"harga\": 50000},\n",
    "    {\"produk\": \"Keyboard\", \"jumlah\": 8, \"harga\": 150000}\n",
    "]\n",
    "\n",
    "total = 0\n",
    "for item in penjualan:\n",
    "    subtotal = item[\"jumlah\"] * item[\"harga\"]\n",
    "    total += subtotal\n",
    "\n",
    "print(f\"Total penjualan: Rp {total:,}\")  # Output: Rp 51,200,000"
   ]
  },
  {
   "cell_type": "code",
   "execution_count": null,
   "id": "7b62723d",
   "metadata": {},
   "outputs": [],
   "source": [
    "# 2. Filter Data dengan Kondisi\n",
    "# Contoh: Menyaring nilai di atas rata-rata:\n",
    "nilai = [85, 90, 78, 92, 88]\n",
    "rata_rata = sum(nilai) / len(nilai)\n",
    "nilai_tinggi = []\n",
    "\n",
    "for n in nilai:\n",
    "    if n > rata_rata:\n",
    "        nilai_tinggi.append(n)\n",
    "\n",
    "print(\"Nilai di atas rata-rata:\", nilai_tinggi)  # Output: [90, 92, 88]"
   ]
  },
  {
   "cell_type": "code",
   "execution_count": null,
   "id": "4afabe19",
   "metadata": {},
   "outputs": [],
   "source": [
    "# 3. List Comprehension\n",
    "# Teknik singkat untuk membuat list menggunakan for loop:\n",
    "# Contoh: Kuadrat dari bilangan genap\n",
    "angka = [1, 2, 3, 4, 5]\n",
    "kuadrat_genap = [x**2 for x in angka if x % 2 == 0]\n",
    "print(kuadrat_genap)  # Output: [4, 16]"
   ]
  },
  {
   "cell_type": "code",
   "execution_count": null,
   "id": "be5207f0",
   "metadata": {},
   "outputs": [],
   "source": [
    "# Studi Kasus: Analisis Data Sederhana\n",
    "# Tujuan: Menghitung frekuensi nilai kategori dari dataset.\n",
    "data_nilai = [65, 85, 90, 55, 70, 75, 92, 88, 78, 80]\n",
    "kategori = {\"A\": 0, \"B\": 0, \"C\": 0, \"D\": 0}\n",
    "\n",
    "for nilai in data_nilai:\n",
    "    if nilai >= 90:\n",
    "        kategori[\"A\"] += 1\n",
    "    elif nilai >= 80:\n",
    "        kategori[\"B\"] += 1\n",
    "    elif nilai >= 70:\n",
    "        kategori[\"C\"] += 1\n",
    "    else:\n",
    "        kategori[\"D\"] += 1\n",
    "\n",
    "print(kategori)  # Output: {'A': 2, 'B': 3, 'C': 3, 'D': 2}"
   ]
  },
  {
   "cell_type": "markdown",
   "id": "7c362cfb",
   "metadata": {},
   "source": [
    "# <p style=\"background-color:lime; font-family:calibri; color:maroon; font-size:150%; text-align:center; border-radius:15px 50px;\">Modul 4: Fungsi dan Modul</p>"
   ]
  },
  {
   "cell_type": "markdown",
   "id": "354d9fd4",
   "metadata": {},
   "source": [
    "# <p style=\"background-color:#8502d1; font-family:calibri; color:white; font-size:150%; text-align:center; border-radius:15px 50px;\">A. Fungsi (Function)</p> \n"
   ]
  },
  {
   "cell_type": "markdown",
   "id": "a1d8d286",
   "metadata": {},
   "source": [
    "<div style=\"border-radius:10px; padding: 15px; background-color: #C02929; font-size:115%; text-align:left\">\n",
    "<h5 align=\"left\"><font color=black> \n",
    "Fungsi adalah blok kode yang dirancang untuk menjalankan tugas tertentu dan dapat dipanggil berulang kali. Penggunaan fungsi meningkatkan modularitas, mengurangi duplikasi kode, dan memudahkan pemeliharaan program.\n",
    "</font></h5>\n"
   ]
  },
  {
   "cell_type": "markdown",
   "id": "b683225f",
   "metadata": {},
   "source": [
    "<div style=\"border-radius:10px; padding: 15px; background-color: #C02929; font-size:115%; text-align:left\">\n",
    "<h5 align=\"left\"><font color=black> \n",
    "1. Definisi Fungsi\n",
    "<li> Menggunakan kata kunci def:</li>\n",
    "</font></h5>\n"
   ]
  },
  {
   "cell_type": "code",
   "execution_count": 1,
   "id": "34f67e3a",
   "metadata": {},
   "outputs": [],
   "source": [
    "def salam():\n",
    "    print(\"Halo, selamat pagi!\")"
   ]
  },
  {
   "cell_type": "markdown",
   "id": "c9918cce",
   "metadata": {},
   "source": [
    "<div style=\"border-radius:10px; padding: 15px; background-color: #C02929; font-size:115%; text-align:left\">\n",
    "<h5 align=\"left\"><font color=black> \n",
    "2. Memanggil Fungsi\n",
    "</font></h5>\n"
   ]
  },
  {
   "cell_type": "code",
   "execution_count": null,
   "id": "5bf018f4",
   "metadata": {},
   "outputs": [],
   "source": [
    "salam()  # Output: Halo, selamat pagi!"
   ]
  },
  {
   "cell_type": "markdown",
   "id": "8644e58d",
   "metadata": {},
   "source": [
    "<div style=\"border-radius:10px; padding: 15px; background-color: #C02929; font-size:115%; text-align:left\">\n",
    "<h5 align=\"left\"><font color=black> \n",
    "3. Fungsi dengan Parameter\n",
    "\n",
    "<li>Parameter: Variabel yang diterima fungsi saat didefinisikan.</li>\n",
    "\n",
    "<li>Argumen: Nilai yang diberikan saat memanggil fungsi.</li>\n",
    "</font></h5>\n"
   ]
  },
  {
   "cell_type": "code",
   "execution_count": null,
   "id": "08a6e903",
   "metadata": {},
   "outputs": [],
   "source": [
    "def tambah(a, b):\n",
    "    hasil = a + b\n",
    "    return hasil\n",
    "\n",
    "total = tambah(3, 5)\n",
    "print(total)  # Output: 8"
   ]
  },
  {
   "cell_type": "markdown",
   "id": "02578ade",
   "metadata": {},
   "source": [
    "<div style=\"border-radius:10px; padding: 15px; background-color: #C02929; font-size:115%; text-align:left\">\n",
    "<h5 align=\"left\"><font color=black> \n",
    "4. Nilai Kembalian (return)\n",
    "\n",
    "<li>Fungsi dapat mengembalikan nilai menggunakan return.</li>\n",
    "\n",
    "<li>Jika tidak ada return, fungsi mengembalikan None.</li>\n",
    "</font></h5>\n"
   ]
  },
  {
   "cell_type": "code",
   "execution_count": null,
   "id": "fcff2e22",
   "metadata": {},
   "outputs": [],
   "source": [
    "def cek_genap(angka):\n",
    "    return angka % 2 == 0\n",
    "\n",
    "print(cek_genap(4))  # Output: True"
   ]
  },
  {
   "cell_type": "markdown",
   "id": "9d7a1fc3",
   "metadata": {},
   "source": [
    "<div style=\"border-radius:10px; padding: 15px; background-color: #C02929; font-size:115%; text-align:left\">\n",
    "<h5 align=\"left\"><font color=black> \n",
    "5. Jenis Parameter\n",
    "\n",
    "<li>Positional Arguments: Argumen sesuai urutan parameter.</li>\n",
    "\n",
    "<li>Keyword Arguments: Argumen dengan menyebutkan nama parameter.</li>\n",
    "\n",
    "<li>Default Parameter: Nilai default jika argumen tidak diberikan.</li>\n",
    "\n",
    "<li>Arbitrary Arguments: Menerima banyak argumen (*args untuk list, **kwargs untuk dictionary).</li>\n",
    "</font></h5>\n"
   ]
  },
  {
   "cell_type": "code",
   "execution_count": null,
   "id": "10269617",
   "metadata": {},
   "outputs": [],
   "source": [
    "def hitung_biaya(harga, jumlah=1, diskon=0):\n",
    "    total = harga * jumlah * (1 - diskon)\n",
    "    return total\n",
    "\n",
    "# Panggil dengan keyword arguments\n",
    "print(hitung_biaya(harga=10000, diskon=0.1))  # Output: 9000.0"
   ]
  },
  {
   "cell_type": "markdown",
   "id": "4f6f986d",
   "metadata": {},
   "source": [
    "<div style=\"border-radius:10px; padding: 15px; background-color: #C02929; font-size:115%; text-align:left\">\n",
    "<h5 align=\"left\"><font color=black> \n",
    "6. Docstring\n",
    "<li>Penjelasan tentang fungsi menggunakan string di dalam \"\"\" ... \"\"\":</li>\n",
    "</font></h5>\n"
   ]
  },
  {
   "cell_type": "code",
   "execution_count": null,
   "id": "b447e6ca",
   "metadata": {},
   "outputs": [],
   "source": [
    "def hitung_rata(data):\n",
    "    \"\"\"\n",
    "    Menghitung rata-rata dari list angka.\n",
    "    \n",
    "    Args:\n",
    "        data (list): List berisi angka.\n",
    "    \n",
    "    Returns:\n",
    "        float: Rata-rata data.\n",
    "    \"\"\"\n",
    "    return sum(data) / len(data)"
   ]
  },
  {
   "cell_type": "markdown",
   "id": "89e0bc3c",
   "metadata": {},
   "source": [
    "# <p style=\"background-color:#8502d1; font-family:calibri; color:white; font-size:150%; text-align:center; border-radius:15px 50px;\">B. Variabel Scope</p> \n"
   ]
  },
  {
   "cell_type": "markdown",
   "id": "c92c32ca",
   "metadata": {},
   "source": [
    "<div style=\"border-radius:10px; padding: 15px; background-color: #C02929; font-size:115%; text-align:left\">\n",
    "<h5 align=\"left\"><font color=black> \n",
    "<li>Lokal: Variabel di dalam fungsi, hanya bisa diakses di dalam fungsi tersebut.</li>\n",
    "\n",
    "<li>Global: Variabel di luar fungsi, bisa diakses di mana pun.</li>\n",
    "</font></h5>"
   ]
  },
  {
   "cell_type": "code",
   "execution_count": null,
   "id": "f6244726",
   "metadata": {},
   "outputs": [],
   "source": [
    "x = 10  # Variabel global\n",
    "\n",
    "def ubah_nilai():\n",
    "    x = 20  # Variabel lokal\n",
    "    print(\"Lokal:\", x)  # Output: 20\n",
    "\n",
    "ubah_nilai()\n",
    "print(\"Global:\", x)  # Output: 10"
   ]
  },
  {
   "cell_type": "code",
   "execution_count": null,
   "id": "15fcb3a9",
   "metadata": {},
   "outputs": [],
   "source": [
    "x = 10\n",
    "\n",
    "def ubah_global():\n",
    "    global x\n",
    "    x = 20\n",
    "\n",
    "ubah_global()\n",
    "print(x)  # Output: 20"
   ]
  },
  {
   "cell_type": "markdown",
   "id": "9c09d52e",
   "metadata": {},
   "source": [
    "# <p style=\"background-color:#8502d1; font-family:calibri; color:white; font-size:150%; text-align:center; border-radius:15px 50px;\">C. Modul dan Import</p> \n"
   ]
  },
  {
   "cell_type": "markdown",
   "id": "d957248bee0db301",
   "metadata": {},
   "source": [
    "<div style=\"border-radius:10px; padding: 15px; background-color: #C02929; font-size:115%; text-align:left\">\n",
    "<h5 align=\"left\"><font color=black> \n",
    "Modul adalah file Python yang berisi kode (fungsi, variabel, kelas) yang bisa digunakan di file lain.\n",
    "\n",
    "1. Membuat Modul\n",
    "<li>Buat file stats.py dengan kode berikut:</li>\n",
    "</font></h5>\n",
    "\n"
   ]
  },
  {
   "cell_type": "code",
   "execution_count": null,
   "id": "20538e53",
   "metadata": {},
   "outputs": [],
   "source": [
    "def mean(data):\n",
    "    return sum(data) / len(data)\n",
    "\n",
    "def median(data):\n",
    "    data_sorted = sorted(data)\n",
    "    n = len(data_sorted)\n",
    "    mid = n // 2\n",
    "    if n % 2 == 0:\n",
    "        return (data_sorted[mid-1] + data_sorted[mid]) / 2\n",
    "    else:\n",
    "        return data_sorted[mid]"
   ]
  },
  {
   "cell_type": "markdown",
   "id": "dd00cb59",
   "metadata": {},
   "source": [
    "<div style=\"border-radius:10px; padding: 15px; background-color: #C02929; font-size:115%; text-align:left\">\n",
    "<h5 align=\"left\"><font color=black> \n",
    "2. Menggunakan Modul\n",
    "\n",
    "<li>Import seluruh modul:</li>\n",
    "</font></h5>\n"
   ]
  },
  {
   "cell_type": "code",
   "execution_count": null,
   "id": "61e06351",
   "metadata": {},
   "outputs": [],
   "source": [
    "import stats\n",
    "\n",
    "data = [1, 2, 3, 4, 5]\n",
    "print(stats.mean(data))  # Output: 3.0"
   ]
  },
  {
   "cell_type": "markdown",
   "id": "7387886d",
   "metadata": {},
   "source": [
    "<div style=\"border-radius:10px; padding: 15px; background-color: #C02929; font-size:115%; text-align:left\">\n",
    "<h5 align=\"left\"><font color=black> \n",
    "Import fungsi spesifik:\n",
    "</font></h5>\n"
   ]
  },
  {
   "cell_type": "code",
   "execution_count": null,
   "id": "ae31f5d3",
   "metadata": {},
   "outputs": [],
   "source": [
    "from stats import median\n",
    "\n",
    "print(median([1, 3, 5, 7]))  # Output: 4.0"
   ]
  },
  {
   "cell_type": "markdown",
   "id": "1e40157f",
   "metadata": {},
   "source": [
    "<div style=\"border-radius:10px; padding: 15px; background-color: #C02929; font-size:115%; text-align:left\">\n",
    "<h5 align=\"left\"><font color=black> \n",
    "Import dengan alias:\n",
    "</font></h5>\n"
   ]
  },
  {
   "cell_type": "code",
   "execution_count": null,
   "id": "a13d26de",
   "metadata": {},
   "outputs": [],
   "source": [
    "import numpy as np\n",
    "\n",
    "arr = np.array([1, 2, 3])"
   ]
  },
  {
   "cell_type": "markdown",
   "id": "beb9cf53",
   "metadata": {},
   "source": [
    "<div style=\"border-radius:10px; padding: 15px; background-color: #C02929; font-size:115%; text-align:left\">\n",
    "<h5 align=\"left\"><font color=black> \n",
    "3. Modul Bawaan Python\n",
    "\n",
    "<li>math: Fungsi matematika (sqrt, sin, log, dll).</li>\n",
    "\n",
    "<li>datetime: Manipulasi tanggal dan waktu.</li>\n",
    "\n",
    "<li>random: Generate angka acak.</li>\n",
    "\n",
    "<li>os: Interaksi dengan sistem operasi.</li>\n",
    "</font></h5>\n"
   ]
  },
  {
   "cell_type": "code",
   "execution_count": null,
   "id": "0abf2143",
   "metadata": {},
   "outputs": [],
   "source": [
    "import math\n",
    "print(math.sqrt(25))  # Output: 5.0"
   ]
  },
  {
   "cell_type": "code",
   "execution_count": null,
   "id": "38b32668",
   "metadata": {},
   "outputs": [],
   "source": [
    "from datetime import date\n",
    "hari_ini = date.today()\n",
    "print(hari_ini)  # Output: 2023-10-15 (contoh)"
   ]
  },
  {
   "cell_type": "markdown",
   "id": "efa33343",
   "metadata": {},
   "source": [
    "# <p style=\"background-color:#8502d1; font-family:calibri; color:white; font-size:150%; text-align:center; border-radius:15px 50px;\">D. Library Eksternal untuk Analisis Data</p> "
   ]
  },
  {
   "cell_type": "markdown",
   "id": "415db447",
   "metadata": {},
   "source": [
    "<div style=\"border-radius:10px; padding: 15px; background-color: #C02929; font-size:115%; text-align:left\">\n",
    "<h5 align=\"left\"><font color=black> \n",
    "Python memiliki banyak library pihak ketiga yang penting untuk analisis data. Cara instalasi:\n",
    "\n",
    "<ul>pip install nama-library<ul>\n",
    "</font></h5>\n"
   ]
  },
  {
   "cell_type": "markdown",
   "id": "49e28a2e",
   "metadata": {},
   "source": [
    "<div style=\"border-radius:10px; padding: 15px; background-color: #C02929; font-size:115%; text-align:left\">\n",
    "<h5 align=\"left\"><font color=black> \n",
    "Import dengan alias:\n",
    "1. Contoh Penggunaan Library\n",
    "\n",
    "<li>Pandas:</li>\n",
    "</font></h5>\n"
   ]
  },
  {
   "cell_type": "code",
   "execution_count": null,
   "id": "a0cc2a59",
   "metadata": {},
   "outputs": [],
   "source": [
    "import pandas as pd\n",
    "data = pd.read_csv(\"data.csv\")\n",
    "print(data.head())"
   ]
  },
  {
   "cell_type": "markdown",
   "id": "d7e1f997",
   "metadata": {},
   "source": [
    "<div style=\"border-radius:10px; padding: 15px; background-color: #C02929; font-size:115%; text-align:left\">\n",
    "<h5 align=\"left\"><font color=black> \n",
    "<li>NumPy:</li>\n",
    "</font></h5>\n",
    "\n"
   ]
  },
  {
   "cell_type": "code",
   "execution_count": null,
   "id": "ee91d097",
   "metadata": {},
   "outputs": [],
   "source": [
    "\n",
    "import numpy as np\n",
    "array = np.array([[1, 2], [3, 4]])\n",
    "print(array.sum(axis=0))  # Output: [4 6]"
   ]
  },
  {
   "cell_type": "markdown",
   "id": "ec781b8e",
   "metadata": {},
   "source": [
    "<div style=\"border-radius:10px; padding: 15px; background-color: #C02929; font-size:115%; text-align:left\">\n",
    "<h5 align=\"left\"><font color=black> \n",
    "<li>Matplotlib</li>\n",
    "</font></h5>\n",
    "\n"
   ]
  },
  {
   "cell_type": "code",
   "execution_count": null,
   "id": "0d626700",
   "metadata": {},
   "outputs": [],
   "source": [
    "import matplotlib.pyplot as plt\n",
    "plt.plot([1, 2, 3], [4, 5, 6])\n",
    "plt.show()"
   ]
  },
  {
   "cell_type": "code",
   "execution_count": null,
   "id": "2b26aef7",
   "metadata": {},
   "outputs": [],
   "source": [
    "# E. Studi Kasus: Analisis Data dengan Fungsi\n",
    "# Tujuan: Membuat fungsi untuk membersihkan dan menganalisis data.\n",
    "\n",
    "import pandas as pd\n",
    "\n",
    "def load_data(file_path):\n",
    "    \"\"\"Membaca data dari CSV.\"\"\"\n",
    "    return pd.read_csv(file_path)\n",
    "\n",
    "def clean_data(df):\n",
    "    \"\"\"Membersihkan data: hapus NaN dan duplikat.\"\"\"\n",
    "    df = df.dropna()\n",
    "    df = df.drop_duplicates()\n",
    "    return df\n",
    "\n",
    "def analyze_data(df, column):\n",
    "    \"\"\"Hitung statistik kolom tertentu.\"\"\"\n",
    "    rata = df[column].mean()\n",
    "    maks = df[column].max()\n",
    "    return {\"rata_rata\": rata, \"maksimum\": maks}\n",
    "\n",
    "# Contoh penggunaan\n",
    "data = load_data(\"sales_data.csv\")\n",
    "data_clean = clean_data(data)\n",
    "hasil = analyze_data(data_clean, \"revenue\")\n",
    "print(hasil)"
   ]
  },
  {
   "cell_type": "code",
   "execution_count": 1,
   "id": "bdc2409b-adfa-4f33-9570-826b898c0a42",
   "metadata": {},
   "outputs": [
    {
     "name": "stdout",
     "output_type": "stream",
     "text": [
      "Collecting pandoc\n",
      "  Downloading pandoc-2.4.tar.gz (34 kB)\n",
      "  Installing build dependencies: started\n",
      "  Installing build dependencies: finished with status 'done'\n",
      "  Getting requirements to build wheel: started\n",
      "  Getting requirements to build wheel: finished with status 'done'\n",
      "  Preparing metadata (pyproject.toml): started\n",
      "  Preparing metadata (pyproject.toml): finished with status 'done'\n",
      "Collecting plumbum (from pandoc)\n",
      "  Downloading plumbum-1.9.0-py3-none-any.whl.metadata (10 kB)\n",
      "Collecting ply (from pandoc)\n",
      "  Using cached ply-3.11-py2.py3-none-any.whl.metadata (844 bytes)\n",
      "Requirement already satisfied: pywin32 in d:\\materi ajar\\machine learning tutorial\\venv\\lib\\site-packages (from plumbum->pandoc) (307)\n",
      "Downloading plumbum-1.9.0-py3-none-any.whl (127 kB)\n",
      "Using cached ply-3.11-py2.py3-none-any.whl (49 kB)\n",
      "Building wheels for collected packages: pandoc\n",
      "  Building wheel for pandoc (pyproject.toml): started\n",
      "  Building wheel for pandoc (pyproject.toml): finished with status 'done'\n",
      "  Created wheel for pandoc: filename=pandoc-2.4-py3-none-any.whl size=34869 sha256=5b0cd2e656923982a3c10ee8f363dd4d7b0391bbe8406afd4104f9d08b03972f\n",
      "  Stored in directory: c:\\users\\user\\appdata\\local\\pip\\cache\\wheels\\9c\\2f\\9f\\b1aac8c3e74b4ee327dc8c6eac5128996f9eadf586e2c0ba67\n",
      "Successfully built pandoc\n",
      "Installing collected packages: ply, plumbum, pandoc\n",
      "Successfully installed pandoc-2.4 plumbum-1.9.0 ply-3.11\n",
      "Note: you may need to restart the kernel to use updated packages.\n"
     ]
    },
    {
     "name": "stderr",
     "output_type": "stream",
     "text": [
      "\n",
      "[notice] A new release of pip is available: 24.3.1 -> 25.0\n",
      "[notice] To update, run: python.exe -m pip install --upgrade pip\n"
     ]
    }
   ],
   "source": [
    "pip install pandoc"
   ]
  },
  {
   "cell_type": "code",
   "execution_count": null,
   "id": "3107674e-d18b-4e93-b9fc-8389a0abb242",
   "metadata": {},
   "outputs": [],
   "source": []
  }
 ],
 "metadata": {
  "kernelspec": {
   "display_name": "Python 3 (ipykernel)",
   "language": "python",
   "name": "python3"
  },
  "language_info": {
   "codemirror_mode": {
    "name": "ipython",
    "version": 3
   },
   "file_extension": ".py",
   "mimetype": "text/x-python",
   "name": "python",
   "nbconvert_exporter": "python",
   "pygments_lexer": "ipython3",
   "version": "3.12.0"
  }
 },
 "nbformat": 4,
 "nbformat_minor": 5
}
