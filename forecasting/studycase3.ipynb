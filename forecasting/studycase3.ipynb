{
 "cells": [
  {
   "cell_type": "markdown",
   "metadata": {},
   "source": [
    "# Implementasi model ARIMA dalam anggaran belanja"
   ]
  },
  {
   "cell_type": "markdown",
   "metadata": {},
   "source": [
    "# 1. Business Understanding\n",
    "#### Tujuan: Meramalkan anggaran (belanja) menggunakan model ARIMA berdasarkan data historis."
   ]
  },
  {
   "cell_type": "markdown",
   "metadata": {},
   "source": [
    "# 2. Data Understanding\n",
    "#### Dataset: anggaran.csv dengan atribut\n",
    "#### Pendapatan: Data pendapatan (tidak digunakan dalam model ini).\n",
    "#### Belanja: Anggaran yang akan diprediksi.\n",
    "#### Date: Tanggal yang digunakan sebagai indeks waktu."
   ]
  },
  {
   "cell_type": "code",
   "execution_count": null,
   "metadata": {},
   "outputs": [],
   "source": [
    "# Import necessary libraries\n",
    "import pandas as pd\n",
    "import numpy as np\n",
    "import matplotlib.pyplot as plt\n",
    "from statsmodels.tsa.arima.model import ARIMA\n",
    "from statsmodels.tsa.stattools import adfuller\n",
    "from sklearn.metrics import mean_absolute_error, mean_squared_error"
   ]
  },
  {
   "cell_type": "code",
   "execution_count": null,
   "metadata": {},
   "outputs": [],
   "source": [
    "# Load dataset\n",
    "data = pd.read_csv('anggaran.csv')"
   ]
  },
  {
   "cell_type": "code",
   "execution_count": null,
   "metadata": {},
   "outputs": [],
   "source": [
    "# Data Understanding\n",
    "# Display first few rows of the training data\n",
    "data.head()"
   ]
  },
  {
   "cell_type": "code",
   "execution_count": null,
   "metadata": {},
   "outputs": [],
   "source": [
    "data.info()"
   ]
  },
  {
   "cell_type": "code",
   "execution_count": null,
   "metadata": {},
   "outputs": [],
   "source": [
    "data.describe()"
   ]
  },
  {
   "cell_type": "code",
   "execution_count": null,
   "metadata": {},
   "outputs": [],
   "source": [
    "# Convert 'Date' column to datetime format and set it as index\n",
    "# Mengubah kolom 'Date' menjadi format datetime\n",
    "data['Date'] = pd.to_datetime(data['Date'])\n",
    "\n",
    "# Mengatur kolom 'Date' sebagai index dataframe\n",
    "# inplace=True berarti perubahan dilakukan langsung pada dataframe asli\n",
    "data.set_index('Date', inplace=True)"
   ]
  },
  {
   "cell_type": "markdown",
   "metadata": {},
   "source": [
    "# 3. Data Preparation\n",
    "#### Pastikan data dalam format datetime dan lakukan pengecekan stasioneritas. Jika data tidak stasioner, lakukan differencing."
   ]
  },
  {
   "cell_type": "code",
   "execution_count": null,
   "metadata": {},
   "outputs": [],
   "source": [
    "# Melakukan uji Augmented Dickey-Fuller (ADF) pada data 'Belanja'\n",
    "result = adfuller(data['Belanja'])\n",
    "\n",
    "# Mengambil nilai statistik ADF dan p-value dari hasil uji\n",
    "adf_stat, p_value = result[0], result[1]\n",
    "\n",
    "# Mencetak hasil uji\n",
    "print(f\"ADF Statistic: {adf_stat}\")\n",
    "print(f\"P-Value: {p_value}\")"
   ]
  },
  {
   "cell_type": "code",
   "execution_count": null,
   "metadata": {},
   "outputs": [],
   "source": [
    "# Jika p-value > 0,05, maka data tidak stasioner dan mungkin perlu dilakukan differencing\n",
    "if p_value > 0.05:\n",
    "    print(\"Data is not stationary. Differencing is applied.\")\n",
    "    # Melakukan differencing pada data 'Belanja' dan menyimpan hasilnya dalam kolom baru 'Belanja_diff'\n",
    "    # dropna() digunakan untuk menghapus nilai NaN yang dihasilkan oleh differencing\n",
    "    data['Belanja_diff'] = data['Belanja'].diff().dropna()"
   ]
  },
  {
   "cell_type": "markdown",
   "metadata": {},
   "source": [
    "# 4. Modelling\n",
    "#### Membuat model ARIMA dengan parameter (p, d, q):\n",
    "#### p: Order untuk Autoregressive (AR).\n",
    "#### d: Order untuk differencing.\n",
    "#### q: Order untuk Moving Average (MA).\n",
    "#### Melakukan prediksi untuk beberapa langkah ke depan (forecast horizon).\n",
    "\n",
    "#### Terapkan model ARIMA dengan parameter (p=1, d=0, q=1) untuk meramalkan anggaran (belanja)."
   ]
  },
  {
   "cell_type": "code",
   "execution_count": null,
   "metadata": {},
   "outputs": [],
   "source": [
    "# Menerapkan model ARIMA dengan parameter awal (p=1, d=0, q=1)\n",
    "# p: jumlah autoregressive terms\n",
    "# d: jumlah differencing yang diperlukan untuk membuat data stasioner\n",
    "# q: jumlah moving average terms\n",
    "model = ARIMA(data['Belanja'], order=(1, 0, 1))  # p=1, d=0, q=1\n",
    "\n",
    "# Melakukan fitting model ARIMA pada data 'Belanja'\n",
    "fitted_model = model.fit()"
   ]
  },
  {
   "cell_type": "code",
   "execution_count": null,
   "metadata": {},
   "outputs": [],
   "source": [
    "# Membuat prediksi untuk 10 langkah ke depan\n",
    "forecast_horizon = 10\n",
    "\n",
    "# Menggunakan metode forecast() dari model ARIMA yang telah di-fitting\n",
    "# steps: jumlah langkah ke depan yang ingin diprediksi\n",
    "forecast = fitted_model.forecast(steps=forecast_horizon)"
   ]
  },
  {
   "cell_type": "code",
   "execution_count": null,
   "metadata": {},
   "outputs": [],
   "source": [
    "# Membuat indeks untuk prediksi\n",
    "# start: tanggal awal prediksi, yaitu tanggal terakhir data asli\n",
    "# periods: jumlah periode yang ingin diprediksi, yaitu forecast_horizon + 1\n",
    "# freq: frekuensi prediksi, yaitu bulanan ('M')\n",
    "# [1:]: menghilangkan tanggal awal yang sama dengan tanggal terakhir data asli\n",
    "forecast_index = pd.date_range(start=data.index[-1], periods=forecast_horizon + 1, freq='M')[1:]"
   ]
  },
  {
   "cell_type": "markdown",
   "metadata": {},
   "source": [
    "# 5. Evaluation\n",
    "#### Evaluasi hasil dengan melihat prediksi untuk periode berikutnya dan bandingkan dengan data historis (jika ada).\n"
   ]
  },
  {
   "cell_type": "code",
   "execution_count": null,
   "metadata": {},
   "outputs": [],
   "source": [
    "# Menampilkan nilai prediksi\n",
    "# Mengubah hasil prediksi menjadi dataframe dengan nama 'Forecast'\n",
    "forecast_results = forecast.to_frame(name='Forecast')\n",
    "\n",
    "# Mengatur indeks dataframe dengan indeks prediksi yang telah dibuat\n",
    "forecast_results.index = forecast_index\n",
    "\n",
    "# Menampilkan dataframe prediksi\n",
    "forecast_results"
   ]
  },
  {
   "cell_type": "markdown",
   "metadata": {},
   "source": [
    "# 6. Deployment\n",
    "#### Visualisasikan hasil prediksi."
   ]
  },
  {
   "cell_type": "code",
   "execution_count": null,
   "metadata": {},
   "outputs": [],
   "source": [
    "# Visualisasi data aktual dan prediksi\n",
    "# Membuat plot dengan ukuran 12x6 inci\n",
    "plt.figure(figsize=(12, 6))\n",
    "\n",
    "# Plot data aktual dengan label 'Historical Data'\n",
    "plt.plot(data['Belanja'], label='Historical Data')\n",
    "\n",
    "# Plot prediksi dengan label 'Forecast', linestyle '--' (garis putus-putus), dan warna merah\n",
    "plt.plot(forecast_index, forecast, label='Forecast', linestyle='--', color='red')\n",
    "\n",
    "# Menambahkan judul plot\n",
    "plt.title(f'ARIMA Model - {forecast_horizon}-Step Forecast')\n",
    "\n",
    "# Menambahkan label pada sumbu x\n",
    "plt.xlabel('Date')\n",
    "\n",
    "# Menambahkan label pada sumbu y\n",
    "plt.ylabel('Belanja')\n",
    "\n",
    "# Menambahkan legenda\n",
    "plt.legend()\n",
    "\n",
    "# Menambahkan grid pada plot\n",
    "plt.grid(True)\n",
    "\n",
    "# Menampilkan plot\n",
    "plt.show()"
   ]
  }
 ],
 "metadata": {
  "kernelspec": {
   "display_name": "venv",
   "language": "python",
   "name": "python3"
  },
  "language_info": {
   "codemirror_mode": {
    "name": "ipython",
    "version": 3
   },
   "file_extension": ".py",
   "mimetype": "text/x-python",
   "name": "python",
   "nbconvert_exporter": "python",
   "pygments_lexer": "ipython3",
   "version": "3.12.0"
  }
 },
 "nbformat": 4,
 "nbformat_minor": 2
}
