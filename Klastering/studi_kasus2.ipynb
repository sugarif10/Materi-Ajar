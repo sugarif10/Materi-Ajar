{
 "cells": [
  {
   "cell_type": "markdown",
   "metadata": {},
   "source": [
    "# 1. Business Understanding"
   ]
  },
  {
   "cell_type": "code",
   "execution_count": null,
   "metadata": {},
   "outputs": [],
   "source": [
    "# Tujuan: Mengklasifikasikan jenis bunga iris berdasarkan karakteristik (panjang/panjang kelopak dan sepal)."
   ]
  },
  {
   "cell_type": "markdown",
   "metadata": {},
   "source": [
    "# 2. Data Understanding"
   ]
  },
  {
   "cell_type": "code",
   "execution_count": 14,
   "metadata": {},
   "outputs": [],
   "source": [
    "# Import Library yang dibutuhkan\n",
    "import numpy as np\n",
    "import pandas as pd\n",
    "import matplotlib.pyplot as plt\n",
    "import seaborn as sns\n",
    "from sklearn import datasets\n",
    "from sklearn.cluster import KMeans\n",
    "from sklearn.preprocessing import StandardScaler\n",
    "from sklearn.metrics import davies_bouldin_score\n",
    "from sklearn.decomposition import PCA\n"
   ]
  },
  {
   "cell_type": "code",
   "execution_count": 2,
   "metadata": {},
   "outputs": [],
   "source": [
    "# Memuat dataset Iris yang sudah tersedia di scikit-learn\n",
    "# Dataset ini berisi data pengukuran bunga iris\n",
    "iris = datasets.load_iris()\n",
    "\n",
    "# Mengambil data fitur (X) yang terdiri dari 4 pengukuran:\n",
    "# - sepal length (cm)\n",
    "# - sepal width (cm) \n",
    "# - petal length (cm)\n",
    "# - petal width (cm)\n",
    "X = iris.data\n",
    "\n",
    "# Mengambil data target/label (y) yang berisi kelas bunga iris:\n",
    "# - 0: Iris Setosa\n",
    "# - 1: Iris Versicolor  \n",
    "# - 2: Iris Virginica\n",
    "y = iris.target\n",
    "\n"
   ]
  },
  {
   "cell_type": "code",
   "execution_count": null,
   "metadata": {},
   "outputs": [],
   "source": [
    "# Mengubah data array X menjadi DataFrame pandas untuk memudahkan visualisasi dan analisis\n",
    "# Parameter X: data fitur bunga iris (sepal length, sepal width, petal length, petal width)\n",
    "# Parameter columns: nama-nama fitur dari iris.feature_names\n",
    "df = pd.DataFrame(X, columns=iris.feature_names)\n",
    "\n",
    "# Menambahkan kolom 'species' yang berisi nama spesies bunga iris\n",
    "# iris.target_names[y] akan mengambil nama spesies sesuai dengan indeks di array y\n",
    "# Misal y=0 akan mengambil 'setosa', y=1 akan mengambil 'versicolor', dst\n",
    "df['species'] = iris.target_names[y]\n",
    "\n",
    "# Menampilkan 5 baris pertama dari DataFrame untuk melihat struktur data\n",
    "# Akan menampilkan nilai sepal length, sepal width, petal length, petal width dan species\n",
    "print(df.head())"
   ]
  },
  {
   "cell_type": "code",
   "execution_count": null,
   "metadata": {},
   "outputs": [],
   "source": [
    "# Menampilkan informasi dataset menggunakan method info()\n",
    "# Method info() akan menampilkan:\n",
    "# - Jumlah baris data (entries)\n",
    "# - Tipe data setiap kolom (dtype) \n",
    "# - Jumlah data non-null\n",
    "# - Penggunaan memori\n",
    "print(\"Informasi Dataset:\")\n",
    "print(df.info())"
   ]
  },
  {
   "cell_type": "code",
   "execution_count": null,
   "metadata": {},
   "outputs": [],
   "source": [
    "# Menampilkan statistik deskriptif dari dataset iris menggunakan method describe()\n",
    "# Method describe() akan menampilkan ringkasan statistik untuk setiap kolom numerik:\n",
    "# - count: jumlah data\n",
    "# - mean: rata-rata \n",
    "# - std: standar deviasi\n",
    "# - min: nilai minimum\n",
    "# - 25%: kuartil pertama (Q1)\n",
    "# - 50%: median/kuartil kedua (Q2)\n",
    "# - 75%: kuartil ketiga (Q3)\n",
    "# - max: nilai maksimum\n",
    "print(\"\\nStatistik Deskriptif:\")\n",
    "print(df.describe())\n"
   ]
  },
  {
   "cell_type": "code",
   "execution_count": null,
   "metadata": {},
   "outputs": [],
   "source": [
    "# # Visualisasi korelasi\n",
    "# plt.figure(figsize=(10, 8))\n",
    "# sns.heatmap(data.corr(), annot=True, cmap='coolwarm', fmt=\".2f\")\n",
    "# plt.title(\"Heatmap Korelasi Antar Fitur\")\n",
    "# plt.show()"
   ]
  },
  {
   "cell_type": "markdown",
   "metadata": {},
   "source": [
    "# 3. Data Preparation"
   ]
  },
  {
   "cell_type": "code",
   "execution_count": null,
   "metadata": {},
   "outputs": [],
   "source": [
    "# Melakukan pengecekan nilai yang hilang (missing values) pada dataset\n",
    "# df.isnull() akan menghasilkan DataFrame boolean dimana True menandakan nilai yang hilang\n",
    "# df.isnull().sum() akan menghitung jumlah nilai True (missing values) untuk setiap kolom\n",
    "# Hasil yang diharapkan adalah 0 untuk semua kolom, yang berarti tidak ada missing values\n",
    "print(\"\\nCek Missing Values:\")\n",
    "print(df.isnull().sum())\n"
   ]
  },
  {
   "cell_type": "code",
   "execution_count": 7,
   "metadata": {},
   "outputs": [],
   "source": [
    "# Melakukan normalisasi data menggunakan StandardScaler\n",
    "# StandardScaler akan mengubah data sehingga memiliki mean=0 dan variance=1\n",
    "# Hal ini penting untuk algoritma KMeans karena:\n",
    "# - Mencegah fitur dengan skala besar mendominasi perhitungan jarak\n",
    "# - Membuat semua fitur memiliki kontribusi yang setara\n",
    "# - Meningkatkan kinerja dan akurasi model\n",
    "\n",
    "# Membuat objek StandardScaler\n",
    "scaler = StandardScaler()\n",
    "\n",
    "# Melakukan fit dan transform data X sekaligus\n",
    "# - fit: menghitung mean dan std dari data\n",
    "# - transform: melakukan normalisasi dengan (x - mean) / std\n",
    "# Hasil transformasi disimpan ke dalam X_scaled\n",
    "X_scaled = scaler.fit_transform(X)\n"
   ]
  },
  {
   "cell_type": "code",
   "execution_count": null,
   "metadata": {},
   "outputs": [],
   "source": [
    "# Memvisualisasikan data yang telah dinormalisasi menggunakan pairplot\n",
    "# - sns.pairplot() digunakan untuk membuat matriks scatter plot\n",
    "# - pd.DataFrame() mengubah array X_scaled menjadi DataFrame dengan nama kolom dari iris.feature_names\n",
    "# - Pairplot akan menampilkan hubungan antara semua pasangan fitur\n",
    "# - Berguna untuk melihat distribusi dan pola data setelah normalisasi\n",
    "# - Diagonal plot menunjukkan distribusi masing-masing fitur\n",
    "# - Plot lainnya menunjukkan hubungan antara dua fitur yang berbeda\n",
    "sns.pairplot(pd.DataFrame(X_scaled, columns=iris.feature_names))\n",
    "plt.show()"
   ]
  },
  {
   "cell_type": "markdown",
   "metadata": {},
   "source": [
    "# 4. Modelling"
   ]
  },
  {
   "cell_type": "code",
   "execution_count": 9,
   "metadata": {},
   "outputs": [],
   "source": [
    "# Mencari jumlah cluster optimal menggunakan Elbow Method\n",
    "# - Metode Elbow digunakan untuk menentukan jumlah cluster (k) yang optimal\n",
    "# - Caranya dengan mencoba berbagai nilai k dan melihat nilai inertia (within-cluster sum of squares)\n",
    "\n",
    "# Membuat list kosong untuk menyimpan nilai inertia\n",
    "inertia = []\n",
    "\n",
    "# Melakukan iterasi untuk nilai k dari 1 sampai 10\n",
    "for k in range(1, 11):\n",
    "    # Membuat model KMeans dengan jumlah cluster = k\n",
    "    # random_state=42 digunakan untuk hasil yang konsisten/reproducible\n",
    "    kmeans = KMeans(n_clusters=k, random_state=42)\n",
    "    \n",
    "    # Melakukan fitting model dengan data yang telah dinormalisasi (X_scaled)\n",
    "    kmeans.fit(X_scaled)\n",
    "    \n",
    "    # Menyimpan nilai inertia ke dalam list\n",
    "    # inertia_ adalah atribut yang menyimpan jumlah kuadrat jarak setiap titik ke centroid terdekatnya\n",
    "    inertia.append(kmeans.inertia_)\n"
   ]
  },
  {
   "cell_type": "code",
   "execution_count": null,
   "metadata": {},
   "outputs": [],
   "source": [
    "# Membuat visualisasi Elbow Method untuk menentukan jumlah cluster optimal\n",
    "# - plt.plot() digunakan untuk membuat grafik garis\n",
    "# - range(1,11) membuat sumbu x dari 1-10 yang merepresentasikan jumlah cluster\n",
    "# - inertia adalah list yang berisi nilai inertia untuk setiap k\n",
    "# - marker='o' menambahkan titik pada setiap data point\n",
    "# - plt.title() memberikan judul pada grafik\n",
    "# - plt.xlabel() memberikan label pada sumbu x\n",
    "# - plt.ylabel() memberikan label pada sumbu y\n",
    "# - plt.show() menampilkan grafik\n",
    "plt.plot(range(1, 11), inertia, marker='o')\n",
    "plt.title('Elbow Method for Optimal k')\n",
    "plt.xlabel('Number of clusters (k)')\n",
    "plt.ylabel('Inertia')\n",
    "plt.show()"
   ]
  },
  {
   "cell_type": "code",
   "execution_count": 11,
   "metadata": {},
   "outputs": [],
   "source": [
    "# Membuat model KMeans dengan parameter:\n",
    "# - n_clusters=3: menentukan jumlah cluster yang diinginkan (3 cluster karena ada 3 spesies bunga Iris)\n",
    "# - random_state=42: mengatur seed random untuk hasil yang konsisten setiap kali kode dijalankan\n",
    "kmeans = KMeans(n_clusters=3, random_state=42)\n",
    "\n",
    "# Melakukan fitting model sekaligus prediksi cluster untuk setiap data point\n",
    "# - fit_predict(): metode untuk melatih model dan memprediksi cluster dalam satu langkah\n",
    "# - X_scaled: data input yang sudah dinormalisasi\n",
    "# - Hasilnya disimpan dalam y_kmeans yang berisi label cluster (0, 1, atau 2) untuk setiap data\n",
    "y_kmeans = kmeans.fit_predict(X_scaled)\n"
   ]
  },
  {
   "cell_type": "code",
   "execution_count": null,
   "metadata": {},
   "outputs": [],
   "source": [
    "# Menambahkan kolom baru bernama 'cluster' ke DataFrame df\n",
    "# Nilai kolom diisi dengan hasil prediksi cluster dari KMeans (y_kmeans)\n",
    "# y_kmeans berisi label cluster (0, 1, atau 2) untuk setiap data point\n",
    "df['cluster'] = y_kmeans\n",
    "\n",
    "# Membuat visualisasi scatter plot menggunakan seaborn\n",
    "# Parameter yang digunakan:\n",
    "# - x: menggunakan fitur pertama dari dataset iris (sepal length)\n",
    "# - y: menggunakan fitur kedua dari dataset iris (sepal width) \n",
    "# - hue='cluster': memberikan warna berbeda untuk setiap cluster\n",
    "# - palette='viridis': menggunakan color palette viridis\n",
    "# - data=df: menggunakan DataFrame df sebagai sumber data\n",
    "sns.scatterplot(x=df[iris.feature_names[0]], y=df[iris.feature_names[1]], hue='cluster', palette='viridis', data=df)\n",
    "\n",
    "# Menambahkan judul pada plot\n",
    "plt.title('KMeans Clustering of Iris Dataset')\n",
    "\n",
    "# Menampilkan plot\n",
    "plt.show()\n"
   ]
  },
  {
   "cell_type": "markdown",
   "metadata": {},
   "source": [
    "# 5. Evaluation"
   ]
  },
  {
   "cell_type": "code",
   "execution_count": null,
   "metadata": {},
   "outputs": [],
   "source": [
    "# Davies-Bouldin Index (DBI) adalah metrik evaluasi untuk mengukur kualitas clustering\n",
    "# - Semakin kecil nilai DBI, semakin baik hasil clustering\n",
    "# - DBI mengukur rasio antara jarak intra-cluster (kohesi) dan jarak inter-cluster (separasi)\n",
    "# - Rentang nilai DBI adalah dari 0 (terbaik) hingga tak terhingga\n",
    "\n",
    "# Menghitung nilai DBI menggunakan fungsi davies_bouldin_score dari sklearn\n",
    "# Parameter:\n",
    "# - X_scaled: data yang telah dinormalisasi\n",
    "# - y_kmeans: label cluster hasil prediksi KMeans\n",
    "dbi_score = davies_bouldin_score(X_scaled, y_kmeans)\n",
    "\n",
    "# Menampilkan nilai DBI dengan 4 angka desimal\n",
    "# Menggunakan f-string untuk format output yang rapi\n",
    "print(f'Davies-Bouldin Index: {dbi_score:.4f}')\n"
   ]
  },
  {
   "cell_type": "markdown",
   "metadata": {},
   "source": [
    "# 6. Deployment"
   ]
  },
  {
   "cell_type": "code",
   "execution_count": null,
   "metadata": {},
   "outputs": [],
   "source": [
    "# Melakukan reduksi dimensi menggunakan PCA (Principal Component Analysis)\n",
    "# - Membuat objek PCA dengan parameter n_components=2 untuk mereduksi menjadi 2 dimensi\n",
    "# - PCA berguna untuk memvisualisasikan data multidimensi ke dalam 2D\n",
    "pca = PCA(n_components=2)\n",
    "\n",
    "# Melakukan fit dan transform data yang telah dinormalisasi (X_scaled)\n",
    "# - fit: menghitung komponen utama dari data\n",
    "# - transform: mengubah data asli ke dalam bentuk komponen utama\n",
    "# - Hasilnya disimpan dalam X_pca\n",
    "X_pca = pca.fit_transform(X_scaled)\n",
    "\n",
    "# Membuat DataFrame baru untuk hasil PCA\n",
    "# - Mengkonversi array X_pca menjadi DataFrame dengan kolom 'PCA1' dan 'PCA2'\n",
    "# - PCA1 adalah komponen utama pertama\n",
    "# - PCA2 adalah komponen utama kedua\n",
    "df_pca = pd.DataFrame(X_pca, columns=['PCA1', 'PCA2'])\n",
    "\n",
    "# Menambahkan kolom cluster dari hasil KMeans sebelumnya\n",
    "# - Mengambil label cluster dari DataFrame df\n",
    "# - Menambahkannya sebagai kolom baru di df_pca\n",
    "df_pca['cluster'] = df['cluster']\n",
    "\n",
    "# Membuat visualisasi scatter plot dari hasil PCA\n",
    "# - x: menggunakan PCA1 sebagai sumbu x\n",
    "# - y: menggunakan PCA2 sebagai sumbu y\n",
    "# - hue: memberikan warna berbeda untuk setiap cluster\n",
    "# - palette: menggunakan skema warna viridis\n",
    "# - data: menggunakan DataFrame df_pca\n",
    "sns.scatterplot(x='PCA1', y='PCA2', hue='cluster', palette='viridis', data=df_pca)\n",
    "\n",
    "# Menambahkan judul pada plot\n",
    "plt.title('KMeans Clustering of Iris Dataset (PCA Projection)')\n",
    "\n",
    "# Menampilkan plot\n",
    "plt.show()\n"
   ]
  }
 ],
 "metadata": {
  "kernelspec": {
   "display_name": "venv",
   "language": "python",
   "name": "python3"
  },
  "language_info": {
   "codemirror_mode": {
    "name": "ipython",
    "version": 3
   },
   "file_extension": ".py",
   "mimetype": "text/x-python",
   "name": "python",
   "nbconvert_exporter": "python",
   "pygments_lexer": "ipython3",
   "version": "3.12.0"
  }
 },
 "nbformat": 4,
 "nbformat_minor": 2
}
