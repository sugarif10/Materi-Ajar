{
 "cells": [
  {
   "cell_type": "markdown",
   "metadata": {},
   "source": [
    "# <p style=\"background-color:lime; font-family:calibri; color:maroon; font-size:150%; text-align:center; border-radius:15px 50px;\">1. Business Understanding</p>"
   ]
  },
  {
   "cell_type": "markdown",
   "metadata": {},
   "source": [
    "<h5>Masalah utama pada Serpong Garden Apartment adalah strategi promosi yang tidak terpersonalisasi, menyebabkan rendahnya konversi pembelian. Selain itu, data pelanggan tidak dimanfaatkan secara maksimal. Solusi yang diusulkan adalah penerapan machine learning untuk memprediksi tujuan pembelian pelanggan (tempat tinggal atau investasi) menggunakan algoritma seperti Naive Bayes, Decision Tree, dan Random Forest. Ini akan memungkinkan tim pemasaran untuk memberikan promosi yang lebih personal dan tepat sasaran, serta mengurangi pemborosan anggaran promosi.</h5>\n",
    "<h5>Tujuan Sistem</h5>\n",
    "<li>Menyediakan promosi yang lebih personal dan relevan.</li>\n",
    "<li>Memanfaatkan data pelanggan untuk prediksi tujuan pembelian.</li>\n",
    "<li>Mengurangi pemborosan anggaran promosi.</li>"
   ]
  },
  {
   "cell_type": "markdown",
   "metadata": {},
   "source": [
    "# <p style=\"background-color:lime; font-family:calibri; color:maroon; font-size:150%; text-align:center; border-radius:15px 50px;\">2. Data Understanding</p>"
   ]
  },
  {
   "cell_type": "code",
   "metadata": {
    "ExecuteTime": {
     "end_time": "2025-06-08T02:42:04.329599Z",
     "start_time": "2025-06-08T02:41:55.949741Z"
    }
   },
   "source": [
    "# Import library untuk manipulasi data\n",
    "import pandas as pd  # Untuk pengolahan data tabular\n",
    "import numpy as np   # Untuk komputasi numerik\n",
    "import matplotlib.pyplot as plt  # Untuk visualisasi data\n",
    "import seaborn as sns  # Untuk visualisasi data statistik\n",
    "from skimpy import skim # Import library skimpy untuk mendapatkan ringkasan statistik data yang lebih detail dan mudah dibaca\n",
    "from summarytools import dfSummary # Import library summarytools untuk membuat ringkasan data yang komprehensif termasuk statistik, distribusi, dan missing values\n",
    "\n",
    "# Import library untuk preprocessing data\n",
    "from sklearn.model_selection import train_test_split  # Untuk membagi data train dan test\n",
    "from sklearn.preprocessing import LabelEncoder  # Untuk encoding label kategorikal\n",
    "from imblearn.over_sampling import SMOTE  # Untuk menangani data tidak seimbang\n",
    "\n",
    "# Import library untuk model machine learning\n",
    "from sklearn.tree import DecisionTreeClassifier  # Model pohon keputusan\n",
    "from sklearn.ensemble import RandomForestClassifier  # Model random forest\n",
    "from sklearn.naive_bayes import GaussianNB  # Model naive bayes\n",
    "\n",
    "# Import library untuk evaluasi model\n",
    "from sklearn.metrics import accuracy_score, classification_report, confusion_matrix  # Metrik evaluasi\n",
    "from sklearn.metrics import roc_curve, auc  # Untuk kurva ROC dan nilai AUC\n",
    "\n",
    "from sklearn.model_selection import GridSearchCV\n",
    "\n",
    "\n",
    "# # --- 1. Feature Engineering ---\n",
    "# from sklearn.preprocessing import OneHotEncoder\n",
    "# from sklearn.compose import ColumnTransformer\n",
    "# from sklearn.pipeline import Pipeline\n",
    "# from sklearn.ensemble import RandomForestClassifier\n",
    "# from sklearn.model_selection import train_test_split, GridSearchCV, cross_val_score\n",
    "# from imblearn.over_sampling import SMOTE\n",
    "# from sklearn.metrics import accuracy_score, classification_report, confusion_matrix\n",
    "\n",
    "# Mengatur matplotlib untuk menampilkan plot di notebook\n",
    "%matplotlib inline"
   ],
   "outputs": [],
   "execution_count": 1
  },
  {
   "cell_type": "code",
   "execution_count": 2,
   "metadata": {
    "ExecuteTime": {
     "end_time": "2024-12-28T10:02:11.904875Z",
     "start_time": "2024-12-28T10:02:11.784665Z"
    }
   },
   "outputs": [],
   "source": [
    "# Memuat dataset\n",
    "df = pd.read_csv('data_apartment11.csv')  "
   ]
  },
  {
   "cell_type": "code",
   "execution_count": 3,
   "metadata": {},
   "outputs": [
    {
     "data": {
      "text/html": [
       "<style type=\"text/css\">\n",
       "#T_38358 thead>tr>th {\n",
       "  text-align: left;\n",
       "}\n",
       "#T_38358_row0_col0, #T_38358_row1_col0, #T_38358_row2_col0, #T_38358_row3_col0, #T_38358_row4_col0, #T_38358_row5_col0, #T_38358_row6_col0, #T_38358_row7_col0, #T_38358_row8_col0, #T_38358_row9_col0, #T_38358_row10_col0, #T_38358_row11_col0, #T_38358_row12_col0, #T_38358_row13_col0, #T_38358_row14_col0, #T_38358_row15_col0, #T_38358_row16_col0, #T_38358_row17_col0, #T_38358_row18_col0, #T_38358_row19_col0, #T_38358_row20_col0, #T_38358_row21_col0, #T_38358_row22_col0, #T_38358_row23_col0, #T_38358_row24_col0, #T_38358_row25_col0, #T_38358_row26_col0, #T_38358_row27_col0, #T_38358_row28_col0, #T_38358_row29_col0, #T_38358_row30_col0, #T_38358_row31_col0, #T_38358_row32_col0, #T_38358_row33_col0, #T_38358_row34_col0, #T_38358_row35_col0, #T_38358_row36_col0, #T_38358_row37_col0, #T_38358_row38_col0, #T_38358_row39_col0, #T_38358_row40_col0, #T_38358_row41_col0, #T_38358_row42_col0, #T_38358_row43_col0, #T_38358_row44_col0, #T_38358_row45_col0, #T_38358_row46_col0, #T_38358_row47_col0, #T_38358_row48_col0, #T_38358_row49_col0, #T_38358_row50_col0, #T_38358_row51_col0, #T_38358_row52_col0, #T_38358_row53_col0, #T_38358_row54_col0, #T_38358_row55_col0, #T_38358_row56_col0, #T_38358_row57_col0, #T_38358_row58_col0, #T_38358_row59_col0, #T_38358_row60_col0, #T_38358_row61_col0, #T_38358_row62_col0, #T_38358_row63_col0, #T_38358_row64_col0, #T_38358_row65_col0, #T_38358_row66_col0, #T_38358_row67_col0 {\n",
       "  text-align: left;\n",
       "  font-size: 12px;\n",
       "  vertical-align: middle;\n",
       "  width: 5%;\n",
       "  max-width: 50px;\n",
       "  min-width: 20px;\n",
       "}\n",
       "#T_38358_row0_col1, #T_38358_row1_col1, #T_38358_row2_col1, #T_38358_row3_col1, #T_38358_row4_col1, #T_38358_row5_col1, #T_38358_row6_col1, #T_38358_row7_col1, #T_38358_row8_col1, #T_38358_row9_col1, #T_38358_row10_col1, #T_38358_row11_col1, #T_38358_row12_col1, #T_38358_row13_col1, #T_38358_row14_col1, #T_38358_row15_col1, #T_38358_row16_col1, #T_38358_row17_col1, #T_38358_row18_col1, #T_38358_row19_col1, #T_38358_row20_col1, #T_38358_row21_col1, #T_38358_row22_col1, #T_38358_row23_col1, #T_38358_row24_col1, #T_38358_row25_col1, #T_38358_row26_col1, #T_38358_row27_col1, #T_38358_row28_col1, #T_38358_row29_col1, #T_38358_row30_col1, #T_38358_row31_col1, #T_38358_row32_col1, #T_38358_row33_col1, #T_38358_row34_col1, #T_38358_row35_col1, #T_38358_row36_col1, #T_38358_row37_col1, #T_38358_row38_col1, #T_38358_row39_col1, #T_38358_row40_col1, #T_38358_row41_col1, #T_38358_row42_col1, #T_38358_row43_col1, #T_38358_row44_col1, #T_38358_row45_col1, #T_38358_row46_col1, #T_38358_row47_col1, #T_38358_row48_col1, #T_38358_row49_col1, #T_38358_row50_col1, #T_38358_row51_col1, #T_38358_row52_col1, #T_38358_row53_col1, #T_38358_row54_col1, #T_38358_row55_col1, #T_38358_row56_col1, #T_38358_row57_col1, #T_38358_row58_col1, #T_38358_row59_col1, #T_38358_row60_col1, #T_38358_row61_col1, #T_38358_row62_col1, #T_38358_row63_col1, #T_38358_row64_col1, #T_38358_row65_col1, #T_38358_row66_col1, #T_38358_row67_col1 {\n",
       "  text-align: left;\n",
       "  font-size: 12px;\n",
       "  vertical-align: middle;\n",
       "  width: 15%;\n",
       "  max-width: 200px;\n",
       "  min-width: 100px;\n",
       "  word-break: break-word;\n",
       "}\n",
       "#T_38358_row0_col2, #T_38358_row1_col2, #T_38358_row2_col2, #T_38358_row3_col2, #T_38358_row4_col2, #T_38358_row5_col2, #T_38358_row6_col2, #T_38358_row7_col2, #T_38358_row8_col2, #T_38358_row9_col2, #T_38358_row10_col2, #T_38358_row11_col2, #T_38358_row12_col2, #T_38358_row13_col2, #T_38358_row14_col2, #T_38358_row15_col2, #T_38358_row16_col2, #T_38358_row17_col2, #T_38358_row18_col2, #T_38358_row19_col2, #T_38358_row20_col2, #T_38358_row21_col2, #T_38358_row22_col2, #T_38358_row23_col2, #T_38358_row24_col2, #T_38358_row25_col2, #T_38358_row26_col2, #T_38358_row27_col2, #T_38358_row28_col2, #T_38358_row29_col2, #T_38358_row30_col2, #T_38358_row31_col2, #T_38358_row32_col2, #T_38358_row33_col2, #T_38358_row34_col2, #T_38358_row35_col2, #T_38358_row36_col2, #T_38358_row37_col2, #T_38358_row38_col2, #T_38358_row39_col2, #T_38358_row40_col2, #T_38358_row41_col2, #T_38358_row42_col2, #T_38358_row43_col2, #T_38358_row44_col2, #T_38358_row45_col2, #T_38358_row46_col2, #T_38358_row47_col2, #T_38358_row48_col2, #T_38358_row49_col2, #T_38358_row50_col2, #T_38358_row51_col2, #T_38358_row52_col2, #T_38358_row53_col2, #T_38358_row54_col2, #T_38358_row55_col2, #T_38358_row56_col2, #T_38358_row57_col2, #T_38358_row58_col2, #T_38358_row59_col2, #T_38358_row60_col2, #T_38358_row61_col2, #T_38358_row62_col2, #T_38358_row63_col2, #T_38358_row64_col2, #T_38358_row65_col2, #T_38358_row66_col2, #T_38358_row67_col2 {\n",
       "  text-align: left;\n",
       "  font-size: 12px;\n",
       "  vertical-align: middle;\n",
       "  width: 30%;\n",
       "  min-width: 100px;\n",
       "}\n",
       "#T_38358_row0_col3, #T_38358_row1_col3, #T_38358_row2_col3, #T_38358_row3_col3, #T_38358_row4_col3, #T_38358_row5_col3, #T_38358_row6_col3, #T_38358_row7_col3, #T_38358_row8_col3, #T_38358_row9_col3, #T_38358_row10_col3, #T_38358_row11_col3, #T_38358_row12_col3, #T_38358_row13_col3, #T_38358_row14_col3, #T_38358_row15_col3, #T_38358_row16_col3, #T_38358_row17_col3, #T_38358_row18_col3, #T_38358_row19_col3, #T_38358_row20_col3, #T_38358_row21_col3, #T_38358_row22_col3, #T_38358_row23_col3, #T_38358_row24_col3, #T_38358_row25_col3, #T_38358_row26_col3, #T_38358_row27_col3, #T_38358_row28_col3, #T_38358_row29_col3, #T_38358_row30_col3, #T_38358_row31_col3, #T_38358_row32_col3, #T_38358_row33_col3, #T_38358_row34_col3, #T_38358_row35_col3, #T_38358_row36_col3, #T_38358_row37_col3, #T_38358_row38_col3, #T_38358_row39_col3, #T_38358_row40_col3, #T_38358_row41_col3, #T_38358_row42_col3, #T_38358_row43_col3, #T_38358_row44_col3, #T_38358_row45_col3, #T_38358_row46_col3, #T_38358_row47_col3, #T_38358_row48_col3, #T_38358_row49_col3, #T_38358_row50_col3, #T_38358_row51_col3, #T_38358_row52_col3, #T_38358_row53_col3, #T_38358_row54_col3, #T_38358_row55_col3, #T_38358_row56_col3, #T_38358_row57_col3, #T_38358_row58_col3, #T_38358_row59_col3, #T_38358_row60_col3, #T_38358_row61_col3, #T_38358_row62_col3, #T_38358_row63_col3, #T_38358_row64_col3, #T_38358_row65_col3, #T_38358_row66_col3, #T_38358_row67_col3 {\n",
       "  text-align: left;\n",
       "  font-size: 12px;\n",
       "  vertical-align: middle;\n",
       "  width: 25%;\n",
       "  min-width: 100px;\n",
       "}\n",
       "#T_38358_row0_col4, #T_38358_row1_col4, #T_38358_row2_col4, #T_38358_row3_col4, #T_38358_row4_col4, #T_38358_row5_col4, #T_38358_row6_col4, #T_38358_row7_col4, #T_38358_row8_col4, #T_38358_row9_col4, #T_38358_row10_col4, #T_38358_row11_col4, #T_38358_row12_col4, #T_38358_row13_col4, #T_38358_row14_col4, #T_38358_row15_col4, #T_38358_row16_col4, #T_38358_row17_col4, #T_38358_row18_col4, #T_38358_row19_col4, #T_38358_row20_col4, #T_38358_row21_col4, #T_38358_row22_col4, #T_38358_row23_col4, #T_38358_row24_col4, #T_38358_row25_col4, #T_38358_row26_col4, #T_38358_row27_col4, #T_38358_row28_col4, #T_38358_row29_col4, #T_38358_row30_col4, #T_38358_row31_col4, #T_38358_row32_col4, #T_38358_row33_col4, #T_38358_row34_col4, #T_38358_row35_col4, #T_38358_row36_col4, #T_38358_row37_col4, #T_38358_row38_col4, #T_38358_row39_col4, #T_38358_row40_col4, #T_38358_row41_col4, #T_38358_row42_col4, #T_38358_row43_col4, #T_38358_row44_col4, #T_38358_row45_col4, #T_38358_row46_col4, #T_38358_row47_col4, #T_38358_row48_col4, #T_38358_row49_col4, #T_38358_row50_col4, #T_38358_row51_col4, #T_38358_row52_col4, #T_38358_row53_col4, #T_38358_row54_col4, #T_38358_row55_col4, #T_38358_row56_col4, #T_38358_row57_col4, #T_38358_row58_col4, #T_38358_row59_col4, #T_38358_row60_col4, #T_38358_row61_col4, #T_38358_row62_col4, #T_38358_row63_col4, #T_38358_row64_col4, #T_38358_row65_col4, #T_38358_row66_col4, #T_38358_row67_col4 {\n",
       "  text-align: left;\n",
       "  font-size: 12px;\n",
       "  vertical-align: middle;\n",
       "  width: 20%;\n",
       "  min-width: 150px;\n",
       "}\n",
       "#T_38358_row0_col5, #T_38358_row1_col5, #T_38358_row2_col5, #T_38358_row3_col5, #T_38358_row4_col5, #T_38358_row5_col5, #T_38358_row6_col5, #T_38358_row7_col5, #T_38358_row8_col5, #T_38358_row9_col5, #T_38358_row10_col5, #T_38358_row11_col5, #T_38358_row12_col5, #T_38358_row13_col5, #T_38358_row14_col5, #T_38358_row15_col5, #T_38358_row16_col5, #T_38358_row17_col5, #T_38358_row18_col5, #T_38358_row19_col5, #T_38358_row20_col5, #T_38358_row21_col5, #T_38358_row22_col5, #T_38358_row23_col5, #T_38358_row24_col5, #T_38358_row25_col5, #T_38358_row26_col5, #T_38358_row27_col5, #T_38358_row28_col5, #T_38358_row29_col5, #T_38358_row30_col5, #T_38358_row31_col5, #T_38358_row32_col5, #T_38358_row33_col5, #T_38358_row34_col5, #T_38358_row35_col5, #T_38358_row36_col5, #T_38358_row37_col5, #T_38358_row38_col5, #T_38358_row39_col5, #T_38358_row40_col5, #T_38358_row41_col5, #T_38358_row42_col5, #T_38358_row43_col5, #T_38358_row44_col5, #T_38358_row45_col5, #T_38358_row46_col5, #T_38358_row47_col5, #T_38358_row48_col5, #T_38358_row49_col5, #T_38358_row50_col5, #T_38358_row51_col5, #T_38358_row52_col5, #T_38358_row53_col5, #T_38358_row54_col5, #T_38358_row55_col5, #T_38358_row56_col5, #T_38358_row57_col5, #T_38358_row58_col5, #T_38358_row59_col5, #T_38358_row60_col5, #T_38358_row61_col5, #T_38358_row62_col5, #T_38358_row63_col5, #T_38358_row64_col5, #T_38358_row65_col5, #T_38358_row66_col5, #T_38358_row67_col5 {\n",
       "  text-align: left;\n",
       "  font-size: 12px;\n",
       "  vertical-align: middle;\n",
       "  width: 10%;\n",
       "}\n",
       "</style>\n",
       "<table id=\"T_38358\">\n",
       "  <caption><strong>Data Frame Summary</strong><br>df<br>Dimensions: 2,186 x 68<br>Duplicates: 0</caption>\n",
       "  <thead>\n",
       "    <tr>\n",
       "      <th id=\"T_38358_level0_col0\" class=\"col_heading level0 col0\" >No</th>\n",
       "      <th id=\"T_38358_level0_col1\" class=\"col_heading level0 col1\" >Variable</th>\n",
       "      <th id=\"T_38358_level0_col2\" class=\"col_heading level0 col2\" >Stats / Values</th>\n",
       "      <th id=\"T_38358_level0_col3\" class=\"col_heading level0 col3\" >Freqs / (% of Valid)</th>\n",
       "      <th id=\"T_38358_level0_col4\" class=\"col_heading level0 col4\" >Graph</th>\n",
       "      <th id=\"T_38358_level0_col5\" class=\"col_heading level0 col5\" >Missing</th>\n",
       "    </tr>\n",
       "  </thead>\n",
       "  <tbody>\n",
       "    <tr>\n",
       "      <td id=\"T_38358_row0_col0\" class=\"data row0 col0\" >1</td>\n",
       "      <td id=\"T_38358_row0_col1\" class=\"data row0 col1\" ><strong>No</strong><br>[int64]</td>\n",
       "      <td id=\"T_38358_row0_col2\" class=\"data row0 col2\" >Mean (sd) : 1093.5 (631.2)<br>min < med < max:<br>1.0 < 1093.5 < 2186.0<br>IQR (CV) : 1092.5 (1.7)</td>\n",
       "      <td id=\"T_38358_row0_col3\" class=\"data row0 col3\" >2,186 distinct values</td>\n",
       "      <td id=\"T_38358_row0_col4\" class=\"data row0 col4\" ><img src = \"data:image/png;base64, iVBORw0KGgoAAAANSUhEUgAAAKoAAABGCAYAAABc8A97AAAAOXRFWHRTb2Z0d2FyZQBNYXRwbG90bGliIHZlcnNpb24zLjkuMiwgaHR0cHM6Ly9tYXRwbG90bGliLm9yZy8hTgPZAAAACXBIWXMAAA9hAAAPYQGoP6dpAAACIklEQVR4nO3Xva/SUBzG8d+BKzm82IYXYWNxdGvCwuLm6B/r6g6JM4OLEwshIaWEeokN1kXd5NJW7X3S72eF0+c0+YYEl+e5Ac9dq+4LAPd4eOoLzrmumXVKPv9bnuePJc82crvibt3bLTP7XvLszXvfDNU51x2Px++DIBiWWT4ej2fn3Eczu5Q47kej0bswDPsN2q60W+f29Xp9kabp68Fg8KXVamVFz59Op9g59+FPsT71i9oJgmC4XC4fwzAs9OK73e7ler1+O5/PJ+12u3AsWZZ5M3uzWCw+TSaTUxO2q+zWvb3dboebzeZVFEWfZ7NZXORskiR+tVoND4dDx8xKhWpmZmEYXqbT6dci43Ecd733vSiKLkUvbvb7xXve+6wp21V2n8O2mVm/3y/cyk/dWx/eFWoVZS/+68WbtP03duve/lf41w8JhAoJhAoJhAoJhAoJhAoJhAoJhAoJhAoJhAoJhAoJhAoJhAoJhAoJhAoJhAoJhAoJhAoJhAoJhAoJhAoJhAoJhAoJhAoJhAoJhAoJhAoJhAoJhAoJhAoJhAoJhAoJhAoJhAoJhAoJhAoJhAoJhAoJhAoJhAoJhAoJhAoJhAoJhAoJhAoJhAoJhAoJhAoJhAoJhAoJhAoJhAoJhAoJhAoJhAoJhAoJhAoJhAoJhAoJhAoJhAoJhAoJD/d8KUkSX/TB5/PZm5mlaer3+33vf55X3Va9d9Xz9/T1A8HOMdycLAetAAAAAElFTkSuQmCC\"></img></td>\n",
       "      <td id=\"T_38358_row0_col5\" class=\"data row0 col5\" >0<br>(0.0%)</td>\n",
       "    </tr>\n",
       "    <tr>\n",
       "      <td id=\"T_38358_row1_col0\" class=\"data row1 col0\" >2</td>\n",
       "      <td id=\"T_38358_row1_col1\" class=\"data row1 col1\" ><strong>Customer Name</strong><br>[object]</td>\n",
       "      <td id=\"T_38358_row1_col2\" class=\"data row1 col2\" >1. PINGKI ELKA PANGESTU<br>2. MARI ELKA PANGESTU<br>3. VALERIE ANGGERANI<br>4. TJANDRA MAKMUR SUHAIMI<br>5. PT.BEST MANAJEMEN INDONESIA<br>6. Djong Briliant Angela<br>7. Cokorda Istri Dewi<br>8. OCKY OKTAVIANUS SLAMET<br>9. Mgs. Ferry Arifin<br>10. Henny Tan<br>11. other</td>\n",
       "      <td id=\"T_38358_row1_col3\" class=\"data row1 col3\" >10 (0.5%)<br>10 (0.5%)<br>7 (0.3%)<br>6 (0.3%)<br>6 (0.3%)<br>5 (0.2%)<br>5 (0.2%)<br>5 (0.2%)<br>5 (0.2%)<br>5 (0.2%)<br>2,122 (97.1%)</td>\n",
       "      <td id=\"T_38358_row1_col4\" class=\"data row1 col4\" ><img src = \"data:image/png;base64, iVBORw0KGgoAAAANSUhEUgAAAJsAAAD+CAYAAAAtWHdlAAAAOXRFWHRTb2Z0d2FyZQBNYXRwbG90bGliIHZlcnNpb24zLjkuMiwgaHR0cHM6Ly9tYXRwbG90bGliLm9yZy8hTgPZAAAACXBIWXMAAA9hAAAPYQGoP6dpAAADn0lEQVR4nO3cQWojVxhG0b+McNqTEkLgJSR78CJ6sb0ILSJ7MMY1iDueKIMEYtKdSaBvgXLOyNToDS5+kqnPy/V6HSjc7X0A/j/ERkZsZMRGRmxkxEZGbGTERkZsZJaZeZiZuV6vbzufhRt3OJ/Pn2dmlmX5Ijh+pLt1XU/rup5m5n7vw3DbfGYjIzYyYiMjNjJiIyM2MmIjIzYyYiMjNjJiIyM2MmIjIzYyYiMjNjKHbdte/vr5fdeTcPNsEMgs/mUWFb/ZyFhXkbGuIuNPH2TERkZsZMRGRmxkxEZGbGTERkZsZMRGRmxkxEZGbGTERkZsZAxeyHgtnIzBCxmf2cjcLcvyy7Isn/Y+CLfvbmZ+npmf9j4It881SkZsZMRGRmxkxEZGbGTERkZsZMRGRmxkxEZGbGTERkZsZMRG5m5mfp2Z3/c+CLfPBoGMa5SM2MiIjYx1FRnrKjKuUTJiIyM2MmIjIzYyYiMjNjJiIyM2MmIjIzYyYiMjNjJiIyM2MtZVZKyryLhGyYiNjMELGYMXMq5RMmIjIzYyYiMjNjJiIyM2MmIjIzYyYiMjNjJiIyM2MmIjIzYyBi9kDF7IuEbJiI2MwQsZgxcyrlEyYiMjNjJiIyM2MmIjIzYyYiMjNjJiIyM2MmIjIzYyYiMjNjJiI2NdRca6ioxrlIzYyFhXkbGuIuMaJSM2MmIjIzYyYiMjNjJiIyM2MmIjIzYyYiMjNjJiIyM2MmIjY/BCxuCFjGuUjNjIGLyQMXgh4xolIzYyYiMjNjJiIyM2MmIjIzYyYiMjNjJiIyM2MmIjIzYyYiNj8ELG4IWMa5SM2MiIjYx1FRnrKjKuUTJiIyM2MmIjIzYyYiMjNjJiIyM2MmIjIzYyYiMjNjJiIyM2MtZVZKyryLhGyYiNjMELGYMXMq5RMmIjIzYyYiMjNjJiIyM2MmIjIzYyYiMjNjJiIyM2MmIjIzYyBi9kDF7IuEbJLDPzMDP3ex+Em/N+vV7fPj44nM/nz+u6nvY6Ebdp27aXZVm+fAzusK7r6enp6e14PH7d83DcjtfX10+Xy+X0/Px8PzN/xzYzczwevz4+Pv622+m4RQ//fOALAhmxkREbGbGRERsZsZERGxmxkREbGbGRERsZsZERG5nDzJ+vhOx9EG7Hv/V02Lbt5XK5nOY7r4TAf7Vt28vMvH985rVwfpRvXgu3riLjCwIZsZERGxmxkREbGbGRERsZsZERG5k/AMArjog3xrU5AAAAAElFTkSuQmCC\"></img></td>\n",
       "      <td id=\"T_38358_row1_col5\" class=\"data row1 col5\" >0<br>(0.0%)</td>\n",
       "    </tr>\n",
       "    <tr>\n",
       "      <td id=\"T_38358_row2_col0\" class=\"data row2 col0\" >3</td>\n",
       "      <td id=\"T_38358_row2_col1\" class=\"data row2 col1\" ><strong>Address</strong><br>[object]</td>\n",
       "      <td id=\"T_38358_row2_col2\" class=\"data row2 col2\" >1. JL.LAMANDAU RAYA NO.16 RT003/0<br>2. JL.LAMANDAU RAYA 16 RT003/RW00<br>3. DR.RUM NO. 14 RT. 004/002 KEL.<br>4. Komplek TSS Indah Blok A/81.S <br>5. jl.pos pengumben lama blok 10 <br>6. Apt W.G.P B3 No.14 Rt/Rw. 005/<br>7. JL. Flamboyan Pesona Blok E.3 <br>8. Taman Mutiara Palem, Blok A7/1<br>9. JL.KELAPA PUAN XV AF 11/1 RT.0<br>10. Jl. Sutera Intan III No.5 Alam<br>11. other</td>\n",
       "      <td id=\"T_38358_row2_col3\" class=\"data row2 col3\" >10 (0.5%)<br>10 (0.5%)<br>7 (0.3%)<br>6 (0.3%)<br>6 (0.3%)<br>5 (0.2%)<br>5 (0.2%)<br>5 (0.2%)<br>5 (0.2%)<br>5 (0.2%)<br>2,122 (97.1%)</td>\n",
       "      <td id=\"T_38358_row2_col4\" class=\"data row2 col4\" ><img src = \"data:image/png;base64, iVBORw0KGgoAAAANSUhEUgAAAJsAAAD+CAYAAAAtWHdlAAAAOXRFWHRTb2Z0d2FyZQBNYXRwbG90bGliIHZlcnNpb24zLjkuMiwgaHR0cHM6Ly9tYXRwbG90bGliLm9yZy8hTgPZAAAACXBIWXMAAA9hAAAPYQGoP6dpAAADn0lEQVR4nO3cQWojVxhG0b+McNqTEkLgJSR78CJ6sb0ILSJ7MMY1iDueKIMEYtKdSaBvgXLOyNToDS5+kqnPy/V6HSjc7X0A/j/ERkZsZMRGRmxkxEZGbGTERkZsZJaZeZiZuV6vbzufhRt3OJ/Pn2dmlmX5Ijh+pLt1XU/rup5m5n7vw3DbfGYjIzYyYiMjNjJiIyM2MmIjIzYyYiMjNjJiIyM2MmIjIzYyYiMjNjKHbdte/vr5fdeTcPNsEMgs/mUWFb/ZyFhXkbGuIuNPH2TERkZsZMRGRmxkxEZGbGTERkZsZMRGRmxkxEZGbGTERkZsZAxeyHgtnIzBCxmf2cjcLcvyy7Isn/Y+CLfvbmZ+npmf9j4It881SkZsZMRGRmxkxEZGbGTERkZsZMRGRmxkxEZGbGTERkZsZMRG5m5mfp2Z3/c+CLfPBoGMa5SM2MiIjYx1FRnrKjKuUTJiIyM2MmIjIzYyYiMjNjJiIyM2MmIjIzYyYiMjNjJiIyM2MtZVZKyryLhGyYiNjMELGYMXMq5RMmIjIzYyYiMjNjJiIyM2MmIjIzYyYiMjNjJiIyM2MmIjIzYyBi9kDF7IuEbJiI2MwQsZgxcyrlEyYiMjNjJiIyM2MmIjIzYyYiMjNjJiIyM2MmIjIzYyYiMjNjJiI2NdRca6ioxrlIzYyFhXkbGuIuMaJSM2MmIjIzYyYiMjNjJiIyM2MmIjIzYyYiMjNjJiIyM2MmIjY/BCxuCFjGuUjNjIGLyQMXgh4xolIzYyYiMjNjJiIyM2MmIjIzYyYiMjNjJiIyM2MmIjIzYyYiNj8ELG4IWMa5SM2MiIjYx1FRnrKjKuUTJiIyM2MmIjIzYyYiMjNjJiIyM2MmIjIzYyYiMjNjJiIyM2MtZVZKyryLhGyYiNjMELGYMXMq5RMmIjIzYyYiMjNjJiIyM2MmIjIzYyYiMjNjJiIyM2MmIjIzYyBi9kDF7IuEbJLDPzMDP3ex+Em/N+vV7fPj44nM/nz+u6nvY6Ebdp27aXZVm+fAzusK7r6enp6e14PH7d83DcjtfX10+Xy+X0/Px8PzN/xzYzczwevz4+Pv622+m4RQ//fOALAhmxkREbGbGRERsZsZERGxmxkREbGbGRERsZsZERG5nDzJ+vhOx9EG7Hv/V02Lbt5XK5nOY7r4TAf7Vt28vMvH985rVwfpRvXgu3riLjCwIZsZERGxmxkREbGbGRERsZsZERG5k/AMArjog3xrU5AAAAAElFTkSuQmCC\"></img></td>\n",
       "      <td id=\"T_38358_row2_col5\" class=\"data row2 col5\" >0<br>(0.0%)</td>\n",
       "    </tr>\n",
       "    <tr>\n",
       "      <td id=\"T_38358_row3_col0\" class=\"data row3 col0\" >4</td>\n",
       "      <td id=\"T_38358_row3_col1\" class=\"data row3 col1\" ><strong>City</strong><br>[object]</td>\n",
       "      <td id=\"T_38358_row3_col2\" class=\"data row3 col2\" >1. Tangerang Selatan<br>2. Jakarta Barat (Kota)<br>3. Tangerang (Kabupaten)<br>4. Jakarta Selatan (Kota)<br>5. Jakarta Utara (Kota)<br>6. Tangerang (Kota)<br>7. Jakarta Pusat (Kota)<br>8. Jakarta Timur (Kota)<br>9. Unknown<br>10. Medan (Kota)<br>11. other</td>\n",
       "      <td id=\"T_38358_row3_col3\" class=\"data row3 col3\" >373 (17.1%)<br>366 (16.7%)<br>262 (12.0%)<br>195 (8.9%)<br>163 (7.5%)<br>126 (5.8%)<br>114 (5.2%)<br>93 (4.3%)<br>47 (2.2%)<br>44 (2.0%)<br>403 (18.4%)</td>\n",
       "      <td id=\"T_38358_row3_col4\" class=\"data row3 col4\" ><img src = \"data:image/png;base64, iVBORw0KGgoAAAANSUhEUgAAAJsAAAD+CAYAAAAtWHdlAAAAOXRFWHRTb2Z0d2FyZQBNYXRwbG90bGliIHZlcnNpb24zLjkuMiwgaHR0cHM6Ly9tYXRwbG90bGliLm9yZy8hTgPZAAAACXBIWXMAAA9hAAAPYQGoP6dpAAAERElEQVR4nO3dTWobWQBG0VIQJplIGIMW40X0YnsR2o0w0iAOmagHnQQnYP2Uqm670TmzTFweXJ5Q8b54cTweByh8+q9/Ae6H2MiIjYzYyIiNjNjIiI2M2MiIjcxiGIYvwzA8BM/6fjweX4Pn8EEtn56e/lqtVo9zP+hwOLwsFou/BXe/lqvV6vH5+fl1vV5/m+sh+/3+83a7fdztdg/DMIjtTi2HYRjW6/W3zWbzdeZnfZn55/PB+YJARmxkxEZGbGTERkZsZMRGRmxkxEZGbGTERkZsZMRGRmxklsPw732zOR8y98/n/2F5OBxettvt4zDzfbPD4fAyDMP3OZ/Bx2aDQGbhv8yi4mQjY11FxrqKjHUVGS91yYiNjNjIiI2M2MiIjYzYyIiNjNjIiI2M2MiIjYzYyBi8kDF4IeNaOBmDFzJTn2xOL9416eDFqIVTJhu8GLVwztSDF6MW3uWlLhmxkREbGbGRERsZsZERGxmxkREbGbGRERsZsZERG5nJBi9GLZwz6eDFqIVTXAsnY/BCxhcEMrd8jPrI5Cqj11WWVFxr1LrKkooxbllXWVJxFV8QyIiNjNjIiI2M2MiIjYzYyIiNjNjIiI2M2MiIjYzYyIxaV1lSMcbodZUlFddyLZyMdRWZMSebE41Rrh68GLow1lWDF0MXbjFm8GLowihe6pIRGxmxkREbGbGRERsZsZERGxmxkREbGbGRERsZsZG5avBi6MItrh68GLowlmvhZAxeyFx6sjnNuNlFgxcjF6ZwdvBi5MJULh28GLlwMy91yYiNjNjIiI2M2MiIjYzYyIiNjNjIiI2M2MiIjYzYyIiNzNl1lUUVU7loXWVRxRRsEMhYV5G55GRzqjGJs+sqyyqmcnJdZVnFlC5ZV1lWMQkvdcmIjYzYyIiNjNjIiI2M2MiIjYzYyIiNjNjIiI2M2MicHLwYuzCls4MXYxem4lo4GYMXMudONqcakzk5eDF2YUrvDl6MXZjaucGLsQuT8VKXjNjIiI2M2MiIjYzYyIiNjNjIiI2M2MiIjYzYyIiNzLuDF2MXpnZy8GLswpRcCydj8ELGFwQyf36M+thkNr+tq6ypmNOnn+uq5+fn1x/RnftzkDDKr3XVj39bUzEbXxDIiI2M2MiIjYzYyIiNjNjIiI2M2MiIjYzYyIiNjNjInPxzQjClt+sqaypm5Vo4GesqMk42MgYvZAxeyBi8kPFSl4zYyIiNjNjIiI2M2MiIjYzYyIiNjNjIiI2M2MiIjYzBCxmDFzKuhZMxeCFz7g+lzcUJeod+G7xUDGvu0/Ln4OXNDmFW+/3+83a7fdztdg/DMIjtjvwavGw2m6/hcw1r7pCXumTERkZsZMRGRmxkxEZGbGTERkZsZMRGRmxkxEZGbGTywYtxzf16O3jJrv0Y1twn18LJGLyQ8QWBjNjIiI2M2MiIjYzYyIiNjNjIiI3MPwMlNiR3BTn8AAAAAElFTkSuQmCC\"></img></td>\n",
       "      <td id=\"T_38358_row3_col5\" class=\"data row3 col5\" >0<br>(0.0%)</td>\n",
       "    </tr>\n",
       "    <tr>\n",
       "      <td id=\"T_38358_row4_col0\" class=\"data row4 col0\" >5</td>\n",
       "      <td id=\"T_38358_row4_col1\" class=\"data row4 col1\" ><strong>Province</strong><br>[object]</td>\n",
       "      <td id=\"T_38358_row4_col2\" class=\"data row4 col2\" >1. Jakarta<br>2. Banten<br>3. Jawa Barat<br>4. Sumatera Utara<br>5. Jawa Tengah<br>6. Lampung<br>7. Jawa Timur<br>8. Unknown<br>9. Sumatera Selatan<br>10. Riau<br>11. other</td>\n",
       "      <td id=\"T_38358_row4_col3\" class=\"data row4 col3\" >949 (43.4%)<br>782 (35.8%)<br>190 (8.7%)<br>48 (2.2%)<br>43 (2.0%)<br>31 (1.4%)<br>21 (1.0%)<br>21 (1.0%)<br>18 (0.8%)<br>13 (0.6%)<br>70 (3.2%)</td>\n",
       "      <td id=\"T_38358_row4_col4\" class=\"data row4 col4\" ><img src = \"data:image/png;base64, iVBORw0KGgoAAAANSUhEUgAAAJsAAAD+CAYAAAAtWHdlAAAAOXRFWHRTb2Z0d2FyZQBNYXRwbG90bGliIHZlcnNpb24zLjkuMiwgaHR0cHM6Ly9tYXRwbG90bGliLm9yZy8hTgPZAAAACXBIWXMAAA9hAAAPYQGoP6dpAAAEYElEQVR4nO3dQW4TWQBF0Z/IosnElmUpy2ABXgSLZRFeAPuIotSApJmkByQoMMNK3XIX54wgowJd/cSl/+Dq+fl5QOF66Qfg7yE2MmIjIzYyYiMjNjJiIyM2MmIjczXGuBljfFj6QS7E9+fn58elH2KtNofD4fN2u90v/SCXYJqm+6urqy+Cm8dmu93uj8fj4263e1r6YZb08PDw8XQ67e/u7j6MMcQ2g80YY+x2u6fb29tvSz/MBbhZ+gHWzAcEMmIjIzYyYiMjNjJiIyM2MmIjIzYyYiMjNjJiIyM2MmIjsxnjx12upR9kaf4O5reZpun+dDrth7tcY5qm+zHG96WfY61sEH5lgzCjK/9kFpW1n2xOqguy6nWVtdRlWe26ylrq8qx9XfXXf8K+JF7qkhEbGbGRERsZsZERGxmxkREbGbGRERsZsZERGxmxkVnt4GWNf6b/u1UPXgxYLotr4WQMXsice7I5MfhjZw1eDEk4xx8PXgxJONe5g5fVfXJlfl7qkhEbGbGRERsZsZERGxmxkREbGbGRERsZsZERGxmxkfnjwYshCec6a/BiSMI5XAsnY/BCxgcEMr9/G/Xtkdn8sq6ymmJO16/rquPx+PgS3VrX8Szs57rq5fdWU8zGBwQyYiMjNjJiIyM2MmIjIzYyYiMjNjJiIyM2MmIjIzYyq/3vhLg8b9dVVlPMyrVwMtZVZJxsZAxeyBi8kDF4IeOlLhmxkREbGbGRERsZsZERGxmxkREbGbGRERsZsZERGxmDFzIGL2RcCydj8ELm7cnmVGNWPwcvxi7M7Xq73e4/ffo0jF2Y2/UYY9zc3Py79IOwfl7qkhEbGbGRERsZsZERGxmxkREbGbGRERsZsZERGxmxkREbmesxxnh8fPxn6Qdh/a6nabr/+vWrZRWzs0EgY11F5vVkG0415rY5HA6fxxjDsoq5XW+3271lFQXv2ciIjYzYyIiNjNjIiI2M2MiIjYzYyIiNjNjIiI2M2MiIjYzYyGxehi5jGLswM9fCyRi8kHGykTF4IWPwQsarDzJiIyM2MmIjIzYyYiMjNjJiIyM2MmIjIzYyYiMjNjJiIyM2MgYvZFwLJ2PwQsbPbGR8GyVjXUXGuoqMn9nIiI2M2MiIjYzYyIiNjNjIiI2M2MiIjYzYyIiNjNjIiI2M2MhYV5FxLZyMdRUZJxsZgxcyBi9kvPogIzYyYiMjNjJiIyM2MmIjIzYyYiMjNjJiIyM2MmIjIzYyYiNj8ELGtXAyBi9kXk+236+Ef3fS8d42h8Ph88sG4adpmu4NYHhvm+12uz8ej4+73e5pjDEeHh4+nk6n/d3d3Ycxhth4N5sxxtjtdk+3t7ff3nz9ZqHnYcW8ZyMjNjJiIyM2MmIjIzYyYiMjNjJiIyM2MmIjIzYyYiOzGePHtaLXL7z9NbynzTRN96fTaT/eXCt6GcEYwPCuXAsnY/BCxgcEMmIjIzYyYiMjNjJiIyM2MmIjIzYy/wF9laeCrqPVXgAAAABJRU5ErkJggg==\"></img></td>\n",
       "      <td id=\"T_38358_row4_col5\" class=\"data row4 col5\" >0<br>(0.0%)</td>\n",
       "    </tr>\n",
       "    <tr>\n",
       "      <td id=\"T_38358_row5_col0\" class=\"data row5 col0\" >6</td>\n",
       "      <td id=\"T_38358_row5_col1\" class=\"data row5 col1\" ><strong>Sex</strong><br>[object]</td>\n",
       "      <td id=\"T_38358_row5_col2\" class=\"data row5 col2\" >1. Pria<br>2. Wanita</td>\n",
       "      <td id=\"T_38358_row5_col3\" class=\"data row5 col3\" >1,096 (50.1%)<br>1,090 (49.9%)</td>\n",
       "      <td id=\"T_38358_row5_col4\" class=\"data row5 col4\" ><img src = \"data:image/png;base64, iVBORw0KGgoAAAANSUhEUgAAAJsAAAAuCAYAAAA/ZmtKAAAAOXRFWHRTb2Z0d2FyZQBNYXRwbG90bGliIHZlcnNpb24zLjkuMiwgaHR0cHM6Ly9tYXRwbG90bGliLm9yZy8hTgPZAAAACXBIWXMAAA9hAAAPYQGoP6dpAAABN0lEQVR4nO3bwYnDMBRF0a8gwmQjYQwuxkVMsSlC3RhjLZKQjWYxDcR/8YTIPRV8zMWQ4BdaawYoBDO7mdm19yEDerfWnr2PGEmc5/k3pTT1PmQ0tdY9hHAnuM/FlNK0rusz5/zqfcwojuP4KaVM27ZdzYzYPhTNzHLOr2VZHr2PGcyt9wGjufQ+AN+D2CBDbJAhNsgQG2SIDTLEBhligwyxQYbYIENskCE2yBAbZIgNMsQGmWj2/zFg70NGwvPyibXWvZQyGR8DnlJr3c3s3fuOkTB48WPwclJgygcV3mw+vNUcmPI5MOPzYcp3EjM+P6Z8Pvxyd+BPXcgQG2SIDTLEBhligwyxQYbYIENskCE2yBAbZIgNMsQGGWKDDLFBhtggw5TvJJ6VH1M+B2Z8PgxefBi8OPwBCltq31np+ZoAAAAASUVORK5CYII=\"></img></td>\n",
       "      <td id=\"T_38358_row5_col5\" class=\"data row5 col5\" >0<br>(0.0%)</td>\n",
       "    </tr>\n",
       "    <tr>\n",
       "      <td id=\"T_38358_row6_col0\" class=\"data row6 col0\" >7</td>\n",
       "      <td id=\"T_38358_row6_col1\" class=\"data row6 col1\" ><strong>Religion</strong><br>[object]</td>\n",
       "      <td id=\"T_38358_row6_col2\" class=\"data row6 col2\" >1. Kristen<br>2. Islam<br>3. Katolik<br>4. Budha<br>5. Hindu</td>\n",
       "      <td id=\"T_38358_row6_col3\" class=\"data row6 col3\" >648 (29.6%)<br>638 (29.2%)<br>555 (25.4%)<br>317 (14.5%)<br>28 (1.3%)</td>\n",
       "      <td id=\"T_38358_row6_col4\" class=\"data row6 col4\" ><img src = \"data:image/png;base64, iVBORw0KGgoAAAANSUhEUgAAAJsAAABzCAYAAACPdnBjAAAAOXRFWHRTb2Z0d2FyZQBNYXRwbG90bGliIHZlcnNpb24zLjkuMiwgaHR0cHM6Ly9tYXRwbG90bGliLm9yZy8hTgPZAAAACXBIWXMAAA9hAAAPYQGoP6dpAAACaElEQVR4nO3bQWrbUBiF0d/GpPVExgSyDC/Ai+hiuwgvwPsIJhrUaSbuIKU0IVC7RVd66jkreIMPiSd0F5fLpSBhOfYB+H+IjRixEbOoqnVV3Y19kL/wcrlczmMfguut7u/vv3Rdtx37ILfq+/60WCy+Cq4dq67rtvv9/rzZbJ7HPsy1np6ePh8Oh+3j4+NdVYmtEauqqs1m8/zw8PBt7MPcaD32AbiNCwIxYiNGbMSIjRixESM2YsRGjNiIERsxYiNGbMSIjRixEbOqev1lZ+yD3KK18/Jq1ff96XA4bKuxX3b6vj9V1cvY5+B6fgsnZmE3SooLAjGtvka9QhvU5LrKsqpNza2rLKva1eq6qqnPNLxyQSBGbMSIjRixESM2YsRGjNiIERsxYiNGbMSIjRixESM2YppbV7V0Vt5qcl1lWdUmv4UTY11FjAsCMVN/jXpdzsik11VWVPMy2XWVFdX8TH1d1cznGP7MBYEYsREjNmLERozYiBEbMWIjRmzEiI0YsREjNmLERozYiJnsumqKZ+LfTHpdZUU1L34LJ8a6ipghn2yeSrwx2ODFWIX3Bhm8GKvwkSEHL5O73TIuH3WJERsxYiNGbMSIjRixESM2YsRGjNiIERsxYiNGbMSIjRixETPIusoyio8Mtq6yjOI9GwRirKuI+f3J5knEoH6tq6yhGNqy67rtbrern3O+qS7jmYFlVdV6vf4+9kGYPx91iREbMWIjRmzEiI0YsREjNmLERozYiBEbMWIjRmzEiI0YsRGzrKo6n8+fxj4I87fs+/50PB6toRicDQIx1lXEuCAQIzZifgAarf8N/jF6XAAAAABJRU5ErkJggg==\"></img></td>\n",
       "      <td id=\"T_38358_row6_col5\" class=\"data row6 col5\" >0<br>(0.0%)</td>\n",
       "    </tr>\n",
       "    <tr>\n",
       "      <td id=\"T_38358_row7_col0\" class=\"data row7 col0\" >8</td>\n",
       "      <td id=\"T_38358_row7_col1\" class=\"data row7 col1\" ><strong>Marital</strong><br>[object]</td>\n",
       "      <td id=\"T_38358_row7_col2\" class=\"data row7 col2\" >1. Married<br>2. Single</td>\n",
       "      <td id=\"T_38358_row7_col3\" class=\"data row7 col3\" >1,278 (58.5%)<br>908 (41.5%)</td>\n",
       "      <td id=\"T_38358_row7_col4\" class=\"data row7 col4\" ><img src = \"data:image/png;base64, iVBORw0KGgoAAAANSUhEUgAAAJsAAAAuCAYAAAA/ZmtKAAAAOXRFWHRTb2Z0d2FyZQBNYXRwbG90bGliIHZlcnNpb24zLjkuMiwgaHR0cHM6Ly9tYXRwbG90bGliLm9yZy8hTgPZAAAACXBIWXMAAA9hAAAPYQGoP6dpAAABMElEQVR4nO3bwYnDQBBE0dIizPoygxAoGAWxwW4Qk40QmoNtfJk9bA7V4P4vgrb5CGxU0xhDgMMk6S7pFn1IEu8xxjP6iCjzuq4/pZQl+pAMeu/nNE2/WYObSynLvu/PWusr+phPdl3Xd2ttOY7jJilnbJJUa31t2/aIPiaBe/QBkb6iD0AexAYbYoMNscGG2GBDbLAhNtgQG2yIDTbEBhtigw2xwYbYYENssCE22MzS/4t90Yd8Or5jae69n621Rclf7HPovZ+S3tF3RGHw4pV68DIx5YMLT7bkTxun9FO+7PM6p9RTPuZ1Xkz5+BVuw5+6sCE22BAbbIgNNsQGG2KDDbHBhthgQ2ywITbYEBtsiA02xAYbYoMNscEm9ZQv6+eOkn7Kl31e58TghcGLzR8KW2rflCE6AAAAAABJRU5ErkJggg==\"></img></td>\n",
       "      <td id=\"T_38358_row7_col5\" class=\"data row7 col5\" >0<br>(0.0%)</td>\n",
       "    </tr>\n",
       "    <tr>\n",
       "      <td id=\"T_38358_row8_col0\" class=\"data row8 col0\" >9</td>\n",
       "      <td id=\"T_38358_row8_col1\" class=\"data row8 col1\" ><strong>Job</strong><br>[object]</td>\n",
       "      <td id=\"T_38358_row8_col2\" class=\"data row8 col2\" >1. Staff Level<br>2. Managerial Level<br>3. Owner (Commisioner)</td>\n",
       "      <td id=\"T_38358_row8_col3\" class=\"data row8 col3\" >1,056 (48.3%)<br>632 (28.9%)<br>498 (22.8%)</td>\n",
       "      <td id=\"T_38358_row8_col4\" class=\"data row8 col4\" ><img src = \"data:image/png;base64, iVBORw0KGgoAAAANSUhEUgAAAJsAAABFCAYAAABdVZTTAAAAOXRFWHRTb2Z0d2FyZQBNYXRwbG90bGliIHZlcnNpb24zLjkuMiwgaHR0cHM6Ly9tYXRwbG90bGliLm9yZy8hTgPZAAAACXBIWXMAAA9hAAAPYQGoP6dpAAABmElEQVR4nO3bQWrbABRF0a9iQjORMAYvxovoYrsI7cYYa9CETNRBRx2VJORJ3z1nBR9zsZHwG9Z1LUj4tvUB/D+GqnquqqetD2nibV3Xl62P6OpwOp1+jON43PqQDpZluQ3D8FNwH3MYx/F4uVxepml63fqYPbvf79/neT5er9enqhLbBxyqqqZpej2fz7+2PqaB560P6MwDAjFiI0ZsxIiNGLERIzZixEaM2IgRGzFiI0ZsxIiNGLERIzZiDlV//qu19SF75zP6vMOyLLd5no/lv1r/tCzLraretr6jKxuE97FB+ITBlI+Urt9svmEaarmusnLqqd26ysqpr67rKk/ODXmpS4zYiBEbMWIjRmzEiI0YsREjNmLERozYiBEbMWIjRmzEiI2YduuqTrfyt5brKiunnmwQiLGuIsYDAjF7+xn18/jAdjXlM9F7bLuZ8pnoPb69TfnavH7h/TwgECM2YsRGjNiIERsxYiNGbMSIjRixESM2YsRGjNiIERsxYiNmN1O+PdzA19rVlM9E77HZIBBjykfMb0q8o0pZxp1qAAAAAElFTkSuQmCC\"></img></td>\n",
       "      <td id=\"T_38358_row8_col5\" class=\"data row8 col5\" >0<br>(0.0%)</td>\n",
       "    </tr>\n",
       "    <tr>\n",
       "      <td id=\"T_38358_row9_col0\" class=\"data row9 col0\" >10</td>\n",
       "      <td id=\"T_38358_row9_col1\" class=\"data row9 col1\" ><strong>Grade</strong><br>[object]</td>\n",
       "      <td id=\"T_38358_row9_col2\" class=\"data row9 col2\" >1. Ordinary<br>2. Super VIP</td>\n",
       "      <td id=\"T_38358_row9_col3\" class=\"data row9 col3\" >1,589 (72.7%)<br>597 (27.3%)</td>\n",
       "      <td id=\"T_38358_row9_col4\" class=\"data row9 col4\" ><img src = \"data:image/png;base64, iVBORw0KGgoAAAANSUhEUgAAAJsAAAAuCAYAAAA/ZmtKAAAAOXRFWHRTb2Z0d2FyZQBNYXRwbG90bGliIHZlcnNpb24zLjkuMiwgaHR0cHM6Ly9tYXRwbG90bGliLm9yZy8hTgPZAAAACXBIWXMAAA9hAAAPYQGoP6dpAAABP0lEQVR4nO3bQWrDMBRF0a9iQjORMAYvxovoYrsI7cYYa5CETJRBh8UkdeHJv71nBR9yE4jxC7VWAxSCmZ3N7NT6EPzKvdZ6bX3EM90wDB8xxr71IdivlLKEED6PHlwXY+ynabqmlG6tj8HPrev6nnPu53k+mdmxYzMzSyndxnG8tD4Gu51bH/CKt9YH4P8gNsgQG2SIDTLEBhligwyxQYbYIENskCE2yBAbZIgNMsQGGWKDDLFBpjP7egGv9SHYx9Nn15VSlpxzb05ewMN3pZTFzO6t73iGwcvf4GLwEpjyQcXTL5uLby+2uZnyeZmrYZuLKZ+nuRq2eZry8W/ZOR7qQobYIENskCE2yBAbZIgNMsQGGWKDDLFBhtggQ2yQITbIEBtkiA0yxAYZF1O+o9+H17iZ8nmZq2EbgxfIPAAKW2rf3I4KUAAAAABJRU5ErkJggg==\"></img></td>\n",
       "      <td id=\"T_38358_row9_col5\" class=\"data row9 col5\" >0<br>(0.0%)</td>\n",
       "    </tr>\n",
       "    <tr>\n",
       "      <td id=\"T_38358_row10_col0\" class=\"data row10 col0\" >11</td>\n",
       "      <td id=\"T_38358_row10_col1\" class=\"data row10 col1\" ><strong>Education</strong><br>[object]</td>\n",
       "      <td id=\"T_38358_row10_col2\" class=\"data row10 col2\" >1. S2<br>2. S1<br>3. S3</td>\n",
       "      <td id=\"T_38358_row10_col3\" class=\"data row10 col3\" >901 (41.2%)<br>746 (34.1%)<br>539 (24.7%)</td>\n",
       "      <td id=\"T_38358_row10_col4\" class=\"data row10 col4\" ><img src = \"data:image/png;base64, iVBORw0KGgoAAAANSUhEUgAAAJsAAABFCAYAAABdVZTTAAAAOXRFWHRTb2Z0d2FyZQBNYXRwbG90bGliIHZlcnNpb24zLjkuMiwgaHR0cHM6Ly9tYXRwbG90bGliLm9yZy8hTgPZAAAACXBIWXMAAA9hAAAPYQGoP6dpAAABlElEQVR4nO3bwWnjUBSF4avBhGQjYQwuxkVMsVOEujHGWiQhG2WRFibnPZ6+r4Jr+LGR8Jn2fS9I+NP6AI5jqqq3qnppfUhDX/u+f7Q+4ghOl8vl7zzP59aHtLJt22Oapn+C+32neZ7Pt9vtY1mWz9bHpD2fz9d1Xc/3+/2lqsT2y05VVcuyfF6v1/fWxzTy1vqAo/CAQIzYiBEbMWIjRmzEiI0YsREjNmLERozYiBEbMWIjRmzEiI2YU9XP/7paH9LCUT93K6dt2x7rup7roP/r2rbtUVVfre84AhsEG4SYyZSPlFG/2XxbdWjIdZXFVJ+GW1dZTPVr1HXVIZ+se+elLjFiI0ZsxIiNGLERIzZixEaM2IgRGzFiI0ZsxIiNGLERIzZihltXjfRZRjPkuspiqk82CMRYVxHjAYGYnn9G/RQOptspnzneeLqc8pnjjannKd8wr2L44QGBGLERIzZixEaM2IgRGzFiI0ZsxIiNGLERIzZixEaM2IgRGzFdTvl6u4f/o9spnzneeGwQiDHlI+YbSryjSsjd7WQAAAAASUVORK5CYII=\"></img></td>\n",
       "      <td id=\"T_38358_row10_col5\" class=\"data row10 col5\" >0<br>(0.0%)</td>\n",
       "    </tr>\n",
       "    <tr>\n",
       "      <td id=\"T_38358_row11_col0\" class=\"data row11 col0\" >12</td>\n",
       "      <td id=\"T_38358_row11_col1\" class=\"data row11 col1\" ><strong>Birth Date</strong><br>[object]</td>\n",
       "      <td id=\"T_38358_row11_col2\" class=\"data row11 col2\" >1. -<br>2. 10/23/1956<br>3. 10/07/1953<br>4. 02/25/1983<br>5. 10/22/1986<br>6. 08/30/1967<br>7. 03/19/1977<br>8. 02/27/1983<br>9. 10/09/1971<br>10. 11/01/1962<br>11. other</td>\n",
       "      <td id=\"T_38358_row11_col3\" class=\"data row11 col3\" >33 (1.5%)<br>10 (0.5%)<br>10 (0.5%)<br>7 (0.3%)<br>6 (0.3%)<br>6 (0.3%)<br>5 (0.2%)<br>5 (0.2%)<br>5 (0.2%)<br>5 (0.2%)<br>2,094 (95.8%)</td>\n",
       "      <td id=\"T_38358_row11_col4\" class=\"data row11 col4\" ><img src = \"data:image/png;base64, iVBORw0KGgoAAAANSUhEUgAAAJsAAAD+CAYAAAAtWHdlAAAAOXRFWHRTb2Z0d2FyZQBNYXRwbG90bGliIHZlcnNpb24zLjkuMiwgaHR0cHM6Ly9tYXRwbG90bGliLm9yZy8hTgPZAAAACXBIWXMAAA9hAAAPYQGoP6dpAAAD2klEQVR4nO3dMU4jZxyH4f9YFlmaQZYljpB0HGAPsYfdQ3AAytwBIaYIuzTeYpMqbJIivFac52ndfMWr+TCaHyyn02mgsDv3Afj/EBsZsZERGxmxkREbGbGRERsZsZFZZuZ6Zq5m5vV0Or2c+TxcsP3xePy0ruth27anZVk+C473slvX9XB3dzfruh7m+xMO3sVuZub6+vrruQ/C5fMFgYzYyIiNjNjIiI2M2MiIjYzYyIiNjNjIiI2M2MiIjYzYyOxmZl5eXn4690G4fLtt254eHh5m27anmXk994G4XDYIZBZ/MovKH0+28VTjve2Px+OnmRnLKt7bbl3Xg2UVBb9nIyM2MmIjIzYyYiMjNjJiIyM2MmIjIzYyYiMjNjJiIyM2MmIjs/996DJj7MI781o4GYMXMp5sZAxeyBi8kPGrDzJiIyM2MmIjIzYyYiMjNjJiIyM2MmIjIzYyYiMjNjJiIyM2MgYvZLwWTsbghYyf2ciIjcxuWZZflmX5cO6DcPl2M/PzzPjntrw71ygZsZERGxmxkREbGbGRERsZsZERGxmxkREbGbGRERsZsZERG5ndzPw6M1/PfRAun8ELGdcoGbGRMXghY/BCxjVKRmxkxEZGbGTERkZsZMRGRmxkxEZGbGTERkZsZMRGRmxkxEbG4IWMwQsZ1ygZsZExeCFj8ELGNUpGbGTERkZsZMRGRmxkxEZGbGTERkZsZMRGRmxkxEZGbGTERkZsZKyryFhXkXGNkhEbGesqMtZVZFyjZMRGRmxkxEZGbGTERkZsZMRGRmxkxEZGbGTERkZsZMRGRmxkDF7IGLyQcY2SERsZgxcyBi9kXKNkxEZGbGTERkZsZMRGRmxkxEZGbGTERkZsZMRGRmxkxEZGbGQMXsgYvJBxjZIRGxmxkbGuImNdRcY1SkZsZMRGRmxkxEZGbGTERkZsZMRGRmxkxEZGbGTERkZsZMRGxrqKjHUVGdcoGbGRMXghY/BCxjVKRmxkxEZGbGTERkZsZMRGRmxkxEZGbGTERkZsZMRGRmxkxEbG4IWMwQsZ1yiZZWauZ+bq3AfhYryeTqeXtz7YH4/HT+u6HuoTcZm2bXtaluXzW8Ht13U9fPz48eXm5ubLOQ7H5Xh+fv5wf39/eHx8vJqZP8c2M3Nzc/Pl9vb2t/x0XKLrH33gCwIZsZERGxmxkREbGbGRERsZsZERGxmxkREbGbGRERuZ/cz3V0POfRD++/6uo/22bU/39/eH+YtXQ+Cf2rbtaWZe3/rMa+H82374Wrh1FRlfEMiIjYzYyIiNjNjIiI2M2MiIjYzYyHwDfyuvfa5pugAAAAAASUVORK5CYII=\"></img></td>\n",
       "      <td id=\"T_38358_row11_col5\" class=\"data row11 col5\" >0<br>(0.0%)</td>\n",
       "    </tr>\n",
       "    <tr>\n",
       "      <td id=\"T_38358_row12_col0\" class=\"data row12 col0\" >13</td>\n",
       "      <td id=\"T_38358_row12_col1\" class=\"data row12 col1\" ><strong>Booking Status</strong><br>[object]</td>\n",
       "      <td id=\"T_38358_row12_col2\" class=\"data row12 col2\" >1. SAD Confirm<br>2. Booking Fee Confirm</td>\n",
       "      <td id=\"T_38358_row12_col3\" class=\"data row12 col3\" >1,134 (51.9%)<br>1,052 (48.1%)</td>\n",
       "      <td id=\"T_38358_row12_col4\" class=\"data row12 col4\" ><img src = \"data:image/png;base64, iVBORw0KGgoAAAANSUhEUgAAAJsAAAAuCAYAAAA/ZmtKAAAAOXRFWHRTb2Z0d2FyZQBNYXRwbG90bGliIHZlcnNpb24zLjkuMiwgaHR0cHM6Ly9tYXRwbG90bGliLm9yZy8hTgPZAAAACXBIWXMAAA9hAAAPYQGoP6dpAAABOUlEQVR4nO3bwYnDMBRF0a9BhMlGwhhcjIuYYqcIdWOMtUhCNspiCog1gidE7qngYy6GBD9XSjFAwZnZ1cwuvQ8Z2LOUcu99xAj8PM8/IYSp9yGjyjnvzrlfgnvPhxCmdV3vMcZH72NGcxzHd0pp2rbtYmbE9oY3M4sxPpZlufU+ZlDX3geM4qv3AfgcxAYZYoMMsUGG2CBDbJAhNsgQG2SIDTLEBhligwyxQYbYIENskCE2yHizv48Aex8yIp5bHZ9z3lNKk/ER4L/knHcze/a+YwQMXtoxeDnJMeWDCm+2OrzFGjDlq8Bsrw1TvpOY7bVjyleHX+wN+FMXMsQGGWKDDLFBhtggQ2yQITbIEBtkiA0yxAYZYoMMsUGG2CBDbJAhNsgw5TuJZ9SOKV8FZnttGLzUYfDS4AUKW2rfd+DJGgAAAABJRU5ErkJggg==\"></img></td>\n",
       "      <td id=\"T_38358_row12_col5\" class=\"data row12 col5\" >0<br>(0.0%)</td>\n",
       "    </tr>\n",
       "    <tr>\n",
       "      <td id=\"T_38358_row13_col0\" class=\"data row13 col0\" >14</td>\n",
       "      <td id=\"T_38358_row13_col1\" class=\"data row13 col1\" ><strong>Sales Event</strong><br>[object]</td>\n",
       "      <td id=\"T_38358_row13_col2\" class=\"data row13 col2\" >1. Online<br>2. Open House Show Unit</td>\n",
       "      <td id=\"T_38358_row13_col3\" class=\"data row13 col3\" >1,692 (77.4%)<br>494 (22.6%)</td>\n",
       "      <td id=\"T_38358_row13_col4\" class=\"data row13 col4\" ><img src = \"data:image/png;base64, iVBORw0KGgoAAAANSUhEUgAAAJsAAAAuCAYAAAA/ZmtKAAAAOXRFWHRTb2Z0d2FyZQBNYXRwbG90bGliIHZlcnNpb24zLjkuMiwgaHR0cHM6Ly9tYXRwbG90bGliLm9yZy8hTgPZAAAACXBIWXMAAA9hAAAPYQGoP6dpAAABO0lEQVR4nO3bwWnDQBRF0acgTLyZQQhUjItIsSliuhFCs4iNN8oipIPRm499TwUffG2w0BuO4xDgMEi6Srr0PgSneR7Hce99hCSN8zx/pZSm3ofgHLXWbRiG7wjBjSml6Xa73XPOj97HoK193z9LKdO6rhdJ/WOTpJzzY1mWn97H4BTX3gf8++h9AN4HscGG2GBDbLAhNtgQG2yIDTbEBhtigw2xwYbYYENssCE22BAbbIgNNqP095Jd70PQXrTPday1bqWUSYFeskM7tdZN0rP3HRKDl3cQZvAyMOWDS7RftjDfQrQXasoXaXaG9sJM+aLNztBetCkf/4hfGA91YUNssCE22BAbbIgNNsQGG2KDDbHBhthgQ2ywITbYEBtsiA02xAYbYoNNmClfhBtwrlBTvkizM7TH4AU2vwpbat9KOOGPAAAAAElFTkSuQmCC\"></img></td>\n",
       "      <td id=\"T_38358_row13_col5\" class=\"data row13 col5\" >0<br>(0.0%)</td>\n",
       "    </tr>\n",
       "    <tr>\n",
       "      <td id=\"T_38358_row14_col0\" class=\"data row14 col0\" >15</td>\n",
       "      <td id=\"T_38358_row14_col1\" class=\"data row14 col1\" ><strong>Sales Location</strong><br>[object]</td>\n",
       "      <td id=\"T_38358_row14_col2\" class=\"data row14 col2\" >1. Online<br>2. Marketing Gallery<br>3. Launching Location<br>4. Pameran Lampung<br>5. Living World Alam Sutera<br>6. Pameran Bandung<br>7. Pameran Batam<br>8. Pameran Palembang<br>9. Customer Gathering Bebek Bengi<br>10. Jakarta Convention Center</td>\n",
       "      <td id=\"T_38358_row14_col3\" class=\"data row14 col3\" >1,312 (60.0%)<br>748 (34.2%)<br>55 (2.5%)<br>27 (1.2%)<br>15 (0.7%)<br>10 (0.5%)<br>8 (0.4%)<br>5 (0.2%)<br>4 (0.2%)<br>2 (0.1%)</td>\n",
       "      <td id=\"T_38358_row14_col4\" class=\"data row14 col4\" ><img src = \"data:image/png;base64, iVBORw0KGgoAAAANSUhEUgAAAJsAAADnCAYAAAAJgSQ2AAAAOXRFWHRTb2Z0d2FyZQBNYXRwbG90bGliIHZlcnNpb24zLjkuMiwgaHR0cHM6Ly9tYXRwbG90bGliLm9yZy8hTgPZAAAACXBIWXMAAA9hAAAPYQGoP6dpAAADwklEQVR4nO3cwW0bVwBF0T8EYVubIQgCKiHZqQAV4WJTBAvQMj0IgriIbG+URZwghr3lHWLmnAq+hYsZkvjP0/v7+4DCbukDsB1iIyM2MmIjIzYyYiMjNjJiIyM2MtMY426M8WHpg2zMt/f397elD1Hbn06nz/M8H5c+yJZcLpeXaZr+2Fpw+3mej4+Pj2+Hw+HL0ofZgtfX10/n8/n4/Pz8YYyxrdjGGONwOHy5v7//a+nDbMjd0gdYgi8IZMRGRmxkxEZGbGTERkZsZMRGRmxkxEZGbGTERkZsZPZj/HPtZemDbMWW/9b7y+Xycj6fj2Oj116WcLlcXsYY35Y+R8218GVs8lr45H8xorLWJ9smnxy3bpWDl60OSm7d6gYvWx6U3Lq1Dl58s75BftQlIzYyYiMjNjJiIyM2MmIjIzYyYiMjNjJiIyM2MmIjs7rBy5r+LWuzysHLVgclt861cDIGL2R+9WTzVOAqfhq8GItwLT8MXoxFuKZfDV5W862U2+JHXTJiIyM2MmIjIzYyYiMjNjJiIyM2MmIjIzYyYiMjNjJiI/PDusoyiWv6aV1lmcS12CCQsa4i8/8nmycaV/XfusqqimvbzfN8fHh4GN/nfGtbxnNDdmOMcXd393Xpg7B+ftQlIzYyYiMjNjJiIyM2MmIjIzYyYiMjNjJiIyM2MmIjsxtjjLe3t49LH4T1210ul5enpydDF67OtXAyBi9k/n2yDU81rm1/Op0+jzGGsQvXtpvn+WjsQsHvbGTERkZsZMRGRmxkxEZGbGTERkZsZMRGRmxkxEZGbGTERkZsZPbfhy5jGLtwZa6FkzF4IeMzGxmvUTLWVWSsq8j4zEZGbGTERkZsZMRGRmxkxEZGbGTERkZsZMRGRmxkxEZGbGTERsa6ioxr4WSsq8h4spExeCFj8ELGTx9kxEZGbGTERkZsZMRGRmxkxEZGbGTERkZsZMRGRmxkxEZGbGQMXsi4Fk7G4IWMz2xkxEZmN03T79M0fVr6IKzfbozx2xjj49IHYf28RsmIjYzYyIiNjNjIiI2M2MiIjYzYyIiNjNjIiI2M2MiIjYzYyOzGGH+OMb4ufRDWz+CFjNcoGbGRMXghY/BCxmuUjNjIiI2M2MiIjYzYyIiNjNjIiI2M2MiIjYzYyIiNjNjIiI2MwQsZgxcyXqNkxEbG4IWMwQsZr1EyYiMjNjJiIyM2MmIjIzYyYiMjNjJiIyM2MmIjIzYyYiMjNjJiI2NdRca6iozXKBmxkREbGbGRERsZsZERGxmxkfkbE58af0tcPFgAAAAASUVORK5CYII=\"></img></td>\n",
       "      <td id=\"T_38358_row14_col5\" class=\"data row14 col5\" >0<br>(0.0%)</td>\n",
       "    </tr>\n",
       "    <tr>\n",
       "      <td id=\"T_38358_row15_col0\" class=\"data row15 col0\" >16</td>\n",
       "      <td id=\"T_38358_row15_col1\" class=\"data row15 col1\" ><strong>Cluster</strong><br>[object]</td>\n",
       "      <td id=\"T_38358_row15_col2\" class=\"data row15 col2\" >1. Bellerosa<br>2. Cattleya</td>\n",
       "      <td id=\"T_38358_row15_col3\" class=\"data row15 col3\" >1,126 (51.5%)<br>1,060 (48.5%)</td>\n",
       "      <td id=\"T_38358_row15_col4\" class=\"data row15 col4\" ><img src = \"data:image/png;base64, iVBORw0KGgoAAAANSUhEUgAAAJsAAAAuCAYAAAA/ZmtKAAAAOXRFWHRTb2Z0d2FyZQBNYXRwbG90bGliIHZlcnNpb24zLjkuMiwgaHR0cHM6Ly9tYXRwbG90bGliLm9yZy8hTgPZAAAACXBIWXMAAA9hAAAPYQGoP6dpAAABOUlEQVR4nO3bwYnDMBRF0a9BhMlGwhhcjIuYYqcIdWOMtUhCNspiCog1gidE7qngYy6GBD9XSjFAwZnZ1cwuvQ8Z2LOUcu99xAj8PM8/IYSp9yGjyjnvzrlfgnvPhxCmdV3vMcZH72NGcxzHd0pp2rbtYmbE9oY3M4sxPpZlufU+ZlDX3geM4qv3AfgcxAYZYoMMsUGG2CBDbJAhNsgQG2SIDTLEBhligwyxQYbYIENskCE2yHizv48Aex8yIp5bHZ9z3lNKk/ER4L/knHcze/a+YwQMXtoxeDnJMeWDCm+2OrzFGjDlq8Bsrw1TvpOY7bVjyleHX+wN+FMXMsQGGWKDDLFBhtggQ2yQITbIEBtkiA0yxAYZYoMMsUGG2CBDbJAhNsgw5TuJZ9SOKV8FZnttGLzUYfDS4AUKW2rfd+DJGgAAAABJRU5ErkJggg==\"></img></td>\n",
       "      <td id=\"T_38358_row15_col5\" class=\"data row15 col5\" >0<br>(0.0%)</td>\n",
       "    </tr>\n",
       "    <tr>\n",
       "      <td id=\"T_38358_row16_col0\" class=\"data row16 col0\" >17</td>\n",
       "      <td id=\"T_38358_row16_col1\" class=\"data row16 col1\" ><strong>Product</strong><br>[object]</td>\n",
       "      <td id=\"T_38358_row16_col2\" class=\"data row16 col2\" >1. Studio<br>2. 2 Bedroom C<br>3. 2 Bedroom<br>4. ST<br>5. 2 Bedroom A<br>6. 2BRC<br>7. 2BRA</td>\n",
       "      <td id=\"T_38358_row16_col3\" class=\"data row16 col3\" >1,714 (78.4%)<br>232 (10.6%)<br>155 (7.1%)<br>40 (1.8%)<br>38 (1.7%)<br>6 (0.3%)<br>1 (0.0%)</td>\n",
       "      <td id=\"T_38358_row16_col4\" class=\"data row16 col4\" ><img src = \"data:image/png;base64, iVBORw0KGgoAAAANSUhEUgAAAJsAAAChCAYAAADQgM1HAAAAOXRFWHRTb2Z0d2FyZQBNYXRwbG90bGliIHZlcnNpb24zLjkuMiwgaHR0cHM6Ly9tYXRwbG90bGliLm9yZy8hTgPZAAAACXBIWXMAAA9hAAAPYQGoP6dpAAAC3UlEQVR4nO3dQW7bVgBF0U/BSJuJBMOAl9DuQYvoYrsILaJ7MAxzUKeZqIOmRdKRFYaXUnLOzLMP6JoEBT5oOp/PAwq7rQ/Aj0NsZMRGRmxkxEZmGmO8H2O82/ogrO7j+Xx+3fIAdw8PD7/t9/v7LQ/B+uZ5fp6m6fctg7vb7/f3x+Px9XA4fNjqEKzr5eXl59PpdP/09PRujLFdbGOMcTgcPjw+Pv651SFIvN/6AB4QyIiNjNjIiI2M2MiIjYzYyIiNjNjIiI2M2MiIjYzYyNyN8c8rKFsfhPVcy+d7N8/z8+l0uh9X8AoK65nn+XmM8XHLM3gt/Mex+Wvhk0U8lW9xZdv8P4bbsHjwcg1DCm7DosHLtQwpuA3fYvDiKZY38aUuGbGRERsZsZERGxmxkREbGbGRERsZsZERGxmxkREbGbGRWbSuupbVDrdh8brqGlY73AYbBDLWVWQuvbK5ivHVLlpXWVKxxJvXVZZULHXpusqSiq/mS10yYiMjNjJiIyM2MmIjIzYyYiMjNjJiIyM2MmIjIzYybx68GLew1EWDF+MWlvBaOBmDFzIeEMj8/zbqNslqvlhXWU+xpt2/66rj8fj6KTq/Pcoq/ltXffrbeorVeEAgIzYyYiMjNjJiIyM2MmIjIzYyYiMjNjJiIyM2MmIjs+jnhOASn6+rrKdYldfCyVhXkXFlI2PwQsbghYzBCxlf6pIRGxmxkREbGbGRERsZsZERGxmxkREbGbGRERsZsZExeCFj8ELGa+FkDF7IeEAgIzYyu2mafp2mydMoq9uNMX4ZY/y09UH4/rmNkhEbGbGRERsZsZERGxmxkREbGbGRERsZsZERGxmxkREbGbGR2Y0x/hhj/LX1Qfj+GbyQcRslIzYyBi9kDF7IuI2SERsZsZERGxmxkREbGbGRERsZsZERGxmxkREbGbGRERsZsZERGxnrKjLWVWTcRsmIjYzYyIiNjNjI/A3amwA3ORHhgAAAAABJRU5ErkJggg==\"></img></td>\n",
       "      <td id=\"T_38358_row16_col5\" class=\"data row16 col5\" >0<br>(0.0%)</td>\n",
       "    </tr>\n",
       "    <tr>\n",
       "      <td id=\"T_38358_row17_col0\" class=\"data row17 col0\" >18</td>\n",
       "      <td id=\"T_38358_row17_col1\" class=\"data row17 col1\" ><strong>Zoning</strong><br>[object]</td>\n",
       "      <td id=\"T_38358_row17_col2\" class=\"data row17 col2\" >1. A<br>2. B<br>3. C<br>4. D1</td>\n",
       "      <td id=\"T_38358_row17_col3\" class=\"data row17 col3\" >802 (36.7%)<br>713 (32.6%)<br>415 (19.0%)<br>256 (11.7%)</td>\n",
       "      <td id=\"T_38358_row17_col4\" class=\"data row17 col4\" ><img src = \"data:image/png;base64, iVBORw0KGgoAAAANSUhEUgAAAJsAAABcCAYAAAB5jMeAAAAAOXRFWHRTb2Z0d2FyZQBNYXRwbG90bGliIHZlcnNpb24zLjkuMiwgaHR0cHM6Ly9tYXRwbG90bGliLm9yZy8hTgPZAAAACXBIWXMAAA9hAAAPYQGoP6dpAAAB7UlEQVR4nO3bQWrbUBiF0V/FhGYiYQxeTBbRxXYR2o0x1qAJmaiDzpMU5Pucp3NW8AwfMk/oDuu6FiT8aH0A9kNsxAxV9VxVT60Pcmfv67q+tj7E3h1Op9OvcRyPrQ9yT8uyXIdh+C24tg7jOB5fXl5ep2l6a32Ye7jdbj/neT5eLpenqhJbQ4eqqmma3s7n85/Wh7mj59YHwAWBILERIzZixEaM2IgRGzFiI0ZsxIiNGLERIzZixEaM2Ig5VP37DKf1Qe6l59/23RyWZbnO83ysjj/DWZblWlXvrc+xdz4LJ2Yw5SPFBYGY3v5G/V0+sK7WVVZUj62bdZUV1ePrbV3V7eubHrggECM2YsRGjNiIERsxYiNGbMSIjRixESM2YsRGjNiIERsxYiOmmylfD7+hd11N+Uz2HpsNAjGmfMS0erJ5Au1Qk3WVFdQ+xddVVlD71Wpd9e1vvvw/L3WJERsxYiNGbMSIjRixESM2YsRGjNiIERsxYiNGbMSIjRixERNfV1lB7VeTdZUV1D7ZIBBjXUXMlk82Tys+tNm6ymKKz2yyrrKY4iu2XFdZTPEhL3WJERsxYiNGbMSIjRixESM2YsRGjNiIERsxYiNGbMSIjRixEbPJuspiiq/YbF1lMcVnbBCIsa4ixgWBmL+zWNi5RGYYRwAAAABJRU5ErkJggg==\"></img></td>\n",
       "      <td id=\"T_38358_row17_col5\" class=\"data row17 col5\" >0<br>(0.0%)</td>\n",
       "    </tr>\n",
       "    <tr>\n",
       "      <td id=\"T_38358_row18_col0\" class=\"data row18 col0\" >19</td>\n",
       "      <td id=\"T_38358_row18_col1\" class=\"data row18 col1\" ><strong>View</strong><br>[object]</td>\n",
       "      <td id=\"T_38358_row18_col2\" class=\"data row18 col2\" >1. CITY<br>2. POOL</td>\n",
       "      <td id=\"T_38358_row18_col3\" class=\"data row18 col3\" >1,360 (62.2%)<br>826 (37.8%)</td>\n",
       "      <td id=\"T_38358_row18_col4\" class=\"data row18 col4\" ><img src = \"data:image/png;base64, iVBORw0KGgoAAAANSUhEUgAAAJsAAAAuCAYAAAA/ZmtKAAAAOXRFWHRTb2Z0d2FyZQBNYXRwbG90bGliIHZlcnNpb24zLjkuMiwgaHR0cHM6Ly9tYXRwbG90bGliLm9yZy8hTgPZAAAACXBIWXMAAA9hAAAPYQGoP6dpAAABNElEQVR4nO3bQWrDMBRF0a9iQjORMAYvJovoYrsI7cYYa9CETNRB9/Ak+u5ZwU+4GBL8Uu89AIUUEfeIuI0+xNi79/4cfYTCsm3bV855HX2Iq9bamVL6dghuyTmvj8fjWUp5jT7GzXVdn7XW9TiOW0T8/9giIkopr33ff0YfY+o++gCVj9EHwAexQYbYIENskCE2yBAbZIgNMsQGGWKDDLFBhtggQ2yQITbIEBtkiA0yS8TfS3yjD3Hk9r0vrbWz1rqG0Ut8M2mtnRHxHn2HAoOX8WwGL4kpH1Tcnmw2T5EZWU35nGZzM7KZ8rnN5mbkNuXjF/dA/KkLGWKDDLFBhtggQ2yQITbIEBtkiA0yxAYZYoMMsUGG2CBDbJAhNsgQG2RspnwOn3F2VlM+p9ncjBi8QOYXCltq37DnnSoAAAAASUVORK5CYII=\"></img></td>\n",
       "      <td id=\"T_38358_row18_col5\" class=\"data row18 col5\" >0<br>(0.0%)</td>\n",
       "    </tr>\n",
       "    <tr>\n",
       "      <td id=\"T_38358_row19_col0\" class=\"data row19 col0\" >20</td>\n",
       "      <td id=\"T_38358_row19_col1\" class=\"data row19 col1\" ><strong>Status KPR</strong><br>[object]</td>\n",
       "      <td id=\"T_38358_row19_col2\" class=\"data row19 col2\" >1. Non KPR<br>2. Accepted (Diterima)</td>\n",
       "      <td id=\"T_38358_row19_col3\" class=\"data row19 col3\" >1,122 (51.3%)<br>1,064 (48.7%)</td>\n",
       "      <td id=\"T_38358_row19_col4\" class=\"data row19 col4\" ><img src = \"data:image/png;base64, iVBORw0KGgoAAAANSUhEUgAAAJsAAAAuCAYAAAA/ZmtKAAAAOXRFWHRTb2Z0d2FyZQBNYXRwbG90bGliIHZlcnNpb24zLjkuMiwgaHR0cHM6Ly9tYXRwbG90bGliLm9yZy8hTgPZAAAACXBIWXMAAA9hAAAPYQGoP6dpAAABOUlEQVR4nO3bwYnDMBRF0a9BhMlGwhhcjIuYYqcIdWOMtUhCNspiCog1gidE7qngYy6GBD9XSjFAwZnZ1cwuvQ8Z2LOUcu99xAj8PM8/IYSp9yGjyjnvzrlfgnvPhxCmdV3vMcZH72NGcxzHd0pp2rbtYmbE9oY3M4sxPpZlufU+ZlDX3geM4qv3AfgcxAYZYoMMsUGG2CBDbJAhNsgQG2SIDTLEBhligwyxQYbYIENskCE2yHizv48Aex8yIp5bHZ9z3lNKk/ER4L/knHcze/a+YwQMXtoxeDnJMeWDCm+2OrzFGjDlq8Bsrw1TvpOY7bVjyleHX+wN+FMXMsQGGWKDDLFBhtggQ2yQITbIEBtkiA0yxAYZYoMMsUGG2CBDbJAhNsgw5TuJZ9SOKV8FZnttGLzUYfDS4AUKW2rfd+DJGgAAAABJRU5ErkJggg==\"></img></td>\n",
       "      <td id=\"T_38358_row19_col5\" class=\"data row19 col5\" >0<br>(0.0%)</td>\n",
       "    </tr>\n",
       "    <tr>\n",
       "      <td id=\"T_38358_row20_col0\" class=\"data row20 col0\" >21</td>\n",
       "      <td id=\"T_38358_row20_col1\" class=\"data row20 col1\" ><strong>Gross Area</strong><br>[int64]</td>\n",
       "      <td id=\"T_38358_row20_col2\" class=\"data row20 col2\" >1. 17<br>2. 30</td>\n",
       "      <td id=\"T_38358_row20_col3\" class=\"data row20 col3\" >1,119 (51.2%)<br>1,067 (48.8%)</td>\n",
       "      <td id=\"T_38358_row20_col4\" class=\"data row20 col4\" ><img src = \"data:image/png;base64, iVBORw0KGgoAAAANSUhEUgAAAJsAAAAuCAYAAAA/ZmtKAAAAOXRFWHRTb2Z0d2FyZQBNYXRwbG90bGliIHZlcnNpb24zLjkuMiwgaHR0cHM6Ly9tYXRwbG90bGliLm9yZy8hTgPZAAAACXBIWXMAAA9hAAAPYQGoP6dpAAABOUlEQVR4nO3bQWrDMBRF0a8iQjORMAYvxovoYrsI7cYYa9CETNRBN5BvwxOi96zgYy6GBL/QWjNAIZjZ3cxuvQ8Z1Ku19uh9xCjiPM9fKaWp9yEjqrXuIYRvgntPTClN67o+cs7P3seM5DiOz1LKtG3bzcyI7Q3RzCzn/FyW5af3MQO69z5gJB+9D8D/QWyQITbIEBtkiA0yxAYZYoMMsUGG2CBDbJAhNsgQG2SIDTLEBhlig0w0+/sQsPcho+GZ+cVa615KmYwPAd1qrbuZvXrfMQoGL9cweHEITPmgwpvNj7fZSUz5nJjvnceUz4H53jVM+fz41X4Sf+pChtggQ2yQITbIEBtkiA0yxAYZYoMMsUGG2CBDbJAhNsgQG2SIDTLEBhmmfA48p2uY8jkx3zuPwYsfg5eTfgEKW2rfqvpg/AAAAABJRU5ErkJggg==\"></img></td>\n",
       "      <td id=\"T_38358_row20_col5\" class=\"data row20 col5\" >0<br>(0.0%)</td>\n",
       "    </tr>\n",
       "    <tr>\n",
       "      <td id=\"T_38358_row21_col0\" class=\"data row21 col0\" >22</td>\n",
       "      <td id=\"T_38358_row21_col1\" class=\"data row21 col1\" ><strong>Net Price</strong><br>[int64]</td>\n",
       "      <td id=\"T_38358_row21_col2\" class=\"data row21 col2\" >Mean (sd) : 357828269.6 (110195142.0)<br>min < med < max:<br>206624000.0 < 312914000.0 < 779750000.0<br>IQR (CV) : 117176320.0 (3.2)</td>\n",
       "      <td id=\"T_38358_row21_col3\" class=\"data row21 col3\" >1,017 distinct values</td>\n",
       "      <td id=\"T_38358_row21_col4\" class=\"data row21 col4\" ><img src = \"data:image/png;base64, iVBORw0KGgoAAAANSUhEUgAAAKoAAABGCAYAAABc8A97AAAAOXRFWHRTb2Z0d2FyZQBNYXRwbG90bGliIHZlcnNpb24zLjkuMiwgaHR0cHM6Ly9tYXRwbG90bGliLm9yZy8hTgPZAAAACXBIWXMAAA9hAAAPYQGoP6dpAAAC4UlEQVR4nO3dsW7aQBjA8e8g0IOgMxYK2bJ0YKjUgZGHyMP2ETrwAFGGLgxVtigEGeHg4hh3aYZKVRL7oNzn/H/72Tf8ZX9nBkxZlgKErnXqDQDvcXbMixtjeiLS9bjErizL7aH2A72OFqoxpjcaja6dc3Hda6zX65Ux5hux4phP1K5zLp7NZtsoirKqi5MksfP5PF4ul10RIdQP7qivfhGRKIqy8Xj8VHN576CbgVocpqACoUIFQoUKhAoVCBUqECpUIFSoQKhQgVChAqFCBUKFCoQKFQgVKhAqVCBUqECoUIFQoQKhQgVChQqEChUIFSoQKlQgVKhAqFCBUKECoUIFQoUKhAoVCBUqECpUIFSoQKhQgVChAqFCBUKFCoQKFQgVKhAqVCBUqECoUIFQoQKhQgVChQqEChUIFSoc/d+lfRRF0RERZ4yps3xXliV/n94QwYaapmknz/OvV1dX7Xa7nVVdv16vV8aYb8TaDMGGutvtzqy1/el0ml1eXq6qrE2SxM7n83i5XHZFhFAbINhQX5yfn2fj8fipxtLewTeDkwk+1Lo851sRZtygNDJU3/lWhBk3NI0M1We+FWHGDVEjQ33hMd+KMOMGpdGh+uAbblgI9R/4hhueN0M1xvREpFvj2m6/33dqrDs5vuGG59VQjTG90Wh07ZyLq144z3NbFMWXLMu+i0jdOfGk+IYbjreeqF3nXDybzbZRFFV6Bd7d3cW3t7f95+fntsf+ABF554waRVHlJ8tqtfqwTxXPg1hLRPYet2/kQY7D1IH5HMSKouikafp5MBgsWq1WXuf+TT3IEeqB+RzE/oxLF9Pp9Ac/VPyNUI+kzkHsZVzy+aGiKAonpxs7fNa/OrIQaoOccuzwXf/WyPKuUJMksVVvvNlsrIhImqb2/v6+/z/Xa723774fHx8H1tr+ZDIxw+HwV5W1Dw8PdrFYXEwmk5/D4XBT9d4+67fb7aebm5tXR5bfCjd3Xy9LqQkAAAAASUVORK5CYII=\"></img></td>\n",
       "      <td id=\"T_38358_row21_col5\" class=\"data row21 col5\" >0<br>(0.0%)</td>\n",
       "    </tr>\n",
       "    <tr>\n",
       "      <td id=\"T_38358_row22_col0\" class=\"data row22 col0\" >23</td>\n",
       "      <td id=\"T_38358_row22_col1\" class=\"data row22 col1\" ><strong>Sales Purpose</strong><br>[object]</td>\n",
       "      <td id=\"T_38358_row22_col2\" class=\"data row22 col2\" >1. Tempat Tinggal<br>2. Investasi</td>\n",
       "      <td id=\"T_38358_row22_col3\" class=\"data row22 col3\" >1,183 (54.1%)<br>1,003 (45.9%)</td>\n",
       "      <td id=\"T_38358_row22_col4\" class=\"data row22 col4\" ><img src = \"data:image/png;base64, iVBORw0KGgoAAAANSUhEUgAAAJsAAAAuCAYAAAA/ZmtKAAAAOXRFWHRTb2Z0d2FyZQBNYXRwbG90bGliIHZlcnNpb24zLjkuMiwgaHR0cHM6Ly9tYXRwbG90bGliLm9yZy8hTgPZAAAACXBIWXMAAA9hAAAPYQGoP6dpAAABO0lEQVR4nO3bQWrDMBRF0a8iQjORMAYvxovoYrsI7cYYa9CETJRBZi3WSDw57j0r+JiLIcHPlVIMUHBmdjWzS+9DTuRRSrn1PuKI/DiOXyGEofchZ5FzXp1z3wT3lw8hDPM832KM997HvLtt2z5TSsOyLBczI7ZfvJlZjPE+TdNP72NO4tr7gKP66H0A/g9igwyxQYbYIENskCE2yBAbZIgNMsQGGWKDDLFBhtggQ2yQITbIEBtkvNnro7/eh5wBz7HO55zXlNJgfPTXRM55NbNH7zuOiMFLewxedjimfFDhzVbHW6ohpnwVzPLaYsq3g1lee0z56viF3hB/6kKG2CBDbJAhNsgQG2SIDTLEBhligwyxQYbYIENskCE2yBAbZIgNMsQGGaZ8O3gm7THlq2CW1xaDlzoGLw09AQpbat/wzNfOAAAAAElFTkSuQmCC\"></img></td>\n",
       "      <td id=\"T_38358_row22_col5\" class=\"data row22 col5\" >0<br>(0.0%)</td>\n",
       "    </tr>\n",
       "    <tr>\n",
       "      <td id=\"T_38358_row23_col0\" class=\"data row23 col0\" >24</td>\n",
       "      <td id=\"T_38358_row23_col1\" class=\"data row23 col1\" ><strong>Project</strong><br>[object]</td>\n",
       "      <td id=\"T_38358_row23_col2\" class=\"data row23 col2\" >1. Serpong Garden Apartment</td>\n",
       "      <td id=\"T_38358_row23_col3\" class=\"data row23 col3\" >2,186 (100.0%)</td>\n",
       "      <td id=\"T_38358_row23_col4\" class=\"data row23 col4\" ><img src = \"data:image/png;base64, iVBORw0KGgoAAAANSUhEUgAAAJsAAAAXCAYAAAAcEz0vAAAAOXRFWHRTb2Z0d2FyZQBNYXRwbG90bGliIHZlcnNpb24zLjkuMiwgaHR0cHM6Ly9tYXRwbG90bGliLm9yZy8hTgPZAAAACXBIWXMAAA9hAAAPYQGoP6dpAAAAnUlEQVR4nO3bsQ0CMRBE0TlkoSPx6mTJxbgIUvovYZPjQgJqYCyZ/yqY4Ie7m6SHpLuAHyuttWet9Zg9BOsrtdZjjPGOiGv2GKwrM/ciSRFx9d7P2YOwttvsAfgfxAYbYoMNscGG2GBDbLAhNtgQG2yIDTbEBhtigw2xwYbYYENssCE22BAbbIgNNkX6nuzOHoK1Zea+tdZePLzA4QPFNA/EDSh7IQAAAABJRU5ErkJggg==\"></img></td>\n",
       "      <td id=\"T_38358_row23_col5\" class=\"data row23 col5\" >0<br>(0.0%)</td>\n",
       "    </tr>\n",
       "    <tr>\n",
       "      <td id=\"T_38358_row24_col0\" class=\"data row24 col0\" >25</td>\n",
       "      <td id=\"T_38358_row24_col1\" class=\"data row24 col1\" ><strong>Year</strong><br>[int64]</td>\n",
       "      <td id=\"T_38358_row24_col2\" class=\"data row24 col2\" >1. 2017<br>2. 2016<br>3. 2023<br>4. 2022<br>5. 2024<br>6. 2018<br>7. 2021<br>8. 2019<br>9. 2020<br>10. 2025</td>\n",
       "      <td id=\"T_38358_row24_col3\" class=\"data row24 col3\" >1,263 (57.8%)<br>300 (13.7%)<br>182 (8.3%)<br>137 (6.3%)<br>90 (4.1%)<br>80 (3.7%)<br>46 (2.1%)<br>42 (1.9%)<br>36 (1.6%)<br>10 (0.5%)</td>\n",
       "      <td id=\"T_38358_row24_col4\" class=\"data row24 col4\" ><img src = \"data:image/png;base64, iVBORw0KGgoAAAANSUhEUgAAAJsAAADnCAYAAAAJgSQ2AAAAOXRFWHRTb2Z0d2FyZQBNYXRwbG90bGliIHZlcnNpb24zLjkuMiwgaHR0cHM6Ly9tYXRwbG90bGliLm9yZy8hTgPZAAAACXBIWXMAAA9hAAAPYQGoP6dpAAADx0lEQVR4nO3dQWobWQBF0S8jQmciYQRejBaRxfYitBtjrEEcMlEGcZrujhwkWXULrHNmmRXh5jtV/JcsDofDgMLd3A/A7RAbGbGRERsZsZERGxmxkREbGbGRWYwxPo8xPs39IDfg++FweJn7Iea03Gw2X1ar1f3cD/LR7ff7p8Vi8fctB7dcrVb32+32Zb1ef5v7YT6q5+fnv3a73f3j4+OnMcbtxjbGGOv1+tvDw8PXuR/mg/s89wPMzQsCGbGRERsZsZERGxmxkREbGbGRERsZsZERGxmxkREbmeUYP6/AzP0gH5nf35+W+/3+abfb3Q9XYCa13++fxhjf536OObkW3rn5a+EL/4oRlalOtpv/U8zvJhm8GHdwzNUHL8YdvGWqwYs3W37joy4ZsZERGxmxkREbGbGRERsZsZERGxmxkREbGbGRERuZqw9ejDt4yySDF+MOjnEtnIzBC5lLTzYnF2e7aPBi0MIlzh68GLRwqUsHLwYtnM1HXTJiIyM2MmIjIzYyYiMjNjJiIyM2MmIjIzYyYiMjNjJiI3P2usp6iktdtK6ynuISNghkrKvInHOyOc14l5PXVRZVvNdJ6yqLKq7hnHWVRRXv4qMuGbGRERsZsZERGxmxkREbGbGRERsZsZERGxmxkREbmZMGL0YuXMPJgxcjF97LtXAyBi9k/nSyOcm4qjcHLwYuXNvRwYuBC1P40+DFwIWr8lGXjNjIiI2M2MiIjYzYyIiNjNjIiI2M2MiIjYzYyIiNzNHBi4ELU3hz8GLgwrW5Fk7G4IWMFwQyfoySsa4iY11FxrqKjBcEMmIjIzYyYiMjNjJiIyM2MmIjIzYyYiMjNjJiIyM2MtZVZKyryLgWTsa6isz/TzanGZP5z+DFyIUp3f0avGy325fX6E757yDhbP8MXl5/beTCZHzUJSM2MmIjIzYyYiMjNjJiIyM2MmIjIzYyYiMjNjJiI3N08AJT+PfgxciFSbkWTsbghYwXBDJ+jJKxriJjXUXGuoqMFwQyYiMjNjJiIyM2MmIjIzYyYiMjNjJiIyM2MmIjIzYy1lVkrKvIuBZOxrqKjJONjMELGYMXMgYvZHzUJSM2MmIjIzYyYiMjNjJiIyM2MmIjIzYyYiMjNjJiI2PwQsbghYxr4WQMXsj8OtmGE42pLTebzZcxxjB0YWp3q9Xq3tCFgu9sZMRGRmxkxEZGbGTERkZsZMRGRmxkxEZGbGTERkZsZMRGRmxkxEZm+bqoGsOqionZIJCxriLj72xkxEZGbGTERkZsZMRGRmxkfgBpudRp6w7K3wAAAABJRU5ErkJggg==\"></img></td>\n",
       "      <td id=\"T_38358_row24_col5\" class=\"data row24 col5\" >0<br>(0.0%)</td>\n",
       "    </tr>\n",
       "    <tr>\n",
       "      <td id=\"T_38358_row25_col0\" class=\"data row25 col0\" >26</td>\n",
       "      <td id=\"T_38358_row25_col1\" class=\"data row25 col1\" ><strong>Month</strong><br>[object]</td>\n",
       "      <td id=\"T_38358_row25_col2\" class=\"data row25 col2\" >1. 01/01/2017<br>2. 12/01/2016<br>3. 03/01/2017<br>4. 04/01/2017<br>5. 05/01/2017<br>6. 02/01/2017<br>7. 08/01/2017<br>8. 07/01/2017<br>9. 06/01/2017<br>10. 06/01/2023<br>11. other</td>\n",
       "      <td id=\"T_38358_row25_col3\" class=\"data row25 col3\" >620 (28.4%)<br>295 (13.5%)<br>223 (10.2%)<br>116 (5.3%)<br>81 (3.7%)<br>64 (2.9%)<br>38 (1.7%)<br>36 (1.6%)<br>33 (1.5%)<br>30 (1.4%)<br>650 (29.7%)</td>\n",
       "      <td id=\"T_38358_row25_col4\" class=\"data row25 col4\" ><img src = \"data:image/png;base64, iVBORw0KGgoAAAANSUhEUgAAAJsAAAD+CAYAAAAtWHdlAAAAOXRFWHRTb2Z0d2FyZQBNYXRwbG90bGliIHZlcnNpb24zLjkuMiwgaHR0cHM6Ly9tYXRwbG90bGliLm9yZy8hTgPZAAAACXBIWXMAAA9hAAAPYQGoP6dpAAAEiklEQVR4nO3dQW4TWQBF0Z/IosnEloWUZbAAL6IX24vwAthHFMUDkmaSHkAjGpJgk6pbMn3OjNkfXJVVpf/IxePj44DC5dIH4P9DbGTERkZsZMRGRmxkxEZGbGTERuZijHE1xniz9EFO8Onx8fF+6UNwutW7d+/+XK/X26UPcqzD4XB7cXHxl+DOz2q9Xm93u939ZrN5WPowP3N3d/d2v99vb25u3owxxHZmVmOMsdlsHq6vrz8ufZgjXS19AH6NFwQyYiMjNjJiIyM2MmIjIzYyYiMjNjJiIyM2MmIjIzYyYiOzGuPzPbGlD3KMczknT1sdDofb/X6/HWdyT+xwONyOMT4tfQ5OZ4NA5sJ/mUVlriebpw8/mGVdZQHFUyZfV1lA8Zy51lVn8WZLy0ddMmIjIzYyYiMjNjJiIyM2MmIjIzYyYiMjNjJiIyM2MpMPXoxSeM4sgxejFJ7iWjgZgxcyUzzZPMU4yqsHL8YtHOtVgxfjFk4xxeDFuIWj+KhLRmxkxEZGbGTERkZsZMRGRmxkxEZGbGTERkZsZMRG5lWDF+MWTvHqwYtxC8dyLZyMwQsZLwhkjvkZ9TPJJH66rrKeYiovrqusp5jSMesq6ykm4QWBjNjIiI2M2MiIjYzYyIiNjNjIiI2M2MiIjYzYyIiNzIvrKusppvTTdZX1FFNxLZyMdRWZl55snmhM6tnBi6ELU3ty8GLowhxeGrwYujApH3XJiI2M2MiIjYzYyIiNjNjIiI2M2MiIjYzYyIiNjNjIPDl4MXRhDs8OXgxdmJpr4WQMXsg892TzVGNyTw5ejF2Yww+DF2MX5vLc4MXYhcn5qEtGbGTERkZsZMRGRmxkxEZGbGTERkZsZMRGRmxkxEZGbGR+WFdZVjGXJ9dVllXMwQaBjHUVme+fbJ5ozOY/6yqrKuZ0+e+6arfb3X+J7qU/Bwm/7Ou66su/raqYjY+6ZMRGRmxkxEZGbGTERkZsZMRGRmxkxEZGbGTERkZsZJ78c0Iwh28HL4YuzMq1cDIGL2Q82cgYvJAxeCFj8ELGR10yYiMjNjJiIyM2MmIjIzYyYiMjNjJiIyM2MmIjIzYyBi9kDF7IuBZOxuCFjBcEMt/+jPoJZVZf11WWVcztcr1eb9+/fz8sq5jb5RhjXF1d/b30Qfj9eUEgIzYyYiMjNjJiIyM2MmIjIzYyYiMjNjJiIyM2MmIjcznGGPf3938sfRB+f5eHw+H2w4cPllXMzrVwMtZVZDzZyBi8kDF4IWPwQsZHXTJiIyM2MmIjIzYyYiMjNjJiIyM2MmIjIzYyYiMjNjIGL2QMXsi4Fk7G4IXM938o7Zx4Ep+Zr4OXpQ9yKgOd87Nar9fb3W53v9lsHpY+zLHu7u7e7vf77c3NzZsxhtjOxGqMMTabzcP19fXHpQ9zoqulD8BpfNQlIzYyYiMjNjJiIyM2MmIjIzYyYiMjNjJiIyM2MmIjsxrj85WdpQ9yinM7L5+tDofD7X6/344zu7JjoHN+XAsnY/BCxgsCGbGRERsZsZERGxmxkREbGbGRERuZfwDqmRfuQzEDegAAAABJRU5ErkJggg==\"></img></td>\n",
       "      <td id=\"T_38358_row25_col5\" class=\"data row25 col5\" >0<br>(0.0%)</td>\n",
       "    </tr>\n",
       "    <tr>\n",
       "      <td id=\"T_38358_row26_col0\" class=\"data row26 col0\" >27</td>\n",
       "      <td id=\"T_38358_row26_col1\" class=\"data row26 col1\" ><strong>Sales Referral</strong><br>[object]</td>\n",
       "      <td id=\"T_38358_row26_col2\" class=\"data row26 col2\" >1. Not Defined<br>2. Media Social<br>3. Database<br>4. Referensi<br>5. Pameran<br>6. WalkIn<br>7. Open Table<br>8. Rekanan<br>9. Billboard</td>\n",
       "      <td id=\"T_38358_row26_col3\" class=\"data row26 col3\" >1,742 (79.7%)<br>112 (5.1%)<br>105 (4.8%)<br>100 (4.6%)<br>62 (2.8%)<br>40 (1.8%)<br>16 (0.7%)<br>5 (0.2%)<br>4 (0.2%)</td>\n",
       "      <td id=\"T_38358_row26_col4\" class=\"data row26 col4\" ><img src = \"data:image/png;base64, iVBORw0KGgoAAAANSUhEUgAAAJsAAADPCAYAAADifqNtAAAAOXRFWHRTb2Z0d2FyZQBNYXRwbG90bGliIHZlcnNpb24zLjkuMiwgaHR0cHM6Ly9tYXRwbG90bGliLm9yZy8hTgPZAAAACXBIWXMAAA9hAAAPYQGoP6dpAAADhUlEQVR4nO3dQWrbaACG4V/GdKYbG2PIETp38CF62DmED9E7hBAvJp1u3EXTMmmbpDDWK3CfZ5eVBHkjxUJfMp3P5wGF1dInwO9DbGTERkZsZMRGRmxkxEZmGmO8HWO8WfpEyHw6n88PSxx4vd/v3282m90SB6d3Op3upmn6e4ng1pvNZnc4HB622+3H+uC07u/v/zwej7vb29s3Y4w+tjHG2G63H29ubv6pD84i3i51YB8QyIiNjNjIiI2M2MiIjYzYyIiNjNjIiI2M2MiIjYzYyKzH+PLqydInwvyW/j6vT6fT3fF43I0FXz2hczqd7sYYn5Y4ttfCfz+LvRY++VsfVH7lyrbYTwLX5dXBy5IDCa7Li4OXpQcSXJdfGbz4lMpFeKhLRmxkxEZGbGTERkZsZMRGRmxkxEZGbGTERkZsZMRG5sXBy9IDCa7Lq4OXJQcSXBevhZMxeCHjAwKZ126jbqFczIvrKssqLunZdZVlFZf22rrKsoqL8QGBjNjIiI2M2MiIjYzYyIiNjNjIiI2M2MiIjYzYyIiNzLPrKssqLu3FdZVlFZfktXAy1lVkXNnIGLyQMXghY/BCxkNdMmIjIzYyYiMjNjJiIyM2MmIjIzYyYiMjNjJiIyM2MgYvZAxeyHgtnIzBC5mfXdlczZjFD4MXIxfm8mTwYuTCnH42eDFyYRYe6pIRGxmxkREbGbGRERsZsZERGxmxkREbGbGRERsZsZERG5kn6yqLKub0w7rKooq52CCQsa4i8/2VzVWN2TxZV1lWMafV13XV4XB4eIzuuXU8/C/f1lWPX1tWMRsPdcmIjYzYyIiNjNjIiI2M2MiIjYzYyIiNjNjIiI2M2Mg8+++E4NL+O3gxdmFWXgsnY/BC5uuVbbiiMbf1fr9/P8YYhi7MbbXZbHaGLhQ8ZyMjNjJiIyM2MmIjIzYyYiMjNjJiIyM2MmIjIzYyYiMjNjJiIyM2MuvHRdUYVlXMzAaBjHUVGb+zkVlN0/TXNE3+/AKzW40x3o0x/lj6RLh+bqNkxEZGbGTERkZsZMRGRmxkxEZGbGTERkZsZMRGRmxkxEZGbGRWY4wPY4x/lz4Rrp8NAhm3UTJiI2PwQsbghYzbKBmxkREbGbGRERsZsZERGxmxkREbGbGRERsZsZERGxmxkREbGbGRsa4iY11Fxm2UjNjIiI2M2MiIjYzYyIiNzGe/WleWQVwpCgAAAABJRU5ErkJggg==\"></img></td>\n",
       "      <td id=\"T_38358_row26_col5\" class=\"data row26 col5\" >0<br>(0.0%)</td>\n",
       "    </tr>\n",
       "    <tr>\n",
       "      <td id=\"T_38358_row27_col0\" class=\"data row27 col0\" >28</td>\n",
       "      <td id=\"T_38358_row27_col1\" class=\"data row27 col1\" ><strong>Occupation</strong><br>[object]</td>\n",
       "      <td id=\"T_38358_row27_col2\" class=\"data row27 col2\" >1. Swasta<br>2. Pelajar/Mahasiswa<br>3. Mengurus Rumah Tangga<br>4. Wirausaha<br>5. PNS<br>6. Tidak/Belum Bekerja<br>7. Dokter<br>8. Pegawai BUMN<br>9. Kepolisian RI<br>10. Tentara Nasional Indonesia (TN</td>\n",
       "      <td id=\"T_38358_row27_col3\" class=\"data row27 col3\" >1,362 (62.3%)<br>392 (17.9%)<br>178 (8.1%)<br>140 (6.4%)<br>39 (1.8%)<br>26 (1.2%)<br>25 (1.1%)<br>18 (0.8%)<br>5 (0.2%)<br>1 (0.0%)</td>\n",
       "      <td id=\"T_38358_row27_col4\" class=\"data row27 col4\" ><img src = \"data:image/png;base64, iVBORw0KGgoAAAANSUhEUgAAAJsAAADnCAYAAAAJgSQ2AAAAOXRFWHRTb2Z0d2FyZQBNYXRwbG90bGliIHZlcnNpb24zLjkuMiwgaHR0cHM6Ly9tYXRwbG90bGliLm9yZy8hTgPZAAAACXBIWXMAAA9hAAAPYQGoP6dpAAAD+0lEQVR4nO3dQU4bZwCG4d8WSsPGFrLEEdodB/Ahctgewgdg2TsghBclyYYuSqK0bLDJvBMxz7Nj9wu9zDDWfLB6enoaUFjPfQCWQ2xkxEZGbGTERkZsZMRGRmxkxEZmNca4HGN8mPsgC/f16enpce5DTO1it9t92mw2V3MfZMmOx+P9arX6870Hd7HZbK72+/3jdrv9PPdhlujh4eHj4XC4uru7+zDGeN+xjTHGdrv9fH19/ffch1mwy7kPUPCAQEZsZMRGRmxkxEZGbGTERkZsZMRGRmxkxEZGbGTERuZijH9fc5n7IEu1pO/9xfF4vD8cDldjIa+5/IqOx+P9GOPr3OeYmtfCfw2LeC185a8YUZnjyraIn2JeygcvSxl38FI6eFnSuIOX5hi8eOpdKB/qkhEbGbGRERsZsZERGxmxkREbGbGRERsZsZERGxmxkUkHL0sad/BSPnhZyriDl7wWTsbghcy5VzZXJ0521uDFaIVznDx4MVrhXOcOXoxWOJkPdcmIjYzYyIiNjNjIiI2M2MiIjYzYyIiNjNjIiI2M2MiIjczJ6yoLKc511rrKQopz2CCQsa4ic8qVzdWMN3n1usqiird61brKooqf4ZR1lUUVb+JDXTJiIyM2MmIjIzYyYiMjNjJiIyM2MmIjIzYyYiMjNjKvGrwYufAzvHrwYuTCW3ktnIzBC5n/X9lcvZjMfwYvRi1Maf1t8LLf7x+foyv/HSQL8n3w8vy1UQuT8aEuGbGRERsZsZERGxmxkREbGbGRERsZsZERGxmxkREbmZP/wwuc68fBi1ELk/JaOBmDFzIeEMj8eBt1C2VS39dVllVMbb3ZbK5ubm6GZRVTW48xxuXl5Ze5D8L75wGBjNjIiI2M2MiIjYzYyIiNjNjIiI2M2MiIjYzYyIiNzHqMMR4fH3+b+yC8f+vj8Xh/e3trWcXkvBZOxrqKjCsbGYMXMgYvZAxeyPhQl4zYyIiNjNjIiI2M2MiIjYzYyIiNjNjIiI2M2MiIjYzBCxmDFzJeCydj8ELGAwKZb7fR4RbK1C52u92nMcawrGJq681mc2VZRcHvbGTERkZsZMRGRmxkxEZGbGTERkZsZMRGRmxkxEZGbGTERkZsZC6eV1VjWFYxMa+Fk7GuIuN3NjLr1Wr1x2q1+jj3QXj/1mOM38cY/tYHk3MbJSM2MmIjIzYyYiMjNjJiIyM2MmIjIzYyYiMjNjJiIyM2MmIjsx5j/DXG+DL3QXj/bBDIuI2SERsZgxcyBi9k3EbJiI2M2MiIjYzYyIiNjNjIiI2M2MiIjYzYyIiNjNjIiI2M2MiIjYx1FRnrKjJuo2TERkZsZMRGRmxkxEZGbGTERuYfOl1u0ZDsXpoAAAAASUVORK5CYII=\"></img></td>\n",
       "      <td id=\"T_38358_row27_col5\" class=\"data row27 col5\" >0<br>(0.0%)</td>\n",
       "    </tr>\n",
       "    <tr>\n",
       "      <td id=\"T_38358_row28_col0\" class=\"data row28 col0\" >29</td>\n",
       "      <td id=\"T_38358_row28_col1\" class=\"data row28 col1\" ><strong>Commercial Scheme</strong><br>[object]</td>\n",
       "      <td id=\"T_38358_row28_col2\" class=\"data row28 col2\" >1. Inhouse<br>2. SoSo<br>3. Inhouse 2023<br>4. Agent<br>5. Era Peak<br>6. Ray White<br>7. Inhouse Diamanta<br>8. Linda Property<br>9. Tripaka<br>10. Agent 2023<br>11. other</td>\n",
       "      <td id=\"T_38358_row28_col3\" class=\"data row28 col3\" >648 (29.6%)<br>374 (17.1%)<br>196 (9.0%)<br>162 (7.4%)<br>154 (7.0%)<br>119 (5.4%)<br>115 (5.3%)<br>63 (2.9%)<br>52 (2.4%)<br>46 (2.1%)<br>257 (11.8%)</td>\n",
       "      <td id=\"T_38358_row28_col4\" class=\"data row28 col4\" ><img src = \"data:image/png;base64, iVBORw0KGgoAAAANSUhEUgAAAJsAAAD+CAYAAAAtWHdlAAAAOXRFWHRTb2Z0d2FyZQBNYXRwbG90bGliIHZlcnNpb24zLjkuMiwgaHR0cHM6Ly9tYXRwbG90bGliLm9yZy8hTgPZAAAACXBIWXMAAA9hAAAPYQGoP6dpAAAEIElEQVR4nO3dQWobZwCG4V/BhGYjYQw+jA7Rw/YQuo0x1qIO2aiLpKWKja0ZaV5h/Dw7b8IsXn4xw3yZ1eFwGFD4cu0L4PMQGxmxkREbGbGRERsZsZERGxmxkVmNMb6NMb5e+0Jm+HE4HJ6vfRGc7ubu7u7P9Xp9e+0LmWq/3z+uVqu/BPdx3KzX69vtdvu82Wy+X/tiTvX09PTHbre7fXh4+DrGENsHcTPGGJvN5vv9/f3f176Yib5d+wKYxg0CGbGRERsZsZERGxmxkREbGbGRERsZsZERGxmxkREbGbGRuRnj5/th176QKT7a9fLTzX6/f9ztdrfjg70ftt/vH8cYP659HZzOBoHMyn+ZRaU+2ZxGn1i6rrKI+tyydZVFFPW66kPd8XJZHuqSERsZsZERGxmxkREbGbGRERsZsZERGxmxkREbGbGRyQYvRiqkgxcjlc/Na+FkDF7InHOyOaWYZPbgxXiFqWYNXoxXmOOcwYvxCpN4qEtGbGTERkZsZMRGRmxkxEZGbGTERkZsZMRGRmxkxEZm1uDFeIU5Zg9ejFeYymvhZAxeyLhBIDP1Z9RPJ7NNWldZVHGOk9dVFlWca+q6yqKK2dwgkBEbGbGRERsZsZERGxmxkREbGbGRERsZsZERGxmxkTl5XWVRxbkmrassqjiH18LJWFeRcbKRMXghY/BCxuCFjIe6ZMRGRmxkxEZGbGTERkZsZMRGRmxkxEZGbGTERkZsZAxeyBi8kPFaOBmDFzKnnGxOMy7i3cGLkQuX8ubgxciFSzpl8GLkwkV4qEtGbGTERkZsZMRGRmxkxEZGbGTERkZsZMRGRmxkxEZGbGTeXFdZVHFJ766rLKq4FBsEMtZVZJxsZKyryFhXkbGuIuOhLhmxkREbGbGRERsZsZERGxmxkREbGbGRERsZsZERGxmDFzIGL2S8Fk7G4IXMayebk4xFvBi8GLiwlKPBi4ELS3pt8GLgwiI81CUjNjJiIyM2MmIjIzYyYiMjNjJiIyM2MmIjIzYyYiNzNHgxcGFJLwYvBi4sxWvhZAxeyLhBIONnlIx1FRnrKjLWVWTcIJARGxmxkREbGbGRERsZsZERGxmxkREbGbGRERsZsZGxriJjXUXGa+FkrKvI/H6yOdVYzNHgxdiFJX35d/Cy3W6ff0X31ucgYbb/Bi+//jZ2YTEe6pIRGxmxkREbGbGRERsZsZERGxmxkREbGbGRERsZsZE5GrzAkv4/eDF2YVFeCydj8ELmtSnfXE5F3vTiCy9zGcvwnqMvvMz9R3wZhlO89oWXuYxleJOHumTERkZsZMRGRmxkxEZGbGTERkZsZMRGRmxkxEZGbGQuMngxmOEUL77wMpexDO/xWjgZgxcybhDIiI2M2MiIjYzYyIiNjNjIiI2M2Mj8A1fhQoMeQ+6gAAAAAElFTkSuQmCC\"></img></td>\n",
       "      <td id=\"T_38358_row28_col5\" class=\"data row28 col5\" >0<br>(0.0%)</td>\n",
       "    </tr>\n",
       "    <tr>\n",
       "      <td id=\"T_38358_row29_col0\" class=\"data row29 col0\" >30</td>\n",
       "      <td id=\"T_38358_row29_col1\" class=\"data row29 col1\" ><strong>Category</strong><br>[object]</td>\n",
       "      <td id=\"T_38358_row29_col2\" class=\"data row29 col2\" >1. Apartment</td>\n",
       "      <td id=\"T_38358_row29_col3\" class=\"data row29 col3\" >2,186 (100.0%)</td>\n",
       "      <td id=\"T_38358_row29_col4\" class=\"data row29 col4\" ><img src = \"data:image/png;base64, iVBORw0KGgoAAAANSUhEUgAAAJsAAAAXCAYAAAAcEz0vAAAAOXRFWHRTb2Z0d2FyZQBNYXRwbG90bGliIHZlcnNpb24zLjkuMiwgaHR0cHM6Ly9tYXRwbG90bGliLm9yZy8hTgPZAAAACXBIWXMAAA9hAAAPYQGoP6dpAAAAnUlEQVR4nO3bsQ0CMRBE0TlkoSPx6mTJxbgIUvovYZPjQgJqYCyZ/yqY4Ie7m6SHpLuAHyuttWet9Zg9BOsrtdZjjPGOiGv2GKwrM/ciSRFx9d7P2YOwttvsAfgfxAYbYoMNscGG2GBDbLAhNtgQG2yIDTbEBhtigw2xwYbYYENssCE22BAbbIgNNkX6nuzOHoK1Zea+tdZePLzA4QPFNA/EDSh7IQAAAABJRU5ErkJggg==\"></img></td>\n",
       "      <td id=\"T_38358_row29_col5\" class=\"data row29 col5\" >0<br>(0.0%)</td>\n",
       "    </tr>\n",
       "    <tr>\n",
       "      <td id=\"T_38358_row30_col0\" class=\"data row30 col0\" >31</td>\n",
       "      <td id=\"T_38358_row30_col1\" class=\"data row30 col1\" ><strong>Fin Scheme</strong><br>[object]</td>\n",
       "      <td id=\"T_38358_row30_col2\" class=\"data row30 col2\" >1. 60x<br>2. KPA<br>3. Tunai<br>4. 48x<br>5. 25x<br>6. 24x<br>7. 3X<br>8. 6x<br>9. 36x<br>10. 12x<br>11. other</td>\n",
       "      <td id=\"T_38358_row30_col3\" class=\"data row30 col3\" >927 (42.4%)<br>761 (34.8%)<br>207 (9.5%)<br>117 (5.4%)<br>26 (1.2%)<br>21 (1.0%)<br>18 (0.8%)<br>15 (0.7%)<br>15 (0.7%)<br>10 (0.5%)<br>69 (3.2%)</td>\n",
       "      <td id=\"T_38358_row30_col4\" class=\"data row30 col4\" ><img src = \"data:image/png;base64, iVBORw0KGgoAAAANSUhEUgAAAJsAAAD+CAYAAAAtWHdlAAAAOXRFWHRTb2Z0d2FyZQBNYXRwbG90bGliIHZlcnNpb24zLjkuMiwgaHR0cHM6Ly9tYXRwbG90bGliLm9yZy8hTgPZAAAACXBIWXMAAA9hAAAPYQGoP6dpAAAEX0lEQVR4nO3dQU4bWQBF0Q+y0mFSlmWJZWQBLCKL7UV4AdkHQtQg0JnQg0Aa9SAJwb6FinNGiFEhXX1w6b/k7OHhYUDhfOkH4P0QGxmxkREbGbGRERsZsZERGxmxkTkbY1yMMT4s/SBvwLeHh4e7pR9izTb7/f7zNE27pR9kafM835ydnf0tuNPZTNO0u7q6uttut/dLP8xSbm9vPx4Oh9319fWHMYbYTmQzxhjb7fb+8vLy69IPs7CLpR9g7XxAICM2MmIjIzYyYiMjNjJiIyM2MmIjIzYyYiMjNjJiIyM2Mpsxvt/nWvpBlvTef/7KZp7nm8PhsBvv/D7XPM83Y4xvSz/Hmtkg/McG4cTO/JNZVNZ8sjmp3pjVrquspd6eVa6rrKXepjWvq971p+u3yEtdMmIjIzYyYiMjNjJiIyM2MmIjIzYyYiMjNjJiIyM2MqscvKzt51mL1Q5eDFjeHtfCyRi8kHntyeb04Le9avBiVMJL/PHgxaiEl3rt4GVVn2A5LS91yYiNjNjIiI2M2MiIjYzYyIiNjNjIiI2M2MiIjYzYyPzx4MWohJd61eDFqISXcC2cjMELGR8QyPzOr1G/KjmKX66rLKg4lp+uqyyoOKbfWVdZUHEUPiCQERsZsZERGxmxkREbGbGRERsZsZERGxmxkREbGbGR+em6yoKKY/rlusqCimNxLZyMdRWZ5yebE4yT+jF4MWzh1M6nadp9+vRpPC6s1vhfQfJGnI8xxsXFxT9LPwjr56UuGbGRERsZsZERGxmxkREbGbGRERsZsZERGxmxkREbmfMxxri7u/tr6Qdh/c7neb758uWLYQsn51o4GYMXMk8n23CqcWqb/X7/eYwxjF04tfNpmnbGLhS8ZyMjNjJiIyM2MmIjIzYyYiMjNjJiIyM2MmIjIzYyYiMjNjJiIyM2MpvHVdUYllWcmA0CGesqMk42MtZVZKyryHj1QUZsZMRGRmxkxEZGbGTERkZsZMRGRmxkxEZGbGTERkZsZMRGxuCFjGvhZAxeyDjZyBi8kDF4IePVBxmxkREbGbGRERsZsZERGxmxkREbGbGRERsZsZERGxmxkREbGYMXMq6FkzF4IeNvNjJ+jZKxriJjXUXG32xkxEZGbGTERkZsZMRGRmxkxEZGbGTERkZsZMRGRmxkxEZGbGSsq8i4Fk7GuoqMk42MwQsZgxcyXn2QERsZsZERGxmxkREbGbGRERsZsZERGxmxkREbGbGRERsZsZExeCHjWjgZgxcyTyfb/6+Ef3PScWyb/X7/+XGD8MM8zzcGMBzbZpqm3dXV1d12u70fY4zb29uPh8Nhd319/WGMITaOZjPGGNvt9v7y8vLrs+9fLPQ8rJj3bGTERkZsZMRGRmxkxEZGbGTERkZsZMRGRmxkxEZGbGQ2Y3y/VvT0jedfwzFt5nm+ORwOu/HsWtHjCMYAhqNyLZyMwQsZHxDIiI2M2MiIjYzYyIiNjNjIiI2M2Mj8CwlnoGKmAf0KAAAAAElFTkSuQmCC\"></img></td>\n",
       "      <td id=\"T_38358_row30_col5\" class=\"data row30 col5\" >0<br>(0.0%)</td>\n",
       "    </tr>\n",
       "    <tr>\n",
       "      <td id=\"T_38358_row31_col0\" class=\"data row31 col0\" >32</td>\n",
       "      <td id=\"T_38358_row31_col1\" class=\"data row31 col1\" ><strong>Book Date</strong><br>[object]</td>\n",
       "      <td id=\"T_38358_row31_col2\" class=\"data row31 col2\" >1. 01/15/2017<br>2. 01/14/2017<br>3. 12/17/2016<br>4. 03/24/2017<br>5. 03/25/2017<br>6. 03/28/2017<br>7. 01/10/2017<br>8. 12/24/2016<br>9. 01/03/2017<br>10. 12/29/2016<br>11. other</td>\n",
       "      <td id=\"T_38358_row31_col3\" class=\"data row31 col3\" >207 (9.5%)<br>187 (8.6%)<br>185 (8.5%)<br>42 (1.9%)<br>38 (1.7%)<br>30 (1.4%)<br>26 (1.2%)<br>21 (1.0%)<br>21 (1.0%)<br>18 (0.8%)<br>1,411 (64.5%)</td>\n",
       "      <td id=\"T_38358_row31_col4\" class=\"data row31 col4\" ><img src = \"data:image/png;base64, iVBORw0KGgoAAAANSUhEUgAAAJsAAAD+CAYAAAAtWHdlAAAAOXRFWHRTb2Z0d2FyZQBNYXRwbG90bGliIHZlcnNpb24zLjkuMiwgaHR0cHM6Ly9tYXRwbG90bGliLm9yZy8hTgPZAAAACXBIWXMAAA9hAAAPYQGoP6dpAAAERklEQVR4nO3dQWobZwCG4d9CpPFmhBD4GDmADpHD9hA6QO5hjGcRudm4i9gh7aKthuh1OnmeXRYDA3kZWcP/2TfPz88DCpu3vgF+HWIjIzYyYiMjNjJiIyM2MmIjIzYyN2OM2zHGu4XXf3l+fj7/wPthxbaHw+HjNE37JRfP8/xwc3Pzu+D4L7bTNO2Px+N5t9s9XXLh4+Pj+9PptL+/v383xhAb/2o7xhi73e7p7u7u84Lrb3/w/bBiviCQERsZsZERGxmxkREbGbGRERsZsZERGxmxkREbGbGRERuZ7Rhfz6ZdeuGSa/i1bed5fjidTvux4GzaPM8PY4wvP/62WCMbBDI3fmUWlaVPNk80LrZoXWVVxRIXr6usqlhq6brKqoqLealLRmxkxEZGbGTERkZsZMRGRmxkxEZGbGTERkZsZMRG5uLBi6ELSy0avBi6sIRj4WQMXsh4spExeCFj8ELG4IWMl7pkxEZGbGTERkZsZMRGRmxkxEZGbGTERkZsZMRGRmxkDF7IGLyQcSycjMELGV8QyPz9Y9THI1fzl3WV1RTXtHldVx2Px/NLdEv/HCT8o2/rqpd/W01xNb4gkBEbGbGRERsZsZERGxmxkREbGbGRERsZsZERGxmxkbl4XQVLfb+uspriqhwLJ2NdRcaTjYzBCxmDFzIGL2S81CUjNjJiIyM2MmIjIzYyYiMjNjJiIyM2MmIjIzYyYiNj8ELG4IWMY+FkDF7IfP9k81Tjqr4NXoxduLbNNE37Dx8+DGMXrm0zxhi3t7d/vPWNsH5e6pIRGxmxkREbGbGRERsZsZERGxmxkREbGbGRERsZsZERG5nNGGOcz+ff3vpGWL/NPM8Pnz59sqzi6mwQyFhXkfFkI2NdRca6iox1FRkvdcmIjYzYyIiNjNjIiI2M2MiIjYzYyIiNjNjIiI2M2MgYvJAxeCHjWDgZgxcyr0+24anGtW0Ph8PHMcYwduHaNtM07Y1dKHjPRkZsZMRGRmxkxEZGbGTERkZsZMRGRmxkxEZGbGTERkZsZMRGZvsydBnD2IUrcyycjMELGT+zkfExSsa6iox1FRk/s5ERGxmxkREbGbGRERsZsZERGxmxkREbGbGRERsZsZERGxmxkbGuIuNYOBnrKjKebGQMXsgYvJDx6oOM2MiIjYzYyIiNjNjIiI2M2MiIjYzYyIiNjNjIiI2M2MiIjYzBCxnHwskYvJB5fbI5Ev7z+LLWT5nt4XD4+LJB4Ccwz/PDWsdH22ma9sfj8bzb7Z7e+mZ+dY+Pj+9Pp9P+/v7+3RhjfbGNMcZut3u6u7v7/NY3wxjj5QvbGnnPRkZsZMRGRmxkxEZGbGTERkZsZMRGRmxkxEZGbGTERmY7xtejLW99I6z//2E7z/PD6XTajxUfbfk/eRkgrXJ85Fj4z2e1x8INXsj4gkBGbGTERkZsZMRGRmxkxEZGbGTERuZPl0u4RXTSmRcAAAAASUVORK5CYII=\"></img></td>\n",
       "      <td id=\"T_38358_row31_col5\" class=\"data row31 col5\" >0<br>(0.0%)</td>\n",
       "    </tr>\n",
       "    <tr>\n",
       "      <td id=\"T_38358_row32_col0\" class=\"data row32 col0\" >33</td>\n",
       "      <td id=\"T_38358_row32_col1\" class=\"data row32 col1\" ><strong>Country</strong><br>[object]</td>\n",
       "      <td id=\"T_38358_row32_col2\" class=\"data row32 col2\" >1. Indonesia</td>\n",
       "      <td id=\"T_38358_row32_col3\" class=\"data row32 col3\" >2,186 (100.0%)</td>\n",
       "      <td id=\"T_38358_row32_col4\" class=\"data row32 col4\" ><img src = \"data:image/png;base64, iVBORw0KGgoAAAANSUhEUgAAAJsAAAAXCAYAAAAcEz0vAAAAOXRFWHRTb2Z0d2FyZQBNYXRwbG90bGliIHZlcnNpb24zLjkuMiwgaHR0cHM6Ly9tYXRwbG90bGliLm9yZy8hTgPZAAAACXBIWXMAAA9hAAAPYQGoP6dpAAAAnUlEQVR4nO3bsQ0CMRBE0TlkoSPx6mTJxbgIUvovYZPjQgJqYCyZ/yqY4Ie7m6SHpLuAHyuttWet9Zg9BOsrtdZjjPGOiGv2GKwrM/ciSRFx9d7P2YOwttvsAfgfxAYbYoMNscGG2GBDbLAhNtgQG2yIDTbEBhtigw2xwYbYYENssCE22BAbbIgNNkX6nuzOHoK1Zea+tdZePLzA4QPFNA/EDSh7IQAAAABJRU5ErkJggg==\"></img></td>\n",
       "      <td id=\"T_38358_row32_col5\" class=\"data row32 col5\" >0<br>(0.0%)</td>\n",
       "    </tr>\n",
       "    <tr>\n",
       "      <td id=\"T_38358_row33_col0\" class=\"data row33 col0\" >34</td>\n",
       "      <td id=\"T_38358_row33_col1\" class=\"data row33 col1\" ><strong>Province (cor)</strong><br>[object]</td>\n",
       "      <td id=\"T_38358_row33_col2\" class=\"data row33 col2\" >1. Jakarta<br>2. Banten<br>3. Jawa Barat<br>4. Jawa Tengah<br>5. Sumatera Utara<br>6. Lampung<br>7. Jawa Timur<br>8. Sumatera Selatan<br>9. Riau<br>10. Kalimantan Barat<br>11. other</td>\n",
       "      <td id=\"T_38358_row33_col3\" class=\"data row33 col3\" >968 (44.3%)<br>626 (28.6%)<br>217 (9.9%)<br>72 (3.3%)<br>66 (3.0%)<br>42 (1.9%)<br>38 (1.7%)<br>25 (1.1%)<br>20 (0.9%)<br>15 (0.7%)<br>97 (4.4%)</td>\n",
       "      <td id=\"T_38358_row33_col4\" class=\"data row33 col4\" ><img src = \"data:image/png;base64, iVBORw0KGgoAAAANSUhEUgAAAJsAAAD+CAYAAAAtWHdlAAAAOXRFWHRTb2Z0d2FyZQBNYXRwbG90bGliIHZlcnNpb24zLjkuMiwgaHR0cHM6Ly9tYXRwbG90bGliLm9yZy8hTgPZAAAACXBIWXMAAA9hAAAPYQGoP6dpAAAEfElEQVR4nO3dQU4bZwCG4R9kpWEzlmWJY+QAPkQO20P4ALkHQswipNnQRUhEg1OVwLzG9Hl2CZtR9GrMjP4vPru7uxtQOD/2BfD/ITYyYiMjNjJiIyM2MmIjIzYyYiNzNsa4GGO8O/aFvDJf7+7ubo99EW/NarvdfpymaXPsC3lN5nm+Pjs7+1NwL2s1TdNmt9vdrtfrL8e+mNfg5ubm/X6/31xdXb0bY4jtBa3GGGO9Xn+5vLz8fOyLeUUujn0Bb5EHBDJiIyM2MmIjIzYyYiMjNjJiIyM2MmIjIzYyYiMjNjJiI7Ma49sZrmNfyGvh32I5q3mer/f7/WY4w/XDPM/XY4yvx76Ot8YG4TAbhAWc+S+zqJzinc1d50Sd3LrK8ul0ndS6yvLptJ3iuspT84nyUpeM2MiIjYzYyIiNjNjIiI2M2MiIjYzYyIiNjNjIiI3MSQ1eTuU6OezkBi/GKKfLsXAyBi9knntnc5fhP3vW4MX4hKf47cGL8QlP9dzBy0k8wfI6eKlLRmxkxEZGbGTERkZsZMRGRmxkxEZGbGTERkZsZMRG5rcHL8YnPNWzBi/GJzyFY+FkDF7IeEAg86uPUR+PvLiD6yqrKZbwaF1lNcVSfrWusprixXlAICM2MmIjIzYyYiMjNjJiIyM2MmIjIzYyYiMjNjJiI/NoXWU1xVIOrquspliCY+FkrKvIuLORMXghY/BCxuCFjJe6ZMRGRmxkxEZGbGTERkZsZMRGRmxkxEZGbGTERkZsZAxeyBi8kHEsnIzBC5mf72zuaCzmH4MXQxeWdP598LLb7W7vo/vdr4OEf/Vj8HL/Z0MXFuOlLhmxkREbGbGRERsZsZERGxmxkREbGbGRERsZsZERGxmxkXm0roKlPFxXWVWxKBsEMtZVZNzZyFhXkbGuImNdRcZLXTJiIyM2MmIjIzYyYiMjNjJiIyM2MmIjIzYyYiMjNjIGL2QMXsg4Fk7G4IXMwzubuxqL+jF4MXZhaefTNG0+fPgwjF1Y2vkYY1xcXPx17Avh7fNSl4zYyIiNjNjIiI2M2MiIjYzYyIiNjNjIiI2M2MiIjcz5GGPc3t7+cewL4e07n+f5+tOnT8YuLM6xcDIGL2Q8IJD5/jE6fISytNV2u/04xhiWVSztfJqmjWUVBb+zkREbGbGRERsZsZERGxmxkREbGbGRERsZsZERGxmxkREbGbGRWd2vqsawrGJhjoWTsa4i485GxuCFjMELGa8+yIiNjNjIiI2M2MiIjYzYyIiNjNjIiI2M2MiIjYzYyIiNjNjIGLyQcSycjMELmYdflHaIL0/jxay22+3H+w3CI/M8XxvC8FJW0zRtdrvd7Xq9/vLwBzc3N+/3+/3m6urq3RhDbDzbaowx1uv1l8vLy88Hfn4RXw9vmPdsZMRGRmxkxEZGbGTERkZsZMRGRmxkxEZGbGTERkZsZFZjfDtO9PMPDv0dPMdqnufr/X6/GQeOE92PYQxheBGOhZMxeCHjAYGM2MiIjYzYyIiNjNjIiI2M2MiIjczfiB7nPmXI0uoAAAAASUVORK5CYII=\"></img></td>\n",
       "      <td id=\"T_38358_row33_col5\" class=\"data row33 col5\" >0<br>(0.0%)</td>\n",
       "    </tr>\n",
       "    <tr>\n",
       "      <td id=\"T_38358_row34_col0\" class=\"data row34 col0\" >35</td>\n",
       "      <td id=\"T_38358_row34_col1\" class=\"data row34 col1\" ><strong>City (cor)</strong><br>[object]</td>\n",
       "      <td id=\"T_38358_row34_col2\" class=\"data row34 col2\" >1. Jakarta Barat (Kota)<br>2. Tangerang Selatan<br>3. Jakarta Selatan (Kota)<br>4. Tangerang (Kabupaten)<br>5. Jakarta Utara (Kota)<br>6. Tangerang (Kota)<br>7. Jakarta Pusat (Kota)<br>8. Jakarta Timur (Kota)<br>9. Medan (Kota)<br>10. Bekasi (Kota)<br>11. other</td>\n",
       "      <td id=\"T_38358_row34_col3\" class=\"data row34 col3\" >387 (17.7%)<br>307 (14.0%)<br>190 (8.7%)<br>190 (8.7%)<br>173 (7.9%)<br>111 (5.1%)<br>107 (4.9%)<br>107 (4.9%)<br>51 (2.3%)<br>38 (1.7%)<br>525 (24.0%)</td>\n",
       "      <td id=\"T_38358_row34_col4\" class=\"data row34 col4\" ><img src = \"data:image/png;base64, iVBORw0KGgoAAAANSUhEUgAAAJsAAAD+CAYAAAAtWHdlAAAAOXRFWHRTb2Z0d2FyZQBNYXRwbG90bGliIHZlcnNpb24zLjkuMiwgaHR0cHM6Ly9tYXRwbG90bGliLm9yZy8hTgPZAAAACXBIWXMAAA9hAAAPYQGoP6dpAAAEIElEQVR4nO3dQWobWQBF0a8gQmciYQxejBaRxfYitBtjrEE7ZKIeJB1atnCsiupayOfMMioNLt9UUS+12O/3Awqf3vsH8HGIjYzYyIiNjNjIiI2M2MiIjYzYyCzGGF/GGJ+j633f7/dP0bW4MMvb29uvq9XqprjYbrd7WCwWfwvuY1quVqubzWbztF6vv815ocfHx7+22+3N/f395zGG2D6g5RhjrNfrb3d3d/8E1/sSXIML5QaBjNjIiI2M2MiIjYzYyIiNjNjIiI2M2MiIjYzYyIiNjNjILMf48a7Z3BcqrsFlW+52u4ftdnszgnfNdrvdwxjj+9zX4TLZIJBZ+C+zqMx5sjnFODDbusqSiudmWVdZUnHMnOsqSyoOeKhLRmxkxEZGbGTERkZsZMRGRmxkxEZGbGTERkZsZMRGZpbBi3ELx8w2eDFu4TmvhZMxeCEz9WRzanGySYMXYxamOHnwYszCVFMHL8YsnMxDXTJiIyM2MmIjIzYyYiMjNjJiIyM2MmIjIzYyYiMjNjInD16MWZhq0uDFmIUpvBZOxuCFjBsEMv6MkrGuImNdRca6iowbBDJiIyM2MmIjIzYyYiMjNjJiIyM2MmIjIzYyYiMjNjLWVWSsq8h4LZyMdRWZKSebU41JTh68GLsw1UmDF2MX/sSUwYuxC5N4qEtGbGTERkZsZMRGRmxkxEZGbGTERkZsZMRGRmxkxEbmpMGLsQt/4uTBi7ELU3ktnIzBC5m3nGxOMs7it4MXAxfO5dXBi4EL5/SWwYuBC2fhoS4ZsZERGxmxkREbGbGRERsZsZERGxmxkREbGbGRERsZsZF5dV1lTcU5/XZdZU3FudggkLGuIuNkI2NdRca6iox1FRkPdcmIjYzYyIiNjNjIiI2M2MiIjYzYyIiNjNjIiI2M2MgYvJAxeCHjtXAyBi9knGxkDF7IGLyQMXgh46EuGbGRERsZsZERGxmxkREbGbGRERsZsZERGxmxkREbGYMXMgYvZLwWTsbghYwbBDLH/oz6s8ksXqyrrKmYy8G6ypqKOR1bV1lTMQs3CGTERkZsZMRGRmxkxEZGbGTERkZsZMRGRmxkxEZGbGQO1lXWVMzpxbrKmoq5eC2cjHUVmecnm1ON2RwMXoxdmNOn/wYvm83m6Wd0r63jYbJfg5ef/zZ2YTYe6pIRGxmxkREbGbGRERsZsZERGxmxkREbGbGRERsZsZF59XNCcE7/H7wYuzArr4WTMXgh85YPpb0HJ+wVevGFl0tgeHOdDr7w8t4/Zowfd8a+MnOdjn3h5RIY3lwhD3XJiI2M2MiIjYzYyIiNjNjIiI2M2MiIjYzYyIiNjNjIXNzg5ZJ+C+f14gsvl8Dw5jp5LZyMwQsZNwhkxEZGbGTERkZsZMRGRmxkxEZGbGT+BcwWQoOonUojAAAAAElFTkSuQmCC\"></img></td>\n",
       "      <td id=\"T_38358_row34_col5\" class=\"data row34 col5\" >0<br>(0.0%)</td>\n",
       "    </tr>\n",
       "    <tr>\n",
       "      <td id=\"T_38358_row35_col0\" class=\"data row35 col0\" >36</td>\n",
       "      <td id=\"T_38358_row35_col1\" class=\"data row35 col1\" ><strong>Detail</strong><br>[object]</td>\n",
       "      <td id=\"T_38358_row35_col2\" class=\"data row35 col2\" >1. not defined</td>\n",
       "      <td id=\"T_38358_row35_col3\" class=\"data row35 col3\" >2,186 (100.0%)</td>\n",
       "      <td id=\"T_38358_row35_col4\" class=\"data row35 col4\" ><img src = \"data:image/png;base64, iVBORw0KGgoAAAANSUhEUgAAAJsAAAAXCAYAAAAcEz0vAAAAOXRFWHRTb2Z0d2FyZQBNYXRwbG90bGliIHZlcnNpb24zLjkuMiwgaHR0cHM6Ly9tYXRwbG90bGliLm9yZy8hTgPZAAAACXBIWXMAAA9hAAAPYQGoP6dpAAAAnUlEQVR4nO3bsQ0CMRBE0TlkoSPx6mTJxbgIUvovYZPjQgJqYCyZ/yqY4Ie7m6SHpLuAHyuttWet9Zg9BOsrtdZjjPGOiGv2GKwrM/ciSRFx9d7P2YOwttvsAfgfxAYbYoMNscGG2GBDbLAhNtgQG2yIDTbEBhtigw2xwYbYYENssCE22BAbbIgNNkX6nuzOHoK1Zea+tdZePLzA4QPFNA/EDSh7IQAAAABJRU5ErkJggg==\"></img></td>\n",
       "      <td id=\"T_38358_row35_col5\" class=\"data row35 col5\" >0<br>(0.0%)</td>\n",
       "    </tr>\n",
       "    <tr>\n",
       "      <td id=\"T_38358_row36_col0\" class=\"data row36 col0\" >37</td>\n",
       "      <td id=\"T_38358_row36_col1\" class=\"data row36 col1\" ><strong>Unique ID</strong><br>[object]</td>\n",
       "      <td id=\"T_38358_row36_col2\" class=\"data row36 col2\" >1. CA-C2103<br>2. CA-C1510<br>3. CA-C1512<br>4. CA-B1502<br>5. CA-A1517<br>6. CA-B1203<br>7. CA-C1501<br>8. CA-A0705<br>9. CA-A1512<br>10. CA-A0717<br>11. other</td>\n",
       "      <td id=\"T_38358_row36_col3\" class=\"data row36 col3\" >1 (0.0%)<br>1 (0.0%)<br>1 (0.0%)<br>1 (0.0%)<br>1 (0.0%)<br>1 (0.0%)<br>1 (0.0%)<br>1 (0.0%)<br>1 (0.0%)<br>1 (0.0%)<br>2,176 (99.5%)</td>\n",
       "      <td id=\"T_38358_row36_col4\" class=\"data row36 col4\" ><img src = \"data:image/png;base64, iVBORw0KGgoAAAANSUhEUgAAAJsAAAD+CAYAAAAtWHdlAAAAOXRFWHRTb2Z0d2FyZQBNYXRwbG90bGliIHZlcnNpb24zLjkuMiwgaHR0cHM6Ly9tYXRwbG90bGliLm9yZy8hTgPZAAAACXBIWXMAAA9hAAAPYQGoP6dpAAADQklEQVR4nO3cwWkbYRRG0TdCJPZGQghUQtKDisg2HauINGGkReJ44yyCS8gdmJxTwb+48BDMp+X9/X2gsFv7Afw/xEZGbGTERkZsZMRGRmxkxEZGbGTERma3LMvXZVme1n4I27ebmS8z83nth7B9zigZsZERGxmxkREbGbGRERsZsZERGxmxkREbGbGRERsZsZERGxmxkdnNzI+Z+b32Q9i+xb8YUXFGyYiNjHUVGesqMs4oGbGRERsZsZERGxmxkREbGbGRERsZsZERGxmxkREbGbGRERsZgxcyBi9knFEyYiNj8ELG4IWMM0pGbGTERkZsZMRGRmxkxEZGbGTERkZsZMRGRmxkxEZGbGTERsbghYzBCxlnlIzYyIiNjHUVGesqMs4oGbGRERsZsZERGxmxkREbGbGRERsZsZERGxmxkREbGbGRERsZ6yoy1lVknFEyYiNj8ELG4IWMM0pGbGTERkZsZMRGRmxkxEZGbGTERkZsZMRGRmxkxEZGbGTERsbghYzBCxlnlIzYyBi8kDF4IeOMkhEbGbGRERsZsZERGxmxkREbGbGRERsZsZERGxmxkREbGbGRERsZ6yoy1lVknFEyYiNjXUXGuoqMM0pGbGTERkZsZMRGRmxkxEZGbGTERkZsZMRGRmxkxEZGbGTERsbghYzBCxlnlIzYyBi8kDF4IeOMkhEbGbGRERsZsZERGxmxkREbGbGRERsZsZERGxmxkREbGbGRMXghY/BCxhklIzYyYiNjXUXGuoqMM0pGbGTERkZsZMRGRmxkxEZGbGTERkZsZMRGRmxkxEZGbGTERsa6iox1FRlnlIzYyBi8kDF4IeOMkhEbGbGRERsZsZERGxmxkREbGbGRERsZsZERGxmxkREbGbGRMXghY/BCxhkls8zM88x8WvshbN7b/nw+fzscDqe1X8K2PR6Pl/3hcDhdr9dfx+Pxde0HsU33+/3pdrud9jMzx+Px9XK5/Fz7UWzasx8IZMRGRmxkxEZGbGTERkZsZMRGRmxkxEZGbGTERkZsZPYzfz8BWfshbNdHX8v5fP7u40n+tcfj8eKzcCpv1lVk/EAgIzYyYiMjNjJiIyM2MmIjIzYyYiPzB0WpV2yec8bJAAAAAElFTkSuQmCC\"></img></td>\n",
       "      <td id=\"T_38358_row36_col5\" class=\"data row36 col5\" >0<br>(0.0%)</td>\n",
       "    </tr>\n",
       "    <tr>\n",
       "      <td id=\"T_38358_row37_col0\" class=\"data row37 col0\" >38</td>\n",
       "      <td id=\"T_38358_row37_col1\" class=\"data row37 col1\" ><strong>Block/Floor</strong><br>[object]</td>\n",
       "      <td id=\"T_38358_row37_col2\" class=\"data row37 col2\" >1. BE17<br>2. BE15<br>3. BE25<br>4. BE11<br>5. BE09<br>6. BE06<br>7. BE20<br>8. BE19<br>9. BE27<br>10. BE16<br>11. other</td>\n",
       "      <td id=\"T_38358_row37_col3\" class=\"data row37 col3\" >31 (1.4%)<br>31 (1.4%)<br>31 (1.4%)<br>31 (1.4%)<br>31 (1.4%)<br>30 (1.4%)<br>30 (1.4%)<br>30 (1.4%)<br>30 (1.4%)<br>30 (1.4%)<br>1,881 (86.0%)</td>\n",
       "      <td id=\"T_38358_row37_col4\" class=\"data row37 col4\" ><img src = \"data:image/png;base64, iVBORw0KGgoAAAANSUhEUgAAAJsAAAD+CAYAAAAtWHdlAAAAOXRFWHRTb2Z0d2FyZQBNYXRwbG90bGliIHZlcnNpb24zLjkuMiwgaHR0cHM6Ly9tYXRwbG90bGliLm9yZy8hTgPZAAAACXBIWXMAAA9hAAAPYQGoP6dpAAADpUlEQVR4nO3cwW0bVxhG0Z+E4ISbIQgBKkMFqIgU6yJYgPoQBM0idLxhFoaDLLLUXFrKOQUQs7h4wgzep931eh0o7G/9APx/iI2M2MiIjYzYyIiNjNjIiI2M2MjsZuYwM19m5vv1er3c+Hn4xO7u7+//WJbltK7r6263+yo4trJfluX0+Pg4y7Kc5scJB5vYz8wcDoe/bv0gfH5eEMiIjYzYyIiNjNjIiI2M2MiIjYzYyIiNjNjIiI2M2MiIjcx+ZuZyufx26wfh89uv6/r6/Pw867q+zsz3Wz8Qn5cNApmdf5lFxclGxrqKjHUVGesqMj7qkhEbGbGRERsZsZERGxmxkREbGbGRERsZsZERGxmxkTF4IWPwQsa1cDIGL2ScbGQMXsgYvJAxeCHjoy4ZsZERGxmxkREbGbGRERsZsZERGxmxkREbGbGRERsZgxcyBi9kXAsnY/BCxgsCGX9GyVhXkbGuImNdRcYLAhmxkREbGbGRERsZsZERGxmxkREbGbGRERsZsZERGxnrKjLWVWRcCydjXUXGyUbG4IWMwQsZgxcyPuqSERsZsZERGxmxkREbGbGRERsZsZERGxmxkREbGbGRMXghY/BCxrVwMgYvZJxsZAxeyBi8kDF4IeOjLhmxkREbGbGRERsZsZERGxmxkREbGbGRERsZsZERGxmxkbGuImNdRcYGgYx1FRknGxnrKjLWVWSsq8j4qEtGbGTERkZsZMRGRmxkxEZGbGTERkZsZMRGRmxkxEbG4IWMwQsZ18LJGLyQcbKRMXghY/BCxuCFjI+6ZMRGRmxkxEZGbGTERkZsZMRGRmxkxEZGbGTERkZsZAxeyBi8kHEtnIzBCxkvCGT8GSVjXUXGuoqMdRUZLwhkxEZGbGTERkZsZMRGRmxkxEZGbGTERkZsZMRGRmxkrKvIWFeRcS2cjHUVGScbGYMXMgYvZAxeyPioS0ZsZMRGRmxkxEZGbGTERkZsZMRGRmxkxEZGbGTERsbghYzBCxnXwskYvJD598kGP23yV+6fwct7/zAf11bjp7tlWU5PT0+X4/H47T1/mI/p7e3t9/P5fHp5efkyM+8b28zM8Xj89vDw8Od7/jAf2mGLH/VRl4zYyIiNjNjIiI2M2MiIjYzYyIiNjNjIiI2M2MiIjczdzI9rJbd+EH4NW7Zwt67r6/l8Ps1G10r4eLYaP7kWzn/Z5Fq4wQsZLwhkxEZGbGTERkZsZMRGRmxkxEZGbGT+Bkbyt8VZiRi9AAAAAElFTkSuQmCC\"></img></td>\n",
       "      <td id=\"T_38358_row37_col5\" class=\"data row37 col5\" >0<br>(0.0%)</td>\n",
       "    </tr>\n",
       "    <tr>\n",
       "      <td id=\"T_38358_row38_col0\" class=\"data row38 col0\" >39</td>\n",
       "      <td id=\"T_38358_row38_col1\" class=\"data row38 col1\" ><strong>Facing</strong><br>[object]</td>\n",
       "      <td id=\"T_38358_row38_col2\" class=\"data row38 col2\" >1. Not Defined</td>\n",
       "      <td id=\"T_38358_row38_col3\" class=\"data row38 col3\" >2,186 (100.0%)</td>\n",
       "      <td id=\"T_38358_row38_col4\" class=\"data row38 col4\" ><img src = \"data:image/png;base64, iVBORw0KGgoAAAANSUhEUgAAAJsAAAAXCAYAAAAcEz0vAAAAOXRFWHRTb2Z0d2FyZQBNYXRwbG90bGliIHZlcnNpb24zLjkuMiwgaHR0cHM6Ly9tYXRwbG90bGliLm9yZy8hTgPZAAAACXBIWXMAAA9hAAAPYQGoP6dpAAAAnUlEQVR4nO3bsQ0CMRBE0TlkoSPx6mTJxbgIUvovYZPjQgJqYCyZ/yqY4Ie7m6SHpLuAHyuttWet9Zg9BOsrtdZjjPGOiGv2GKwrM/ciSRFx9d7P2YOwttvsAfgfxAYbYoMNscGG2GBDbLAhNtgQG2yIDTbEBhtigw2xwYbYYENssCE22BAbbIgNNkX6nuzOHoK1Zea+tdZePLzA4QPFNA/EDSh7IQAAAABJRU5ErkJggg==\"></img></td>\n",
       "      <td id=\"T_38358_row38_col5\" class=\"data row38 col5\" >0<br>(0.0%)</td>\n",
       "    </tr>\n",
       "    <tr>\n",
       "      <td id=\"T_38358_row39_col0\" class=\"data row39 col0\" >40</td>\n",
       "      <td id=\"T_38358_row39_col1\" class=\"data row39 col1\" ><strong>Cancel Type</strong><br>[object]</td>\n",
       "      <td id=\"T_38358_row39_col2\" class=\"data row39 col2\" >1. Not Defined</td>\n",
       "      <td id=\"T_38358_row39_col3\" class=\"data row39 col3\" >2,186 (100.0%)</td>\n",
       "      <td id=\"T_38358_row39_col4\" class=\"data row39 col4\" ><img src = \"data:image/png;base64, iVBORw0KGgoAAAANSUhEUgAAAJsAAAAXCAYAAAAcEz0vAAAAOXRFWHRTb2Z0d2FyZQBNYXRwbG90bGliIHZlcnNpb24zLjkuMiwgaHR0cHM6Ly9tYXRwbG90bGliLm9yZy8hTgPZAAAACXBIWXMAAA9hAAAPYQGoP6dpAAAAnUlEQVR4nO3bsQ0CMRBE0TlkoSPx6mTJxbgIUvovYZPjQgJqYCyZ/yqY4Ie7m6SHpLuAHyuttWet9Zg9BOsrtdZjjPGOiGv2GKwrM/ciSRFx9d7P2YOwttvsAfgfxAYbYoMNscGG2GBDbLAhNtgQG2yIDTbEBhtigw2xwYbYYENssCE22BAbbIgNNkX6nuzOHoK1Zea+tdZePLzA4QPFNA/EDSh7IQAAAABJRU5ErkJggg==\"></img></td>\n",
       "      <td id=\"T_38358_row39_col5\" class=\"data row39 col5\" >0<br>(0.0%)</td>\n",
       "    </tr>\n",
       "    <tr>\n",
       "      <td id=\"T_38358_row40_col0\" class=\"data row40 col0\" >41</td>\n",
       "      <td id=\"T_38358_row40_col1\" class=\"data row40 col1\" ><strong>Deal Closer</strong><br>[object]</td>\n",
       "      <td id=\"T_38358_row40_col2\" class=\"data row40 col2\" >1. Lilis [LP16110342]<br>2. ERA PEAK [EP16110113]<br>3. Tini [IN16120063]<br>4. Liberty Sitorus [IN16110005]<br>5. Ahmad Zaenuri [IN16110038]<br>6. 99.co [SO16120177]<br>7. Proven Property [AGT23050014]<br>8. Ahmad Saefi [IN16120382]<br>9. Yogi Yu [IN17030059]<br>10. Dedy Hartono [IN17010618]<br>11. other</td>\n",
       "      <td id=\"T_38358_row40_col3\" class=\"data row40 col3\" >63 (2.9%)<br>45 (2.1%)<br>38 (1.7%)<br>37 (1.7%)<br>34 (1.6%)<br>34 (1.6%)<br>33 (1.5%)<br>32 (1.5%)<br>31 (1.4%)<br>28 (1.3%)<br>1,811 (82.8%)</td>\n",
       "      <td id=\"T_38358_row40_col4\" class=\"data row40 col4\" ><img src = \"data:image/png;base64, iVBORw0KGgoAAAANSUhEUgAAAJsAAAD+CAYAAAAtWHdlAAAAOXRFWHRTb2Z0d2FyZQBNYXRwbG90bGliIHZlcnNpb24zLjkuMiwgaHR0cHM6Ly9tYXRwbG90bGliLm9yZy8hTgPZAAAACXBIWXMAAA9hAAAPYQGoP6dpAAAEA0lEQVR4nO3cQWobZwCG4V9GuNFGQhh0DB9Ah8hhe4g5gO8hjGYRudmoizrG6aZQMq+M8zybEEPQQF5GzPB/Xl2v1wGFu1tfAL8PsZERGxmxkREbGbGRERsZsZERG5nVGGMzxrh/97Pv1+v1cqPr4RNbPzw8fN1ut/sfP5jn+Xm1Wv0pOH619Xa73R+Px8tut3s5n89fpmnan06n+zGG2Pil1mOMsdvtXg6Hw7fXn21ueD18Yh4QyIiNjNjIiI2M2MiIjYzYyIiNjNjIiI2M2MiIjYzYyIiNzHqMMc7n85f3f8IS1vM8P0/TtB+v59jmeX4eY3y/7WXxGdkgkFn5lVlU/n1nc1djMT+tqyyrWNLdj3XV8Xi8vEZ3/5//Cv6Ht3XV698tq1iMl7pkxEZGbGTERkZsZMRGRmxkxEZGbGTERkZsZMRGRmxkfhq8wJLeD16MXViUY+FkDF7IuLORMXghY/BCxuCFjJe6ZMRGRmxkxEZGbGTERkZsZMRGRmxkxEZGbGTERkZsZAxeyBi8kHEsnIzBCxkPCGR8jZKxriJjXUXGuoqMBwQyYiMjNjJiIyM2MmIjIzYyYiMjNjJiIyM2MmIjIzYy1lVkrKvIOBZOxrqKzPs7m7sai3obvBi7sLS77Xa7f3x8HMYuLO1ujDE2m81ft74QPj8vdcmIjYzYyIiNjNjIiI2M2MiIjYzYyIiNjNjIiI2M2MjcjTHG5XL549YXwud3N8/z89PTk7ELi3MsnIzBCxl3NjIGL2QMXsgYvJDxUpeM2MiIjYzYyIiNjNjIiI2M2MiIjYzYyIiNjNjIiI2M2MhYV5GxriJjg0DGuoqMOxsZ6yoy1lVkrKvIeKlLRmxkxEZGbGTERkZsZMRGRmxkxEZGbGTERkZsZMRGxuCFjMELGcfCyRi8kHFnI2PwQsbghYzBCxkvdcmIjYzYyIiNjNjIiI2M2MiIjYzYyIiNjNjIiI2M2MgYvJAxeCHjWDgZgxcyHhDI+BolY11FxrqKjHUVGQ8IZMRGRmxkxEZGbGTERkZsZMRGRmxkxEZGbGTERkZsZKyryFhXkXEsnIx1FRl3NjIGL2QMXsgYvJDxUpeM2MiIjYzYyIiNjNjIiI2M2MiIjYzYyIiNjNjIiI2MwQsZgxcyjoWTMXgh8/7Oxu8p+0Z7G7wUH8bHUw6d1tvtdn88Hi+73e5l6Q/jYzmfz1+madqfTqf7McbysY0xxm63ezkcDt+W/jA+pE31QV7qkhEbGbGRERsZsZERGxmxkREbGbGRERsZsZERGxmxkVmP8c9Rk1tfCL36/309z/PzNE37ER414eMoh06OhZMdCzd4IeMBgYzYyIiNjNjIiI2M2MiIjYzYyIiNzN9whc8UsnTuLgAAAABJRU5ErkJggg==\"></img></td>\n",
       "      <td id=\"T_38358_row40_col5\" class=\"data row40 col5\" >0<br>(0.0%)</td>\n",
       "    </tr>\n",
       "    <tr>\n",
       "      <td id=\"T_38358_row41_col0\" class=\"data row41 col0\" >42</td>\n",
       "      <td id=\"T_38358_row41_col1\" class=\"data row41 col1\" ><strong>Booking Term</strong><br>[object]</td>\n",
       "      <td id=\"T_38358_row41_col2\" class=\"data row41 col2\" >1. Tunai Bertahap - 60x<br>2. KPA DP 20% (24x)<br>3. KPA FF<br>4. Tunai Bertahap - 48x<br>5. KPA SF + AC<br>6. KPA DP 0% FFF<br>7. Cash Keras<br>8. KPA DP 0% NF<br>9. Tunai Bertahap 3X NF<br>10. Tunai Bertahap 3X FFF<br>11. other</td>\n",
       "      <td id=\"T_38358_row41_col3\" class=\"data row41 col3\" >817 (37.4%)<br>646 (29.6%)<br>101 (4.6%)<br>83 (3.8%)<br>81 (3.7%)<br>68 (3.1%)<br>64 (2.9%)<br>46 (2.1%)<br>33 (1.5%)<br>24 (1.1%)<br>223 (10.2%)</td>\n",
       "      <td id=\"T_38358_row41_col4\" class=\"data row41 col4\" ><img src = \"data:image/png;base64, iVBORw0KGgoAAAANSUhEUgAAAJsAAAD+CAYAAAAtWHdlAAAAOXRFWHRTb2Z0d2FyZQBNYXRwbG90bGliIHZlcnNpb24zLjkuMiwgaHR0cHM6Ly9tYXRwbG90bGliLm9yZy8hTgPZAAAACXBIWXMAAA9hAAAPYQGoP6dpAAAEdUlEQVR4nO3dQU4bZwCG4R9kpWFjy4rEMXIAH6KH7SF8gNwDIWYR02zoImmUJkBS6nndMc+zY2E0kV6NNaP/CxcPDw8DCpenvgBeD7GRERsZsZERGxmxkREbGbGRERuZizHG1RjjzakvJPDp4eHhcOqLeM1W7969+329Xm9PfSFzm6bp9uLi4g/Bnc5qvV5vd7vdYbPZ3J/6YuZyd3f3dr/fb29ubt6MMcR2IqsxxthsNvfX19cfT30xM7s69QW8dh4QyIiNjNjIiI2M2MiIjYzYyIiNjNjIiI2M2MiIjYzYyIiNzGqMz+e9Tn0hczr3f99SrKZput3v99tx5ue9pmm6HWN8OvV1vGY2CGQu/JdZVJZ8Z3OnWpjFrquspZZnkesqa6llWvK66qyfns+Rl7pkxEZGbGTERkZsZMRGRmxkxEZGbGTERkZsZMRGRmxkFjl4Wdr18tliBy8GLMvjWDgZgxcyP7uzuXtwNM8OXoxKOKYnBy9GJRzbzwYvi3pC5f/NS10yYiMjNjJiIyM2MmIjIzYyYiMjNjJiIyM2MmIjIzYyTw5ejEo4tmcHL0YlHJNj4WQMXsh4QCDz3Neor1CO6sl1lWUVx/bousqyijk8t66yrOKoPCCQERsZsZERGxmxkREbGbGRERsZsZERGxmxkREbGbGReXRdZVnFHJ5cV1lWcWyOhZOxriLjzkbG4IWMwQsZgxcyXuqSERsZsZERGxmxkREbGbGRERsZsZERGxmxkREbGbGRMXghY/BCxrFwMgYvZJ66s7mrcXSPDl6MXZjDD4MXYxfm8tTgxdiFo/NSl4zYyIiNjNjIiI2M2MiIjYzYyIiNjNjIiI2M2MiIjYzYyPywrrKsYi6Prqssq5iDDQIZ6yoy7mxkrKvIWFeRsa4i46UuGbGRERsZsZERGxmxkREbGbGRERsZsZERGxmxkREbGYMXMgYvZBwLJ2PwQub7O5s7GrP5x+DF0IU5Xf49eNntdocv0T325yDhP/s6ePnys6ELs/FSl4zYyIiNjNjIiI2M2MiIjYzYyIiNjNjIiI2M2MiIjcwPgxeYy7eDF0MXZuVYOBmDFzIeEMh8+zXqK5RZfV1XWVYxt8v1er19//79sKxibpdjjHF1dfXnqS+E8+cBgYzYyIiNjNjIiI2M2MiIjYzYyIiNjNjIiI2M2MiIjczlGGMcDoffTn0hnL/LaZpuP3z4YFnF7BwLJ2NdRcadjYzBCxmDFzIGL2S81CUjNjJiIyM2MmIjIzYyYiMjNjJiIyM2MmIjIzYyYiNj8ELG4IWMY+FkDF7IfP+H0l7CHZFf8nXw8tJfYCjDr1qt1+vtbrc7bDab+3/74bu7u7f7/X57c3PzZowhNp61GmOMzWZzf319/fGFv+PqiNfDGfNSl4zYyIiNjNjIiI2M2MiIjYzYyIiNjNjIiI2M2MiIjcxqjM9HhV7y4Zd+jtdpNU3T7X6/344XHhUylOFXORZOxuCFjAcEMmIjIzYyYiMjNjJiIyM2MmIjIzYyfwHcxCRNpLrASgAAAABJRU5ErkJggg==\"></img></td>\n",
       "      <td id=\"T_38358_row41_col5\" class=\"data row41 col5\" >0<br>(0.0%)</td>\n",
       "    </tr>\n",
       "    <tr>\n",
       "      <td id=\"T_38358_row42_col0\" class=\"data row42 col0\" >43</td>\n",
       "      <td id=\"T_38358_row42_col1\" class=\"data row42 col1\" ><strong>Booking Term Price Scheme</strong><br>[object]</td>\n",
       "      <td id=\"T_38358_row42_col2\" class=\"data row42 col2\" >1. Update - 48x<br>2. Update - Baloon<br>3. Bellarosa - 48x<br>4. Bellarosa - Baloon<br>5. CA-BE-KPA FF-Nov23<br>6. CA-BE-KPA SF+AC-Jun23<br>7. Update - Tunai<br>8. BE-KPA (Agustus)<br>9. CA-KPA DP 0% FFF-Jan21<br>10. CA-KPA DP 0% NF-Mar22<br>11. other</td>\n",
       "      <td id=\"T_38358_row42_col3\" class=\"data row42 col3\" >617 (28.2%)<br>357 (16.3%)<br>262 (12.0%)<br>182 (8.3%)<br>88 (4.0%)<br>42 (1.9%)<br>42 (1.9%)<br>34 (1.6%)<br>32 (1.5%)<br>28 (1.3%)<br>502 (23.0%)</td>\n",
       "      <td id=\"T_38358_row42_col4\" class=\"data row42 col4\" ><img src = \"data:image/png;base64, iVBORw0KGgoAAAANSUhEUgAAAJsAAAD+CAYAAAAtWHdlAAAAOXRFWHRTb2Z0d2FyZQBNYXRwbG90bGliIHZlcnNpb24zLjkuMiwgaHR0cHM6Ly9tYXRwbG90bGliLm9yZy8hTgPZAAAACXBIWXMAAA9hAAAPYQGoP6dpAAAEbUlEQVR4nO3dQW4TWQBF0Z/IosnEloWUZbAAL4LF9iK8APYRRakBTjNJDyAIWiRgy3WLpM+ZMfuDq29VqR65eHh4GFC4XPoA/H+IjYzYyIiNjNjIiI2M2MiIjYzYyFyMMa7GGG+WPsgRPj88PByWPgTHW7179+7Der3eLn2Q3zVN0+3FxcXfgnt5Vuv1ervb7Q6bzeZ+6cP8yt3d3dv9fr+9ubl5M8YQ2wuzGmOMzWZzf319/Wnpw/ymq6UPwGk8IJARGxmxkREbGbGRERsZsZERGxmxkREbGbGRERsZsZERG5nVGF++E1v6IL/jpZyTn1tN03S73++344V8JzZN0+0Y4/PS5+B4NghkLvyXWVSqm81tRLOusohijGBdZRHFo2pd9SKedJmXl7pkxEZGbGTERkZsZMRGRmxkxEZGbGTERkZsZMRGRmxkZh+8GKnwKBm8GKkwhs/CCRm8kDn3zeYG40lnHbwYtvCcsw1eDFv4lXMPXgxbeJKXumTERkZsZMRGRmxkxEZGbGTERkZsZMRGRmxkxEZGbGTONngxbOFXzjp4MWzhOT4LJ2PwQsYDAplTf0b9XHK0k9ZVVlSc4uh1lRUVpzp1XWVFxdE8IJARGxmxkREbGbGRERsZsZERGxmxkREbGbGRERsZsZE5el1lRcWpTlpXWVFxCp+Fk7GuIvPczeb24qyeHLwYtXBuPx28GLUwh+cGL0YtnJWXumTERkZsZMRGRmxkxEZGbGTERkZsZMRGRmxkxEZGbGR+OngxamEOTw5ejFo4N5+FkzF4IfPfm81txmx+GLwYuTCny8fBy263O3yN7lx/DhJ+8G3w8vXfRi7MxktdMmIjIzYyYiMjNjJiIyM2MmIjIzYyYiMjNjJiIyM2MmIjc/SfE4JTfb+usqhiVjYIZKyryLjZyFhXkbGuImNdRcZLXTJiIyM2MmIjIzYyYiMjNjJiIyM2MmIjIzYyYiMjNjIGL2QMXsj4LJyMwQuZ7282txqz+jZ4MXZhbpfr9Xr7/v37YezC3C7HGOPq6uqfpQ/C6+elLhmxkREbGbGRERsZsZERGxmxkREbGbGRERsZsZERG5nLMcY4HA5/LX0QXr/LaZpuP378aOzC7HwWTsbghYwHBDJ+RslYV5GxriJjXUXGAwIZsZERGxmxkREbGbGRERsZsZERGxmxkREbGbGRERsZ6yoy1lVkfBZOxrqKjJuNjMELGYMXMgYvZLzUJSM2MmIjIzYyYiMjNjJiIyM2MmIjIzYyYiMjNjJiI2PwQsbghYzPwskYvJD5/mb7U7hhX6lvg5elD/LI8Ob1Wq3X6+1utztsNpv7pQ9zd3f3dr/fb29ubt6MMcT2yqzGGGOz2dxfX19/WvowX10tfQDm4aUuGbGRERsZsZERGxmxkREbGbGRERsZsZERGxmxkREbmdUYXz7tWfogY/w552Aeq2mabvf7/Xb8IZ/2GN68Xj4LJ2PwQsYDAhmxkREbGbGRERsZsZERGxmxkREbmX8BRboI044W6U8AAAAASUVORK5CYII=\"></img></td>\n",
       "      <td id=\"T_38358_row42_col5\" class=\"data row42 col5\" >0<br>(0.0%)</td>\n",
       "    </tr>\n",
       "    <tr>\n",
       "      <td id=\"T_38358_row43_col0\" class=\"data row43 col0\" >44</td>\n",
       "      <td id=\"T_38358_row43_col1\" class=\"data row43 col1\" ><strong>Unit Name</strong><br>[int64]</td>\n",
       "      <td id=\"T_38358_row43_col2\" class=\"data row43 col2\" >Mean (sd) : 16.7 (10.5)<br>min < med < max:<br>1.0 < 16.0 < 39.0<br>IQR (CV) : 19.0 (1.6)</td>\n",
       "      <td id=\"T_38358_row43_col3\" class=\"data row43 col3\" >33 distinct values</td>\n",
       "      <td id=\"T_38358_row43_col4\" class=\"data row43 col4\" ><img src = \"data:image/png;base64, iVBORw0KGgoAAAANSUhEUgAAAKoAAABGCAYAAABc8A97AAAAOXRFWHRTb2Z0d2FyZQBNYXRwbG90bGliIHZlcnNpb24zLjkuMiwgaHR0cHM6Ly9tYXRwbG90bGliLm9yZy8hTgPZAAAACXBIWXMAAA9hAAAPYQGoP6dpAAACpklEQVR4nO3dQY6iQBSA4VdDa1ATiDHRnReYpBcuPcQcdo4wC0/gDdyZGIKRaSIiverFZHq6pYoaeNX/twdZ/JEUVQWmaRoBhu5b3xcAPOLJ58mNMRMRGTuc4to0zUtX1wO9vIVqjJksFosfSZLMbc9xPp8zY8xPYoXPf9RxkiTz7Xb7kqZp2fbgPM/j3W43P51OYxEh1C/O661fRCRN03K5XP62PHzS6cVALQZTUIFQoQKhQgVChQqEChUIFSoQKlQgVKjg/YG/i7quRyKSGGNsDmedQEAGG2pRFKOqqp7X63UURVHrKVjWCYRlsKFer9enOI6nm82mXK1WWZtjWScQnsGG+mY2m9muFWCdQEAYTEEFQoUKhAoVCBUqECpU+HTU77BBL7nf7yOL44C/fBiqywa9qqriuq6/l2X5S0Rst6IAIvL5P6r1Br3D4TDf7/fT2+0WOVwfICIPPvC32aCXZRkP3NEZBlNQYfBTqGjH8e00g11xRqgBcX07zZBXnBFqWKwHv0NfcUaoHvR9+3V4O81gB8CE2rGQb799ItTuBXv77ROh/oPr1HGappnN7beu60Ts94kFO21NqO/oa+rYdZ9YyNPWhPq+XqaOXfaJuf720BHqB/qaOrbdJxbytDVTqFCBUKFCsLd+x7esBDt61irIUBk9hyfIUBk9hyfIUN8weg4HgymoQKhQgVChAqFChaAHU2jH8dmziMc9V4QKEXF/9izid9E3oUJE3J89+170Taj4g8MbvkU87rkiVHTG51dsCBWd8P0VG0JFJ3x/xYZQ0SlfX7HhgT9UIFSoQKhQgVChAqFCBUKFCoQKFQgVKhAqVCBUqECoUIFQoQKhQoWHVk/leR63PfHlcolFRIqiiI/H4/R/Hq/1t7Vet+vxj/T1Ck7FvMUGo4kCAAAAAElFTkSuQmCC\"></img></td>\n",
       "      <td id=\"T_38358_row43_col5\" class=\"data row43 col5\" >0<br>(0.0%)</td>\n",
       "    </tr>\n",
       "    <tr>\n",
       "      <td id=\"T_38358_row44_col0\" class=\"data row44 col0\" >45</td>\n",
       "      <td id=\"T_38358_row44_col1\" class=\"data row44 col1\" ><strong>Deal Closer Team</strong><br>[object]</td>\n",
       "      <td id=\"T_38358_row44_col2\" class=\"data row44 col2\" >1. -</td>\n",
       "      <td id=\"T_38358_row44_col3\" class=\"data row44 col3\" >2,186 (100.0%)</td>\n",
       "      <td id=\"T_38358_row44_col4\" class=\"data row44 col4\" ><img src = \"data:image/png;base64, iVBORw0KGgoAAAANSUhEUgAAAJsAAAAXCAYAAAAcEz0vAAAAOXRFWHRTb2Z0d2FyZQBNYXRwbG90bGliIHZlcnNpb24zLjkuMiwgaHR0cHM6Ly9tYXRwbG90bGliLm9yZy8hTgPZAAAACXBIWXMAAA9hAAAPYQGoP6dpAAAAnUlEQVR4nO3bsQ0CMRBE0TlkoSPx6mTJxbgIUvovYZPjQgJqYCyZ/yqY4Ie7m6SHpLuAHyuttWet9Zg9BOsrtdZjjPGOiGv2GKwrM/ciSRFx9d7P2YOwttvsAfgfxAYbYoMNscGG2GBDbLAhNtgQG2yIDTbEBhtigw2xwYbYYENssCE22BAbbIgNNkX6nuzOHoK1Zea+tdZePLzA4QPFNA/EDSh7IQAAAABJRU5ErkJggg==\"></img></td>\n",
       "      <td id=\"T_38358_row44_col5\" class=\"data row44 col5\" >0<br>(0.0%)</td>\n",
       "    </tr>\n",
       "    <tr>\n",
       "      <td id=\"T_38358_row45_col0\" class=\"data row45 col0\" >46</td>\n",
       "      <td id=\"T_38358_row45_col1\" class=\"data row45 col1\" ><strong>Term Payment</strong><br>[object]</td>\n",
       "      <td id=\"T_38358_row45_col2\" class=\"data row45 col2\" >1. Term Pra-Launching<br>2. Term Bellarosa Blocksale<br>3. Term BlockSale<br>4. Term Launching Cattleya<br>5. Term Bellerosa-Cattleya Novemb<br>6. Term Cattleya Maret 2022<br>7. Term Bellarosa Retail<br>8. Term Bellerosa-Cattleya Juni 2<br>9. Term Bellarossa<br>10. Term Cattleya Februari 2023<br>11. other</td>\n",
       "      <td id=\"T_38358_row45_col3\" class=\"data row45 col3\" >379 (17.3%)<br>312 (14.3%)<br>302 (13.8%)<br>294 (13.4%)<br>101 (4.6%)<br>93 (4.3%)<br>90 (4.1%)<br>63 (2.9%)<br>54 (2.5%)<br>51 (2.3%)<br>447 (20.4%)</td>\n",
       "      <td id=\"T_38358_row45_col4\" class=\"data row45 col4\" ><img src = \"data:image/png;base64, iVBORw0KGgoAAAANSUhEUgAAAJsAAAD+CAYAAAAtWHdlAAAAOXRFWHRTb2Z0d2FyZQBNYXRwbG90bGliIHZlcnNpb24zLjkuMiwgaHR0cHM6Ly9tYXRwbG90bGliLm9yZy8hTgPZAAAACXBIWXMAAA9hAAAPYQGoP6dpAAAD6UlEQVR4nO3cQWobSwBF0VIQIZlIGIMX40VksVmEdmOMe/ATMlEGGSlqOZOu+w06ZwPtwaVEN/W8O5/PAwqf/u8/gPshNjJiIyM2MmIjIzYyYiMjNjJiI7MbY3wdY3yOnvfrfD7/iJ7FB7N/fHz8djgcHoqHLcvyutvtvgvuPu0Ph8PD8/Pzj+Px+HPmg97e3r6cTqeHl5eXz2MMsd2h/RhjHI/Hn09PT/8Fz/saPIMPygsCGbGRERsZsZERGxmxkREbGbGRERsZsZERGxmxkREbGbGR2Y/x567Z7AcVz+Bj2y/L8no6nR5GcNdsWZbXMcav2c/hY7JBILPzL7OozDzZnGJcmLausqTib1PWVZZUrJm5rrKk4oKPumTERkZsZMRGRmxkxEZGbGTERkZsZMRGRmxkxEZGbGSmDF6MW1gzbfBi3MLfXAsnY/BCZtbJ5lTjypTBi7ELazYfvBi7cMuswYuxC1d81CUjNjJiIyM2MmIjIzYyYiMjNjJiIyM2MmIjIzYyYiOz+eDF2IVbpgxejF1Y41o4GYMXMl4QyPgZJWNdRca6iox1FRkvCGTERkZsZMRGRmxkxEZGbGTERkZsZMRGRmxkxEZGbGSsq8hYV5FxLZyMdRWZf51sTig28+7gxXCFLd0cvBiusLV/DV4MV9iMj7pkxEZGbGTERkZsZMRGRmxkxEZGbGTERkZsZMRGRmxkbg5eDFfY2ruDF8MVtuRaOBmDFzJONjIGL2QMXsgYvJDxUZeM2MiIjYzYyIiNjNjIiI2M2MiIjYzYyIiNjNjIiI2M2MhYV5GxriJjg0DGuorMeyebU41N3VxXWVaxtdV1lWUVM7y3rrKsYlM+6pIRGxmxkREbGbGRERsZsZERGxmxkREbGbGRERsZsZFZHbwYuzDDzcGLsQtbcy2cjMELmbWTzYnGFFeDF0MXZrkYvBi6MNPa4MXQhSl81CUjNjJiIyM2MmIjIzYyYiMjNjJiIyM2MmIjIzYyYiNzMXgxdGGmq8GLoQuzuBZOxuCFjBcEMn5GyVhXkbGuImNdRcYLAhmxkREbGbGRERsZsZERGxmxkREbGbGRERsZsZERGxnrKjLWVWRcCydjXUXGyUbG4IWMwQsZgxcyPuqSERsZsZERGxmxkREbGbGRERsZsZERGxmxkREbGbGRMXghY/BCxrVwMgYvZNZOtpqT9E5cDV5qBjb342LwUj/cwOa+rA1eagY2d8JHXTJiIyM2MmIjIzYyYiMjNjJiIyM2MmIjIzYyYiMjNjIXg5eagc19uRq81Axs7odr4WQMXsh4QSAjNjJiIyM2MmIjIzYyYiMjNjJiI/MbsPJO4l71c5UAAAAASUVORK5CYII=\"></img></td>\n",
       "      <td id=\"T_38358_row45_col5\" class=\"data row45 col5\" >0<br>(0.0%)</td>\n",
       "    </tr>\n",
       "    <tr>\n",
       "      <td id=\"T_38358_row46_col0\" class=\"data row46 col0\" >47</td>\n",
       "      <td id=\"T_38358_row46_col1\" class=\"data row46 col1\" ><strong>Akad KPA/R Date</strong><br>[object]</td>\n",
       "      <td id=\"T_38358_row46_col2\" class=\"data row46 col2\" >1. -<br>2. 03/11/2020<br>3. 09/27/2019<br>4. 08/10/2019<br>5. 11/30/2020<br>6. 09/26/2019<br>7. 08/12/2019<br>8. 09/15/2022<br>9. 07/13/2019<br>10. 01/27/2020<br>11. other</td>\n",
       "      <td id=\"T_38358_row46_col3\" class=\"data row46 col3\" >1,457 (66.7%)<br>17 (0.8%)<br>8 (0.4%)<br>7 (0.3%)<br>7 (0.3%)<br>6 (0.3%)<br>6 (0.3%)<br>6 (0.3%)<br>6 (0.3%)<br>6 (0.3%)<br>660 (30.2%)</td>\n",
       "      <td id=\"T_38358_row46_col4\" class=\"data row46 col4\" ><img src = \"data:image/png;base64, iVBORw0KGgoAAAANSUhEUgAAAJsAAAD+CAYAAAAtWHdlAAAAOXRFWHRTb2Z0d2FyZQBNYXRwbG90bGliIHZlcnNpb24zLjkuMiwgaHR0cHM6Ly9tYXRwbG90bGliLm9yZy8hTgPZAAAACXBIWXMAAA9hAAAPYQGoP6dpAAAED0lEQVR4nO3dwW0bVxhG0X8EQok2JAgCKiHpQUW4WBfBItKDIGgWtuMNs7CDIHAWtuHckehzKniArvhIYj5puVwuA4WbrQ/Az0NsZMRGRmxkxEZGbGTERkZsZMRGZpmZu5m53fog/KePl8vl/daH+FF2p9PpzX6/P259EL60ruvTsixvryW43X6/Pz48PLw/HA4ftj4M/3h+fv71fD4fHx8fb2fmOmKbmTkcDh/u7+/fbX0YvnC39QF+JB8QyIiNjNjIiI2M2MiIjYzYyIiNjNjIiI2M2MiIjYzYyIiNzG7m07NTWx+Ef7vGn8luXden8/l8nCt7duoarOv6NDMftz7Hj2KD8LJd1QZh8SezqPz9yjbX9BvEy7Q7nU5vZmauacXDy3Sz3++Pn6d83rfxv/I9GxmxkREbGbGRERsZsZERGxmxkREbGbGRERsZsZERGxmxkREbmd3nUcXMFQ0reJk8Fk7G4IWMVzYyBi9kDF7I+OqDjNjIiI2M2MiIjYzYyIiNjNjIiI2M2MiIjYzYyIiNjNjIiI2MwQsZj4WTMXgh4z0bGbGRuVmW5fdlWa7uf1vy8tzMzG8z88vWB+H6uUbJiI2M2MiIjYzYyIiNjNjIiI2M2MiIjYzYyIiNjNjIiI2M2MjczMwfM/Pn1gfh+hm8kHGNkhEbGYMXMgYvZFyjZMRGRmxkxEZGbGTERkZsZMRGRmxkxEZGbGTERkZsZMRGRmxkDF7IGLyQcY2SERsZgxcyBi9kXKNkxEZGbGTERkZsZMRGRmxkxEZGbGTERkZsZMRGRmxkxEZGbGTERsa6iox1FRnXKBmxkbGuImNdRcY1SkZsZMRGRmxkxEZGbGTERkZsZMRGRmxkxEZGbGTERkZsZMRGxuCFjMELGdcoGbGRMXghY/BCxjVKRmxkxEZGbGTERkZsZMRGRmxkxEZGbGTERkZsZMRGRmxkxEbG4IWMwQsZ1ygZsZERGxnrKjLWVWRco2TERkZsZMRGRmxkxEZGbGTERkZsZMRGRmxkxEZGbGTERkZsZKyryFhXkXGNkhEbGYMXMgYvZFyjZMRGRmxkxEZGbGTERkZsZMRGRmxkxEZGbGTERkZsZMRGRmxkDF7IGLyQcY2SWWbmbmZutz7Id/p4uVzeb30Ivs7udDq92e/3x60P8j3WdX1aluWt4F6H3X6/Pz48PLw/HA4ftj7Mt3h+fv71fD4fHx8fb2dGbK/AbmbmcDh8uL+/f7f1Yb7D3dYH4Ov5gEBGbGTERkZsZMRGRmxkxEZGbGTERkZsZMRGRmxkxEZmN/PpcZ2tD/KtXuOZf3a7dV2fzufzcV7h4zrruj7NzMetz8HX8Vg4GesqMj4gkBEbGbGRERsZsZERGxmxkREbGbGR+QvtD76YgBil8gAAAABJRU5ErkJggg==\"></img></td>\n",
       "      <td id=\"T_38358_row46_col5\" class=\"data row46 col5\" >0<br>(0.0%)</td>\n",
       "    </tr>\n",
       "    <tr>\n",
       "      <td id=\"T_38358_row47_col0\" class=\"data row47 col0\" >48</td>\n",
       "      <td id=\"T_38358_row47_col1\" class=\"data row47 col1\" ><strong>Akad Month</strong><br>[object]</td>\n",
       "      <td id=\"T_38358_row47_col2\" class=\"data row47 col2\" >1. -<br>2. August<br>3. March<br>4. July<br>5. June<br>6. September<br>7. October<br>8. November<br>9. April<br>10. February<br>11. other</td>\n",
       "      <td id=\"T_38358_row47_col3\" class=\"data row47 col3\" >1,457 (66.7%)<br>91 (4.2%)<br>79 (3.6%)<br>72 (3.3%)<br>70 (3.2%)<br>70 (3.2%)<br>68 (3.1%)<br>64 (2.9%)<br>53 (2.4%)<br>45 (2.1%)<br>117 (5.4%)</td>\n",
       "      <td id=\"T_38358_row47_col4\" class=\"data row47 col4\" ><img src = \"data:image/png;base64, iVBORw0KGgoAAAANSUhEUgAAAJsAAAD+CAYAAAAtWHdlAAAAOXRFWHRTb2Z0d2FyZQBNYXRwbG90bGliIHZlcnNpb24zLjkuMiwgaHR0cHM6Ly9tYXRwbG90bGliLm9yZy8hTgPZAAAACXBIWXMAAA9hAAAPYQGoP6dpAAAD/klEQVR4nO3dTW7bVgBG0afACJqJBMOAF6NFdLFdhHZjGNagDjJRBknb6M8j8jJgz5kFnRDILQUS7ws3p9NpQOHT0hfA/4fYyIiNjNjIiI2M2MiIjYzYyIiNzGaM8WWM8XnpC+Gmb6fT6X3pi5jKw9PT05/b7fZx6Qvh2vF4fN1sNn+tJbiH7Xb7uN/v33e73delL4b/vL29/XE4HB5fXl4+jzHWEdsYY+x2u6/Pz89/L30xXPmy9AVMyQMCGbGRERsZsZERGxmxkREbGbGRERsZsZERGxmxkREbGbGReRjjx9mppS+Ec2v8O3k4Ho+vh8Phcazs7NQaHI/H1zHGt6WvYyo2CL+3VW0QNv7JLCof3dlW9X8Vy7u7rlrbsofl3VxXrXHZw/I+Wld5OmVSXuqSERsZsZERGxmxkREbGbGRERsZsZERGxmxkREbGbGRuTl4WePYguXdHbysbWzB8hwLJ2PwQsadjYzBCxmDFzIGL2S81CUjNjJiIyM2MmIjIzYyYiMjNjJiIyM2MmIjIzYyYiNj8ELG4IWMY+FkDF7IeEAgc+9n1E8ok7u5rrKsYg5X6yrLKuZyb11lWcXkPCCQERsZsZERGxmxkREbGbGRERsZsZERGxmxkREbGbGRuVpXWVYxl5vrKssq5uBYOBnrKjLubGQMXsgYvJAxeCHjpS4ZsZERGxmxkREbGbGRERsZsZERGxmxkREbGbGRERsZgxcyBi9kHAsnY/BCxp2NjMELGYMXMgYvZLzUJSM2MmIjIzYyYiMjNjJiIyM2MmIjIzYyYiMjNjJiIyM2MtZVZKyryNggkLGuIuPORsa6iox1FRnrKjJe6pIRGxmxkREbGbGRERsZsZERGxmxkREbGbGRERsZsZExeCFj8ELGsXAyBi9k3NnIGLyQMXghY/BCxktdMmIjIzYyYiMjNjJiIyM2MmIjIzYyYiMjNjJiIyM2MgYvZAxeyDgWTsbghYwHBDK3fkb9hDKLq3WVZRVzOVtXWVYxp1vrKssqZuEBgYzYyIiNjNjIiI2M2MiIjYzYyIiNjNjIiI2M2MiIjczZusqyijldrassq5iLY+FkrKvIXN7Z3NWYzdngxdiFOX36Z/Cy3+/ff0Z3uY6HSfw7ePn5Z2MXZuOlLhmxkREbGbGRERsZsZERGxmxkREbGbGRERsZsZERG5mrzwnBXH4dvBi7MCvHwskYvJC596G0X7nbMYmrL7xcMoJhKmdfeLn8j774wpRufeHlkhEMk/BSl4zYyIiNjNjIiI2M2MiIjYzYyIiNjNjIiI2M2MiIjcyHgxdDGKZ09YWXS0YwTMWxcDIGL2Q8IJARGxmxkREbGbGRERsZsZERGxmxkfkOzBZCg7Lvw7cAAAAASUVORK5CYII=\"></img></td>\n",
       "      <td id=\"T_38358_row47_col5\" class=\"data row47 col5\" >0<br>(0.0%)</td>\n",
       "    </tr>\n",
       "    <tr>\n",
       "      <td id=\"T_38358_row48_col0\" class=\"data row48 col0\" >49</td>\n",
       "      <td id=\"T_38358_row48_col1\" class=\"data row48 col1\" ><strong>Status Checklist Document</strong><br>[object]</td>\n",
       "      <td id=\"T_38358_row48_col2\" class=\"data row48 col2\" >1. Not Complete<br>2. Akad<br>3. Complete</td>\n",
       "      <td id=\"T_38358_row48_col3\" class=\"data row48 col3\" >2,177 (99.6%)<br>7 (0.3%)<br>2 (0.1%)</td>\n",
       "      <td id=\"T_38358_row48_col4\" class=\"data row48 col4\" ><img src = \"data:image/png;base64, iVBORw0KGgoAAAANSUhEUgAAAJsAAABFCAYAAABdVZTTAAAAOXRFWHRTb2Z0d2FyZQBNYXRwbG90bGliIHZlcnNpb24zLjkuMiwgaHR0cHM6Ly9tYXRwbG90bGliLm9yZy8hTgPZAAAACXBIWXMAAA9hAAAPYQGoP6dpAAABU0lEQVR4nO3bwU3DQBCG0VnLAnKxFVlKCdBDiuBKxymCJqL4AIFLOCBKyL+Sea+COXzSaKWddrvdChKG3gPwf7Sq2lXVQ+9B2LzvcVmW12ma9r0nYdvWdT2P0zTtj8fj5zzP194DsU2Xy+XpdDrtx6qqeZ6vh8Pho/dQbNrOA4EYsREjNmLERozYiBEbMWIjRmzEiI0YsREjNmLERozYiBEbMWPV73+j3oOwXX99tWVZ3vzU5d7WdT27QSDluznlI8UDgZihtfbSWvNA4O6Gqnquqsfeg7B91igxYiNGbMSIjRixESM2YsRGjNiIERsxYiNGbMSIjRixESM2YsRGjNiIGarqvaq+eg/C9jl4IcYaJUZsxIiNGKd8xDjlI8YaJUZsxIiNGLERIzZixEaM2IgRGzFiI0ZsxIiNGLERIzZixEaM2IgRGzFO+YhxykeMNUrMD75MLHJcjJ3CAAAAAElFTkSuQmCC\"></img></td>\n",
       "      <td id=\"T_38358_row48_col5\" class=\"data row48 col5\" >0<br>(0.0%)</td>\n",
       "    </tr>\n",
       "    <tr>\n",
       "      <td id=\"T_38358_row49_col0\" class=\"data row49 col0\" >50</td>\n",
       "      <td id=\"T_38358_row49_col1\" class=\"data row49 col1\" ><strong>PS Code</strong><br>[int64]</td>\n",
       "      <td id=\"T_38358_row49_col2\" class=\"data row49 col2\" >Mean (sd) : 18215825.8 (2423170.4)<br>min < med < max:<br>16110004.0 < 17030301.0 < 25010010.0<br>IQR (CV) : 2039691.8 (7.5)</td>\n",
       "      <td id=\"T_38358_row49_col3\" class=\"data row49 col3\" >1,965 distinct values</td>\n",
       "      <td id=\"T_38358_row49_col4\" class=\"data row49 col4\" ><img src = \"data:image/png;base64, iVBORw0KGgoAAAANSUhEUgAAAKoAAABGCAYAAABc8A97AAAAOXRFWHRTb2Z0d2FyZQBNYXRwbG90bGliIHZlcnNpb24zLjkuMiwgaHR0cHM6Ly9tYXRwbG90bGliLm9yZy8hTgPZAAAACXBIWXMAAA9hAAAPYQGoP6dpAAAC5ElEQVR4nO3dMU/bQByG8fcaiAwRtgIRbPkCSB2QWFi6deyHZe3WIUid8w2yREhRsJWUKCa4S5EqVSXxnQ33D89vd+L4Hl0uYOtcVVUCYvfpvU8A2MVBmy/unDuS1A14iXVVVY9NnQ/sai1U59zR2dnZtzRN+76vURTF3Dl3S6xoc0btpmnav7m5ecyybFX34DzPk9Fo1J/NZl1JhPrBtfrVL0lZlq3Oz89/eR5+1OjJwCx+TMEEQoUJhAoTCBUmECpMIFSYQKgwgVBhAqHCBEKFCYQKEwgVJhAqTCBUmECoMIFQYQKhwgRChQmEChMIFSYQKkwgVJhAqDCBUGECocIEQoUJhAoTCBUmECpMIFSYQKgwgVBhAqHCBEKFCYQKEwgVJhAqTNi6K0rApmbp8/PzocdxwD9eDTVkU7OyLJPNZnO5Wq1+SPLdvgeQtH1G9d7UbDKZ9Mfj8fHT01Mn4PwASTtuiOazqdl8PmczMzSGH1MwgVBhAqHCBEKFCYQKEwgVJhAqTCBUmECoMIFQYQKhwoSd/tcPOwJuy5SkdVVVj02eT1P2NtTAAZMiHrT/CbktU5KKopg7525j/Nx7GWrogElxD9orvG/LzPM8GY1G/dls1pUU3Wfey1AVMGBS/IO2jc9tmX9Ee2vmvoYqKWjApIgH7SOKOtTNZnMoKXXO1T2U57U8BFzvF62t66MNdblcHpZl+Xk4HHY6nU6tr2+e16ov5Hq/aHNdH22o6/X6IEmS46urq9XFxcW8zrFNPK8VOLt4zyyBf63w/iYJud5S++v6aEN90ev13vx5rdDZ5eHhYeGc+y6p7rHJ6enp1yzLenXfU2rmm8Tnev+ltXV99KG+h5DZZTqdntzd3X0ZDocDnyWLpMvr6+ufg8GgqHXS2u8nfwn1Fb6zeeiSJUmS0mdWe+8nf9tcLu0Uap7nSd13XSwWiSQtl8vk/v7++C2Pj+G9Q1i8ZtPp9CRkubTth9hvYfV0Q89d8VgAAAAASUVORK5CYII=\"></img></td>\n",
       "      <td id=\"T_38358_row49_col5\" class=\"data row49 col5\" >0<br>(0.0%)</td>\n",
       "    </tr>\n",
       "    <tr>\n",
       "      <td id=\"T_38358_row50_col0\" class=\"data row50 col0\" >51</td>\n",
       "      <td id=\"T_38358_row50_col1\" class=\"data row50 col1\" ><strong>Booking Info</strong><br>[object]</td>\n",
       "      <td id=\"T_38358_row50_col2\" class=\"data row50 col2\" >1. PT Tripaka (Lead)<br>2. Soso - PT. Ninety Nine Dotco/P<br>3. Sales Admin 1/Sales Promosi/SP<br>4. Era Peak - PT. Pro 8 Indonesia<br>5. Ray White (PT.Sumber Graha Uta<br>6. nan<br>7. PT Tripaka (Lead)/<br>8. Lilis Handayati/<br>9. PT. Tripaka (Korwil)/PT Tripak<br>10. Lead Agent 2023/Sales Admin 1/<br>11. other</td>\n",
       "      <td id=\"T_38358_row50_col3\" class=\"data row50 col3\" >762 (34.9%)<br>464 (21.2%)<br>196 (9.0%)<br>153 (7.0%)<br>119 (5.4%)<br>104 (4.8%)<br>65 (3.0%)<br>65 (3.0%)<br>52 (2.4%)<br>46 (2.1%)<br>160 (7.3%)</td>\n",
       "      <td id=\"T_38358_row50_col4\" class=\"data row50 col4\" ><img src = \"data:image/png;base64, iVBORw0KGgoAAAANSUhEUgAAAJsAAAD+CAYAAAAtWHdlAAAAOXRFWHRTb2Z0d2FyZQBNYXRwbG90bGliIHZlcnNpb24zLjkuMiwgaHR0cHM6Ly9tYXRwbG90bGliLm9yZy8hTgPZAAAACXBIWXMAAA9hAAAPYQGoP6dpAAAEVklEQVR4nO3dT2rbeACGYbmEMt3YhEAP40PMYecQvk0I8WJSuvEspjNt6j+Jbem1iZ9nV+hChZefkdBXzTabzQCFT5e+AG6H2MiIjYzYyIiNjNjIiI2M2MiIjcxsGIYvwzB8vvSFTOD7ZrN5ufRF8NPdw8PDn/P5/P7SFzK29Xr9NJvN/hLc9bibz+f3y+XyZbFYfLv0xYzl+fn5j9Vqdf/4+Ph5GAaxXYm7YRiGxWLx7evXr39f+mJG9uXSF8BrbhDIiI2M2MiIjYzYyIiNjNjIiI2M2MiIjYzYyIiNjNjIiI3M3TD8+/7XpS9kTB/t3/NR3K3X66fVanU/fLD3v9br9dMwDN8vfR38ZINAZua/zKJyLSebU+gGXMW6yhLqNlx8XWUJdTuuZV31oe6E2c1DXTJiIyM2MmIjIzYyYiMjNjJiIyM2MmIjIzYyYiMjNjIXH7wYp9yOqxi8GKfcBq+FkzF4IXPOyeY04ignD16MVDjWSYMXIxVOcc7gxUiFo3ioS0ZsZMRGRmxkxEZGbGTERkZsZMRGRmxkxEZGbGTERuakwYuRCqc4efBipMKxvBZOxuCFjBsEMsf+jPrp5GRHrassqjjHu9dVFlWc69h1lUUVJ3ODQEZsZMRGRmxkxEZGbGTERkZsZMRGRmxkxEZGbGTERubd6yqLKs511LrKoopzeC2cjHUVmfecbE4zRvHm4MXIhbEcHLwYuTCm9wxejFwYhYe6ZMRGRmxkxEZGbGTERkZsZMRGRmxkxEZGbGTERkZsZA4OXoxcGNObgxcjF8bitXAyBi9k3jrZnGqM5uDgxdiFMe0dvBi7MLa3Bi/GLozGQ10yYiMjNjJiIyM2MmIjIzYyYiMjNjJiIyM2MmIjIzYyYiOzd11lWcXYDq6rLKsYkw0CGesqMvtONicao9u5rrKqYgpb6yqrKqayb11lVcXoPNQlIzYyYiMjNjJiIyM2MmIjIzYyYiMjNjJiIyM2MmIjszV4MXRhKjsHL4YuTMFr4WQMXsg42cgYvJAxeCFj8ELGQ10yYiMjNjJiIyM2MmIjIzYyYiMjNjJiIyM2MmIjIzYyBi9kDF7IeC2cjMELGTcIZHb9jPoJZRJb6yrLKqbyal1lWcWUdq2rLKuYhBsEMmIjIzYyYiMjNjJiIyM2MmIjIzYyYiMjNjJiIyM2Mq/WVZZVTGlrXWVZxVS8Fk7GuorM7yebU43JvBq8GLswpU//DV6Wy+XLj+h+X8fDKP4fvPz4s7ELk/FQl4zYyIiNjNjIiI2M2MiIjYzYyIiNjNjIiI2M2MiIjczW54RgKr8OXoxdmJTXwskYvJDZ96G0fZx8nGzrCy+HGMRwjldfeDn0F339hXPt+sLLIQYxnMxDXTJiIyM2MmIjIzYyYiMjNjJiIyM2MmIjIzYyYiMjNjLvHrwYxXCurS+8HGIQwzm8Fk7G4IWMGwQyYiMjNjJiIyM2MmIjIzYyYiMjNjL/AMwWQoMu917iAAAAAElFTkSuQmCC\"></img></td>\n",
       "      <td id=\"T_38358_row50_col5\" class=\"data row50 col5\" >104<br>(4.8%)</td>\n",
       "    </tr>\n",
       "    <tr>\n",
       "      <td id=\"T_38358_row51_col0\" class=\"data row51 col0\" >52</td>\n",
       "      <td id=\"T_38358_row51_col1\" class=\"data row51 col1\" ><strong>Net Area</strong><br>[object]</td>\n",
       "      <td id=\"T_38358_row51_col2\" class=\"data row51 col2\" >1. SGA/SPU/2025/01/3562<br>2. SGA/SPU/2016/11/0260<br>3. SGA/SPU/2016/11/0259<br>4. SGA/SPU/2016/11/0249<br>5. SGA/SPU/2016/11/0252<br>6. SGA/SPU/2016/11/0261<br>7. SGA/SPU/2016/12/3040<br>8. SGA/SPU/2016/12/2980<br>9. SGA/SPU/2016/12/0279<br>10. SGA/SPU/2016/12/0138<br>11. other</td>\n",
       "      <td id=\"T_38358_row51_col3\" class=\"data row51 col3\" >1 (0.0%)<br>1 (0.0%)<br>1 (0.0%)<br>1 (0.0%)<br>1 (0.0%)<br>1 (0.0%)<br>1 (0.0%)<br>1 (0.0%)<br>1 (0.0%)<br>1 (0.0%)<br>2,176 (99.5%)</td>\n",
       "      <td id=\"T_38358_row51_col4\" class=\"data row51 col4\" ><img src = \"data:image/png;base64, iVBORw0KGgoAAAANSUhEUgAAAJsAAAD+CAYAAAAtWHdlAAAAOXRFWHRTb2Z0d2FyZQBNYXRwbG90bGliIHZlcnNpb24zLjkuMiwgaHR0cHM6Ly9tYXRwbG90bGliLm9yZy8hTgPZAAAACXBIWXMAAA9hAAAPYQGoP6dpAAADQklEQVR4nO3cwWkbYRRG0TdCJPZGQghUQtKDisg2HauINGGkReJ44yyCS8gdmJxTwb+48BDMp+X9/X2gsFv7Afw/xEZGbGTERkZsZMRGRmxkxEZGbGTERma3LMvXZVme1n4I27ebmS8z83nth7B9zigZsZERGxmxkREbGbGRERsZsZERGxmxkREbGbGRERsZsZERGxmxkdnNzI+Z+b32Q9i+xb8YUXFGyYiNjHUVGesqMs4oGbGRERsZsZERGxmxkREbGbGRERsZsZERGxmxkREbGbGRERsZgxcyBi9knFEyYiNj8ELG4IWMM0pGbGTERkZsZMRGRmxkxEZGbGTERkZsZMRGRmxkxEZGbGTERsbghYzBCxlnlIzYyIiNjHUVGesqMs4oGbGRERsZsZERGxmxkREbGbGRERsZsZERGxmxkREbGbGRERsZ6yoy1lVknFEyYiNj8ELG4IWMM0pGbGTERkZsZMRGRmxkxEZGbGTERkZsZMRGRmxkxEZGbGTERsbghYzBCxlnlIzYyBi8kDF4IeOMkhEbGbGRERsZsZERGxmxkREbGbGRERsZsZERGxmxkREbGbGRERsZ6yoy1lVknFEyYiNjXUXGuoqMM0pGbGTERkZsZMRGRmxkxEZGbGTERkZsZMRGRmxkxEZGbGTERsbghYzBCxlnlIzYyBi8kDF4IeOMkhEbGbGRERsZsZERGxmxkREbGbGRERsZsZERGxmxkREbGbGRMXghY/BCxhklIzYyYiNjXUXGuoqMM0pGbGTERkZsZMRGRmxkxEZGbGTERkZsZMRGRmxkxEZGbGTERsa6iox1FRlnlIzYyBi8kDF4IeOMkhEbGbGRERsZsZERGxmxkREbGbGRERsZsZERGxmxkREbGbGRMXghY/BCxhkls8zM88x8WvshbN7b/nw+fzscDqe1X8K2PR6Pl/3hcDhdr9dfx+Pxde0HsU33+/3pdrud9jMzx+Px9XK5/Fz7UWzasx8IZMRGRmxkxEZGbGTERkZsZMRGRmxkxEZGbGTERkZsZPYzfz8BWfshbNdHX8v5fP7u40n+tcfj8eKzcCpv1lVk/EAgIzYyYiMjNjJiIyM2MmIjIzYyYiPzB0WpV2yec8bJAAAAAElFTkSuQmCC\"></img></td>\n",
       "      <td id=\"T_38358_row51_col5\" class=\"data row51 col5\" >0<br>(0.0%)</td>\n",
       "    </tr>\n",
       "    <tr>\n",
       "      <td id=\"T_38358_row52_col0\" class=\"data row52 col0\" >53</td>\n",
       "      <td id=\"T_38358_row52_col1\" class=\"data row52 col1\" ><strong>Semi Gross Area</strong><br>[float64]</td>\n",
       "      <td id=\"T_38358_row52_col2\" class=\"data row52 col2\" >1. 26.03<br>2. 45.55<br>3. 46.89<br>4. 42.95<br>5. 26.8<br>6. 46.92<br>7. 52.06<br>8. 44.24</td>\n",
       "      <td id=\"T_38358_row52_col3\" class=\"data row52 col3\" >1,713 (78.4%)<br>243 (11.1%)<br>110 (5.0%)<br>72 (3.3%)<br>40 (1.8%)<br>6 (0.3%)<br>1 (0.0%)<br>1 (0.0%)</td>\n",
       "      <td id=\"T_38358_row52_col4\" class=\"data row52 col4\" ><img src = \"data:image/png;base64, iVBORw0KGgoAAAANSUhEUgAAAJsAAAC4CAYAAAD0WZ4UAAAAOXRFWHRTb2Z0d2FyZQBNYXRwbG90bGliIHZlcnNpb24zLjkuMiwgaHR0cHM6Ly9tYXRwbG90bGliLm9yZy8hTgPZAAAACXBIWXMAAA9hAAAPYQGoP6dpAAADNklEQVR4nO3dQU4cVwBF0V8t5MSTbiEklpDsoRfhxWYRvQjvASF6YBxPOoM4VhJjsETVrZJ9zozZl7j0V6F6MF0ulwGF3doH4OchNjJiIyM2MmIjIzYy0xjj7RjjzdoHYVGfLpfL49qHuLq5uXm33++v1z4Iyzmfz/fTNP2xdnBX+/3++ng8Ph4Oh49rHoRlPDw8/Ho6na7v7u7ejDHWjW2MMQ6Hw8fb29sPax6ERb1d+wBjeEAgJDYyYiMjNjJiIyM2MmIjIzYyYiMjNjJiIyM2MmIjczXG36+hrH0QlrGl7+3V+Xy+P51O12Mjr6Ewv/P5fD/G+LT2ObwW/nPYxGvhkz+/QGWuT7ZN/OSwbbMMXrYyqGDbXj142dKggm2ba/DiSZYX+aUuGbGRERsZsZERGxmxkREbGbGRERsZsZERGxmxkREbmVcPXrY0qGDbZhm8bGVQwbZ5LZyMwQsZDwhkvucadUUyixfXVZZTzOXZdZXlFHP6nnWV5RSz8IBARmxkxEZGbGTERkZsZMRGRmxkxEZGbGTERkZsZMRG5tl1leUUc3pxXWU5xVy8Fk7GuorMtz7ZfJoxuycHL0YuLOGrwYuRC0v51uDFyIXZ+aUuGbGRERsZsZERGxmxkREbGbGRERsZsZERGxmxkREbma8GL0YuLOXJwYuRC0vwWjgZgxcyHhDI/P8adX2ymP+sq6yqWNLun3XV8Xh8/Bzda//3KDzpy7rq89dWVSzGAwIZsZERGxmxkREbGbGRERsZsZERGxmxkREbGbGRERuZZ/+dEMzp3+sqqyoW5bVwMtZVZDwgkNlN0/T7NE0eEFjcbozx2xjjl7UPwo/PNUpGbGTERkZsZMRGRmxkxEZGbGTERkZsZMRGRmxkxEZGbGTERkZsZHZjjPdjjD/XPgg/PoMXMq5RMmIjY11FxrqKjGuUjNjIiI2M2MiIjYzYyIiNjNjIiI2M2MiIjYzYyIiNjNjIiI2MwQsZgxcyrlEyYiNj8ELG4IWMa5SM2MiIjYzYyIiNjNjIiI2M2MiIjYzYyIiNjNjIiI2M2MiIjYzYyFhXkbGuIuMaJSM2MmIjIzYyYiMjNjJ/AZ7qEfWv1jAoAAAAAElFTkSuQmCC\"></img></td>\n",
       "      <td id=\"T_38358_row52_col5\" class=\"data row52 col5\" >0<br>(0.0%)</td>\n",
       "    </tr>\n",
       "    <tr>\n",
       "      <td id=\"T_38358_row53_col0\" class=\"data row53 col0\" >54</td>\n",
       "      <td id=\"T_38358_row53_col1\" class=\"data row53 col1\" ><strong>Area</strong><br>[int64]</td>\n",
       "      <td id=\"T_38358_row53_col2\" class=\"data row53 col2\" >1. 20<br>2. 35<br>3. 36<br>4. 33<br>5. 40</td>\n",
       "      <td id=\"T_38358_row53_col3\" class=\"data row53 col3\" >1,753 (80.2%)<br>249 (11.4%)<br>110 (5.0%)<br>73 (3.3%)<br>1 (0.0%)</td>\n",
       "      <td id=\"T_38358_row53_col4\" class=\"data row53 col4\" ><img src = \"data:image/png;base64, iVBORw0KGgoAAAANSUhEUgAAAJsAAABzCAYAAACPdnBjAAAAOXRFWHRTb2Z0d2FyZQBNYXRwbG90bGliIHZlcnNpb24zLjkuMiwgaHR0cHM6Ly9tYXRwbG90bGliLm9yZy8hTgPZAAAACXBIWXMAAA9hAAAPYQGoP6dpAAACS0lEQVR4nO3bQW7aUBiF0d8Ipc0ECyGxhHYPLKKL7SK8iO4BITxo0kzcQYZJSAaP+0RyzgZsiU+2HvIdlmUpSFj1vgG+DrERIzZihqq6r6q73jdCzNOyLA89Lrze7Xa/NpvNtsfFyZvn+TQMw+8ewa03m832cDg8jOP4mL44Wefz+fs0Tdvj8XhXVfnYqqrGcXzc7/d/0xeni/teF3ZAIEZsxIiNGLERIzZixEaM2IgRGzFiI0ZsxIiNGLERIzZi1lXPn570vhGur/fvvJ7n+TRN07Y6fnpCzjzPp6p66nFtn4V/Pd0+Cx/sRklxQCCm5Wu02+OZ29BsXdVztcNtaLKu6r3a4Ta0XFf564SLHBCIERsxYiNGbMSIjRixESM2YsRGjNiIERsxYiNGbMSIjZgm66reqx1uQ7N1Vc/VDrfBZ+HEWFcR44BAzEdeo16PNPHuuspqilYurquspmjpI+sqqymacEAgRmzEiI0YsREjNmLERozYiBEbMWIjRmzEiI0YsREjNmIurquspmjp3XWV1RSt+CycGOsqYt56snma0dyrgxcjF67hxeDFyIVreWvwYuRCc/7UJUZsxIiNGLERIzZixEaM2IgRGzFiI0ZsxIiNGLERIzZixEbMi3WVRRXX8uq6yqKKa7BBIMa6ihgHBGJWwzD8HIbBoYCrW1XVj6r61vtG+Py8RokRGzFiI0ZsxIiNGLERIzZixEaM2IgRGzFiI0ZsxIiNGLERIzZixEbMqqr+VNW/3jfC52fwQozXKDFiI0ZsxPwHKILeGPD8mkcAAAAASUVORK5CYII=\"></img></td>\n",
       "      <td id=\"T_38358_row53_col5\" class=\"data row53 col5\" >0<br>(0.0%)</td>\n",
       "    </tr>\n",
       "    <tr>\n",
       "      <td id=\"T_38358_row54_col0\" class=\"data row54 col0\" >55</td>\n",
       "      <td id=\"T_38358_row54_col1\" class=\"data row54 col1\" ><strong>PostCode (ID)</strong><br>[object]</td>\n",
       "      <td id=\"T_38358_row54_col2\" class=\"data row54 col2\" >1. nan<br>2. 15323<br>3. 15810<br>4. 15324<br>5. 51271<br>6. 14350<br>7. 15344<br>8. 11840<br>9. 15117<br>10. 15314<br>11. other</td>\n",
       "      <td id=\"T_38358_row54_col3\" class=\"data row54 col3\" >2,125 (97.2%)<br>4 (0.2%)<br>3 (0.1%)<br>2 (0.1%)<br>2 (0.1%)<br>2 (0.1%)<br>2 (0.1%)<br>2 (0.1%)<br>2 (0.1%)<br>2 (0.1%)<br>40 (1.8%)</td>\n",
       "      <td id=\"T_38358_row54_col4\" class=\"data row54 col4\" ><img src = \"data:image/png;base64, iVBORw0KGgoAAAANSUhEUgAAAJsAAAD+CAYAAAAtWHdlAAAAOXRFWHRTb2Z0d2FyZQBNYXRwbG90bGliIHZlcnNpb24zLjkuMiwgaHR0cHM6Ly9tYXRwbG90bGliLm9yZy8hTgPZAAAACXBIWXMAAA9hAAAPYQGoP6dpAAADwUlEQVR4nO3cQWqrZRiG4fcvodpJQgh0CbqHLOIs9iwii3APpeQf2NpJHJz2oCIISu9AvK5ZBoVvcMNLIE+Xy+UyULi79gP4/xAbGbGRERsZsZERGxmxkREbGbGRWWbmYWbur/0QbtLb5XJ5+fiwORwOX7bb7f6aL+I2rev6vCzL14/gNtvtdn88Hl92u93rtR/H7Tifzz+eTqf909PT/cx8i21mZrfbvT4+Pv561ddxix7++MEXBDJiIyM2MmIjIzYyYiMjNjJiIyM2MmIjIzYyYiMjNjJiI7OZ+fbbo2s/hNvyd01t1nV9Pp1O+/nLb4/gv1rX9Xlm3j4+2yDwmf60QVj8yywqviCQuVuW5edlWXxB4NPdzcxPM/PDtR/C7XNGyYiNjNjIiI2M2MiIjYzYyIiNjNjIiI2M2MiIjYzYyIiNjNjI3M3MLzPz27Ufwu2zQSDjjJIRGxmDFzIGL2ScUTJiIyM2MmIjIzYyYiMjNjJiIyM2MmIjIzYyYiMjNjJiIyM2MgYvZAxeyDijZMRGRmxkrKvIWFeRcUbJiI2M2MiIjYzYyIiNjNjIiI2M2MiIjYzYyIiNjNjIiI2M2MhYV5GxriLjjJIRGxmDFzIGL2ScUTJiIyM2MmIjIzYyYiMjNjJiIyM2MmIjIzYyYiMjNjJiIyM2MgYvZAxeyDijZMRGxuCFjMELGWeUjNjIiI2M2MiIjYzYyIiNjNjIiI2M2MiIjYzYyIiNjNjIiI2M2MhYV5GxriLjjJIRGxnrKjLWVWScUTJiIyM2MmIjIzYyYiMjNjJiIyM2MmIjIzYyYiMjNjJiIyM2MgYvZAxeyDijZMRGxuCFjMELGWeUjNjIiI2M2MiIjYzYyIiNjNjIiI2M2MiIjYzYyIiNjNjIiI2MwQsZgxcyzigZsZERGxnrKjLWVWScUTJiIyM2MmIjIzYyYiMjNjJiIyM2MmIjIzYyYiMjNjJiIyM2MtZVZKyryDijZMRGxuCFjMELGWeUjNjIiI2M2MiIjYzYyIiNjNjIiI2M2MiIjYzYyIiNjNjIiI2MwQsZgxcyziiZZWYeZub+/fPb5XJ5ueJ7uGGbw+HwZbvd7mdm1nV9Xpblq+D4DHfb7XZ/PB5fjsfjy3t09//4V/AvbGZmdrvd6/vnhyu+hRvnCwIZsZERGxmxkREbGbGRERsZsZERGxmxkREbGbGRERuZzczM+Xz2D5z5dJt1XZ9Pp9P3H0/OzNuV38SN8rNwMtZVZHxBICM2MmIjIzYyYiMjNjJiIyM2MmIj8zt/pZHVpHbyhQAAAABJRU5ErkJggg==\"></img></td>\n",
       "      <td id=\"T_38358_row54_col5\" class=\"data row54 col5\" >2,125<br>(97.2%)</td>\n",
       "    </tr>\n",
       "    <tr>\n",
       "      <td id=\"T_38358_row55_col0\" class=\"data row55 col0\" >56</td>\n",
       "      <td id=\"T_38358_row55_col1\" class=\"data row55 col1\" ><strong>Country (Cor)</strong><br>[object]</td>\n",
       "      <td id=\"T_38358_row55_col2\" class=\"data row55 col2\" >1. Indonesia<br>2. Unknown</td>\n",
       "      <td id=\"T_38358_row55_col3\" class=\"data row55 col3\" >2,183 (99.9%)<br>3 (0.1%)</td>\n",
       "      <td id=\"T_38358_row55_col4\" class=\"data row55 col4\" ><img src = \"data:image/png;base64, iVBORw0KGgoAAAANSUhEUgAAAJsAAAAuCAYAAAA/ZmtKAAAAOXRFWHRTb2Z0d2FyZQBNYXRwbG90bGliIHZlcnNpb24zLjkuMiwgaHR0cHM6Ly9tYXRwbG90bGliLm9yZy8hTgPZAAAACXBIWXMAAA9hAAAPYQGoP6dpAAAA/0lEQVR4nO3bwUkEMQBG4T/DoOslYQlMCdrDFuHV3u0iF11P48EafIHs+yr4Dw9CICnneUYilCQvSZ5mD9H69t77e631OnuI1rfXWq+32+27tXafPUbrGmNc9iRprd2P4/iaPUhr22YP0OMwNmGMTRhjE8bYhDE2YYxNGGMTxtiEMTZhjE0YYxPG2IQxNmGMTZg9+XvYNnuI1jbGuJTe+4fPwkXww4swxa98onhBEGYrpbyVUrwg6N9tSV6TPM8eovV5jApjbMIYmzDGJoyxCWNswhibMMYmjLEJY2zCGJswxiaMsQljbMIYmzDGJoyxCbMl+UzyM3uI1ufvKmF+AXVbGymqDU4XAAAAAElFTkSuQmCC\"></img></td>\n",
       "      <td id=\"T_38358_row55_col5\" class=\"data row55 col5\" >0<br>(0.0%)</td>\n",
       "    </tr>\n",
       "    <tr>\n",
       "      <td id=\"T_38358_row56_col0\" class=\"data row56 col0\" >57</td>\n",
       "      <td id=\"T_38358_row56_col1\" class=\"data row56 col1\" ><strong>Address (Cor)</strong><br>[object]</td>\n",
       "      <td id=\"T_38358_row56_col2\" class=\"data row56 col2\" >1. JL.LAMANDAU RAYA NO.16 RT003/0<br>2. JL.LAMANDAU RAYA 16 RT003/RW00<br>3. DR.RUM NO. 14 RT. 004/002 KEL.<br>4. nan<br>5. jl.pos pengumben lama blok 10 <br>6. Komplek TSS Indah Blok A/81.S <br>7. Apt W.G.P B3 No.14 Rt/Rw. 005/<br>8. JL. Flamboyan Pesona Blok E.3 <br>9. Taman Mutiara Palem, Blok A7/1<br>10. JL.KELAPA PUAN XV AF 11/1 RT.0<br>11. other</td>\n",
       "      <td id=\"T_38358_row56_col3\" class=\"data row56 col3\" >10 (0.5%)<br>10 (0.5%)<br>7 (0.3%)<br>7 (0.3%)<br>6 (0.3%)<br>6 (0.3%)<br>5 (0.2%)<br>5 (0.2%)<br>5 (0.2%)<br>5 (0.2%)<br>2,120 (97.0%)</td>\n",
       "      <td id=\"T_38358_row56_col4\" class=\"data row56 col4\" ><img src = \"data:image/png;base64, iVBORw0KGgoAAAANSUhEUgAAAJsAAAD+CAYAAAAtWHdlAAAAOXRFWHRTb2Z0d2FyZQBNYXRwbG90bGliIHZlcnNpb24zLjkuMiwgaHR0cHM6Ly9tYXRwbG90bGliLm9yZy8hTgPZAAAACXBIWXMAAA9hAAAPYQGoP6dpAAADn0lEQVR4nO3cQWojVxhG0b+McNqTEkLgJSR78CJ6sb0ILSJ7MMY1iDueKIMEYtKdSaBvgXLOyNToDS5+kqnPy/V6HSjc7X0A/j/ERkZsZMRGRmxkxEZGbGTERkZsZJaZeZiZuV6vbzufhRt3OJ/Pn2dmlmX5Ijh+pLt1XU/rup5m5n7vw3DbfGYjIzYyYiMjNjJiIyM2MmIjIzYyYiMjNjJiIyM2MmIjIzYyYiMjNjKHbdte/vr5fdeTcPNsEMgs/mUWFb/ZyFhXkbGuIuNPH2TERkZsZMRGRmxkxEZGbGTERkZsZMRGRmxkxEZGbGTERkZsZAxeyHgtnIzBCxmf2cjcLcvyy7Isn/Y+CLfvbmZ+npmf9j4It881SkZsZMRGRmxkxEZGbGTERkZsZMRGRmxkxEZGbGTERkZsZMRG5m5mfp2Z3/c+CLfPBoGMa5SM2MiIjYx1FRnrKjKuUTJiIyM2MmIjIzYyYiMjNjJiIyM2MmIjIzYyYiMjNjJiIyM2MtZVZKyryLhGyYiNjMELGYMXMq5RMmIjIzYyYiMjNjJiIyM2MmIjIzYyYiMjNjJiIyM2MmIjIzYyBi9kDF7IuEbJiI2MwQsZgxcyrlEyYiMjNjJiIyM2MmIjIzYyYiMjNjJiIyM2MmIjIzYyYiMjNjJiI2NdRca6ioxrlIzYyFhXkbGuIuMaJSM2MmIjIzYyYiMjNjJiIyM2MmIjIzYyYiMjNjJiIyM2MmIjY/BCxuCFjGuUjNjIGLyQMXgh4xolIzYyYiMjNjJiIyM2MmIjIzYyYiMjNjJiIyM2MmIjIzYyYiNj8ELG4IWMa5SM2MiIjYx1FRnrKjKuUTJiIyM2MmIjIzYyYiMjNjJiIyM2MmIjIzYyYiMjNjJiIyM2MtZVZKyryLhGyYiNjMELGYMXMq5RMmIjIzYyYiMjNjJiIyM2MmIjIzYyYiMjNjJiIyM2MmIjIzYyBi9kDF7IuEbJLDPzMDP3ex+Em/N+vV7fPj44nM/nz+u6nvY6Ebdp27aXZVm+fAzusK7r6enp6e14PH7d83DcjtfX10+Xy+X0/Px8PzN/xzYzczwevz4+Pv622+m4RQ//fOALAhmxkREbGbGRERsZsZERGxmxkREbGbGRERsZsZERG5nDzJ+vhOx9EG7Hv/V02Lbt5XK5nOY7r4TAf7Vt28vMvH985rVwfpRvXgu3riLjCwIZsZERGxmxkREbGbGRERsZsZERG5k/AMArjog3xrU5AAAAAElFTkSuQmCC\"></img></td>\n",
       "      <td id=\"T_38358_row56_col5\" class=\"data row56 col5\" >7<br>(0.3%)</td>\n",
       "    </tr>\n",
       "    <tr>\n",
       "      <td id=\"T_38358_row57_col0\" class=\"data row57 col0\" >58</td>\n",
       "      <td id=\"T_38358_row57_col1\" class=\"data row57 col1\" ><strong>PostCode (Cor)</strong><br>[object]</td>\n",
       "      <td id=\"T_38358_row57_col2\" class=\"data row57 col2\" >1. nan<br>2. 15810<br>3. 12920<br>4. 15318<br>5. 15820<br>6. 11750<br>7. 14240<br>8. 11530<br>9. 10210<br>10. 15323<br>11. other</td>\n",
       "      <td id=\"T_38358_row57_col3\" class=\"data row57 col3\" >1,967 (90.0%)<br>13 (0.6%)<br>6 (0.3%)<br>6 (0.3%)<br>5 (0.2%)<br>5 (0.2%)<br>4 (0.2%)<br>4 (0.2%)<br>4 (0.2%)<br>4 (0.2%)<br>168 (7.7%)</td>\n",
       "      <td id=\"T_38358_row57_col4\" class=\"data row57 col4\" ><img src = \"data:image/png;base64, iVBORw0KGgoAAAANSUhEUgAAAJsAAAD+CAYAAAAtWHdlAAAAOXRFWHRTb2Z0d2FyZQBNYXRwbG90bGliIHZlcnNpb24zLjkuMiwgaHR0cHM6Ly9tYXRwbG90bGliLm9yZy8hTgPZAAAACXBIWXMAAA9hAAAPYQGoP6dpAAAD/UlEQVR4nO3cTU4jVxiG0a+QRZqJLcsSS0j2wCJ6sb0ILyJ7QIgaNISJM+jOLFL4fUicc8Yu6Q4ecTGql+V0Og0ULj77APx/iI2M2MiIjYzYyIiNjNjIiI2M2MgsM3M1M5effRD+E55Op9PDax/eHA6Hr9vtdv+eJ+I8ret6tyzLt9cGt9lut/ubm5uH3W73+N6H43zc399/OR6P+9vb28uZeV1sMzO73e7x+vr6+7uejnN09ZaHfUEgIzYyYiMjNjJiIyM2MmIjIzYyYiMjNjJiIyM2MmIjIzYym5kf7yp99kH4d3uPRjbrut4dj8f9vPFdJc7fuq53M/P02udtEHiJN20QFv8yi8pfP9nmLcXCc2wOh8PXmZm3rGbgOS622+3+55TP7218KH9nIyM2MmIjIzYyYiMjNjJiIyM2MmIjIzYyYiMjNjJiIyM2MmIjs/k5Yph5w5ABnsNr4WQMXsj4nY3MxbIsvy3LYhHPh7uYmV9n5pfPPgjnzzVKRmxkxEZGbGTERkZsZMRGRmxkxEZGbGTERkZsZMRGRmxkxEbmYmZ+n5k/PvsgnD8bBDKuUTJiIyM2MtZVZKyryLhGyYiNjNjIiI2M2MiIjYzYyIiNjNjIiI2M2MiIjYzYyIiNjNjIWFeRsa4i4xolIzYyBi9kDF7IuEbJiI2M2MiIjYzYyIiNjNjIiI2M2MiIjYzYyIiNjNjIiI2M2MgYvJAxeCHjGiUjNjIGL2QMXsi4RsmIjYzYyIiNjNjIiI2M2MiIjYzYyIiNjNjIiI2M2MiIjYzYyIiNjHUVGesqMq5RMmIjY11FxrqKjGuUjNjIiI2M2MiIjYzYyIiNjNjIiI2M2MiIjYzYyIiNjNjIiI2MwQsZgxcyrlEyYiNj8ELG4IWMa5SM2MiIjYzYyIiNjNjIiI2M2MiIjYzYyIiNjNjIiI2M2MiIjYzBCxmDFzKuUTJiIyM2MtZVZKyryLhGyYiNjNjIiI2M2MiIjYzYyIiNjNjIiI2M2MiIjYzYyIiNjNjIWFeRsa4i4xolIzYyBi9kDF7IuEbJiI2M2MiIjYzYyIiNjNjIiI2M2MiIjYzYyIiNjNjIiI2M2MgYvJAxeCHjGiWzzMzVzFy+4Jmn0+n08EHn4YxtDofD1+12u3/uA+u63i3L8k1wvNRmu93ub25uHna73eM/ffj+/v7L8Xjc397eXs6M2HiRzczMbrd7vL6+/v7MZ64+8DycMV8QyIiNjNjIiI2M2MiIjYzYyIiNjNjIiI2M2MiIjYzYyGxmfrw69JwPP/dz8Hc267reHY/H/Tzz1aF1Xe9m5uljj8U58lo4GesqMr4gkBEbGbGRERsZsZERGxmxkREbGbGR+RMiG65mvlRlqgAAAABJRU5ErkJggg==\"></img></td>\n",
       "      <td id=\"T_38358_row57_col5\" class=\"data row57 col5\" >1,967<br>(90.0%)</td>\n",
       "    </tr>\n",
       "    <tr>\n",
       "      <td id=\"T_38358_row58_col0\" class=\"data row58 col0\" >59</td>\n",
       "      <td id=\"T_38358_row58_col1\" class=\"data row58 col1\" ><strong>Customer Type</strong><br>[object]</td>\n",
       "      <td id=\"T_38358_row58_col2\" class=\"data row58 col2\" >1. People<br>2. Company</td>\n",
       "      <td id=\"T_38358_row58_col3\" class=\"data row58 col3\" >2,178 (99.6%)<br>8 (0.4%)</td>\n",
       "      <td id=\"T_38358_row58_col4\" class=\"data row58 col4\" ><img src = \"data:image/png;base64, iVBORw0KGgoAAAANSUhEUgAAAJsAAAAuCAYAAAA/ZmtKAAAAOXRFWHRTb2Z0d2FyZQBNYXRwbG90bGliIHZlcnNpb24zLjkuMiwgaHR0cHM6Ly9tYXRwbG90bGliLm9yZy8hTgPZAAAACXBIWXMAAA9hAAAPYQGoP6dpAAABG0lEQVR4nO3bMY6DMBRF0e/IiiaNLfQlFsMi0s4+ZxFsB/GLJKLxFJMsgWfJc09F+YorBAin1poBCsnMbmZ27T0Ewzuyu99LKVPvJRhbRGy5lDIty/Kstb56D8KY9n3/Wtd1ymZmtdbXPM+P3qMwtNul9wL8H8QGGWKDDLFBhtggQ2yQITbIEBtkiA0yxAYZYoMMsUGG2CBDbJAhNshks7+f23oPwbg+fSV3/+a3cJwtIjYOvEDlSBzlg8rnzmattWfnLRhcdve7mVlK6YfgcKZLKWV6vyDw3IZT8Z0NMsQGGWKDDLFBhtggQ2yQITbIEBtkiA0yxAYZYoMMsUGG2CBDbJAhNsgQG2SIDTI5Irb39dF1CYbHgRfI/ALJFjRJDx7WYQAAAABJRU5ErkJggg==\"></img></td>\n",
       "      <td id=\"T_38358_row58_col5\" class=\"data row58 col5\" >0<br>(0.0%)</td>\n",
       "    </tr>\n",
       "    <tr>\n",
       "      <td id=\"T_38358_row59_col0\" class=\"data row59 col0\" >60</td>\n",
       "      <td id=\"T_38358_row59_col1\" class=\"data row59 col1\" ><strong>Customer Job Status</strong><br>[object]</td>\n",
       "      <td id=\"T_38358_row59_col2\" class=\"data row59 col2\" >1. Not Defined</td>\n",
       "      <td id=\"T_38358_row59_col3\" class=\"data row59 col3\" >2,186 (100.0%)</td>\n",
       "      <td id=\"T_38358_row59_col4\" class=\"data row59 col4\" ><img src = \"data:image/png;base64, iVBORw0KGgoAAAANSUhEUgAAAJsAAAAXCAYAAAAcEz0vAAAAOXRFWHRTb2Z0d2FyZQBNYXRwbG90bGliIHZlcnNpb24zLjkuMiwgaHR0cHM6Ly9tYXRwbG90bGliLm9yZy8hTgPZAAAACXBIWXMAAA9hAAAPYQGoP6dpAAAAnUlEQVR4nO3bsQ0CMRBE0TlkoSPx6mTJxbgIUvovYZPjQgJqYCyZ/yqY4Ie7m6SHpLuAHyuttWet9Zg9BOsrtdZjjPGOiGv2GKwrM/ciSRFx9d7P2YOwttvsAfgfxAYbYoMNscGG2GBDbLAhNtgQG2yIDTbEBhtigw2xwYbYYENssCE22BAbbIgNNkX6nuzOHoK1Zea+tdZePLzA4QPFNA/EDSh7IQAAAABJRU5ErkJggg==\"></img></td>\n",
       "      <td id=\"T_38358_row59_col5\" class=\"data row59 col5\" >0<br>(0.0%)</td>\n",
       "    </tr>\n",
       "    <tr>\n",
       "      <td id=\"T_38358_row60_col0\" class=\"data row60 col0\" >61</td>\n",
       "      <td id=\"T_38358_row60_col1\" class=\"data row60 col1\" ><strong>Customer Income</strong><br>[object]</td>\n",
       "      <td id=\"T_38358_row60_col2\" class=\"data row60 col2\" >1. Not Defined</td>\n",
       "      <td id=\"T_38358_row60_col3\" class=\"data row60 col3\" >2,186 (100.0%)</td>\n",
       "      <td id=\"T_38358_row60_col4\" class=\"data row60 col4\" ><img src = \"data:image/png;base64, iVBORw0KGgoAAAANSUhEUgAAAJsAAAAXCAYAAAAcEz0vAAAAOXRFWHRTb2Z0d2FyZQBNYXRwbG90bGliIHZlcnNpb24zLjkuMiwgaHR0cHM6Ly9tYXRwbG90bGliLm9yZy8hTgPZAAAACXBIWXMAAA9hAAAPYQGoP6dpAAAAnUlEQVR4nO3bsQ0CMRBE0TlkoSPx6mTJxbgIUvovYZPjQgJqYCyZ/yqY4Ie7m6SHpLuAHyuttWet9Zg9BOsrtdZjjPGOiGv2GKwrM/ciSRFx9d7P2YOwttvsAfgfxAYbYoMNscGG2GBDbLAhNtgQG2yIDTbEBhtigw2xwYbYYENssCE22BAbbIgNNkX6nuzOHoK1Zea+tdZePLzA4QPFNA/EDSh7IQAAAABJRU5ErkJggg==\"></img></td>\n",
       "      <td id=\"T_38358_row60_col5\" class=\"data row60 col5\" >0<br>(0.0%)</td>\n",
       "    </tr>\n",
       "    <tr>\n",
       "      <td id=\"T_38358_row61_col0\" class=\"data row61 col0\" >62</td>\n",
       "      <td id=\"T_38358_row61_col1\" class=\"data row61 col1\" ><strong>Customer Salary Method</strong><br>[object]</td>\n",
       "      <td id=\"T_38358_row61_col2\" class=\"data row61 col2\" >1. Not Defined</td>\n",
       "      <td id=\"T_38358_row61_col3\" class=\"data row61 col3\" >2,186 (100.0%)</td>\n",
       "      <td id=\"T_38358_row61_col4\" class=\"data row61 col4\" ><img src = \"data:image/png;base64, iVBORw0KGgoAAAANSUhEUgAAAJsAAAAXCAYAAAAcEz0vAAAAOXRFWHRTb2Z0d2FyZQBNYXRwbG90bGliIHZlcnNpb24zLjkuMiwgaHR0cHM6Ly9tYXRwbG90bGliLm9yZy8hTgPZAAAACXBIWXMAAA9hAAAPYQGoP6dpAAAAnUlEQVR4nO3bsQ0CMRBE0TlkoSPx6mTJxbgIUvovYZPjQgJqYCyZ/yqY4Ie7m6SHpLuAHyuttWet9Zg9BOsrtdZjjPGOiGv2GKwrM/ciSRFx9d7P2YOwttvsAfgfxAYbYoMNscGG2GBDbLAhNtgQG2yIDTbEBhtigw2xwYbYYENssCE22BAbbIgNNkX6nuzOHoK1Zea+tdZePLzA4QPFNA/EDSh7IQAAAABJRU5ErkJggg==\"></img></td>\n",
       "      <td id=\"T_38358_row61_col5\" class=\"data row61 col5\" >0<br>(0.0%)</td>\n",
       "    </tr>\n",
       "    <tr>\n",
       "      <td id=\"T_38358_row62_col0\" class=\"data row62 col0\" >63</td>\n",
       "      <td id=\"T_38358_row62_col1\" class=\"data row62 col1\" ><strong>Customer Nation</strong><br>[object]</td>\n",
       "      <td id=\"T_38358_row62_col2\" class=\"data row62 col2\" >1. Indonesians</td>\n",
       "      <td id=\"T_38358_row62_col3\" class=\"data row62 col3\" >2,186 (100.0%)</td>\n",
       "      <td id=\"T_38358_row62_col4\" class=\"data row62 col4\" ><img src = \"data:image/png;base64, iVBORw0KGgoAAAANSUhEUgAAAJsAAAAXCAYAAAAcEz0vAAAAOXRFWHRTb2Z0d2FyZQBNYXRwbG90bGliIHZlcnNpb24zLjkuMiwgaHR0cHM6Ly9tYXRwbG90bGliLm9yZy8hTgPZAAAACXBIWXMAAA9hAAAPYQGoP6dpAAAAnUlEQVR4nO3bsQ0CMRBE0TlkoSPx6mTJxbgIUvovYZPjQgJqYCyZ/yqY4Ie7m6SHpLuAHyuttWet9Zg9BOsrtdZjjPGOiGv2GKwrM/ciSRFx9d7P2YOwttvsAfgfxAYbYoMNscGG2GBDbLAhNtgQG2yIDTbEBhtigw2xwYbYYENssCE22BAbbIgNNkX6nuzOHoK1Zea+tdZePLzA4QPFNA/EDSh7IQAAAABJRU5ErkJggg==\"></img></td>\n",
       "      <td id=\"T_38358_row62_col5\" class=\"data row62 col5\" >0<br>(0.0%)</td>\n",
       "    </tr>\n",
       "    <tr>\n",
       "      <td id=\"T_38358_row63_col0\" class=\"data row63 col0\" >64</td>\n",
       "      <td id=\"T_38358_row63_col1\" class=\"data row63 col1\" ><strong>Price</strong><br>[int64]</td>\n",
       "      <td id=\"T_38358_row63_col2\" class=\"data row63 col2\" >Mean (sd) : 362375657.1 (111632470.6)<br>min < med < max:<br>0.0 < 317214000.0 < 762000000.0<br>IQR (CV) : 137040000.0 (3.2)</td>\n",
       "      <td id=\"T_38358_row63_col3\" class=\"data row63 col3\" >619 distinct values</td>\n",
       "      <td id=\"T_38358_row63_col4\" class=\"data row63 col4\" ><img src = \"data:image/png;base64, iVBORw0KGgoAAAANSUhEUgAAAKoAAABGCAYAAABc8A97AAAAOXRFWHRTb2Z0d2FyZQBNYXRwbG90bGliIHZlcnNpb24zLjkuMiwgaHR0cHM6Ly9tYXRwbG90bGliLm9yZy8hTgPZAAAACXBIWXMAAA9hAAAPYQGoP6dpAAACvklEQVR4nO3dMU/bQByG8fcaQp3Q2kpSwZYvgNSBkaVT137Yrt0YgtQ53yALQiATlBQrjpMutFIlKPWdLfy/Pr85J9/wCN9dgs7t93sBXffmtScA/IuD155AVznnBpIOPYdv9vv9Q5Pz+d8R6hOcc4PJZPIlTdORz/j7+/vcOfeVWJtDqE87TNN0dH5+/pBlWVFn4HK5TGaz2ej29vZQEqE2JNpQA1/d6W6362dZlh8fH//wGD/wfC6eEWWooa/usiyTqqpOi6K4kOQTKhoWZagKeHVL0mKxGM3n8+F2u+21MTnUF2uokqQsywqfV3ee57y6O4ZzVJhAqDCBUGECocIEQoUJhAoTCBUmECpMIFSYQKgwgVBhAqHCBEKFCYQKEwgVJhAqTCBUmECoMIFQYQKhwgRChQmEChMIFSYQKkwgVJhAqDCBUGECocIEQoUJhAoTCBUmECpMIFSYQKgwgVBhAqHCBEKFCYQKEwgVJkR9z5RFgVdjSpHebE2oHRJ6NaYU783WhNotQVdjxnyzNaF2kO/VmI+ivB6TzRRMIFSYQKgwgTVqC6qq6ktKnXN1h6a73a7fwpTMI9SGrdfrflmWH6fTaa/X69XauZdlmVRVdVoUxYUk381UlAi1YZvN5iBJkuHZ2VlxcnKS1xm7WCxG8/l8uN1ue23NzypCbcnR0VHtI6Y8z6M8WmoCoUYmYH0sdfjrV0KNSMj6WOr216+EGpGQ9XHXv34l1Aj5rI8fdXaNzIE/TOAvKn4L3IhJLW7GCBWSwjdiknR3d7dyzn2T5DP+r5ETKiSFbcQk6erq6v3l5eWn6XT6oY0TB0LFH3w3YnmeD9o8ceh0qAH/P8SPO15JWycOL4bqnEskvfV4cKhkPB5/zrLsXd2Bv37ccXNz893nwavVKpGk9XqdXF9fDy2Mtfzs5XKZvPSZn+llNry3ZmwAAAAAAElFTkSuQmCC\"></img></td>\n",
       "      <td id=\"T_38358_row63_col5\" class=\"data row63 col5\" >0<br>(0.0%)</td>\n",
       "    </tr>\n",
       "    <tr>\n",
       "      <td id=\"T_38358_row64_col0\" class=\"data row64 col0\" >65</td>\n",
       "      <td id=\"T_38358_row64_col1\" class=\"data row64 col1\" ><strong>Disc</strong><br>[int64]</td>\n",
       "      <td id=\"T_38358_row64_col2\" class=\"data row64 col2\" >Mean (sd) : -1026760.3 (9056119.7)<br>min < med < max:<br>-256000000.0 < 0.0 < 0.0<br>IQR (CV) : 0.0 (-0.1)</td>\n",
       "      <td id=\"T_38358_row64_col3\" class=\"data row64 col3\" >101 distinct values</td>\n",
       "      <td id=\"T_38358_row64_col4\" class=\"data row64 col4\" ><img src = \"data:image/png;base64, iVBORw0KGgoAAAANSUhEUgAAAKoAAABGCAYAAABc8A97AAAAOXRFWHRTb2Z0d2FyZQBNYXRwbG90bGliIHZlcnNpb24zLjkuMiwgaHR0cHM6Ly9tYXRwbG90bGliLm9yZy8hTgPZAAAACXBIWXMAAA9hAAAPYQGoP6dpAAABWklEQVR4nO3XQU7CUBiF0fcMQZi8piFhMSzCxboIdkNMOxDigLoCFBoUrzln+nqTf/BNWqdpKvDXPT36ALjG4tEH8H/UWtellOXM+cc0TcdLj0LlLmqt681m89Ja6+fsx3F8q7W+XopVqNzLsrXW73a7Y9d1p1uGwzCs9vt9fzgclqUUofLzuq47bbfb9xnT9VePfqaIIFQiCJUIQiWCUIkgVCIIlQhCJYJQiSBUIgiVCEIlglCJIFQiCJUIQiWCUIkgVCIIlQhCJYJQiSBUIgiVCEIlglCJIFQiCJUIQiWCUIkgVCIIlQhCJYJQiSBUIgiVCEIlglCJIFQiCJUIQiWCUIkgVCIIlQhCJYJQiSBUIgiVCEIlglCJIFQiCJUIQiWCUIkgVCIIlQhCJYJQiSBUIgiVCEIlglCJIFQiCJUIi+8+qLWuSinPv3AL2dr5fF4Mw7C6dXjN5hOFTCkW7hiMLQAAAABJRU5ErkJggg==\"></img></td>\n",
       "      <td id=\"T_38358_row64_col5\" class=\"data row64 col5\" >0<br>(0.0%)</td>\n",
       "    </tr>\n",
       "    <tr>\n",
       "      <td id=\"T_38358_row65_col0\" class=\"data row65 col0\" >66</td>\n",
       "      <td id=\"T_38358_row65_col1\" class=\"data row65 col1\" ><strong>Add Disc</strong><br>[int64]</td>\n",
       "      <td id=\"T_38358_row65_col2\" class=\"data row65 col2\" >Mean (sd) : -3495275.7 (5719973.1)<br>min < med < max:<br>-70557207.0 < 0.0 < 6198574.0<br>IQR (CV) : 6154720.0 (-0.6)</td>\n",
       "      <td id=\"T_38358_row65_col3\" class=\"data row65 col3\" >362 distinct values</td>\n",
       "      <td id=\"T_38358_row65_col4\" class=\"data row65 col4\" ><img src = \"data:image/png;base64, iVBORw0KGgoAAAANSUhEUgAAAKoAAABGCAYAAABc8A97AAAAOXRFWHRTb2Z0d2FyZQBNYXRwbG90bGliIHZlcnNpb24zLjkuMiwgaHR0cHM6Ly9tYXRwbG90bGliLm9yZy8hTgPZAAAACXBIWXMAAA9hAAAPYQGoP6dpAAACEElEQVR4nO3dsW7iQBhF4X+8gTUR8giQeIEt9w3o0+Zh9xFSUKSm3YoOgZAR3lgLxqlYJQWwzOAk1zpfCyNNcRpj6eLqujbgq0s++wLA/7j77AugPZxzPTPrBh7/W9f1y6kPCRU34ZzrjUajxyzLBiHnN5vN2jn361SshIpb6WZZNphMJi/e+/Kag3mep9PpdLBarbpmRqhonve+HI/HfwKO9s59yMMUJBAqJBAqJBAqJBAqJBAqJBAqJBAqJBAqJBAqJBAqJBAqJBAqJBAqJBAqJBAqJBAqJBAqJBAqJBAqJBAqJBAqJBAqJBAqJDBAgX8it6Oyw+HQueV93iJUmFn8dtRut0urqvpZluWTmYUspZxFqDgK3o4yM5vP54PZbHa/3++/NXE5QsU7odtR6/X67HZULB6mIIFQIYFQIYFQIYFQIYFQIYFQIYFQIYFQIYFQIYFQIYFQIYFQIYFQIYFQIYFQIYFQIYFQIYFQIYFQIYFQIYFQIYFQIYFQIYEBipaJ2I9qdDsqFqG2SMx+VNPbUbEItV2C96Oa3o6KRagtFLIf1fR2VCwepiCBUCGBUCGBUCGBUCGBUCGBn6caEPnvIomZHQLPfum3SzEuhuqcS83s+wfcpS3S4XD44L3vX3uwqqpOURQ/+v3+7yRJdteeP75dWi6Xz9ee3W63qZlZURTpYrG4/8jzeZ6nl77zCsMaiSUSax4mAAAAAElFTkSuQmCC\"></img></td>\n",
       "      <td id=\"T_38358_row65_col5\" class=\"data row65 col5\" >0<br>(0.0%)</td>\n",
       "    </tr>\n",
       "    <tr>\n",
       "      <td id=\"T_38358_row66_col0\" class=\"data row66 col0\" >67</td>\n",
       "      <td id=\"T_38358_row66_col1\" class=\"data row66 col1\" ><strong>Booking Disc</strong><br>[int64]</td>\n",
       "      <td id=\"T_38358_row66_col2\" class=\"data row66 col2\" >Mean (sd) : -903768.1 (5155922.1)<br>min < med < max:<br>-66331000.0 < 0.0 < 2500000.0<br>IQR (CV) : 0.0 (-0.2)</td>\n",
       "      <td id=\"T_38358_row66_col3\" class=\"data row66 col3\" >35 distinct values</td>\n",
       "      <td id=\"T_38358_row66_col4\" class=\"data row66 col4\" ><img src = \"data:image/png;base64, iVBORw0KGgoAAAANSUhEUgAAAKoAAABGCAYAAABc8A97AAAAOXRFWHRTb2Z0d2FyZQBNYXRwbG90bGliIHZlcnNpb24zLjkuMiwgaHR0cHM6Ly9tYXRwbG90bGliLm9yZy8hTgPZAAAACXBIWXMAAA9hAAAPYQGoP6dpAAABWklEQVR4nO3XQU7CUBiF0fcMQZi8piFhMSzCxboIdkNMOxDigLoCFBoUrzln+nqTf/BNWqdpKvDXPT36ALjG4tEH8H/UWtellOXM+cc0TcdLj0LlLmqt681m89Ja6+fsx3F8q7W+XopVqNzLsrXW73a7Y9d1p1uGwzCs9vt9fzgclqUUofLzuq47bbfb9xnT9VePfqaIIFQiCJUIQiWCUIkgVCIIlQhCJYJQiSBUIgiVCEIlglCJIFQiCJUIQiWCUIkgVCIIlQhCJYJQiSBUIgiVCEIlglCJIFQiCJUIQiWCUIkgVCIIlQhCJYJQiSBUIgiVCEIlglCJIFQiCJUIQiWCUIkgVCIIlQhCJYJQiSBUIgiVCEIlglCJIFQiCJUIQiWCUIkgVCIIlQhCJYJQiSBUIgiVCEIlglCJIFQiCJUIi+8+qLWuSinPv3AL2dr5fF4Mw7C6dXjN5hOFTCkW7hiMLQAAAABJRU5ErkJggg==\"></img></td>\n",
       "      <td id=\"T_38358_row66_col5\" class=\"data row66 col5\" >0<br>(0.0%)</td>\n",
       "    </tr>\n",
       "    <tr>\n",
       "      <td id=\"T_38358_row67_col0\" class=\"data row67 col0\" >68</td>\n",
       "      <td id=\"T_38358_row67_col1\" class=\"data row67 col1\" ><strong>Adjustment Price</strong><br>[int64]</td>\n",
       "      <td id=\"T_38358_row67_col2\" class=\"data row67 col2\" >Mean (sd) : 878416.6 (43481898.8)<br>min < med < max:<br>-375980640.0 < 0.0 < 391444000.0<br>IQR (CV) : 0.0 (0.0)</td>\n",
       "      <td id=\"T_38358_row67_col3\" class=\"data row67 col3\" >364 distinct values</td>\n",
       "      <td id=\"T_38358_row67_col4\" class=\"data row67 col4\" ><img src = \"data:image/png;base64, iVBORw0KGgoAAAANSUhEUgAAAKoAAABGCAYAAABc8A97AAAAOXRFWHRTb2Z0d2FyZQBNYXRwbG90bGliIHZlcnNpb24zLjkuMiwgaHR0cHM6Ly9tYXRwbG90bGliLm9yZy8hTgPZAAAACXBIWXMAAA9hAAAPYQGoP6dpAAACW0lEQVR4nO3XvY7aYBBG4ZnAEvMjW4BkOm4gUgpK+rR7sXsJKShScwd0SAhhweJgjFNFSqJNsthO4PWepx8xko8+DV4UhQH37t2tFwBeo33rBe6Vu3fNrFNy/FQUxbHOfd46Qn2Bu3fH4/FjGIbDMvNJkmzd/YlY60OoL+uEYTicz+fHKIrSawZ3u12wWCyGm82mY2aEWhNC/YMoitI4jp9LjHZrX+aN488UJBAqJBAqJBAqJBAqJBAqJBAqJBAqJBAqJBAqJBAqJBAqJBAqJBAqJBAqJBAqJBAqJBAqJBAqJBAqJBAqJBAqJBAqJBAqJBAqJBAqJBAqJBAqJBAqJBAqJBAqJBAqJBAqJBAqJBAqJBAqJBAqJBAqJBAqJBAqJBAqJBAqJBAqJBAqJBAqJBAqJBAqJBAqJBAqJBAqJBAqJBAqJBAqJBAqJBAqJBAqJLRvvUAT5Xn+YGahu5cZPxVFcax5JXmEWrPD4fCQZdnH6XTaarVa6bXzSZJs3f2JWH9GqDU7nU7tIAh6s9ksnUwm22tmd7tdsFgshpvNpmNmhPoDQv1H+v1+Gsfxc4nRbu3LNEBjQ3X3rpl1So6Hl8vloc59XqvifWvW0Bu3kaG6e3c8Hj+GYTgsM59lWZDn+Yc0TT+bWZlXsZSq961Zc2/cuw61wqsYDgaDeD6fJ1EUXf3BV6vVcLlc9s7nc6vEb5dW5b41a/aN+9dQ3T0ws/f/YZdfBaPR6FMURYNrB7+/iFmWfTGzUi+TmdnhcAjW63Xvmpn9fh9Una0iz/O2VTsdbuVrURS//VbfACaLrqj7NhndAAAAAElFTkSuQmCC\"></img></td>\n",
       "      <td id=\"T_38358_row67_col5\" class=\"data row67 col5\" >0<br>(0.0%)</td>\n",
       "    </tr>\n",
       "  </tbody>\n",
       "</table>\n"
      ],
      "text/plain": [
       "<pandas.io.formats.style.Styler at 0x24850f31640>"
      ]
     },
     "execution_count": 3,
     "metadata": {},
     "output_type": "execute_result"
    }
   ],
   "source": [
    "dfSummary(df)"
   ]
  },
  {
   "cell_type": "code",
   "execution_count": null,
   "metadata": {},
   "outputs": [],
   "source": [
    "# Menampilkan semua baris\n",
    "skim(df)"
   ]
  },
  {
   "cell_type": "code",
   "execution_count": null,
   "metadata": {
    "ExecuteTime": {
     "end_time": "2024-12-28T10:02:14.248140Z",
     "start_time": "2024-12-28T10:02:14.152914Z"
    }
   },
   "outputs": [],
   "source": [
    "# Menampilkan semua baris\n",
    "df"
   ]
  },
  {
   "cell_type": "code",
   "execution_count": null,
   "metadata": {
    "ExecuteTime": {
     "end_time": "2024-12-28T10:02:14.516122Z",
     "start_time": "2024-12-28T10:02:14.501466Z"
    }
   },
   "outputs": [],
   "source": [
    "# Melihat dimensi data\n",
    "print(\"Dimensi data:\", df.shape)"
   ]
  },
  {
   "cell_type": "code",
   "execution_count": null,
   "metadata": {
    "ExecuteTime": {
     "end_time": "2024-12-28T10:02:14.668201Z",
     "start_time": "2024-12-28T10:02:14.615333Z"
    }
   },
   "outputs": [],
   "source": [
    "# Menampilkan beberapa baris pertama data\n",
    "print(\"Baris pertama data:\")\n",
    "df.head()\n"
   ]
  },
  {
   "cell_type": "code",
   "execution_count": null,
   "metadata": {
    "ExecuteTime": {
     "end_time": "2024-12-28T10:02:15.097581Z",
     "start_time": "2024-12-28T10:02:15.039206Z"
    }
   },
   "outputs": [],
   "source": [
    "# Menampilkan beberapa baris terakhir data\n",
    "print(\"Baris terakhir data:\")\n",
    "df.tail()"
   ]
  },
  {
   "cell_type": "code",
   "execution_count": null,
   "metadata": {
    "ExecuteTime": {
     "end_time": "2024-12-28T10:02:15.827608Z",
     "start_time": "2024-12-28T10:02:15.738856Z"
    }
   },
   "outputs": [],
   "source": [
    "# Mengecek tipe data dari setiap kolom\n",
    "print(\"Tipe data setiap kolom:\")\n",
    "df.dtypes"
   ]
  },
  {
   "cell_type": "code",
   "execution_count": null,
   "metadata": {
    "ExecuteTime": {
     "end_time": "2024-12-28T10:02:16.967123Z",
     "start_time": "2024-12-28T10:02:16.498646Z"
    }
   },
   "outputs": [],
   "source": [
    "# Menghitung statistik deskriptif untuk kolom numerik\n",
    "print(\"Statistik deskriptif untuk kolom numerik:\")\n",
    "df.describe()"
   ]
  },
  {
   "cell_type": "markdown",
   "metadata": {},
   "source": [
    "# <p style=\"background-color:lime; font-family:calibri; color:maroon; font-size:150%; text-align:center; border-radius:15px 50px;\">3. Data Preparation</p>"
   ]
  },
  {
   "cell_type": "code",
   "execution_count": 4,
   "metadata": {
    "ExecuteTime": {
     "end_time": "2024-12-28T10:02:18.857466Z",
     "start_time": "2024-12-28T10:02:18.811336Z"
    }
   },
   "outputs": [
    {
     "name": "stdout",
     "output_type": "stream",
     "text": [
      "Nilai yang hilang di setiap kolom:\n"
     ]
    },
    {
     "data": {
      "text/plain": [
       "No                  0\n",
       "Customer Name       0\n",
       "Address             0\n",
       "City                0\n",
       "Province            0\n",
       "                   ..\n",
       "Price               0\n",
       "Disc                0\n",
       "Add Disc            0\n",
       "Booking Disc        0\n",
       "Adjustment Price    0\n",
       "Length: 68, dtype: int64"
      ]
     },
     "execution_count": 4,
     "metadata": {},
     "output_type": "execute_result"
    }
   ],
   "source": [
    "# Mengecek nilai yang hilang (missing values) di setiap kolom\n",
    "print(\"Nilai yang hilang di setiap kolom:\")\n",
    "df.isnull().sum()"
   ]
  },
  {
   "cell_type": "code",
   "execution_count": null,
   "metadata": {
    "ExecuteTime": {
     "end_time": "2024-12-28T10:02:19.879049Z",
     "start_time": "2024-12-28T10:02:19.867819Z"
    }
   },
   "outputs": [],
   "source": [
    "# # Langkah 1: Menangani Missing Values\n",
    "# # Mengisi nilai yang hilang dengan mean untuk kolom numerik dan mode untuk kolom kategorikal\n",
    "# for column in df.select_dtypes(include=[np.number]).columns:\n",
    "#     df[column].fillna(df[column].mean(), inplace=True)\n",
    "\n",
    "# for column in df.select_dtypes(include=[object]).columns:\n",
    "#     df[column].fillna(df[column].mode()[0], inplace=True)"
   ]
  },
  {
   "cell_type": "code",
   "execution_count": 5,
   "metadata": {
    "ExecuteTime": {
     "end_time": "2024-12-28T10:02:21.088250Z",
     "start_time": "2024-12-28T10:02:21.015237Z"
    }
   },
   "outputs": [],
   "source": [
    "# Langkah 2.1: Feature Selection yaitu Menghapus kolom tertentu dengan kaidah yang sudah ditentukan\n",
    "drop_column = ['No', 'Project', 'Category', 'Detail', 'Facing', 'Cancel Type', 'Deal Closer Team', 'Akad KPA/R Date', 'PostCode (ID)', 'Address (Cor)', 'PostCode (Cor)', 'Customer Job Status', 'Customer Income', 'Customer Salary Method', 'Customer Nation', 'Book Date', 'Month', 'Country', 'Province', 'City', 'Unique ID', 'Block/Floor', 'Akad Month', 'PS Code', 'Net Area', 'Disc', 'Add Disc', 'Booking Disc', 'Adjustment Price', 'Status Checklist Document', 'Country (Cor)', 'Deal Closer', 'Sales Referral', 'Booking Term', 'Booking Term Price Scheme', 'Unit Name', 'Term Payment', 'Semi Gross Area', 'Area', 'Price', 'Customer Type', 'Booking Info', 'City (cor)', 'Province (cor)', 'Fin Scheme', 'Sales Location']\n",
    "df = df.drop(columns=drop_column)"
   ]
  },
  {
   "cell_type": "code",
   "execution_count": 6,
   "metadata": {},
   "outputs": [
    {
     "data": {
      "text/html": [
       "<style type=\"text/css\">\n",
       "#T_1abf2 thead>tr>th {\n",
       "  text-align: left;\n",
       "}\n",
       "#T_1abf2_row0_col0, #T_1abf2_row1_col0, #T_1abf2_row2_col0, #T_1abf2_row3_col0, #T_1abf2_row4_col0, #T_1abf2_row5_col0, #T_1abf2_row6_col0, #T_1abf2_row7_col0, #T_1abf2_row8_col0, #T_1abf2_row9_col0, #T_1abf2_row10_col0, #T_1abf2_row11_col0, #T_1abf2_row12_col0, #T_1abf2_row13_col0, #T_1abf2_row14_col0, #T_1abf2_row15_col0, #T_1abf2_row16_col0, #T_1abf2_row17_col0, #T_1abf2_row18_col0, #T_1abf2_row19_col0, #T_1abf2_row20_col0, #T_1abf2_row21_col0 {\n",
       "  text-align: left;\n",
       "  font-size: 12px;\n",
       "  vertical-align: middle;\n",
       "  width: 5%;\n",
       "  max-width: 50px;\n",
       "  min-width: 20px;\n",
       "}\n",
       "#T_1abf2_row0_col1, #T_1abf2_row1_col1, #T_1abf2_row2_col1, #T_1abf2_row3_col1, #T_1abf2_row4_col1, #T_1abf2_row5_col1, #T_1abf2_row6_col1, #T_1abf2_row7_col1, #T_1abf2_row8_col1, #T_1abf2_row9_col1, #T_1abf2_row10_col1, #T_1abf2_row11_col1, #T_1abf2_row12_col1, #T_1abf2_row13_col1, #T_1abf2_row14_col1, #T_1abf2_row15_col1, #T_1abf2_row16_col1, #T_1abf2_row17_col1, #T_1abf2_row18_col1, #T_1abf2_row19_col1, #T_1abf2_row20_col1, #T_1abf2_row21_col1 {\n",
       "  text-align: left;\n",
       "  font-size: 12px;\n",
       "  vertical-align: middle;\n",
       "  width: 15%;\n",
       "  max-width: 200px;\n",
       "  min-width: 100px;\n",
       "  word-break: break-word;\n",
       "}\n",
       "#T_1abf2_row0_col2, #T_1abf2_row1_col2, #T_1abf2_row2_col2, #T_1abf2_row3_col2, #T_1abf2_row4_col2, #T_1abf2_row5_col2, #T_1abf2_row6_col2, #T_1abf2_row7_col2, #T_1abf2_row8_col2, #T_1abf2_row9_col2, #T_1abf2_row10_col2, #T_1abf2_row11_col2, #T_1abf2_row12_col2, #T_1abf2_row13_col2, #T_1abf2_row14_col2, #T_1abf2_row15_col2, #T_1abf2_row16_col2, #T_1abf2_row17_col2, #T_1abf2_row18_col2, #T_1abf2_row19_col2, #T_1abf2_row20_col2, #T_1abf2_row21_col2 {\n",
       "  text-align: left;\n",
       "  font-size: 12px;\n",
       "  vertical-align: middle;\n",
       "  width: 30%;\n",
       "  min-width: 100px;\n",
       "}\n",
       "#T_1abf2_row0_col3, #T_1abf2_row1_col3, #T_1abf2_row2_col3, #T_1abf2_row3_col3, #T_1abf2_row4_col3, #T_1abf2_row5_col3, #T_1abf2_row6_col3, #T_1abf2_row7_col3, #T_1abf2_row8_col3, #T_1abf2_row9_col3, #T_1abf2_row10_col3, #T_1abf2_row11_col3, #T_1abf2_row12_col3, #T_1abf2_row13_col3, #T_1abf2_row14_col3, #T_1abf2_row15_col3, #T_1abf2_row16_col3, #T_1abf2_row17_col3, #T_1abf2_row18_col3, #T_1abf2_row19_col3, #T_1abf2_row20_col3, #T_1abf2_row21_col3 {\n",
       "  text-align: left;\n",
       "  font-size: 12px;\n",
       "  vertical-align: middle;\n",
       "  width: 25%;\n",
       "  min-width: 100px;\n",
       "}\n",
       "#T_1abf2_row0_col4, #T_1abf2_row1_col4, #T_1abf2_row2_col4, #T_1abf2_row3_col4, #T_1abf2_row4_col4, #T_1abf2_row5_col4, #T_1abf2_row6_col4, #T_1abf2_row7_col4, #T_1abf2_row8_col4, #T_1abf2_row9_col4, #T_1abf2_row10_col4, #T_1abf2_row11_col4, #T_1abf2_row12_col4, #T_1abf2_row13_col4, #T_1abf2_row14_col4, #T_1abf2_row15_col4, #T_1abf2_row16_col4, #T_1abf2_row17_col4, #T_1abf2_row18_col4, #T_1abf2_row19_col4, #T_1abf2_row20_col4, #T_1abf2_row21_col4 {\n",
       "  text-align: left;\n",
       "  font-size: 12px;\n",
       "  vertical-align: middle;\n",
       "  width: 20%;\n",
       "  min-width: 150px;\n",
       "}\n",
       "#T_1abf2_row0_col5, #T_1abf2_row1_col5, #T_1abf2_row2_col5, #T_1abf2_row3_col5, #T_1abf2_row4_col5, #T_1abf2_row5_col5, #T_1abf2_row6_col5, #T_1abf2_row7_col5, #T_1abf2_row8_col5, #T_1abf2_row9_col5, #T_1abf2_row10_col5, #T_1abf2_row11_col5, #T_1abf2_row12_col5, #T_1abf2_row13_col5, #T_1abf2_row14_col5, #T_1abf2_row15_col5, #T_1abf2_row16_col5, #T_1abf2_row17_col5, #T_1abf2_row18_col5, #T_1abf2_row19_col5, #T_1abf2_row20_col5, #T_1abf2_row21_col5 {\n",
       "  text-align: left;\n",
       "  font-size: 12px;\n",
       "  vertical-align: middle;\n",
       "  width: 10%;\n",
       "}\n",
       "</style>\n",
       "<table id=\"T_1abf2\">\n",
       "  <caption><strong>Data Frame Summary</strong><br>df<br>Dimensions: 2,186 x 22<br>Duplicates: 68</caption>\n",
       "  <thead>\n",
       "    <tr>\n",
       "      <th id=\"T_1abf2_level0_col0\" class=\"col_heading level0 col0\" >No</th>\n",
       "      <th id=\"T_1abf2_level0_col1\" class=\"col_heading level0 col1\" >Variable</th>\n",
       "      <th id=\"T_1abf2_level0_col2\" class=\"col_heading level0 col2\" >Stats / Values</th>\n",
       "      <th id=\"T_1abf2_level0_col3\" class=\"col_heading level0 col3\" >Freqs / (% of Valid)</th>\n",
       "      <th id=\"T_1abf2_level0_col4\" class=\"col_heading level0 col4\" >Graph</th>\n",
       "      <th id=\"T_1abf2_level0_col5\" class=\"col_heading level0 col5\" >Missing</th>\n",
       "    </tr>\n",
       "  </thead>\n",
       "  <tbody>\n",
       "    <tr>\n",
       "      <td id=\"T_1abf2_row0_col0\" class=\"data row0 col0\" >1</td>\n",
       "      <td id=\"T_1abf2_row0_col1\" class=\"data row0 col1\" ><strong>Customer Name</strong><br>[object]</td>\n",
       "      <td id=\"T_1abf2_row0_col2\" class=\"data row0 col2\" >1. PINGKI ELKA PANGESTU<br>2. MARI ELKA PANGESTU<br>3. VALERIE ANGGERANI<br>4. TJANDRA MAKMUR SUHAIMI<br>5. PT.BEST MANAJEMEN INDONESIA<br>6. Djong Briliant Angela<br>7. Cokorda Istri Dewi<br>8. OCKY OKTAVIANUS SLAMET<br>9. Mgs. Ferry Arifin<br>10. Henny Tan<br>11. other</td>\n",
       "      <td id=\"T_1abf2_row0_col3\" class=\"data row0 col3\" >10 (0.5%)<br>10 (0.5%)<br>7 (0.3%)<br>6 (0.3%)<br>6 (0.3%)<br>5 (0.2%)<br>5 (0.2%)<br>5 (0.2%)<br>5 (0.2%)<br>5 (0.2%)<br>2,122 (97.1%)</td>\n",
       "      <td id=\"T_1abf2_row0_col4\" class=\"data row0 col4\" ><img src = \"data:image/png;base64, iVBORw0KGgoAAAANSUhEUgAAAJsAAAD+CAYAAAAtWHdlAAAAOXRFWHRTb2Z0d2FyZQBNYXRwbG90bGliIHZlcnNpb24zLjkuMiwgaHR0cHM6Ly9tYXRwbG90bGliLm9yZy8hTgPZAAAACXBIWXMAAA9hAAAPYQGoP6dpAAADn0lEQVR4nO3cQWojVxhG0b+McNqTEkLgJSR78CJ6sb0ILSJ7MMY1iDueKIMEYtKdSaBvgXLOyNToDS5+kqnPy/V6HSjc7X0A/j/ERkZsZMRGRmxkxEZGbGTERkZsZJaZeZiZuV6vbzufhRt3OJ/Pn2dmlmX5Ijh+pLt1XU/rup5m5n7vw3DbfGYjIzYyYiMjNjJiIyM2MmIjIzYyYiMjNjJiIyM2MmIjIzYyYiMjNjKHbdte/vr5fdeTcPNsEMgs/mUWFb/ZyFhXkbGuIuNPH2TERkZsZMRGRmxkxEZGbGTERkZsZMRGRmxkxEZGbGTERkZsZAxeyHgtnIzBCxmf2cjcLcvyy7Isn/Y+CLfvbmZ+npmf9j4It881SkZsZMRGRmxkxEZGbGTERkZsZMRGRmxkxEZGbGTERkZsZMRG5m5mfp2Z3/c+CLfPBoGMa5SM2MiIjYx1FRnrKjKuUTJiIyM2MmIjIzYyYiMjNjJiIyM2MmIjIzYyYiMjNjJiIyM2MtZVZKyryLhGyYiNjMELGYMXMq5RMmIjIzYyYiMjNjJiIyM2MmIjIzYyYiMjNjJiIyM2MmIjIzYyBi9kDF7IuEbJiI2MwQsZgxcyrlEyYiMjNjJiIyM2MmIjIzYyYiMjNjJiIyM2MmIjIzYyYiMjNjJiI2NdRca6ioxrlIzYyFhXkbGuIuMaJSM2MmIjIzYyYiMjNjJiIyM2MmIjIzYyYiMjNjJiIyM2MmIjY/BCxuCFjGuUjNjIGLyQMXgh4xolIzYyYiMjNjJiIyM2MmIjIzYyYiMjNjJiIyM2MmIjIzYyYiNj8ELG4IWMa5SM2MiIjYx1FRnrKjKuUTJiIyM2MmIjIzYyYiMjNjJiIyM2MmIjIzYyYiMjNjJiIyM2MtZVZKyryLhGyYiNjMELGYMXMq5RMmIjIzYyYiMjNjJiIyM2MmIjIzYyYiMjNjJiIyM2MmIjIzYyBi9kDF7IuEbJLDPzMDP3ex+Em/N+vV7fPj44nM/nz+u6nvY6Ebdp27aXZVm+fAzusK7r6enp6e14PH7d83DcjtfX10+Xy+X0/Px8PzN/xzYzczwevz4+Pv622+m4RQ//fOALAhmxkREbGbGRERsZsZERGxmxkREbGbGRERsZsZERG5nDzJ+vhOx9EG7Hv/V02Lbt5XK5nOY7r4TAf7Vt28vMvH985rVwfpRvXgu3riLjCwIZsZERGxmxkREbGbGRERsZsZERG5k/AMArjog3xrU5AAAAAElFTkSuQmCC\"></img></td>\n",
       "      <td id=\"T_1abf2_row0_col5\" class=\"data row0 col5\" >0<br>(0.0%)</td>\n",
       "    </tr>\n",
       "    <tr>\n",
       "      <td id=\"T_1abf2_row1_col0\" class=\"data row1 col0\" >2</td>\n",
       "      <td id=\"T_1abf2_row1_col1\" class=\"data row1 col1\" ><strong>Address</strong><br>[object]</td>\n",
       "      <td id=\"T_1abf2_row1_col2\" class=\"data row1 col2\" >1. JL.LAMANDAU RAYA NO.16 RT003/0<br>2. JL.LAMANDAU RAYA 16 RT003/RW00<br>3. DR.RUM NO. 14 RT. 004/002 KEL.<br>4. Komplek TSS Indah Blok A/81.S <br>5. jl.pos pengumben lama blok 10 <br>6. Apt W.G.P B3 No.14 Rt/Rw. 005/<br>7. JL. Flamboyan Pesona Blok E.3 <br>8. Taman Mutiara Palem, Blok A7/1<br>9. JL.KELAPA PUAN XV AF 11/1 RT.0<br>10. Jl. Sutera Intan III No.5 Alam<br>11. other</td>\n",
       "      <td id=\"T_1abf2_row1_col3\" class=\"data row1 col3\" >10 (0.5%)<br>10 (0.5%)<br>7 (0.3%)<br>6 (0.3%)<br>6 (0.3%)<br>5 (0.2%)<br>5 (0.2%)<br>5 (0.2%)<br>5 (0.2%)<br>5 (0.2%)<br>2,122 (97.1%)</td>\n",
       "      <td id=\"T_1abf2_row1_col4\" class=\"data row1 col4\" ><img src = \"data:image/png;base64, iVBORw0KGgoAAAANSUhEUgAAAJsAAAD+CAYAAAAtWHdlAAAAOXRFWHRTb2Z0d2FyZQBNYXRwbG90bGliIHZlcnNpb24zLjkuMiwgaHR0cHM6Ly9tYXRwbG90bGliLm9yZy8hTgPZAAAACXBIWXMAAA9hAAAPYQGoP6dpAAADn0lEQVR4nO3cQWojVxhG0b+McNqTEkLgJSR78CJ6sb0ILSJ7MMY1iDueKIMEYtKdSaBvgXLOyNToDS5+kqnPy/V6HSjc7X0A/j/ERkZsZMRGRmxkxEZGbGTERkZsZJaZeZiZuV6vbzufhRt3OJ/Pn2dmlmX5Ijh+pLt1XU/rup5m5n7vw3DbfGYjIzYyYiMjNjJiIyM2MmIjIzYyYiMjNjJiIyM2MmIjIzYyYiMjNjKHbdte/vr5fdeTcPNsEMgs/mUWFb/ZyFhXkbGuIuNPH2TERkZsZMRGRmxkxEZGbGTERkZsZMRGRmxkxEZGbGTERkZsZAxeyHgtnIzBCxmf2cjcLcvyy7Isn/Y+CLfvbmZ+npmf9j4It881SkZsZMRGRmxkxEZGbGTERkZsZMRGRmxkxEZGbGTERkZsZMRG5m5mfp2Z3/c+CLfPBoGMa5SM2MiIjYx1FRnrKjKuUTJiIyM2MmIjIzYyYiMjNjJiIyM2MmIjIzYyYiMjNjJiIyM2MtZVZKyryLhGyYiNjMELGYMXMq5RMmIjIzYyYiMjNjJiIyM2MmIjIzYyYiMjNjJiIyM2MmIjIzYyBi9kDF7IuEbJiI2MwQsZgxcyrlEyYiMjNjJiIyM2MmIjIzYyYiMjNjJiIyM2MmIjIzYyYiMjNjJiI2NdRca6ioxrlIzYyFhXkbGuIuMaJSM2MmIjIzYyYiMjNjJiIyM2MmIjIzYyYiMjNjJiIyM2MmIjY/BCxuCFjGuUjNjIGLyQMXgh4xolIzYyYiMjNjJiIyM2MmIjIzYyYiMjNjJiIyM2MmIjIzYyYiNj8ELG4IWMa5SM2MiIjYx1FRnrKjKuUTJiIyM2MmIjIzYyYiMjNjJiIyM2MmIjIzYyYiMjNjJiIyM2MtZVZKyryLhGyYiNjMELGYMXMq5RMmIjIzYyYiMjNjJiIyM2MmIjIzYyYiMjNjJiIyM2MmIjIzYyBi9kDF7IuEbJLDPzMDP3ex+Em/N+vV7fPj44nM/nz+u6nvY6Ebdp27aXZVm+fAzusK7r6enp6e14PH7d83DcjtfX10+Xy+X0/Px8PzN/xzYzczwevz4+Pv622+m4RQ//fOALAhmxkREbGbGRERsZsZERGxmxkREbGbGRERsZsZERG5nDzJ+vhOx9EG7Hv/V02Lbt5XK5nOY7r4TAf7Vt28vMvH985rVwfpRvXgu3riLjCwIZsZERGxmxkREbGbGRERsZsZERG5k/AMArjog3xrU5AAAAAElFTkSuQmCC\"></img></td>\n",
       "      <td id=\"T_1abf2_row1_col5\" class=\"data row1 col5\" >0<br>(0.0%)</td>\n",
       "    </tr>\n",
       "    <tr>\n",
       "      <td id=\"T_1abf2_row2_col0\" class=\"data row2 col0\" >3</td>\n",
       "      <td id=\"T_1abf2_row2_col1\" class=\"data row2 col1\" ><strong>Sex</strong><br>[object]</td>\n",
       "      <td id=\"T_1abf2_row2_col2\" class=\"data row2 col2\" >1. Pria<br>2. Wanita</td>\n",
       "      <td id=\"T_1abf2_row2_col3\" class=\"data row2 col3\" >1,096 (50.1%)<br>1,090 (49.9%)</td>\n",
       "      <td id=\"T_1abf2_row2_col4\" class=\"data row2 col4\" ><img src = \"data:image/png;base64, iVBORw0KGgoAAAANSUhEUgAAAJsAAAAuCAYAAAA/ZmtKAAAAOXRFWHRTb2Z0d2FyZQBNYXRwbG90bGliIHZlcnNpb24zLjkuMiwgaHR0cHM6Ly9tYXRwbG90bGliLm9yZy8hTgPZAAAACXBIWXMAAA9hAAAPYQGoP6dpAAABN0lEQVR4nO3bwYnDMBRF0a8gwmQjYQwuxkVMsSlC3RhjLZKQjWYxDcR/8YTIPRV8zMWQ4BdaawYoBDO7mdm19yEDerfWnr2PGEmc5/k3pTT1PmQ0tdY9hHAnuM/FlNK0rusz5/zqfcwojuP4KaVM27ZdzYzYPhTNzHLOr2VZHr2PGcyt9wGjufQ+AN+D2CBDbJAhNsgQG2SIDTLEBhligwyxQYbYIENskCE2yBAbZIgNMsQGmWj2/zFg70NGwvPyibXWvZQyGR8DnlJr3c3s3fuOkTB48WPwclJgygcV3mw+vNUcmPI5MOPzYcp3EjM+P6Z8Pvxyd+BPXcgQG2SIDTLEBhligwyxQYbYIENskCE2yBAbZIgNMsQGGWKDDLFBhtggw5TvJJ6VH1M+B2Z8PgxefBi8OPwBCltq31np+ZoAAAAASUVORK5CYII=\"></img></td>\n",
       "      <td id=\"T_1abf2_row2_col5\" class=\"data row2 col5\" >0<br>(0.0%)</td>\n",
       "    </tr>\n",
       "    <tr>\n",
       "      <td id=\"T_1abf2_row3_col0\" class=\"data row3 col0\" >4</td>\n",
       "      <td id=\"T_1abf2_row3_col1\" class=\"data row3 col1\" ><strong>Religion</strong><br>[object]</td>\n",
       "      <td id=\"T_1abf2_row3_col2\" class=\"data row3 col2\" >1. Kristen<br>2. Islam<br>3. Katolik<br>4. Budha<br>5. Hindu</td>\n",
       "      <td id=\"T_1abf2_row3_col3\" class=\"data row3 col3\" >648 (29.6%)<br>638 (29.2%)<br>555 (25.4%)<br>317 (14.5%)<br>28 (1.3%)</td>\n",
       "      <td id=\"T_1abf2_row3_col4\" class=\"data row3 col4\" ><img src = \"data:image/png;base64, iVBORw0KGgoAAAANSUhEUgAAAJsAAABzCAYAAACPdnBjAAAAOXRFWHRTb2Z0d2FyZQBNYXRwbG90bGliIHZlcnNpb24zLjkuMiwgaHR0cHM6Ly9tYXRwbG90bGliLm9yZy8hTgPZAAAACXBIWXMAAA9hAAAPYQGoP6dpAAACaElEQVR4nO3bQWrbUBiF0d/GpPVExgSyDC/Ai+hiuwgvwPsIJhrUaSbuIKU0IVC7RVd66jkreIMPiSd0F5fLpSBhOfYB+H+IjRixEbOoqnVV3Y19kL/wcrlczmMfguut7u/vv3Rdtx37ILfq+/60WCy+Cq4dq67rtvv9/rzZbJ7HPsy1np6ePh8Oh+3j4+NdVYmtEauqqs1m8/zw8PBt7MPcaD32AbiNCwIxYiNGbMSIjRixESM2YsRGjNiIERsxYiNGbMSIjRixEbOqev1lZ+yD3KK18/Jq1ff96XA4bKuxX3b6vj9V1cvY5+B6fgsnZmE3SooLAjGtvka9QhvU5LrKsqpNza2rLKva1eq6qqnPNLxyQSBGbMSIjRixESM2YsRGjNiIERsxYiNGbMSIjRixESM2YppbV7V0Vt5qcl1lWdUmv4UTY11FjAsCMVN/jXpdzsik11VWVPMy2XWVFdX8TH1d1cznGP7MBYEYsREjNmLERozYiBEbMWIjRmzEiI0YsREjNmLERozYiJnsumqKZ+LfTHpdZUU1L34LJ8a6ipghn2yeSrwx2ODFWIX3Bhm8GKvwkSEHL5O73TIuH3WJERsxYiNGbMSIjRixESM2YsRGjNiIERsxYiNGbMSIjRixETPIusoyio8Mtq6yjOI9GwRirKuI+f3J5knEoH6tq6yhGNqy67rtbrern3O+qS7jmYFlVdV6vf4+9kGYPx91iREbMWIjRmzEiI0YsREjNmLERozYiBEbMWIjRmzEiI0YsRGzrKo6n8+fxj4I87fs+/50PB6toRicDQIx1lXEuCAQIzZifgAarf8N/jF6XAAAAABJRU5ErkJggg==\"></img></td>\n",
       "      <td id=\"T_1abf2_row3_col5\" class=\"data row3 col5\" >0<br>(0.0%)</td>\n",
       "    </tr>\n",
       "    <tr>\n",
       "      <td id=\"T_1abf2_row4_col0\" class=\"data row4 col0\" >5</td>\n",
       "      <td id=\"T_1abf2_row4_col1\" class=\"data row4 col1\" ><strong>Marital</strong><br>[object]</td>\n",
       "      <td id=\"T_1abf2_row4_col2\" class=\"data row4 col2\" >1. Married<br>2. Single</td>\n",
       "      <td id=\"T_1abf2_row4_col3\" class=\"data row4 col3\" >1,278 (58.5%)<br>908 (41.5%)</td>\n",
       "      <td id=\"T_1abf2_row4_col4\" class=\"data row4 col4\" ><img src = \"data:image/png;base64, iVBORw0KGgoAAAANSUhEUgAAAJsAAAAuCAYAAAA/ZmtKAAAAOXRFWHRTb2Z0d2FyZQBNYXRwbG90bGliIHZlcnNpb24zLjkuMiwgaHR0cHM6Ly9tYXRwbG90bGliLm9yZy8hTgPZAAAACXBIWXMAAA9hAAAPYQGoP6dpAAABMElEQVR4nO3bwYnDQBBE0dIizPoygxAoGAWxwW4Qk40QmoNtfJk9bA7V4P4vgrb5CGxU0xhDgMMk6S7pFn1IEu8xxjP6iCjzuq4/pZQl+pAMeu/nNE2/WYObSynLvu/PWusr+phPdl3Xd2ttOY7jJilnbJJUa31t2/aIPiaBe/QBkb6iD0AexAYbYoMNscGG2GBDbLAhNtgQG2yIDTbEBhtigw2xwYbYYENssCE22MzS/4t90Yd8Or5jae69n621Rclf7HPovZ+S3tF3RGHw4pV68DIx5YMLT7bkTxun9FO+7PM6p9RTPuZ1Xkz5+BVuw5+6sCE22BAbbIgNNsQGG2KDDbHBhthgQ2ywITbYEBtsiA02xAYbYoMNscEm9ZQv6+eOkn7Kl31e58TghcGLzR8KW2rflCE6AAAAAABJRU5ErkJggg==\"></img></td>\n",
       "      <td id=\"T_1abf2_row4_col5\" class=\"data row4 col5\" >0<br>(0.0%)</td>\n",
       "    </tr>\n",
       "    <tr>\n",
       "      <td id=\"T_1abf2_row5_col0\" class=\"data row5 col0\" >6</td>\n",
       "      <td id=\"T_1abf2_row5_col1\" class=\"data row5 col1\" ><strong>Job</strong><br>[object]</td>\n",
       "      <td id=\"T_1abf2_row5_col2\" class=\"data row5 col2\" >1. Staff Level<br>2. Managerial Level<br>3. Owner (Commisioner)</td>\n",
       "      <td id=\"T_1abf2_row5_col3\" class=\"data row5 col3\" >1,056 (48.3%)<br>632 (28.9%)<br>498 (22.8%)</td>\n",
       "      <td id=\"T_1abf2_row5_col4\" class=\"data row5 col4\" ><img src = \"data:image/png;base64, iVBORw0KGgoAAAANSUhEUgAAAJsAAABFCAYAAABdVZTTAAAAOXRFWHRTb2Z0d2FyZQBNYXRwbG90bGliIHZlcnNpb24zLjkuMiwgaHR0cHM6Ly9tYXRwbG90bGliLm9yZy8hTgPZAAAACXBIWXMAAA9hAAAPYQGoP6dpAAABmElEQVR4nO3bQWrbABRF0a9iQjORMAYvxovoYrsI7cYYa9CETNRBRx2VJORJ3z1nBR9zsZHwG9Z1LUj4tvUB/D+GqnquqqetD2nibV3Xl62P6OpwOp1+jON43PqQDpZluQ3D8FNwH3MYx/F4uVxepml63fqYPbvf79/neT5er9enqhLbBxyqqqZpej2fz7+2PqaB560P6MwDAjFiI0ZsxIiNGLERIzZixEaM2IgRGzFiI0ZsxIiNGLERIzZiDlV//qu19SF75zP6vMOyLLd5no/lv1r/tCzLraretr6jKxuE97FB+ITBlI+Urt9svmEaarmusnLqqd26ysqpr67rKk/ODXmpS4zYiBEbMWIjRmzEiI0YsREjNmLERozYiBEbMWIjRmzEiI2YduuqTrfyt5brKiunnmwQiLGuIsYDAjF7+xn18/jAdjXlM9F7bLuZ8pnoPb69TfnavH7h/TwgECM2YsRGjNiIERsxYiNGbMSIjRixESM2YsRGjNiIERsxYiNmN1O+PdzA19rVlM9E77HZIBBjykfMb0q8o0pZxp1qAAAAAElFTkSuQmCC\"></img></td>\n",
       "      <td id=\"T_1abf2_row5_col5\" class=\"data row5 col5\" >0<br>(0.0%)</td>\n",
       "    </tr>\n",
       "    <tr>\n",
       "      <td id=\"T_1abf2_row6_col0\" class=\"data row6 col0\" >7</td>\n",
       "      <td id=\"T_1abf2_row6_col1\" class=\"data row6 col1\" ><strong>Grade</strong><br>[object]</td>\n",
       "      <td id=\"T_1abf2_row6_col2\" class=\"data row6 col2\" >1. Ordinary<br>2. Super VIP</td>\n",
       "      <td id=\"T_1abf2_row6_col3\" class=\"data row6 col3\" >1,589 (72.7%)<br>597 (27.3%)</td>\n",
       "      <td id=\"T_1abf2_row6_col4\" class=\"data row6 col4\" ><img src = \"data:image/png;base64, iVBORw0KGgoAAAANSUhEUgAAAJsAAAAuCAYAAAA/ZmtKAAAAOXRFWHRTb2Z0d2FyZQBNYXRwbG90bGliIHZlcnNpb24zLjkuMiwgaHR0cHM6Ly9tYXRwbG90bGliLm9yZy8hTgPZAAAACXBIWXMAAA9hAAAPYQGoP6dpAAABP0lEQVR4nO3bQWrDMBRF0a9iQjORMAYvxovoYrsI7cYYa5CETJRBh8UkdeHJv71nBR9yE4jxC7VWAxSCmZ3N7NT6EPzKvdZ6bX3EM90wDB8xxr71IdivlLKEED6PHlwXY+ynabqmlG6tj8HPrev6nnPu53k+mdmxYzMzSyndxnG8tD4Gu51bH/CKt9YH4P8gNsgQG2SIDTLEBhligwyxQYbYIENskCE2yBAbZIgNMsQGGWKDDLFBpjP7egGv9SHYx9Nn15VSlpxzb05ewMN3pZTFzO6t73iGwcvf4GLwEpjyQcXTL5uLby+2uZnyeZmrYZuLKZ+nuRq2eZry8W/ZOR7qQobYIENskCE2yBAbZIgNMsQGGWKDDLFBhtggQ2yQITbIEBtkiA0yxAYZF1O+o9+H17iZ8nmZq2EbgxfIPAAKW2rf3I4KUAAAAABJRU5ErkJggg==\"></img></td>\n",
       "      <td id=\"T_1abf2_row6_col5\" class=\"data row6 col5\" >0<br>(0.0%)</td>\n",
       "    </tr>\n",
       "    <tr>\n",
       "      <td id=\"T_1abf2_row7_col0\" class=\"data row7 col0\" >8</td>\n",
       "      <td id=\"T_1abf2_row7_col1\" class=\"data row7 col1\" ><strong>Education</strong><br>[object]</td>\n",
       "      <td id=\"T_1abf2_row7_col2\" class=\"data row7 col2\" >1. S2<br>2. S1<br>3. S3</td>\n",
       "      <td id=\"T_1abf2_row7_col3\" class=\"data row7 col3\" >901 (41.2%)<br>746 (34.1%)<br>539 (24.7%)</td>\n",
       "      <td id=\"T_1abf2_row7_col4\" class=\"data row7 col4\" ><img src = \"data:image/png;base64, iVBORw0KGgoAAAANSUhEUgAAAJsAAABFCAYAAABdVZTTAAAAOXRFWHRTb2Z0d2FyZQBNYXRwbG90bGliIHZlcnNpb24zLjkuMiwgaHR0cHM6Ly9tYXRwbG90bGliLm9yZy8hTgPZAAAACXBIWXMAAA9hAAAPYQGoP6dpAAABlElEQVR4nO3bwWnjUBSF4avBhGQjYQwuxkVMsVOEujHGWiQhG2WRFibnPZ6+r4Jr+LGR8Jn2fS9I+NP6AI5jqqq3qnppfUhDX/u+f7Q+4ghOl8vl7zzP59aHtLJt22Oapn+C+32neZ7Pt9vtY1mWz9bHpD2fz9d1Xc/3+/2lqsT2y05VVcuyfF6v1/fWxzTy1vqAo/CAQIzYiBEbMWIjRmzEiI0YsREjNmLERozYiBEbMWIjRmzEiI2YU9XP/7paH9LCUT93K6dt2x7rup7roP/r2rbtUVVfre84AhsEG4SYyZSPlFG/2XxbdWjIdZXFVJ+GW1dZTPVr1HXVIZ+se+elLjFiI0ZsxIiNGLERIzZixEaM2IgRGzFiI0ZsxIiNGLERIzZihltXjfRZRjPkuspiqk82CMRYVxHjAYGYnn9G/RQOptspnzneeLqc8pnjjannKd8wr2L44QGBGLERIzZixEaM2IgRGzFiI0ZsxIiNGLERIzZixEaM2IgRGzFdTvl6u4f/o9spnzneeGwQiDHlI+YbSryjSsjd7WQAAAAASUVORK5CYII=\"></img></td>\n",
       "      <td id=\"T_1abf2_row7_col5\" class=\"data row7 col5\" >0<br>(0.0%)</td>\n",
       "    </tr>\n",
       "    <tr>\n",
       "      <td id=\"T_1abf2_row8_col0\" class=\"data row8 col0\" >9</td>\n",
       "      <td id=\"T_1abf2_row8_col1\" class=\"data row8 col1\" ><strong>Birth Date</strong><br>[object]</td>\n",
       "      <td id=\"T_1abf2_row8_col2\" class=\"data row8 col2\" >1. -<br>2. 10/23/1956<br>3. 10/07/1953<br>4. 02/25/1983<br>5. 10/22/1986<br>6. 08/30/1967<br>7. 03/19/1977<br>8. 02/27/1983<br>9. 10/09/1971<br>10. 11/01/1962<br>11. other</td>\n",
       "      <td id=\"T_1abf2_row8_col3\" class=\"data row8 col3\" >33 (1.5%)<br>10 (0.5%)<br>10 (0.5%)<br>7 (0.3%)<br>6 (0.3%)<br>6 (0.3%)<br>5 (0.2%)<br>5 (0.2%)<br>5 (0.2%)<br>5 (0.2%)<br>2,094 (95.8%)</td>\n",
       "      <td id=\"T_1abf2_row8_col4\" class=\"data row8 col4\" ><img src = \"data:image/png;base64, iVBORw0KGgoAAAANSUhEUgAAAJsAAAD+CAYAAAAtWHdlAAAAOXRFWHRTb2Z0d2FyZQBNYXRwbG90bGliIHZlcnNpb24zLjkuMiwgaHR0cHM6Ly9tYXRwbG90bGliLm9yZy8hTgPZAAAACXBIWXMAAA9hAAAPYQGoP6dpAAAD2klEQVR4nO3dMU4jZxyH4f9YFlmaQZYljpB0HGAPsYfdQ3AAytwBIaYIuzTeYpMqbJIivFac52ndfMWr+TCaHyyn02mgsDv3Afj/EBsZsZERGxmxkREbGbGRERsZsZFZZuZ6Zq5m5vV0Or2c+TxcsP3xePy0ruth27anZVk+C473slvX9XB3dzfruh7m+xMO3sVuZub6+vrruQ/C5fMFgYzYyIiNjNjIiI2M2MiIjYzYyIiNjNjIiI2M2MiIjYzYyOxmZl5eXn4690G4fLtt254eHh5m27anmXk994G4XDYIZBZ/MovKH0+28VTjve2Px+OnmRnLKt7bbl3Xg2UVBb9nIyM2MmIjIzYyYiMjNjJiIyM2MmIjIzYyYiMjNjJiIyM2MmIjs/996DJj7MI781o4GYMXMp5sZAxeyBi8kPGrDzJiIyM2MmIjIzYyYiMjNjJiIyM2MmIjIzYyYiMjNjJiIyM2MgYvZLwWTsbghYyf2ciIjcxuWZZflmX5cO6DcPl2M/PzzPjntrw71ygZsZERGxmxkREbGbGRERsZsZERGxmxkREbGbGRERsZsZERG5ndzPw6M1/PfRAun8ELGdcoGbGRMXghY/BCxjVKRmxkxEZGbGTERkZsZMRGRmxkxEZGbGTERkZsZMRGRmxkxEbG4IWMwQsZ1ygZsZExeCFj8ELGNUpGbGTERkZsZMRGRmxkxEZGbGTERkZsZMRGRmxkxEZGbGTERkZsZKyryFhXkXGNkhEbGesqMtZVZFyjZMRGRmxkxEZGbGTERkZsZMRGRmxkxEZGbGTERkZsZMRGRmxkDF7IGLyQcY2SERsZgxcyBi9kXKNkxEZGbGTERkZsZMRGRmxkxEZGbGTERkZsZMRGRmxkxEZGbGQMXsgYvJBxjZIRGxmxkbGuImNdRcY1SkZsZMRGRmxkxEZGbGTERkZsZMRGRmxkxEZGbGTERkZsZMRGxrqKjHUVGdcoGbGRMXghY/BCxjVKRmxkxEZGbGTERkZsZMRGRmxkxEZGbGTERkZsZMRGRmxkxEbG4IWMwQsZ1yiZZWauZ+bq3AfhYryeTqeXtz7YH4/HT+u6HuoTcZm2bXtaluXzW8Ht13U9fPz48eXm5ubLOQ7H5Xh+fv5wf39/eHx8vJqZP8c2M3Nzc/Pl9vb2t/x0XKLrH33gCwIZsZERGxmxkREbGbGRERsZsZERGxmxkREbGbGRERuZ/cz3V0POfRD++/6uo/22bU/39/eH+YtXQ+Cf2rbtaWZe3/rMa+H82374Wrh1FRlfEMiIjYzYyIiNjNjIiI2M2MiIjYzYyHwDfyuvfa5pugAAAAAASUVORK5CYII=\"></img></td>\n",
       "      <td id=\"T_1abf2_row8_col5\" class=\"data row8 col5\" >0<br>(0.0%)</td>\n",
       "    </tr>\n",
       "    <tr>\n",
       "      <td id=\"T_1abf2_row9_col0\" class=\"data row9 col0\" >10</td>\n",
       "      <td id=\"T_1abf2_row9_col1\" class=\"data row9 col1\" ><strong>Booking Status</strong><br>[object]</td>\n",
       "      <td id=\"T_1abf2_row9_col2\" class=\"data row9 col2\" >1. SAD Confirm<br>2. Booking Fee Confirm</td>\n",
       "      <td id=\"T_1abf2_row9_col3\" class=\"data row9 col3\" >1,134 (51.9%)<br>1,052 (48.1%)</td>\n",
       "      <td id=\"T_1abf2_row9_col4\" class=\"data row9 col4\" ><img src = \"data:image/png;base64, iVBORw0KGgoAAAANSUhEUgAAAJsAAAAuCAYAAAA/ZmtKAAAAOXRFWHRTb2Z0d2FyZQBNYXRwbG90bGliIHZlcnNpb24zLjkuMiwgaHR0cHM6Ly9tYXRwbG90bGliLm9yZy8hTgPZAAAACXBIWXMAAA9hAAAPYQGoP6dpAAABOUlEQVR4nO3bwYnDMBRF0a9BhMlGwhhcjIuYYqcIdWOMtUhCNspiCog1gidE7qngYy6GBD9XSjFAwZnZ1cwuvQ8Z2LOUcu99xAj8PM8/IYSp9yGjyjnvzrlfgnvPhxCmdV3vMcZH72NGcxzHd0pp2rbtYmbE9oY3M4sxPpZlufU+ZlDX3geM4qv3AfgcxAYZYoMMsUGG2CBDbJAhNsgQG2SIDTLEBhligwyxQYbYIENskCE2yHizv48Aex8yIp5bHZ9z3lNKk/ER4L/knHcze/a+YwQMXtoxeDnJMeWDCm+2OrzFGjDlq8Bsrw1TvpOY7bVjyleHX+wN+FMXMsQGGWKDDLFBhtggQ2yQITbIEBtkiA0yxAYZYoMMsUGG2CBDbJAhNsgw5TuJZ9SOKV8FZnttGLzUYfDS4AUKW2rfd+DJGgAAAABJRU5ErkJggg==\"></img></td>\n",
       "      <td id=\"T_1abf2_row9_col5\" class=\"data row9 col5\" >0<br>(0.0%)</td>\n",
       "    </tr>\n",
       "    <tr>\n",
       "      <td id=\"T_1abf2_row10_col0\" class=\"data row10 col0\" >11</td>\n",
       "      <td id=\"T_1abf2_row10_col1\" class=\"data row10 col1\" ><strong>Sales Event</strong><br>[object]</td>\n",
       "      <td id=\"T_1abf2_row10_col2\" class=\"data row10 col2\" >1. Online<br>2. Open House Show Unit</td>\n",
       "      <td id=\"T_1abf2_row10_col3\" class=\"data row10 col3\" >1,692 (77.4%)<br>494 (22.6%)</td>\n",
       "      <td id=\"T_1abf2_row10_col4\" class=\"data row10 col4\" ><img src = \"data:image/png;base64, iVBORw0KGgoAAAANSUhEUgAAAJsAAAAuCAYAAAA/ZmtKAAAAOXRFWHRTb2Z0d2FyZQBNYXRwbG90bGliIHZlcnNpb24zLjkuMiwgaHR0cHM6Ly9tYXRwbG90bGliLm9yZy8hTgPZAAAACXBIWXMAAA9hAAAPYQGoP6dpAAABO0lEQVR4nO3bwWnDQBRF0acgTLyZQQhUjItIsSliuhFCs4iNN8oipIPRm499TwUffG2w0BuO4xDgMEi6Srr0PgSneR7Hce99hCSN8zx/pZSm3ofgHLXWbRiG7wjBjSml6Xa73XPOj97HoK193z9LKdO6rhdJ/WOTpJzzY1mWn97H4BTX3gf8++h9AN4HscGG2GBDbLAhNtgQG2yIDTbEBhtigw2xwYbYYENssCE22BAbbIgNNqP095Jd70PQXrTPday1bqWUSYFeskM7tdZN0rP3HRKDl3cQZvAyMOWDS7RftjDfQrQXasoXaXaG9sJM+aLNztBetCkf/4hfGA91YUNssCE22BAbbIgNNsQGG2KDDbHBhthgQ2ywITbYEBtsiA02xAYbYoNNmClfhBtwrlBTvkizM7TH4AU2vwpbat9KOOGPAAAAAElFTkSuQmCC\"></img></td>\n",
       "      <td id=\"T_1abf2_row10_col5\" class=\"data row10 col5\" >0<br>(0.0%)</td>\n",
       "    </tr>\n",
       "    <tr>\n",
       "      <td id=\"T_1abf2_row11_col0\" class=\"data row11 col0\" >12</td>\n",
       "      <td id=\"T_1abf2_row11_col1\" class=\"data row11 col1\" ><strong>Cluster</strong><br>[object]</td>\n",
       "      <td id=\"T_1abf2_row11_col2\" class=\"data row11 col2\" >1. Bellerosa<br>2. Cattleya</td>\n",
       "      <td id=\"T_1abf2_row11_col3\" class=\"data row11 col3\" >1,126 (51.5%)<br>1,060 (48.5%)</td>\n",
       "      <td id=\"T_1abf2_row11_col4\" class=\"data row11 col4\" ><img src = \"data:image/png;base64, iVBORw0KGgoAAAANSUhEUgAAAJsAAAAuCAYAAAA/ZmtKAAAAOXRFWHRTb2Z0d2FyZQBNYXRwbG90bGliIHZlcnNpb24zLjkuMiwgaHR0cHM6Ly9tYXRwbG90bGliLm9yZy8hTgPZAAAACXBIWXMAAA9hAAAPYQGoP6dpAAABOUlEQVR4nO3bwYnDMBRF0a9BhMlGwhhcjIuYYqcIdWOMtUhCNspiCog1gidE7qngYy6GBD9XSjFAwZnZ1cwuvQ8Z2LOUcu99xAj8PM8/IYSp9yGjyjnvzrlfgnvPhxCmdV3vMcZH72NGcxzHd0pp2rbtYmbE9oY3M4sxPpZlufU+ZlDX3geM4qv3AfgcxAYZYoMMsUGG2CBDbJAhNsgQG2SIDTLEBhligwyxQYbYIENskCE2yHizv48Aex8yIp5bHZ9z3lNKk/ER4L/knHcze/a+YwQMXtoxeDnJMeWDCm+2OrzFGjDlq8Bsrw1TvpOY7bVjyleHX+wN+FMXMsQGGWKDDLFBhtggQ2yQITbIEBtkiA0yxAYZYoMMsUGG2CBDbJAhNsgw5TuJZ9SOKV8FZnttGLzUYfDS4AUKW2rfd+DJGgAAAABJRU5ErkJggg==\"></img></td>\n",
       "      <td id=\"T_1abf2_row11_col5\" class=\"data row11 col5\" >0<br>(0.0%)</td>\n",
       "    </tr>\n",
       "    <tr>\n",
       "      <td id=\"T_1abf2_row12_col0\" class=\"data row12 col0\" >13</td>\n",
       "      <td id=\"T_1abf2_row12_col1\" class=\"data row12 col1\" ><strong>Product</strong><br>[object]</td>\n",
       "      <td id=\"T_1abf2_row12_col2\" class=\"data row12 col2\" >1. Studio<br>2. 2 Bedroom C<br>3. 2 Bedroom<br>4. ST<br>5. 2 Bedroom A<br>6. 2BRC<br>7. 2BRA</td>\n",
       "      <td id=\"T_1abf2_row12_col3\" class=\"data row12 col3\" >1,714 (78.4%)<br>232 (10.6%)<br>155 (7.1%)<br>40 (1.8%)<br>38 (1.7%)<br>6 (0.3%)<br>1 (0.0%)</td>\n",
       "      <td id=\"T_1abf2_row12_col4\" class=\"data row12 col4\" ><img src = \"data:image/png;base64, iVBORw0KGgoAAAANSUhEUgAAAJsAAAChCAYAAADQgM1HAAAAOXRFWHRTb2Z0d2FyZQBNYXRwbG90bGliIHZlcnNpb24zLjkuMiwgaHR0cHM6Ly9tYXRwbG90bGliLm9yZy8hTgPZAAAACXBIWXMAAA9hAAAPYQGoP6dpAAAC3UlEQVR4nO3dQW7bVgBF0U/BSJuJBMOAl9DuQYvoYrsILaJ7MAxzUKeZqIOmRdKRFYaXUnLOzLMP6JoEBT5oOp/PAwq7rQ/Aj0NsZMRGRmxkxEZmGmO8H2O82/ogrO7j+Xx+3fIAdw8PD7/t9/v7LQ/B+uZ5fp6m6fctg7vb7/f3x+Px9XA4fNjqEKzr5eXl59PpdP/09PRujLFdbGOMcTgcPjw+Pv651SFIvN/6AB4QyIiNjNjIiI2M2MiIjYzYyIiNjNjIiI2M2MiIjYzYyNyN8c8rKFsfhPVcy+d7N8/z8+l0uh9X8AoK65nn+XmM8XHLM3gt/Mex+Wvhk0U8lW9xZdv8P4bbsHjwcg1DCm7DosHLtQwpuA3fYvDiKZY38aUuGbGRERsZsZERGxmxkREbGbGRERsZsZERGxmxkREbGbGRWbSuupbVDrdh8brqGlY73AYbBDLWVWQuvbK5ivHVLlpXWVKxxJvXVZZULHXpusqSiq/mS10yYiMjNjJiIyM2MmIjIzYyYiMjNjJiIyM2MmIjIzYybx68GLew1EWDF+MWlvBaOBmDFzIeEMj8/zbqNslqvlhXWU+xpt2/66rj8fj6KTq/Pcoq/ltXffrbeorVeEAgIzYyYiMjNjJiIyM2MmIjIzYyYiMjNjJiIyM2MmIjs+jnhOASn6+rrKdYldfCyVhXkXFlI2PwQsbghYzBCxlf6pIRGxmxkREbGbGRERsZsZERGxmxkREbGbGRERsZsZExeCFj8ELGa+FkDF7IeEAgIzYyu2mafp2mydMoq9uNMX4ZY/y09UH4/rmNkhEbGbGRERsZsZERGxmxkREbGbGRERsZsZERGxmxkREbGbGR2Y0x/hhj/LX1Qfj+GbyQcRslIzYyBi9kDF7IuI2SERsZsZERGxmxkREbGbGRERsZsZERGxmxkREbGbGRERsZsZERGxnrKjLWVWTcRsmIjYzYyIiNjNjI/A3amwA3ORHhgAAAAABJRU5ErkJggg==\"></img></td>\n",
       "      <td id=\"T_1abf2_row12_col5\" class=\"data row12 col5\" >0<br>(0.0%)</td>\n",
       "    </tr>\n",
       "    <tr>\n",
       "      <td id=\"T_1abf2_row13_col0\" class=\"data row13 col0\" >14</td>\n",
       "      <td id=\"T_1abf2_row13_col1\" class=\"data row13 col1\" ><strong>Zoning</strong><br>[object]</td>\n",
       "      <td id=\"T_1abf2_row13_col2\" class=\"data row13 col2\" >1. A<br>2. B<br>3. C<br>4. D1</td>\n",
       "      <td id=\"T_1abf2_row13_col3\" class=\"data row13 col3\" >802 (36.7%)<br>713 (32.6%)<br>415 (19.0%)<br>256 (11.7%)</td>\n",
       "      <td id=\"T_1abf2_row13_col4\" class=\"data row13 col4\" ><img src = \"data:image/png;base64, iVBORw0KGgoAAAANSUhEUgAAAJsAAABcCAYAAAB5jMeAAAAAOXRFWHRTb2Z0d2FyZQBNYXRwbG90bGliIHZlcnNpb24zLjkuMiwgaHR0cHM6Ly9tYXRwbG90bGliLm9yZy8hTgPZAAAACXBIWXMAAA9hAAAPYQGoP6dpAAAB7UlEQVR4nO3bQWrbUBiF0V/FhGYiYQxeTBbRxXYR2o0x1qAJmaiDzpMU5Pucp3NW8AwfMk/oDuu6FiT8aH0A9kNsxAxV9VxVT60Pcmfv67q+tj7E3h1Op9OvcRyPrQ9yT8uyXIdh+C24tg7jOB5fXl5ep2l6a32Ye7jdbj/neT5eLpenqhJbQ4eqqmma3s7n85/Wh7mj59YHwAWBILERIzZixEaM2IgRGzFiI0ZsxIiNGLERIzZixEaM2Ig5VP37DKf1Qe6l59/23RyWZbnO83ysjj/DWZblWlXvrc+xdz4LJ2Yw5SPFBYGY3v5G/V0+sK7WVVZUj62bdZUV1ePrbV3V7eubHrggECM2YsRGjNiIERsxYiNGbMSIjRixESM2YsRGjNiIERsxYiOmmylfD7+hd11N+Uz2HpsNAjGmfMS0erJ5Au1Qk3WVFdQ+xddVVlD71Wpd9e1vvvw/L3WJERsxYiNGbMSIjRixESM2YsRGjNiIERsxYiNGbMSIjRixERNfV1lB7VeTdZUV1D7ZIBBjXUXMlk82Tys+tNm6ymKKz2yyrrKY4iu2XFdZTPEhL3WJERsxYiNGbMSIjRixESM2YsRGjNiIERsxYiNGbMSIjRixEbPJuspiiq/YbF1lMcVnbBCIsa4ixgWBmL+zWNi5RGYYRwAAAABJRU5ErkJggg==\"></img></td>\n",
       "      <td id=\"T_1abf2_row13_col5\" class=\"data row13 col5\" >0<br>(0.0%)</td>\n",
       "    </tr>\n",
       "    <tr>\n",
       "      <td id=\"T_1abf2_row14_col0\" class=\"data row14 col0\" >15</td>\n",
       "      <td id=\"T_1abf2_row14_col1\" class=\"data row14 col1\" ><strong>View</strong><br>[object]</td>\n",
       "      <td id=\"T_1abf2_row14_col2\" class=\"data row14 col2\" >1. CITY<br>2. POOL</td>\n",
       "      <td id=\"T_1abf2_row14_col3\" class=\"data row14 col3\" >1,360 (62.2%)<br>826 (37.8%)</td>\n",
       "      <td id=\"T_1abf2_row14_col4\" class=\"data row14 col4\" ><img src = \"data:image/png;base64, iVBORw0KGgoAAAANSUhEUgAAAJsAAAAuCAYAAAA/ZmtKAAAAOXRFWHRTb2Z0d2FyZQBNYXRwbG90bGliIHZlcnNpb24zLjkuMiwgaHR0cHM6Ly9tYXRwbG90bGliLm9yZy8hTgPZAAAACXBIWXMAAA9hAAAPYQGoP6dpAAABNElEQVR4nO3bQWrDMBRF0a9iQjORMAYvJovoYrsI7cYYa9CETNRB9/Ak+u5ZwU+4GBL8Uu89AIUUEfeIuI0+xNi79/4cfYTCsm3bV855HX2Iq9bamVL6dghuyTmvj8fjWUp5jT7GzXVdn7XW9TiOW0T8/9giIkopr33ff0YfY+o++gCVj9EHwAexQYbYIENskCE2yBAbZIgNMsQGGWKDDLFBhtggQ2yQITbIEBtkiA0yS8TfS3yjD3Hk9r0vrbWz1rqG0Ut8M2mtnRHxHn2HAoOX8WwGL4kpH1Tcnmw2T5EZWU35nGZzM7KZ8rnN5mbkNuXjF/dA/KkLGWKDDLFBhtggQ2yQITbIEBtkiA0yxAYZYoMMsUGG2CBDbJAhNsgQG2RspnwOn3F2VlM+p9ncjBi8QOYXCltq37DnnSoAAAAASUVORK5CYII=\"></img></td>\n",
       "      <td id=\"T_1abf2_row14_col5\" class=\"data row14 col5\" >0<br>(0.0%)</td>\n",
       "    </tr>\n",
       "    <tr>\n",
       "      <td id=\"T_1abf2_row15_col0\" class=\"data row15 col0\" >16</td>\n",
       "      <td id=\"T_1abf2_row15_col1\" class=\"data row15 col1\" ><strong>Status KPR</strong><br>[object]</td>\n",
       "      <td id=\"T_1abf2_row15_col2\" class=\"data row15 col2\" >1. Non KPR<br>2. Accepted (Diterima)</td>\n",
       "      <td id=\"T_1abf2_row15_col3\" class=\"data row15 col3\" >1,122 (51.3%)<br>1,064 (48.7%)</td>\n",
       "      <td id=\"T_1abf2_row15_col4\" class=\"data row15 col4\" ><img src = \"data:image/png;base64, iVBORw0KGgoAAAANSUhEUgAAAJsAAAAuCAYAAAA/ZmtKAAAAOXRFWHRTb2Z0d2FyZQBNYXRwbG90bGliIHZlcnNpb24zLjkuMiwgaHR0cHM6Ly9tYXRwbG90bGliLm9yZy8hTgPZAAAACXBIWXMAAA9hAAAPYQGoP6dpAAABOUlEQVR4nO3bwYnDMBRF0a9BhMlGwhhcjIuYYqcIdWOMtUhCNspiCog1gidE7qngYy6GBD9XSjFAwZnZ1cwuvQ8Z2LOUcu99xAj8PM8/IYSp9yGjyjnvzrlfgnvPhxCmdV3vMcZH72NGcxzHd0pp2rbtYmbE9oY3M4sxPpZlufU+ZlDX3geM4qv3AfgcxAYZYoMMsUGG2CBDbJAhNsgQG2SIDTLEBhligwyxQYbYIENskCE2yHizv48Aex8yIp5bHZ9z3lNKk/ER4L/knHcze/a+YwQMXtoxeDnJMeWDCm+2OrzFGjDlq8Bsrw1TvpOY7bVjyleHX+wN+FMXMsQGGWKDDLFBhtggQ2yQITbIEBtkiA0yxAYZYoMMsUGG2CBDbJAhNsgw5TuJZ9SOKV8FZnttGLzUYfDS4AUKW2rfd+DJGgAAAABJRU5ErkJggg==\"></img></td>\n",
       "      <td id=\"T_1abf2_row15_col5\" class=\"data row15 col5\" >0<br>(0.0%)</td>\n",
       "    </tr>\n",
       "    <tr>\n",
       "      <td id=\"T_1abf2_row16_col0\" class=\"data row16 col0\" >17</td>\n",
       "      <td id=\"T_1abf2_row16_col1\" class=\"data row16 col1\" ><strong>Gross Area</strong><br>[int64]</td>\n",
       "      <td id=\"T_1abf2_row16_col2\" class=\"data row16 col2\" >1. 17<br>2. 30</td>\n",
       "      <td id=\"T_1abf2_row16_col3\" class=\"data row16 col3\" >1,119 (51.2%)<br>1,067 (48.8%)</td>\n",
       "      <td id=\"T_1abf2_row16_col4\" class=\"data row16 col4\" ><img src = \"data:image/png;base64, iVBORw0KGgoAAAANSUhEUgAAAJsAAAAuCAYAAAA/ZmtKAAAAOXRFWHRTb2Z0d2FyZQBNYXRwbG90bGliIHZlcnNpb24zLjkuMiwgaHR0cHM6Ly9tYXRwbG90bGliLm9yZy8hTgPZAAAACXBIWXMAAA9hAAAPYQGoP6dpAAABOUlEQVR4nO3bQWrDMBRF0a8iQjORMAYvxovoYrsI7cYYa9CETNRBN5BvwxOi96zgYy6GBL/QWjNAIZjZ3cxuvQ8Z1Ku19uh9xCjiPM9fKaWp9yEjqrXuIYRvgntPTClN67o+cs7P3seM5DiOz1LKtG3bzcyI7Q3RzCzn/FyW5af3MQO69z5gJB+9D8D/QWyQITbIEBtkiA0yxAYZYoMMsUGG2CBDbJAhNsgQG2SIDTLEBhlig0w0+/sQsPcho+GZ+cVa615KmYwPAd1qrbuZvXrfMQoGL9cweHEITPmgwpvNj7fZSUz5nJjvnceUz4H53jVM+fz41X4Sf+pChtggQ2yQITbIEBtkiA0yxAYZYoMMsUGG2CBDbJAhNsgQG2SIDTLEBhmmfA48p2uY8jkx3zuPwYsfg5eTfgEKW2rfqvpg/AAAAABJRU5ErkJggg==\"></img></td>\n",
       "      <td id=\"T_1abf2_row16_col5\" class=\"data row16 col5\" >0<br>(0.0%)</td>\n",
       "    </tr>\n",
       "    <tr>\n",
       "      <td id=\"T_1abf2_row17_col0\" class=\"data row17 col0\" >18</td>\n",
       "      <td id=\"T_1abf2_row17_col1\" class=\"data row17 col1\" ><strong>Net Price</strong><br>[int64]</td>\n",
       "      <td id=\"T_1abf2_row17_col2\" class=\"data row17 col2\" >Mean (sd) : 357828269.6 (110195142.0)<br>min < med < max:<br>206624000.0 < 312914000.0 < 779750000.0<br>IQR (CV) : 117176320.0 (3.2)</td>\n",
       "      <td id=\"T_1abf2_row17_col3\" class=\"data row17 col3\" >1,017 distinct values</td>\n",
       "      <td id=\"T_1abf2_row17_col4\" class=\"data row17 col4\" ><img src = \"data:image/png;base64, iVBORw0KGgoAAAANSUhEUgAAAKoAAABGCAYAAABc8A97AAAAOXRFWHRTb2Z0d2FyZQBNYXRwbG90bGliIHZlcnNpb24zLjkuMiwgaHR0cHM6Ly9tYXRwbG90bGliLm9yZy8hTgPZAAAACXBIWXMAAA9hAAAPYQGoP6dpAAAC4UlEQVR4nO3dsW7aQBjA8e8g0IOgMxYK2bJ0YKjUgZGHyMP2ETrwAFGGLgxVtigEGeHg4hh3aYZKVRL7oNzn/H/72Tf8ZX9nBkxZlgKErnXqDQDvcXbMixtjeiLS9bjErizL7aH2A72OFqoxpjcaja6dc3Hda6zX65Ux5hux4phP1K5zLp7NZtsoirKqi5MksfP5PF4ul10RIdQP7qivfhGRKIqy8Xj8VHN576CbgVocpqACoUIFQoUKhAoVCBUqECpUIFSoQKhQgVChAqFCBUKFCoQKFQgVKhAqVCBUqECoUIFQoQKhQgVChQqEChUIFSoQKlQgVKhAqFCBUKECoUIFQoUKhAoVCBUqECpUIFSoQKhQgVChAqFCBUKFCoQKFQgVKhAqVCBUqECoUIFQoQKhQgVChQqEChUIFSoc/d+lfRRF0RERZ4yps3xXliV/n94QwYaapmknz/OvV1dX7Xa7nVVdv16vV8aYb8TaDMGGutvtzqy1/el0ml1eXq6qrE2SxM7n83i5XHZFhFAbINhQX5yfn2fj8fipxtLewTeDkwk+1Lo851sRZtygNDJU3/lWhBk3NI0M1We+FWHGDVEjQ33hMd+KMOMGpdGh+uAbblgI9R/4hhueN0M1xvREpFvj2m6/33dqrDs5vuGG59VQjTG90Wh07ZyLq144z3NbFMWXLMu+i0jdOfGk+IYbjreeqF3nXDybzbZRFFV6Bd7d3cW3t7f95+fntsf+ABF554waRVHlJ8tqtfqwTxXPg1hLRPYet2/kQY7D1IH5HMSKouikafp5MBgsWq1WXuf+TT3IEeqB+RzE/oxLF9Pp9Ac/VPyNUI+kzkHsZVzy+aGiKAonpxs7fNa/OrIQaoOccuzwXf/WyPKuUJMksVVvvNlsrIhImqb2/v6+/z/Xa723774fHx8H1tr+ZDIxw+HwV5W1Dw8PdrFYXEwmk5/D4XBT9d4+67fb7aebm5tXR5bfCjd3Xy9LqQkAAAAASUVORK5CYII=\"></img></td>\n",
       "      <td id=\"T_1abf2_row17_col5\" class=\"data row17 col5\" >0<br>(0.0%)</td>\n",
       "    </tr>\n",
       "    <tr>\n",
       "      <td id=\"T_1abf2_row18_col0\" class=\"data row18 col0\" >19</td>\n",
       "      <td id=\"T_1abf2_row18_col1\" class=\"data row18 col1\" ><strong>Sales Purpose</strong><br>[object]</td>\n",
       "      <td id=\"T_1abf2_row18_col2\" class=\"data row18 col2\" >1. Tempat Tinggal<br>2. Investasi</td>\n",
       "      <td id=\"T_1abf2_row18_col3\" class=\"data row18 col3\" >1,183 (54.1%)<br>1,003 (45.9%)</td>\n",
       "      <td id=\"T_1abf2_row18_col4\" class=\"data row18 col4\" ><img src = \"data:image/png;base64, iVBORw0KGgoAAAANSUhEUgAAAJsAAAAuCAYAAAA/ZmtKAAAAOXRFWHRTb2Z0d2FyZQBNYXRwbG90bGliIHZlcnNpb24zLjkuMiwgaHR0cHM6Ly9tYXRwbG90bGliLm9yZy8hTgPZAAAACXBIWXMAAA9hAAAPYQGoP6dpAAABO0lEQVR4nO3bQWrDMBRF0a8iQjORMAYvxovoYrsI7cYYa9CETJRBZi3WSDw57j0r+JiLIcHPlVIMUHBmdjWzS+9DTuRRSrn1PuKI/DiOXyGEofchZ5FzXp1z3wT3lw8hDPM832KM997HvLtt2z5TSsOyLBczI7ZfvJlZjPE+TdNP72NO4tr7gKP66H0A/g9igwyxQYbYIENskCE2yBAbZIgNMsQGGWKDDLFBhtggQ2yQITbIEBtkvNnro7/eh5wBz7HO55zXlNJgfPTXRM55NbNH7zuOiMFLewxedjimfFDhzVbHW6ohpnwVzPLaYsq3g1lee0z56viF3hB/6kKG2CBDbJAhNsgQG2SIDTLEBhligwyxQYbYIENskCE2yBAbZIgNMsQGGaZ8O3gm7THlq2CW1xaDlzoGLw09AQpbat/wzNfOAAAAAElFTkSuQmCC\"></img></td>\n",
       "      <td id=\"T_1abf2_row18_col5\" class=\"data row18 col5\" >0<br>(0.0%)</td>\n",
       "    </tr>\n",
       "    <tr>\n",
       "      <td id=\"T_1abf2_row19_col0\" class=\"data row19 col0\" >20</td>\n",
       "      <td id=\"T_1abf2_row19_col1\" class=\"data row19 col1\" ><strong>Year</strong><br>[int64]</td>\n",
       "      <td id=\"T_1abf2_row19_col2\" class=\"data row19 col2\" >1. 2017<br>2. 2016<br>3. 2023<br>4. 2022<br>5. 2024<br>6. 2018<br>7. 2021<br>8. 2019<br>9. 2020<br>10. 2025</td>\n",
       "      <td id=\"T_1abf2_row19_col3\" class=\"data row19 col3\" >1,263 (57.8%)<br>300 (13.7%)<br>182 (8.3%)<br>137 (6.3%)<br>90 (4.1%)<br>80 (3.7%)<br>46 (2.1%)<br>42 (1.9%)<br>36 (1.6%)<br>10 (0.5%)</td>\n",
       "      <td id=\"T_1abf2_row19_col4\" class=\"data row19 col4\" ><img src = \"data:image/png;base64, iVBORw0KGgoAAAANSUhEUgAAAJsAAADnCAYAAAAJgSQ2AAAAOXRFWHRTb2Z0d2FyZQBNYXRwbG90bGliIHZlcnNpb24zLjkuMiwgaHR0cHM6Ly9tYXRwbG90bGliLm9yZy8hTgPZAAAACXBIWXMAAA9hAAAPYQGoP6dpAAADx0lEQVR4nO3dQWobWQBF0S8jQmciYQRejBaRxfYitBtjrEEcMlEGcZrujhwkWXULrHNmmRXh5jtV/JcsDofDgMLd3A/A7RAbGbGRERsZsZERGxmxkREbGbGRWYwxPo8xPs39IDfg++FweJn7Iea03Gw2X1ar1f3cD/LR7ff7p8Vi8fctB7dcrVb32+32Zb1ef5v7YT6q5+fnv3a73f3j4+OnMcbtxjbGGOv1+tvDw8PXuR/mg/s89wPMzQsCGbGRERsZsZERGxmxkREbGbGRERsZsZERGxmxkREbmeUYP6/AzP0gH5nf35+W+/3+abfb3Q9XYCa13++fxhjf536OObkW3rn5a+EL/4oRlalOtpv/U8zvJhm8GHdwzNUHL8YdvGWqwYs3W37joy4ZsZERGxmxkREbGbGRERsZsZERGxmxkREbGbGRERuZqw9ejDt4yySDF+MOjnEtnIzBC5lLTzYnF2e7aPBi0MIlzh68GLRwqUsHLwYtnM1HXTJiIyM2MmIjIzYyYiMjNjJiIyM2MmIjIzYyYiMjNjJiI3P2usp6iktdtK6ynuISNghkrKvInHOyOc14l5PXVRZVvNdJ6yqLKq7hnHWVRRXv4qMuGbGRERsZsZERGxmxkREbGbGRERsZsZERGxmxkREbmZMGL0YuXMPJgxcjF97LtXAyBi9k/nSyOcm4qjcHLwYuXNvRwYuBC1P40+DFwIWr8lGXjNjIiI2M2MiIjYzYyIiNjNjIiI2M2MiIjYzYyIiNzNHBi4ELU3hz8GLgwrW5Fk7G4IWMFwQyfoySsa4iY11FxrqKjBcEMmIjIzYyYiMjNjJiIyM2MmIjIzYyYiMjNjJiIyM2MtZVZKyryLgWTsa6isz/TzanGZP5z+DFyIUp3f0avGy325fX6E757yDhbP8MXl5/beTCZHzUJSM2MmIjIzYyYiMjNjJiIyM2MmIjIzYyYiMjNjJiI3N08AJT+PfgxciFSbkWTsbghYwXBDJ+jJKxriJjXUXGuoqMFwQyYiMjNjJiIyM2MmIjIzYyYiMjNjJiIyM2MmIjIzYy1lVkrKvIuBZOxrqKjJONjMELGYMXMgYvZHzUJSM2MmIjIzYyYiMjNjJiIyM2MmIjIzYyYiMjNjJiI2PwQsbghYxr4WQMXsj8OtmGE42pLTebzZcxxjB0YWp3q9Xq3tCFgu9sZMRGRmxkxEZGbGTERkZsZMRGRmxkxEZGbGTERkZsZMRGRmxkxEZm+bqoGsOqionZIJCxriLj72xkxEZGbGTERkZsZMRGRmxkfgBpudRp6w7K3wAAAABJRU5ErkJggg==\"></img></td>\n",
       "      <td id=\"T_1abf2_row19_col5\" class=\"data row19 col5\" >0<br>(0.0%)</td>\n",
       "    </tr>\n",
       "    <tr>\n",
       "      <td id=\"T_1abf2_row20_col0\" class=\"data row20 col0\" >21</td>\n",
       "      <td id=\"T_1abf2_row20_col1\" class=\"data row20 col1\" ><strong>Occupation</strong><br>[object]</td>\n",
       "      <td id=\"T_1abf2_row20_col2\" class=\"data row20 col2\" >1. Swasta<br>2. Pelajar/Mahasiswa<br>3. Mengurus Rumah Tangga<br>4. Wirausaha<br>5. PNS<br>6. Tidak/Belum Bekerja<br>7. Dokter<br>8. Pegawai BUMN<br>9. Kepolisian RI<br>10. Tentara Nasional Indonesia (TN</td>\n",
       "      <td id=\"T_1abf2_row20_col3\" class=\"data row20 col3\" >1,362 (62.3%)<br>392 (17.9%)<br>178 (8.1%)<br>140 (6.4%)<br>39 (1.8%)<br>26 (1.2%)<br>25 (1.1%)<br>18 (0.8%)<br>5 (0.2%)<br>1 (0.0%)</td>\n",
       "      <td id=\"T_1abf2_row20_col4\" class=\"data row20 col4\" ><img src = \"data:image/png;base64, iVBORw0KGgoAAAANSUhEUgAAAJsAAADnCAYAAAAJgSQ2AAAAOXRFWHRTb2Z0d2FyZQBNYXRwbG90bGliIHZlcnNpb24zLjkuMiwgaHR0cHM6Ly9tYXRwbG90bGliLm9yZy8hTgPZAAAACXBIWXMAAA9hAAAPYQGoP6dpAAAD+0lEQVR4nO3dQU4bZwCG4d8WSsPGFrLEEdodB/Ahctgewgdg2TsghBclyYYuSqK0bLDJvBMxz7Nj9wu9zDDWfLB6enoaUFjPfQCWQ2xkxEZGbGTERkZsZMRGRmxkxEZmNca4HGN8mPsgC/f16enpce5DTO1it9t92mw2V3MfZMmOx+P9arX6870Hd7HZbK72+/3jdrv9PPdhlujh4eHj4XC4uru7+zDGeN+xjTHGdrv9fH19/ffch1mwy7kPUPCAQEZsZMRGRmxkxEZGbGTERkZsZMRGRmxkxEZGbGTERuZijH9fc5n7IEu1pO/9xfF4vD8cDldjIa+5/IqOx+P9GOPr3OeYmtfCfw2LeC185a8YUZnjyraIn2JeygcvSxl38FI6eFnSuIOX5hi8eOpdKB/qkhEbGbGRERsZsZERGxmxkREbGbGRERsZsZERGxmxkUkHL0sad/BSPnhZyriDl7wWTsbghcy5VzZXJ0521uDFaIVznDx4MVrhXOcOXoxWOJkPdcmIjYzYyIiNjNjIiI2M2MiIjYzYyIiNjNjIiI2M2MiIjczJ6yoLKc511rrKQopz2CCQsa4ic8qVzdWMN3n1usqiird61brKooqf4ZR1lUUVb+JDXTJiIyM2MmIjIzYyYiMjNjJiIyM2MmIjIzYyYiMjNjKvGrwYufAzvHrwYuTCW3ktnIzBC5n/X9lcvZjMfwYvRi1Maf1t8LLf7x+foyv/HSQL8n3w8vy1UQuT8aEuGbGRERsZsZERGxmxkREbGbGRERsZsZERGxmxkREbmZP/wwuc68fBi1ELk/JaOBmDFzIeEMj8eBt1C2VS39dVllVMbb3ZbK5ubm6GZRVTW48xxuXl5Ze5D8L75wGBjNjIiI2M2MiIjYzYyIiNjNjIiI2M2MiIjYzYyIiNzHqMMR4fH3+b+yC8f+vj8Xh/e3trWcXkvBZOxrqKjCsbGYMXMgYvZAxeyPhQl4zYyIiNjNjIiI2M2MiIjYzYyIiNjNjIiI2M2MiIjYzBCxmDFzJeCydj8ELGAwKZb7fR4RbK1C52u92nMcawrGJq681mc2VZRcHvbGTERkZsZMRGRmxkxEZGbGTERkZsZMRGRmxkxEZGbGTERkZsZC6eV1VjWFYxMa+Fk7GuIuN3NjLr1Wr1x2q1+jj3QXj/1mOM38cY/tYHk3MbJSM2MmIjIzYyYiMjNjJiIyM2MmIjIzYyYiMjNjJiIyM2MmIjsx5j/DXG+DL3QXj/bBDIuI2SERsZgxcyBi9k3EbJiI2M2MiIjYzYyIiNjNjIiI2M2MiIjYzYyIiNjNjIiI2M2MiIjYx1FRnrKjJuo2TERkZsZMRGRmxkxEZGbGTERuYfOl1u0ZDsXpoAAAAASUVORK5CYII=\"></img></td>\n",
       "      <td id=\"T_1abf2_row20_col5\" class=\"data row20 col5\" >0<br>(0.0%)</td>\n",
       "    </tr>\n",
       "    <tr>\n",
       "      <td id=\"T_1abf2_row21_col0\" class=\"data row21 col0\" >22</td>\n",
       "      <td id=\"T_1abf2_row21_col1\" class=\"data row21 col1\" ><strong>Commercial Scheme</strong><br>[object]</td>\n",
       "      <td id=\"T_1abf2_row21_col2\" class=\"data row21 col2\" >1. Inhouse<br>2. SoSo<br>3. Inhouse 2023<br>4. Agent<br>5. Era Peak<br>6. Ray White<br>7. Inhouse Diamanta<br>8. Linda Property<br>9. Tripaka<br>10. Agent 2023<br>11. other</td>\n",
       "      <td id=\"T_1abf2_row21_col3\" class=\"data row21 col3\" >648 (29.6%)<br>374 (17.1%)<br>196 (9.0%)<br>162 (7.4%)<br>154 (7.0%)<br>119 (5.4%)<br>115 (5.3%)<br>63 (2.9%)<br>52 (2.4%)<br>46 (2.1%)<br>257 (11.8%)</td>\n",
       "      <td id=\"T_1abf2_row21_col4\" class=\"data row21 col4\" ><img src = \"data:image/png;base64, iVBORw0KGgoAAAANSUhEUgAAAJsAAAD+CAYAAAAtWHdlAAAAOXRFWHRTb2Z0d2FyZQBNYXRwbG90bGliIHZlcnNpb24zLjkuMiwgaHR0cHM6Ly9tYXRwbG90bGliLm9yZy8hTgPZAAAACXBIWXMAAA9hAAAPYQGoP6dpAAAEIElEQVR4nO3dQWobZwCG4V/BhGYjYQw+jA7Rw/YQuo0x1qIO2aiLpKWKja0ZaV5h/Dw7b8IsXn4xw3yZ1eFwGFD4cu0L4PMQGxmxkREbGbGRERsZsZERGxmxkVmNMb6NMb5e+0Jm+HE4HJ6vfRGc7ubu7u7P9Xp9e+0LmWq/3z+uVqu/BPdx3KzX69vtdvu82Wy+X/tiTvX09PTHbre7fXh4+DrGENsHcTPGGJvN5vv9/f3f176Yib5d+wKYxg0CGbGRERsZsZERGxmxkREbGbGRERsZsZERGxmxkREbGbGRuRnj5/th176QKT7a9fLTzX6/f9ztdrfjg70ftt/vH8cYP659HZzOBoHMyn+ZRaU+2ZxGn1i6rrKI+tyydZVFFPW66kPd8XJZHuqSERsZsZERGxmxkREbGbGRERsZsZERGxmxkREbGbGRyQYvRiqkgxcjlc/Na+FkDF7InHOyOaWYZPbgxXiFqWYNXoxXmOOcwYvxCpN4qEtGbGTERkZsZMRGRmxkxEZGbGTERkZsZMRGRmxkxEZm1uDFeIU5Zg9ejFeYymvhZAxeyLhBIDP1Z9RPJ7NNWldZVHGOk9dVFlWca+q6yqKK2dwgkBEbGbGRERsZsZERGxmxkREbGbGRERsZsZERGxmxkTl5XWVRxbkmrassqjiH18LJWFeRcbKRMXghY/BCxuCFjIe6ZMRGRmxkxEZGbGTERkZsZMRGRmxkxEZGbGTERkZsZAxeyBi8kPFaOBmDFzKnnGxOMy7i3cGLkQuX8ubgxciFSzpl8GLkwkV4qEtGbGTERkZsZMRGRmxkxEZGbGTERkZsZMRGRmxkxEZGbGTeXFdZVHFJ766rLKq4FBsEMtZVZJxsZKyryFhXkbGuIuOhLhmxkREbGbGRERsZsZERGxmxkREbGbGRERsZsZERGxmDFzIGL2S8Fk7G4IXMayebk4xFvBi8GLiwlKPBi4ELS3pt8GLgwiI81CUjNjJiIyM2MmIjIzYyYiMjNjJiIyM2MmIjIzYyYiNzNHgxcGFJLwYvBi4sxWvhZAxeyLhBIONnlIx1FRnrKjLWVWTcIJARGxmxkREbGbGRERsZsZERGxmxkREbGbGRERsZsZGxriJjXUXGa+FkrKvI/H6yOdVYzNHgxdiFJX35d/Cy3W6ff0X31ucgYbb/Bi+//jZ2YTEe6pIRGxmxkREbGbGRERsZsZERGxmxkREbGbGRERsZsZE5GrzAkv4/eDF2YVFeCydj8ELmtSnfXE5F3vTiCy9zGcvwnqMvvMz9R3wZhlO89oWXuYxleJOHumTERkZsZMRGRmxkxEZGbGTERkZsZMRGRmxkxEZGbGQuMngxmOEUL77wMpexDO/xWjgZgxcybhDIiI2M2MiIjYzYyIiNjNjIiI2M2Mj8A1fhQoMeQ+6gAAAAAElFTkSuQmCC\"></img></td>\n",
       "      <td id=\"T_1abf2_row21_col5\" class=\"data row21 col5\" >0<br>(0.0%)</td>\n",
       "    </tr>\n",
       "  </tbody>\n",
       "</table>\n"
      ],
      "text/plain": [
       "<pandas.io.formats.style.Styler at 0x2485569df40>"
      ]
     },
     "execution_count": 6,
     "metadata": {},
     "output_type": "execute_result"
    }
   ],
   "source": [
    "dfSummary(df)"
   ]
  },
  {
   "cell_type": "code",
   "execution_count": null,
   "metadata": {},
   "outputs": [],
   "source": [
    "# Visualisasi bar chart untuk kolom dengan jumlah unique value yang tidak terlalu banyak (misal <= 10)\n",
    "max_unique = 10  # batas maksimal unique value agar bar chart tetap informatif\n",
    "\n",
    "for column in df.columns:\n",
    "    if df[column].nunique() <= max_unique:\n",
    "        plt.figure(figsize=(8, 6))\n",
    "        sns.countplot(x=column, data=df, hue=column, palette=\"colorblind\", legend=False)\n",
    "        plt.title(f'Distribusi {column}')\n",
    "        plt.xlabel(column)\n",
    "        plt.ylabel('Jumlah')\n",
    "        plt.xticks(rotation=45)\n",
    "        plt.tight_layout()\n",
    "        plt.show()"
   ]
  },
  {
   "cell_type": "code",
   "execution_count": null,
   "metadata": {
    "ExecuteTime": {
     "end_time": "2024-12-28T10:02:42.412786Z",
     "start_time": "2024-12-28T10:02:32.525932Z"
    }
   },
   "outputs": [],
   "source": [
    "# Membuat bar chart dengan perbandingan terhadap tujuan pembelian\n",
    "max_unique = 10\n",
    "\n",
    "def plot_stacked_bar_chart(data, column):\n",
    "    plt.figure(figsize=(10, 6))\n",
    "    sns.countplot(x=column, hue='Sales Purpose', data=data)\n",
    "    plt.title(f'Distribusi {column} berdasarkan Tujuan Pembelian')\n",
    "    plt.xlabel(column)\n",
    "    plt.ylabel('Jumlah')\n",
    "    plt.xticks(rotation=45)\n",
    "    plt.legend(title='Sales Purpose', loc='upper right')\n",
    "    plt.tight_layout()\n",
    "    plt.show()\n",
    "\n",
    "# Membuat bar chart bertumpuk untuk setiap atribut (kecuali 'Sales Purpose')\n",
    "for column in df.columns:\n",
    "    if column != 'Sales Purpose' and df[column].nunique() <= max_unique:\n",
    "        plot_stacked_bar_chart(df, column)"
   ]
  },
  {
   "cell_type": "code",
   "execution_count": 7,
   "metadata": {},
   "outputs": [],
   "source": [
    "# Menghitung usia berdasarkan Customer Birth Date\n",
    "from datetime import datetime\n",
    "\n",
    "# Convert 'Customer Birth Date' to datetime\n",
    "df['Birth Date'] = pd.to_datetime(df['Birth Date'], errors='coerce')\n",
    "df['Age'] = df['Birth Date'].apply(lambda x: (datetime.now() - x).days // 365 if pd.notnull(x) else None)"
   ]
  },
  {
   "cell_type": "code",
   "execution_count": null,
   "metadata": {},
   "outputs": [],
   "source": [
    "# Histogram untuk Distribusi Usia Pelanggan\n",
    "\n",
    "plt.figure(figsize=(10, 6))\n",
    "sns.histplot(df['Age'].dropna(), kde=True, color='skyblue')\n",
    "plt.title('Distribusi Usia Pelanggan', fontsize=16)\n",
    "plt.xlabel('Usia', fontsize=12)\n",
    "plt.ylabel('Jumlah Pelanggan', fontsize=12)\n",
    "plt.show()\n"
   ]
  },
  {
   "cell_type": "code",
   "execution_count": null,
   "metadata": {},
   "outputs": [],
   "source": [
    "# # Visualisasi heatmap korelasi antar fitur numerik\n",
    "# plt.figure(figsize=(16, 10))\n",
    "# corr = df.corr()\n",
    "# sns.heatmap(corr, annot=True, fmt=\".2f\", cmap='coolwarm', linewidths=0.5)\n",
    "# plt.title('Heatmap Korelasi Antar Fitur Numerik', fontsize=16)\n",
    "# plt.show()\n"
   ]
  },
  {
   "cell_type": "code",
   "execution_count": null,
   "metadata": {
    "ExecuteTime": {
     "end_time": "2024-12-28T10:02:46.327750Z",
     "start_time": "2024-12-28T10:02:42.816059Z"
    }
   },
   "outputs": [],
   "source": [
    "# Menampilkan distribusi beberapa fitur kunci\n",
    "fitur_kunci = ['Cluster', 'Grade', 'Sales Event', 'Year']\n",
    "fig, axes = plt.subplots(2, 2, figsize=(12, 10))\n",
    "for i, fitur in enumerate(fitur_kunci):\n",
    "    sns.countplot(x=fitur, hue='Sales Purpose', data=df, ax=axes[i//2, i%2])\n",
    "    axes[i//2, i%2].set_title(f'Distribusi {fitur}')\n",
    "plt.tight_layout()\n",
    "plt.show()"
   ]
  },
  {
   "cell_type": "code",
   "execution_count": null,
   "metadata": {
    "ExecuteTime": {
     "end_time": "2024-12-28T10:02:48.367324Z",
     "start_time": "2024-12-28T10:02:47.487442Z"
    }
   },
   "outputs": [],
   "source": [
    "# Menampilkan pie chart untuk kolom Sales Purpose\n",
    "explode = (0.2, 0)\n",
    "plt.figure(figsize=(8, 6))\n",
    "df['Sales Purpose'].value_counts().plot(kind='pie', autopct='%1.1f%%', startangle=90, colors=['#007BFF', '#FFA500'], shadow=True, explode=(0.1, 0))\n",
    "plt.title('Distribusi Sales Purpose')\n",
    "plt.ylabel('')\n",
    "plt.show()"
   ]
  },
  {
   "cell_type": "code",
   "execution_count": 46,
   "metadata": {},
   "outputs": [],
   "source": [
    "# # Pilih fitur yang relevan\n",
    "# categorical_features = ['Sales Event', 'Cluster', 'Zoning', 'View', 'Status KPR', \n",
    "#                         'Customer Type', 'Customer Sex', 'Customer Marital', 'Customer Grade']\n",
    "# numerical_features = ['Age', 'Year']\n",
    "\n",
    "# # Drop baris dengan nilai NaN pada fitur penting\n",
    "# df = df.dropna(subset=numerical_features + categorical_features + ['Sales Purpose'])"
   ]
  },
  {
   "cell_type": "code",
   "execution_count": 6,
   "metadata": {},
   "outputs": [],
   "source": [
    "# Melakukan encoding pada variabel kategorikal khusus pada kolom Customer Type, Customer Sex, Customer Grade, Sales Purpose\n",
    "\n",
    "kolom_kategorikal = ['Sex', 'Marital', 'Grade', 'Booking Status', 'Sales Event', 'Cluster', 'View', 'Status KPR', 'Gross Area', 'Job', 'Education', 'Zoning', 'Religion', 'Sales Purpose']\n",
    "label_encoder = LabelEncoder()\n",
    "for kolom in kolom_kategorikal:\n",
    "    if kolom in df.columns:\n",
    "        df[kolom] = label_encoder.fit_transform(df[kolom])\n"
   ]
  },
  {
   "cell_type": "code",
   "execution_count": 7,
   "metadata": {},
   "outputs": [],
   "source": [
    "# Memindahkan kolom 'Age' agar berada di samping kolom 'Customer Birth Date'\n",
    "kolom = list(df.columns)\n",
    "if 'Age' in kolom and 'Birth Date' in kolom:\n",
    "    kolom.remove('Age')\n",
    "    idx = kolom.index('Birth Date') + 1\n",
    "    kolom.insert(idx, 'Age')\n",
    "    df = df[kolom]\n"
   ]
  },
  {
   "cell_type": "code",
   "execution_count": null,
   "metadata": {},
   "outputs": [],
   "source": [
    "dfSummary(df)"
   ]
  },
  {
   "cell_type": "code",
   "execution_count": null,
   "metadata": {
    "ExecuteTime": {
     "end_time": "2024-12-28T10:02:56.274803Z",
     "start_time": "2024-12-28T10:02:49.249135Z"
    }
   },
   "outputs": [],
   "source": [
    "# Menampilkan peta panas korelasi untuk kolom numerik\n",
    "kolom_numerik = df.select_dtypes(include=['int64', 'float64']).columns\n",
    "plt.figure(figsize=(18, 10))\n",
    "sns.heatmap(df[kolom_numerik].corr(), annot=True, cmap='coolwarm')\n",
    "plt.title('Heatmap Correlation')\n",
    "plt.show()"
   ]
  },
  {
   "cell_type": "code",
   "execution_count": 50,
   "metadata": {},
   "outputs": [],
   "source": [
    "# # --- 3. Split Data ---\n",
    "# X = df[categorical_features + numerical_features]\n",
    "# y = df['Sales Purpose']"
   ]
  },
  {
   "cell_type": "code",
   "execution_count": 8,
   "metadata": {},
   "outputs": [],
   "source": [
    "# Memisahkan fitur dan Target\n",
    "# Target: kolom 'Sales Purpose'\n",
    "# Fitur: kolom 'cluster', 'customer grade', 'sales event', dan 'year'\n",
    "# Kode berikut digunakan untuk menentukan fitur (variabel input) dan target (variabel output) yang akan digunakan dalam pemodelan machine learning.\n",
    "# 'fitur' adalah daftar nama kolom yang dipilih sebagai fitur, yaitu 'Cluster', 'Customer Grade', 'Sales Event', dan 'Year'.\n",
    "# X merupakan DataFrame yang berisi data dari kolom-kolom fitur tersebut.\n",
    "# y adalah variabel target yang diambil dari kolom 'Sales Purpose' pada DataFrame df.\n",
    "\n",
    "# fitur1 = ['Sex', 'Marital', 'Grade', 'Booking Status', 'Sales Event', 'Cluster', 'View', 'Status KPR', 'Gross Area', 'Job', 'Education', 'Zoning', 'Religion']\n",
    "fitur = ['Sex', 'Marital', 'Grade', 'Booking Status', 'Sales Event', 'Cluster', 'View', 'Status KPR', 'Gross Area']\n",
    "\n",
    "X = df[fitur]  # Mengambil data fitur dari DataFrame\n",
    "y = df['Sales Purpose']  # Mengambil data target dari kolom 'Sales Purpose'\n"
   ]
  },
  {
   "cell_type": "code",
   "execution_count": 9,
   "metadata": {
    "ExecuteTime": {
     "end_time": "2024-12-28T10:02:56.665037Z",
     "start_time": "2024-12-28T10:02:56.458746Z"
    }
   },
   "outputs": [],
   "source": [
    "# Langkah 6: Data Balancing Menggunakan SMOTE\n",
    "smote = SMOTE(random_state=42)\n",
    "X_balanced, y_balanced = smote.fit_resample(X, y)\n"
   ]
  },
  {
   "cell_type": "code",
   "execution_count": null,
   "metadata": {},
   "outputs": [],
   "source": [
    "# # Normalization\n",
    "# from sklearn.preprocessing import MinMaxScaler\n",
    "# scaler = MinMaxScaler()\n",
    "# X_smote_resampled_normal = scaler.fit_transform(X_balanced)\n",
    "# len(X_smote_resampled_normal)"
   ]
  },
  {
   "cell_type": "code",
   "execution_count": null,
   "metadata": {},
   "outputs": [],
   "source": [
    "# Data Splitting"
   ]
  },
  {
   "cell_type": "code",
   "execution_count": 10,
   "metadata": {
    "ExecuteTime": {
     "end_time": "2024-12-28T10:02:57.064685Z",
     "start_time": "2024-12-28T10:02:57.006325Z"
    }
   },
   "outputs": [],
   "source": [
    "# Langkah 7: Membagi Data Menjadi Set Pelatihan dan Pengujian dengan rasio 80%-20%\n",
    "X_train, X_test, y_train, y_test = train_test_split(X_balanced, y_balanced, test_size=0.2, random_state=42, stratify=y_balanced)"
   ]
  },
  {
   "cell_type": "code",
   "execution_count": 14,
   "metadata": {},
   "outputs": [],
   "source": [
    "# # Langkah 7: Membagi Data Menjadi Set Pelatihan dan Pengujian dengan rasio 80%-20%\n",
    "# X_train, X_test, y_train, y_test = train_test_split(X, y, test_size=0.2, random_state=42, stratify=y)"
   ]
  },
  {
   "cell_type": "code",
   "execution_count": 11,
   "metadata": {},
   "outputs": [],
   "source": [
    "# # Langkah 7: Membagi Data Menjadi Set Pelatihan dan Pengujian dengan rasio 80%-20%\n",
    "# X_train, X_test, y_train, y_test = train_test_split(X, y, test_size=0.2, random_state=42, stratify=y)"
   ]
  },
  {
   "cell_type": "code",
   "execution_count": 12,
   "metadata": {},
   "outputs": [],
   "source": [
    "# # Langkah 6: Data Balancing Menggunakan SMOTE\n",
    "# smote = SMOTE(random_state=42)\n",
    "# X_balanced, y_balanced = smote.fit_resample(X_train, y_train)"
   ]
  },
  {
   "cell_type": "code",
   "execution_count": null,
   "metadata": {},
   "outputs": [],
   "source": [
    "# # Normalization\n",
    "# from sklearn.preprocessing import MinMaxScaler\n",
    "# scaler = MinMaxScaler()\n",
    "# X_smote_resampled_normal = scaler.fit_transform(X_balanced)\n",
    "# len(X_smote_resampled_normal)"
   ]
  },
  {
   "cell_type": "code",
   "execution_count": null,
   "metadata": {},
   "outputs": [],
   "source": [
    "# # 1. Tuning Decision Tree\n",
    "# param_dt = {\n",
    "#     'criterion': ['gini', 'entropy'],\n",
    "#     'max_depth': [3, 5, 10, None],\n",
    "#     'min_samples_split': [2, 5, 10]\n",
    "# }\n",
    "# dt = DecisionTreeClassifier(random_state=42)\n",
    "# grid_dt = GridSearchCV(dt, param_dt, cv=5, n_jobs=-1, scoring='accuracy')\n",
    "# grid_dt.fit(X_train, y_train)\n",
    "# print(\"Best Decision Tree Params:\", grid_dt.best_params_)\n",
    "# print(\"Best Decision Tree Score (CV):\", grid_dt.best_score_)\n"
   ]
  },
  {
   "cell_type": "code",
   "execution_count": null,
   "metadata": {},
   "outputs": [],
   "source": [
    "\n",
    "# # 2. Tuning Random Forest\n",
    "# param_rf = {\n",
    "#     'n_estimators': [100, 200, 500],\n",
    "#     'max_depth': [5, 10, None],\n",
    "#     'min_samples_split': [2, 5, 10]\n",
    "# }\n",
    "# rf = RandomForestClassifier(random_state=42)\n",
    "# grid_rf = GridSearchCV(rf, param_rf, cv=5, n_jobs=-1, scoring='accuracy')\n",
    "# grid_rf.fit(X_train, y_train)\n",
    "# print(\"Best Random Forest Params:\", grid_rf.best_params_)\n",
    "# print(\"Best Random Forest Score (CV):\", grid_rf.best_score_)\n",
    "\n"
   ]
  },
  {
   "cell_type": "code",
   "execution_count": null,
   "metadata": {},
   "outputs": [],
   "source": [
    "# # 3. Tuning Naive Bayes (GaussianNB)\n",
    "# # Naive Bayes biasanya tidak banyak parameter untuk di-tuning, tapi kita bisa coba var_smoothing\n",
    "# param_nb = {\n",
    "#     'var_smoothing': [1e-9, 1e-8, 1e-7, 1e-6]\n",
    "# }\n",
    "# nb = GaussianNB()\n",
    "# grid_nb = GridSearchCV(nb, param_nb, cv=5, n_jobs=-1, scoring='accuracy')\n",
    "# grid_nb.fit(X_train, y_train)\n",
    "# print(\"Best Naive Bayes Params:\", grid_nb.best_params_)\n",
    "# print(\"Best Naive Bayes Score (CV):\", grid_nb.best_score_)\n",
    "\n"
   ]
  },
  {
   "cell_type": "code",
   "execution_count": null,
   "metadata": {},
   "outputs": [],
   "source": [
    "# # 4. XGBoost\n",
    "# from xgboost import XGBClassifier\n",
    "# from sklearn.model_selection import GridSearchCV\n",
    "\n",
    "# param_xgb = {\n",
    "#     'n_estimators': [100, 200],\n",
    "#     'max_depth': [3, 6, 10],\n",
    "#     'learning_rate': [0.01, 0.1, 0.2],\n",
    "#     'subsample': [0.8, 1.0]\n",
    "# }\n",
    "# xgb = XGBClassifier(use_label_encoder=False, eval_metric='logloss', random_state=42)\n",
    "# grid_xgb = GridSearchCV(xgb, param_xgb, cv=5, n_jobs=-1, scoring='accuracy')\n",
    "# grid_xgb.fit(X_balanced, y_balanced)\n",
    "# print(\"Best XGBoost Params:\", grid_xgb.best_params_)\n",
    "# print(\"Best XGBoost Score (CV):\", grid_xgb.best_score_)\n"
   ]
  },
  {
   "cell_type": "code",
   "execution_count": null,
   "metadata": {},
   "outputs": [],
   "source": [
    "# # 5. LightGBM\n",
    "# from lightgbm import LGBMClassifier\n",
    "\n",
    "# param_lgb = {\n",
    "#     'n_estimators': [100, 200],\n",
    "#     'max_depth': [3, 6, 10, -1],\n",
    "#     'learning_rate': [0.01, 0.1, 0.2],\n",
    "#     'subsample': [0.8, 1.0]\n",
    "# }\n",
    "# lgb = LGBMClassifier(random_state=42)\n",
    "# grid_lgb = GridSearchCV(lgb, param_lgb, cv=5, n_jobs=-1, scoring='accuracy')\n",
    "# grid_lgb.fit(X_balanced, y_balanced)\n",
    "# print(\"Best LightGBM Params:\", grid_lgb.best_params_)\n",
    "# print(\"Best LightGBM Score (CV):\", grid_lgb.best_score_)"
   ]
  },
  {
   "cell_type": "code",
   "execution_count": null,
   "metadata": {},
   "outputs": [],
   "source": [
    "# # Evaluasi di data test untuk model terbaik\n",
    "# from sklearn.metrics import classification_report, confusion_matrix, accuracy_score\n",
    "\n",
    "# print(\"\\n--- Evaluasi Model Terbaik di Data Test ---\")\n",
    "# models = {\n",
    "#     \"Decision Tree\": grid_dt.best_estimator_,\n",
    "#     \"Random Forest\": grid_rf.best_estimator_,\n",
    "#     \"Naive Bayes\": grid_nb.best_estimator_,\n",
    "#     \"XGBoost\": grid_xgb.best_estimator_,\n",
    "#     \"LightGBM\": grid_lgb.best_estimator_\n",
    "# }\n",
    "\n"
   ]
  },
  {
   "cell_type": "code",
   "execution_count": null,
   "metadata": {},
   "outputs": [],
   "source": [
    "# for name, model in models.items():\n",
    "#     y_pred = model.predict(X_test)\n",
    "#     print(f\"\\n{name}\")\n",
    "#     print(\"Test Accuracy:\", accuracy_score(y_test, y_pred))\n",
    "#     print(\"Classification Report:\\n\", classification_report(y_test, y_pred))\n",
    "#     print(\"Confusion Matrix:\\n\", confusion_matrix(y_test, y_pred))\n",
    "    "
   ]
  },
  {
   "cell_type": "markdown",
   "metadata": {},
   "source": []
  },
  {
   "cell_type": "code",
   "execution_count": null,
   "metadata": {},
   "outputs": [],
   "source": [
    "# # membagi fitur dan target menjadi data train dan test (untuk yang oversample + normalization)\n",
    "# X_train_normal, X_test_normal, y_train_normal, y_test_normal = train_test_split(X_smote_resampled_normal, y_balanced, test_size=0.2, random_state=42,stratify = y_balanced)"
   ]
  },
  {
   "cell_type": "code",
   "execution_count": 20,
   "metadata": {},
   "outputs": [],
   "source": [
    "# from sklearn.metrics import accuracy_score,recall_score,f1_score,precision_score,confusion_matrix,precision_score\n",
    "\n",
    "# def evaluation(Y_test,Y_pred):\n",
    "#     acc = accuracy_score(Y_test,Y_pred)\n",
    "#     rcl = recall_score(Y_test,Y_pred,average = 'weighted')\n",
    "#     f1 = f1_score(Y_test,Y_pred,average = 'weighted')\n",
    "#     ps = precision_score(Y_test,Y_pred,average = 'weighted')\n",
    "#     metric_dict={\n",
    "#         'accuracy': round(acc,3),\n",
    "#         'recall': round(rcl,3),\n",
    "#         'F1 score': round(f1,3),\n",
    "#         'Precision score': round(ps,3)\n",
    "#     }\n",
    "#     return print(metric_dict)"
   ]
  },
  {
   "cell_type": "code",
   "execution_count": null,
   "metadata": {
    "ExecuteTime": {
     "end_time": "2024-12-28T10:02:57.356773Z",
     "start_time": "2024-12-28T10:02:57.277409Z"
    }
   },
   "outputs": [],
   "source": [
    "# Menampilkan ringkasan dari pembagian data setelah SMOTE\n",
    "print(\"Dimensi X_train:\", X_train.shape)\n",
    "print(\"Dimensi y_train:\", y_train.shape)\n",
    "print(\"Dimensi X_test:\", X_test.shape)\n",
    "print(\"Dimensi y_test:\", y_test.shape)\n",
    "\n",
    "print(\"Distribusi kelas pada y_train:\")\n",
    "print(y_train.value_counts())\n",
    "\n",
    "print(\"Fitur yang digunakan:\", X_train.columns)"
   ]
  },
  {
   "cell_type": "markdown",
   "metadata": {},
   "source": [
    "# <p style=\"background-color:lime; font-family:calibri; color:maroon; font-size:150%; text-align:center; border-radius:15px 50px;\">4. Modelling</p>"
   ]
  },
  {
   "cell_type": "code",
   "execution_count": 15,
   "metadata": {
    "ExecuteTime": {
     "end_time": "2024-12-28T10:02:57.528251Z",
     "start_time": "2024-12-28T10:02:57.409094Z"
    }
   },
   "outputs": [],
   "source": [
    "# Decision Tree\n",
    "dt_model = DecisionTreeClassifier(random_state=42)\n",
    "dt_model.fit(X_train, y_train)\n",
    "y_pred_dt = dt_model.predict(X_test)\n"
   ]
  },
  {
   "cell_type": "code",
   "execution_count": null,
   "metadata": {},
   "outputs": [],
   "source": [
    "# 1. Tuning Decision Tree\n",
    "param_dt = {\n",
    "    'criterion': ['gini', 'entropy'],\n",
    "    'max_depth': [3, 5, 10, None],\n",
    "    'min_samples_split': [2, 5, 10]\n",
    "}\n",
    "dt = DecisionTreeClassifier(random_state=42)\n",
    "grid_dt = GridSearchCV(dt, param_dt, cv=5, n_jobs=-1, scoring='accuracy')\n",
    "grid_dt.fit(X_train, y_train)\n",
    "print(\"Best Decision Tree Params:\", grid_dt.best_params_)\n",
    "print(\"Best Decision Tree Score (CV):\", grid_dt.best_score_)"
   ]
  },
  {
   "cell_type": "code",
   "execution_count": 16,
   "metadata": {
    "ExecuteTime": {
     "end_time": "2024-12-28T10:02:58.737319Z",
     "start_time": "2024-12-28T10:02:57.702439Z"
    }
   },
   "outputs": [],
   "source": [
    "# Random Forest\n",
    "rf_model = RandomForestClassifier(random_state=42, n_estimators=100)\n",
    "rf_model.fit(X_train, y_train)\n",
    "y_pred_rf = rf_model.predict(X_test)"
   ]
  },
  {
   "cell_type": "code",
   "execution_count": null,
   "metadata": {},
   "outputs": [],
   "source": [
    "\n",
    "# 2. Tuning Random Forest\n",
    "param_rf = {\n",
    "    'n_estimators': [100, 200, 500],\n",
    "    'max_depth': [5, 10, None],\n",
    "    'min_samples_split': [2, 5, 10]\n",
    "}\n",
    "rf = RandomForestClassifier(random_state=42)\n",
    "grid_rf = GridSearchCV(rf, param_rf, cv=5, n_jobs=-1, scoring='accuracy')\n",
    "grid_rf.fit(X_train, y_train)\n",
    "print(\"Best Random Forest Params:\", grid_rf.best_params_)\n",
    "print(\"Best Random Forest Score (CV):\", grid_rf.best_score_)\n",
    "\n"
   ]
  },
  {
   "cell_type": "code",
   "execution_count": 14,
   "metadata": {
    "ExecuteTime": {
     "end_time": "2024-12-28T10:02:58.817250Z",
     "start_time": "2024-12-28T10:02:58.786657Z"
    }
   },
   "outputs": [],
   "source": [
    "# Naive Bayes\n",
    "nb_model = GaussianNB()\n",
    "nb_model.fit(X_train, y_train)\n",
    "y_pred_nb = nb_model.predict(X_test)"
   ]
  },
  {
   "cell_type": "code",
   "execution_count": null,
   "metadata": {},
   "outputs": [],
   "source": [
    "# 3. Tuning Naive Bayes (GaussianNB)\n",
    "# Naive Bayes biasanya tidak banyak parameter untuk di-tuning, tapi kita bisa coba var_smoothing\n",
    "param_nb = {\n",
    "    'var_smoothing': [1e-9, 1e-8, 1e-7, 1e-6]\n",
    "}\n",
    "nb = GaussianNB()\n",
    "grid_nb = GridSearchCV(nb, param_nb, cv=5, n_jobs=-1, scoring='accuracy')\n",
    "grid_nb.fit(X_train, y_train)\n",
    "print(\"Best Naive Bayes Params:\", grid_nb.best_params_)\n",
    "print(\"Best Naive Bayes Score (CV):\", grid_nb.best_score_)\n",
    "\n"
   ]
  },
  {
   "cell_type": "markdown",
   "metadata": {},
   "source": [
    "# <p style=\"background-color:lime; font-family:calibri; color:maroon; font-size:150%; text-align:center; border-radius:15px 50px;\">5. Evaluation</p>"
   ]
  },
  {
   "cell_type": "code",
   "execution_count": 15,
   "metadata": {
    "ExecuteTime": {
     "end_time": "2024-12-28T10:03:01.442079Z",
     "start_time": "2024-12-28T10:03:01.423266Z"
    }
   },
   "outputs": [],
   "source": [
    "# Fungsi untuk plot confusion matrix\n",
    "def plot_confusion_matrix(y_true, y_pred, model_name):\n",
    "    cm = confusion_matrix(y_true, y_pred)\n",
    "    plt.figure(figsize=(8, 6))\n",
    "    sns.heatmap(cm, annot=True, fmt='d', cmap='Blues')\n",
    "    plt.title(f'Confusion Matrix - {model_name}')\n",
    "    plt.ylabel('Actual')\n",
    "    plt.xlabel('Predicted')\n",
    "    plt.show()"
   ]
  },
  {
   "cell_type": "code",
   "execution_count": 16,
   "metadata": {
    "ExecuteTime": {
     "end_time": "2024-12-28T10:03:01.472428Z",
     "start_time": "2024-12-28T10:03:01.459235Z"
    }
   },
   "outputs": [],
   "source": [
    "# Fungsi untuk plot ROC curve\n",
    "def plot_roc_curve(y_true, y_pred_proba, model_name):\n",
    "    fpr, tpr, _ = roc_curve(y_true, y_pred_proba)\n",
    "    roc_auc = auc(fpr, tpr)\n",
    "    plt.figure(figsize=(8, 6))\n",
    "    plt.plot(fpr, tpr, color='darkorange', lw=2, label=f'ROC curve (area = {roc_auc:.2f})')\n",
    "    plt.plot([0, 1], [0, 1], color='navy', lw=2, linestyle='--')\n",
    "    plt.xlim([0.0, 1.0])\n",
    "    plt.ylim([0.0, 1.05])\n",
    "    plt.xlabel('False Positive Rate')\n",
    "    plt.ylabel('True Positive Rate')\n",
    "    plt.title(f'Receiver Operating Characteristic - {model_name}')\n",
    "    plt.legend(loc=\"lower right\")\n",
    "    plt.show()\n"
   ]
  },
  {
   "cell_type": "code",
   "execution_count": null,
   "metadata": {
    "ExecuteTime": {
     "end_time": "2024-12-28T10:03:01.549021Z",
     "start_time": "2024-12-28T10:03:01.539892Z"
    }
   },
   "outputs": [],
   "source": [
    "# Evaluasi dan visualisasi untuk setiap model\n",
    "# models = {\n",
    "#     'Decision Tree': dt_model,\n",
    "#     'Random Forest': rf_model,\n",
    "#     'Naive Bayes': nb_model\n",
    "# }\n",
    "\n",
    "models = {\n",
    "    \"Decision Tree\": grid_dt.best_estimator_,\n",
    "    \"Random Forest\": grid_rf.best_estimator_,\n",
    "    \"Naive Bayes\": grid_nb.best_estimator_\n",
    "}"
   ]
  },
  {
   "cell_type": "code",
   "execution_count": null,
   "metadata": {
    "ExecuteTime": {
     "end_time": "2024-12-28T10:03:07.957278Z",
     "start_time": "2024-12-28T10:03:01.723744Z"
    }
   },
   "outputs": [],
   "source": [
    "for model_name, model in models.items():\n",
    "    y_pred = model.predict(X_test)\n",
    "    print(f\"\\nModel: {model_name}\")\n",
    "    print(\"Accuracy:\", accuracy_score(y_test, y_pred))\n",
    "    print(\"Classification Report:\\n\", classification_report(y_test, y_pred))\n",
    "    print(\"Confusion Matrix:\\n\", confusion_matrix(y_test, y_pred))\n",
    "    \n",
    "    # Plot confusion matrix\n",
    "    plot_confusion_matrix(y_test, y_pred, model_name)\n",
    "    \n",
    "    # Plot ROC curve if model supports probability prediction\n",
    "    if hasattr(model, \"predict_proba\"):\n",
    "        y_pred_proba = model.predict_proba(X_test)[:, 1]\n",
    "        plot_roc_curve(y_test, y_pred_proba, model_name)\n",
    "    # elif model_name == 'SVM':  # SVM with linear kernel uses decision_function\n",
    "    #     y_pred_proba = model.decision_function(X_test)\n",
    "    #     plot_roc_curve(y_test, y_pred_proba, model_name)\n"
   ]
  },
  {
   "cell_type": "code",
   "execution_count": null,
   "metadata": {
    "ExecuteTime": {
     "end_time": "2024-12-28T10:03:08.134114Z",
     "start_time": "2024-12-28T10:03:07.988084Z"
    }
   },
   "outputs": [],
   "source": [
    "# Evaluate Decision Tree\n",
    "accuracy_dt = accuracy_score(y_test, y_pred_dt)\n",
    "classification_report_dt = classification_report(y_test, y_pred_dt)\n",
    "confusion_matrix_dt = confusion_matrix(y_test, y_pred_dt)\n",
    "\n",
    "print(\"Decision Tree Accuracy:\", accuracy_dt)\n",
    "print(\"Decision Tree Classification Report:\\n\", classification_report_dt)\n",
    "print(\"Decision Tree Confusion Matrix:\\n\", confusion_matrix_dt)\n",
    "\n",
    "# Evaluate Random Forest\n",
    "accuracy_rf = accuracy_score(y_test, y_pred_rf)\n",
    "classification_report_rf = classification_report(y_test, y_pred_rf)\n",
    "confusion_matrix_rf = confusion_matrix(y_test, y_pred_rf)\n",
    "\n",
    "print(\"Random Forest Accuracy:\", accuracy_rf)\n",
    "print(\"Random Forest Classification Report:\\n\", classification_report_rf)\n",
    "print(\"Random Forest Confusion Matrix:\\n\", confusion_matrix_rf)\n",
    "\n",
    "# Evaluate Naive Bayes\n",
    "accuracy_nb = accuracy_score(y_test, y_pred_nb)\n",
    "classification_report_nb = classification_report(y_test, y_pred_nb)\n",
    "confusion_matrix_nb = confusion_matrix(y_test, y_pred_nb)\n",
    "\n",
    "print(\"Naive Bayes Accuracy:\", accuracy_nb)\n",
    "print(\"Naive Bayes Classification Report:\\n\", classification_report_nb)\n",
    "print(\"Naive Bayes Confusion Matrix:\\n\", confusion_matrix_nb)"
   ]
  },
  {
   "cell_type": "code",
   "execution_count": null,
   "metadata": {
    "ExecuteTime": {
     "end_time": "2024-12-28T10:03:08.245778Z",
     "start_time": "2024-12-28T10:03:08.222771Z"
    }
   },
   "outputs": [],
   "source": [
    "# Compile all results into a dictionary for easy comparison\n",
    "model_performance = {\n",
    "    'Decision Tree': {\n",
    "        'Accuracy': accuracy_dt,\n",
    "        'Classification Report': classification_report_dt,\n",
    "        'Confusion Matrix': confusion_matrix_dt\n",
    "    },\n",
    "    'Random Forest': {\n",
    "        'Accuracy': accuracy_rf,\n",
    "        'Classification Report': classification_report_rf,\n",
    "        'Confusion Matrix': confusion_matrix_rf\n",
    "    },\n",
    "    'Naive Bayes': {\n",
    "        'Accuracy': accuracy_nb,\n",
    "        'Classification Report': classification_report_nb,\n",
    "        'Confusion Matrix': confusion_matrix_nb\n",
    "    }\n",
    "}\n",
    "\n",
    "\n",
    "# Display model performance\n",
    "for model_name, performance in model_performance.items():\n",
    "    print(f\"\\nModel: {model_name}\")\n",
    "    print(f\"Accuracy: {performance['Accuracy']}\")\n",
    "    print(\"Classification Report:\\n\", performance['Classification Report'])\n",
    "    print(\"Confusion Matrix:\\n\", performance['Confusion Matrix'])"
   ]
  },
  {
   "cell_type": "code",
   "execution_count": null,
   "metadata": {},
   "outputs": [],
   "source": [
    "model_comp1 = pd.DataFrame({\n",
    "    'Model': ['Decision Tree','Random Forest','Naive Bayes'],\n",
    "    'Accuracy': [accuracy_dt*100,accuracy_rf*100,accuracy_nb*100]\n",
    "    })\n",
    "model_comp1.head()"
   ]
  },
  {
   "cell_type": "markdown",
   "metadata": {},
   "source": [
    "# <p style=\"background-color:lime; font-family:calibri; color:maroon; font-size:150%; text-align:center; border-radius:15px 50px;\">6. Deployment</p>"
   ]
  },
  {
   "cell_type": "code",
   "execution_count": 33,
   "metadata": {},
   "outputs": [],
   "source": [
    "df = df.to_excel('simpan_data.xlsx')"
   ]
  },
  {
   "cell_type": "code",
   "execution_count": null,
   "metadata": {
    "ExecuteTime": {
     "end_time": "2024-12-28T10:03:08.580645Z",
     "start_time": "2024-12-28T10:03:08.448629Z"
    }
   },
   "outputs": [],
   "source": [
    "import joblib\n",
    "\n",
    "# Menyimpan model\n",
    "joblib.dump(dt_model, 'decision_tree_model.pkl')\n",
    "joblib.dump(rf_model, 'random_forest_model.pkl')\n",
    "joblib.dump(nb_model, 'naive_bayes_model.pkl')"
   ]
  },
  {
   "cell_type": "code",
   "execution_count": null,
   "metadata": {
    "ExecuteTime": {
     "end_time": "2024-12-28T10:03:08.782371Z",
     "start_time": "2024-12-28T10:03:08.687335Z"
    }
   },
   "outputs": [],
   "source": [
    "# Memuat model\n",
    "loaded_dt_model = joblib.load('decision_tree_model.pkl')\n",
    "loaded_rf_model = joblib.load('random_forest_model.pkl')\n",
    "loaded_nb_model = joblib.load('naive_bayes_model.pkl')"
   ]
  },
  {
   "cell_type": "code",
   "execution_count": null,
   "metadata": {
    "ExecuteTime": {
     "end_time": "2024-12-28T10:03:08.910518Z",
     "start_time": "2024-12-28T10:03:08.860791Z"
    }
   },
   "outputs": [],
   "source": [
    "# Data baru untuk prediksi (sesuaikan dengan data Anda)\n",
    "new_data = X_test.iloc[0].to_frame().T  # Mengambil satu baris data sebagai contoh\n",
    "\n",
    "# Prediksi menggunakan model yang telah dimuat\n",
    "prediction_dt = loaded_dt_model.predict(new_data)\n",
    "prediction_rf = loaded_rf_model.predict(new_data)\n",
    "prediction_nb = loaded_nb_model.predict(new_data)\n",
    "\n",
    "# Menampilkan hasil prediksi\n",
    "print(f\"Decision Tree Prediction: {'Positif' if prediction_dt[0] == 1 else 'Negatif'}\")\n",
    "print(f\"Random Forest Prediction: {'Positif' if prediction_rf[0] == 1 else 'Negatif'}\")\n",
    "print(f\"Naive Bayes Prediction: {'Positif' if prediction_nb[0] == 1 else 'Negatif'}\")"
   ]
  },
  {
   "cell_type": "code",
   "execution_count": null,
   "metadata": {
    "ExecuteTime": {
     "end_time": "2024-12-28T10:03:08.934555Z",
     "start_time": "2024-12-28T10:03:08.929133Z"
    }
   },
   "outputs": [],
   "source": []
  }
 ],
 "metadata": {
  "kernelspec": {
   "display_name": "venv",
   "language": "python",
   "name": "python3"
  },
  "language_info": {
   "codemirror_mode": {
    "name": "ipython",
    "version": 3
   },
   "file_extension": ".py",
   "mimetype": "text/x-python",
   "name": "python",
   "nbconvert_exporter": "python",
   "pygments_lexer": "ipython3",
   "version": "3.12.0"
  }
 },
 "nbformat": 4,
 "nbformat_minor": 4
}
