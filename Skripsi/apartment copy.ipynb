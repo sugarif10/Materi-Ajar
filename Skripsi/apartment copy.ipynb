{
 "cells": [
  {
   "cell_type": "code",
   "execution_count": null,
   "metadata": {},
   "outputs": [],
   "source": [
    "# 1. Business Understanding"
   ]
  },
  {
   "cell_type": "code",
   "execution_count": null,
   "metadata": {},
   "outputs": [],
   "source": [
    "# 2. Data Understanding"
   ]
  },
  {
   "cell_type": "code",
   "execution_count": null,
   "metadata": {
    "ExecuteTime": {
     "end_time": "2025-05-31T08:42:40.941507Z",
     "start_time": "2025-05-31T08:42:40.845315Z"
    }
   },
   "outputs": [],
   "source": [
    "# Import library untuk manipulasi data\n",
    "import pandas as pd  # Untuk pengolahan data tabular\n",
    "import numpy as np   # Untuk komputasi numerik\n",
    "import matplotlib.pyplot as plt  # Untuk visualisasi data\n",
    "import seaborn as sns  # Untuk visualisasi data statistik\n",
    "from skimpy import skim # Import library skimpy untuk mendapatkan ringkasan statistik data yang lebih detail dan mudah dibaca\n",
    "from summarytools import dfSummary # Import library summarytools untuk membuat ringkasan data yang komprehensif termasuk statistik, distribusi, dan missing values\n",
    "\n",
    "# Import library untuk preprocessing data\n",
    "from sklearn.model_selection import train_test_split  # Untuk membagi data train dan test\n",
    "from sklearn.preprocessing import LabelEncoder  # Untuk encoding label kategorikal\n",
    "from imblearn.over_sampling import SMOTE  # Untuk menangani data tidak seimbang\n",
    "\n",
    "# Import library untuk model machine learning\n",
    "from sklearn.tree import DecisionTreeClassifier  # Model pohon keputusan\n",
    "from sklearn.ensemble import RandomForestClassifier  # Model random forest\n",
    "from sklearn.naive_bayes import GaussianNB  # Model naive bayes\n",
    "\n",
    "# Import library untuk evaluasi model\n",
    "from sklearn.metrics import accuracy_score, classification_report, confusion_matrix  # Metrik evaluasi\n",
    "from sklearn.metrics import roc_curve, auc  # Untuk kurva ROC dan nilai AUC\n",
    "\n",
    "# Mengatur matplotlib untuk menampilkan plot di notebook\n",
    "%matplotlib inline"
   ]
  },
  {
   "cell_type": "code",
   "execution_count": null,
   "metadata": {
    "ExecuteTime": {
     "end_time": "2024-12-28T10:02:11.904875Z",
     "start_time": "2024-12-28T10:02:11.784665Z"
    }
   },
   "outputs": [],
   "source": [
    "# Memuat dataset\n",
    "df = pd.read_csv('data_apartment.csv')  "
   ]
  },
  {
   "cell_type": "code",
   "execution_count": null,
   "metadata": {},
   "outputs": [],
   "source": [
    "dfSummary(df)"
   ]
  },
  {
   "cell_type": "code",
   "execution_count": null,
   "metadata": {},
   "outputs": [],
   "source": [
    "# Menampilkan semua baris\n",
    "skim(df)"
   ]
  },
  {
   "cell_type": "code",
   "execution_count": null,
   "metadata": {
    "ExecuteTime": {
     "end_time": "2024-12-28T10:02:14.248140Z",
     "start_time": "2024-12-28T10:02:14.152914Z"
    }
   },
   "outputs": [],
   "source": [
    "# Menampilkan semua baris\n",
    "df"
   ]
  },
  {
   "cell_type": "code",
   "execution_count": null,
   "metadata": {
    "ExecuteTime": {
     "end_time": "2024-12-28T10:02:14.516122Z",
     "start_time": "2024-12-28T10:02:14.501466Z"
    }
   },
   "outputs": [],
   "source": [
    "# Melihat dimensi data\n",
    "print(\"Dimensi data:\", df.shape)"
   ]
  },
  {
   "cell_type": "code",
   "execution_count": null,
   "metadata": {
    "ExecuteTime": {
     "end_time": "2024-12-28T10:02:14.668201Z",
     "start_time": "2024-12-28T10:02:14.615333Z"
    }
   },
   "outputs": [],
   "source": [
    "# Menampilkan beberapa baris pertama data\n",
    "print(\"Baris pertama data:\")\n",
    "df.head()\n"
   ]
  },
  {
   "cell_type": "code",
   "execution_count": null,
   "metadata": {
    "ExecuteTime": {
     "end_time": "2024-12-28T10:02:15.097581Z",
     "start_time": "2024-12-28T10:02:15.039206Z"
    }
   },
   "outputs": [],
   "source": [
    "# Menampilkan beberapa baris terakhir data\n",
    "print(\"Baris terakhir data:\")\n",
    "df.tail()"
   ]
  },
  {
   "cell_type": "code",
   "execution_count": null,
   "metadata": {
    "ExecuteTime": {
     "end_time": "2024-12-28T10:02:15.827608Z",
     "start_time": "2024-12-28T10:02:15.738856Z"
    }
   },
   "outputs": [],
   "source": [
    "# Mengecek tipe data dari setiap kolom\n",
    "print(\"Tipe data setiap kolom:\")\n",
    "df.dtypes"
   ]
  },
  {
   "cell_type": "code",
   "execution_count": null,
   "metadata": {
    "ExecuteTime": {
     "end_time": "2024-12-28T10:02:16.967123Z",
     "start_time": "2024-12-28T10:02:16.498646Z"
    }
   },
   "outputs": [],
   "source": [
    "# Menghitung statistik deskriptif untuk kolom numerik\n",
    "print(\"Statistik deskriptif untuk kolom numerik:\")\n",
    "df.describe()"
   ]
  },
  {
   "cell_type": "code",
   "execution_count": null,
   "metadata": {},
   "outputs": [],
   "source": [
    "# 3. Data Preparation"
   ]
  },
  {
   "cell_type": "code",
   "execution_count": null,
   "metadata": {
    "ExecuteTime": {
     "end_time": "2024-12-28T10:02:18.857466Z",
     "start_time": "2024-12-28T10:02:18.811336Z"
    }
   },
   "outputs": [],
   "source": [
    "# Mengecek nilai yang hilang (missing values) di setiap kolom\n",
    "print(\"Nilai yang hilang di setiap kolom:\")\n",
    "df.isnull().sum()"
   ]
  },
  {
   "cell_type": "code",
   "execution_count": null,
   "metadata": {
    "ExecuteTime": {
     "end_time": "2024-12-28T10:02:19.879049Z",
     "start_time": "2024-12-28T10:02:19.867819Z"
    }
   },
   "outputs": [],
   "source": [
    "# # Langkah 1: Menangani Missing Values\n",
    "# # Mengisi nilai yang hilang dengan mean untuk kolom numerik dan mode untuk kolom kategorikal\n",
    "# for column in df.select_dtypes(include=[np.number]).columns:\n",
    "#     df[column].fillna(df[column].mean(), inplace=True)\n",
    "\n",
    "# for column in df.select_dtypes(include=[object]).columns:\n",
    "#     df[column].fillna(df[column].mode()[0], inplace=True)"
   ]
  },
  {
   "cell_type": "code",
   "execution_count": null,
   "metadata": {
    "ExecuteTime": {
     "end_time": "2024-12-28T10:02:21.088250Z",
     "start_time": "2024-12-28T10:02:21.015237Z"
    }
   },
   "outputs": [],
   "source": [
    "# Langkah 2.1: Feature Selection yaitu Menghapus kolom tertentu\n",
    "drop_column = ['No', 'Project', 'Category', 'Detail', 'Facing', 'Cancel Type', 'Deal Closer Team', 'Akad KPA/R Date', 'PostCode (ID)', 'Address (Cor)', 'PostCode (Cor)', 'Customer Job Status', 'Customer Education', 'Customer Income', 'Customer Salary Method', 'Customer Nation']\n",
    "df = df.drop(columns=drop_column)"
   ]
  },
  {
   "cell_type": "code",
   "execution_count": null,
   "metadata": {},
   "outputs": [],
   "source": [
    "# Langkah 2.2: Feature Selection yaitu Menghapus kolom tertentu\n",
    "drop_column1 = ['Book Date', 'Month', 'Country', 'Province', 'City', 'Unique ID', 'Block/Floor', 'Akad Month', 'PS Code', 'Net Area', 'Disc', 'Add Disc', 'Booking Disc', 'Adjustment Price', 'Status Checklist Document', 'Country (Cor)']\n",
    "df = df.drop(columns=drop_column1)"
   ]
  },
  {
   "cell_type": "code",
   "execution_count": null,
   "metadata": {},
   "outputs": [],
   "source": [
    "# Langkah 2.3: Feature Selection yaitu Menghapus kolom tertentu\n",
    "drop_column2 = ['Deal Closer', 'Sales Referral', 'Booking Term', 'Booking Term Price Scheme', 'Unit Name', 'Term Payment', 'Semi Gross Area', 'Area']\n",
    "df = df.drop(columns=drop_column2)"
   ]
  },
  {
   "cell_type": "code",
   "execution_count": null,
   "metadata": {},
   "outputs": [],
   "source": [
    "dfSummary(df)"
   ]
  },
  {
   "cell_type": "code",
   "execution_count": null,
   "metadata": {},
   "outputs": [],
   "source": [
    "# Visualisasi bar chart untuk kolom dengan jumlah unique value yang tidak terlalu banyak (misal <= 10)\n",
    "max_unique = 10  # batas maksimal unique value agar bar chart tetap informatif\n",
    "\n",
    "for column in df.columns:\n",
    "    if df[column].nunique() <= max_unique:\n",
    "        plt.figure(figsize=(8, 6))\n",
    "        sns.countplot(x=column, data=df, hue=column, palette=\"colorblind\", legend=False)\n",
    "        plt.title(f'Distribusi {column}')\n",
    "        plt.xlabel(column)\n",
    "        plt.ylabel('Jumlah')\n",
    "        plt.xticks(rotation=45)\n",
    "        plt.tight_layout()\n",
    "        plt.show()"
   ]
  },
  {
   "cell_type": "code",
   "execution_count": null,
   "metadata": {
    "ExecuteTime": {
     "end_time": "2024-12-28T10:02:42.412786Z",
     "start_time": "2024-12-28T10:02:32.525932Z"
    }
   },
   "outputs": [],
   "source": [
    "# Membuat bar chart dengan perbandingan terhadap tujuan pembelian\n",
    "max_unique = 10\n",
    "\n",
    "def plot_stacked_bar_chart(data, column):\n",
    "    plt.figure(figsize=(10, 6))\n",
    "    sns.countplot(x=column, hue='Sales Purpose', data=data)\n",
    "    plt.title(f'Distribusi {column} berdasarkan Tujuan Pembelian')\n",
    "    plt.xlabel(column)\n",
    "    plt.ylabel('Jumlah')\n",
    "    plt.xticks(rotation=45)\n",
    "    plt.legend(title='Sales Purpose', loc='upper right')\n",
    "    plt.tight_layout()\n",
    "    plt.show()\n",
    "\n",
    "# Membuat bar chart bertumpuk untuk setiap atribut (kecuali 'Sales Purpose')\n",
    "for column in df.columns:\n",
    "    if column != 'Sales Purpose' and df[column].nunique() <= max_unique:\n",
    "        plot_stacked_bar_chart(df, column)"
   ]
  },
  {
   "cell_type": "code",
   "execution_count": null,
   "metadata": {},
   "outputs": [],
   "source": [
    "# Histogram untuk Distribusi Usia Pelanggan\n",
    "# Menghitung usia berdasarkan Customer Birth Date\n",
    "from datetime import datetime\n",
    "\n",
    "# Convert 'Customer Birth Date' to datetime\n",
    "df['Customer Birth Date'] = pd.to_datetime(df['Customer Birth Date'], errors='coerce')\n",
    "df['Age'] = df['Customer Birth Date'].apply(lambda x: (datetime.now() - x).days // 365 if pd.notnull(x) else None)\n",
    "\n",
    "plt.figure(figsize=(10, 6))\n",
    "sns.histplot(df['Age'].dropna(), kde=True, color='skyblue')\n",
    "plt.title('Distribusi Usia Pelanggan', fontsize=16)\n",
    "plt.xlabel('Usia', fontsize=12)\n",
    "plt.ylabel('Jumlah Pelanggan', fontsize=12)\n",
    "plt.show()\n"
   ]
  },
  {
   "cell_type": "code",
   "execution_count": null,
   "metadata": {},
   "outputs": [],
   "source": [
    "# # Visualisasi heatmap korelasi antar fitur numerik\n",
    "# plt.figure(figsize=(16, 10))\n",
    "# corr = df.corr()\n",
    "# sns.heatmap(corr, annot=True, fmt=\".2f\", cmap='coolwarm', linewidths=0.5)\n",
    "# plt.title('Heatmap Korelasi Antar Fitur Numerik', fontsize=16)\n",
    "# plt.show()\n"
   ]
  },
  {
   "cell_type": "code",
   "execution_count": null,
   "metadata": {
    "ExecuteTime": {
     "end_time": "2024-12-28T10:02:46.327750Z",
     "start_time": "2024-12-28T10:02:42.816059Z"
    }
   },
   "outputs": [],
   "source": [
    "# Menampilkan distribusi beberapa fitur kunci\n",
    "fitur_kunci = ['Cluster', 'Customer Grade', 'Sales Event', 'Year']\n",
    "fig, axes = plt.subplots(2, 2, figsize=(12, 10))\n",
    "for i, fitur in enumerate(fitur_kunci):\n",
    "    sns.countplot(x=fitur, hue='Sales Purpose', data=df, ax=axes[i//2, i%2])\n",
    "    axes[i//2, i%2].set_title(f'Distribusi {fitur}')\n",
    "plt.tight_layout()\n",
    "plt.show()"
   ]
  },
  {
   "cell_type": "code",
   "execution_count": null,
   "metadata": {
    "ExecuteTime": {
     "end_time": "2024-12-28T10:02:48.367324Z",
     "start_time": "2024-12-28T10:02:47.487442Z"
    }
   },
   "outputs": [],
   "source": [
    "# Menampilkan pie chart untuk kolom Sales Purpose\n",
    "explode = (0.2, 0)\n",
    "plt.figure(figsize=(8, 6))\n",
    "df['Sales Purpose'].value_counts().plot(kind='pie', autopct='%1.1f%%', startangle=90, colors=['#007BFF', '#FFA500'], shadow=True, explode=(0.1, 0))\n",
    "plt.title('Distribusi Sales Purpose')\n",
    "plt.ylabel('')\n",
    "plt.show()"
   ]
  },
  {
   "cell_type": "code",
   "execution_count": null,
   "metadata": {},
   "outputs": [],
   "source": [
    "# Melakukan encoding pada variabel kategorikal khusus pada kolom Customer Type, Customer Sex, Customer Grade, Sales Purpose\n",
    "\n",
    "kolom_kategorikal = ['Booking Status', 'Sales Event', 'Cluster', 'Zoning', 'View', 'Customer Type', 'Customer Marital', 'Customer Sex', 'Customer Grade', 'Sales Purpose', 'Status KPR']\n",
    "label_encoder = LabelEncoder()\n",
    "for kolom in kolom_kategorikal:\n",
    "    if kolom in df.columns:\n",
    "        df[kolom] = label_encoder.fit_transform(df[kolom])\n"
   ]
  },
  {
   "cell_type": "code",
   "execution_count": null,
   "metadata": {},
   "outputs": [],
   "source": [
    "# Mengganti nama kolom menggunakan fungsi pandas .rename()\n",
    "df = df.rename(columns={'City (Cor)': 'City', 'Address (ID)': 'Address', 'Province (Cor)': 'Province'})"
   ]
  },
  {
   "cell_type": "code",
   "execution_count": null,
   "metadata": {},
   "outputs": [],
   "source": [
    "# Memindahkan kolom 'Age' agar berada di samping kolom 'Customer Birth Date'\n",
    "kolom = list(df.columns)\n",
    "if 'Age' in kolom and 'Customer Birth Date' in kolom:\n",
    "    kolom.remove('Age')\n",
    "    idx = kolom.index('Customer Birth Date') + 1\n",
    "    kolom.insert(idx, 'Age')\n",
    "    df = df[kolom]\n"
   ]
  },
  {
   "cell_type": "code",
   "execution_count": null,
   "metadata": {},
   "outputs": [],
   "source": [
    "dfSummary(df)"
   ]
  },
  {
   "cell_type": "code",
   "execution_count": null,
   "metadata": {
    "ExecuteTime": {
     "end_time": "2024-12-28T10:02:56.274803Z",
     "start_time": "2024-12-28T10:02:49.249135Z"
    }
   },
   "outputs": [],
   "source": [
    "# Menampilkan peta panas korelasi untuk kolom numerik\n",
    "kolom_numerik = df.select_dtypes(include=['int64', 'float64']).columns\n",
    "plt.figure(figsize=(18, 10))\n",
    "sns.heatmap(df[kolom_numerik].corr(), annot=True, cmap='coolwarm')\n",
    "plt.title('Heatmap Correlation')\n",
    "plt.show()"
   ]
  },
  {
   "cell_type": "code",
   "execution_count": null,
   "metadata": {},
   "outputs": [],
   "source": [
    "# Memisahkan fitur dan Target\n",
    "# Target: kolom 'Sales Purpose'\n",
    "# Fitur: kolom 'cluster', 'customer grade', 'sales event', dan 'year'\n",
    "# Kode berikut digunakan untuk menentukan fitur (variabel input) dan target (variabel output) yang akan digunakan dalam pemodelan machine learning.\n",
    "# 'fitur' adalah daftar nama kolom yang dipilih sebagai fitur, yaitu 'Cluster', 'Customer Grade', 'Sales Event', dan 'Year'.\n",
    "# X merupakan DataFrame yang berisi data dari kolom-kolom fitur tersebut.\n",
    "# y adalah variabel target yang diambil dari kolom 'Sales Purpose' pada DataFrame df.\n",
    "\n",
    "fitur = ['Sales Event', 'Cluster', 'Zoning', 'View', 'Status KPR', 'Customer Type', 'Customer Sex', 'Customer Marital', 'Customer Grade', 'Sales Event', 'Year']  # Mendefinisikan fitur yang akan digunakan\n",
    "X = df[fitur]  # Mengambil data fitur dari DataFrame\n",
    "y = df['Sales Purpose']  # Mengambil data target dari kolom 'Sales Purpose'\n"
   ]
  },
  {
   "cell_type": "code",
   "execution_count": null,
   "metadata": {
    "ExecuteTime": {
     "end_time": "2024-12-28T10:02:56.665037Z",
     "start_time": "2024-12-28T10:02:56.458746Z"
    }
   },
   "outputs": [],
   "source": [
    "# Langkah 6: Data Balancing Menggunakan SMOTE\n",
    "smote = SMOTE(random_state=42)\n",
    "X_balanced, y_balanced = smote.fit_resample(X, y)\n"
   ]
  },
  {
   "cell_type": "code",
   "execution_count": null,
   "metadata": {
    "ExecuteTime": {
     "end_time": "2024-12-28T10:02:57.064685Z",
     "start_time": "2024-12-28T10:02:57.006325Z"
    }
   },
   "outputs": [],
   "source": [
    "# Langkah 7: Membagi Data Menjadi Set Pelatihan dan Pengujian dengan rasio 80%-20%\n",
    "X_train, X_test, y_train, y_test = train_test_split(X_balanced, y_balanced, test_size=0.2, random_state=42, stratify=y_balanced)"
   ]
  },
  {
   "cell_type": "code",
   "execution_count": null,
   "metadata": {
    "ExecuteTime": {
     "end_time": "2024-12-28T10:02:57.356773Z",
     "start_time": "2024-12-28T10:02:57.277409Z"
    }
   },
   "outputs": [],
   "source": [
    "# Menampilkan ringkasan dari pembagian data setelah SMOTE\n",
    "print(\"Dimensi X_train:\", X_train.shape)\n",
    "print(\"Dimensi y_train:\", y_train.shape)\n",
    "print(\"Dimensi X_test:\", X_test.shape)\n",
    "print(\"Dimensi y_test:\", y_test.shape)\n",
    "\n",
    "print(\"Distribusi kelas pada y_train:\")\n",
    "print(y_train.value_counts())\n",
    "\n",
    "print(\"Fitur yang digunakan:\", X_train.columns)"
   ]
  },
  {
   "cell_type": "code",
   "execution_count": null,
   "metadata": {},
   "outputs": [],
   "source": [
    "# 4. Modelling"
   ]
  },
  {
   "cell_type": "code",
   "execution_count": null,
   "metadata": {
    "ExecuteTime": {
     "end_time": "2024-12-28T10:02:57.528251Z",
     "start_time": "2024-12-28T10:02:57.409094Z"
    }
   },
   "outputs": [],
   "source": [
    "# Decision Tree\n",
    "dt_model = DecisionTreeClassifier(random_state=42)\n",
    "dt_model.fit(X_train, y_train)\n",
    "y_pred_dt = dt_model.predict(X_test)"
   ]
  },
  {
   "cell_type": "code",
   "execution_count": null,
   "metadata": {
    "ExecuteTime": {
     "end_time": "2024-12-28T10:02:58.737319Z",
     "start_time": "2024-12-28T10:02:57.702439Z"
    }
   },
   "outputs": [],
   "source": [
    "# Random Forest\n",
    "rf_model = RandomForestClassifier(random_state=42, n_estimators=100)\n",
    "rf_model.fit(X_train, y_train)\n",
    "y_pred_rf = rf_model.predict(X_test)"
   ]
  },
  {
   "cell_type": "code",
   "execution_count": null,
   "metadata": {
    "ExecuteTime": {
     "end_time": "2024-12-28T10:02:58.817250Z",
     "start_time": "2024-12-28T10:02:58.786657Z"
    }
   },
   "outputs": [],
   "source": [
    "# Naive Bayes\n",
    "nb_model = GaussianNB()\n",
    "nb_model.fit(X_train, y_train)\n",
    "y_pred_nb = nb_model.predict(X_test)"
   ]
  },
  {
   "cell_type": "code",
   "execution_count": null,
   "metadata": {},
   "outputs": [],
   "source": [
    "# 5. Evaluation"
   ]
  },
  {
   "cell_type": "code",
   "execution_count": null,
   "metadata": {
    "ExecuteTime": {
     "end_time": "2024-12-28T10:03:01.442079Z",
     "start_time": "2024-12-28T10:03:01.423266Z"
    }
   },
   "outputs": [],
   "source": [
    "# Fungsi untuk plot confusion matrix\n",
    "def plot_confusion_matrix(y_true, y_pred, model_name):\n",
    "    cm = confusion_matrix(y_true, y_pred)\n",
    "    plt.figure(figsize=(8, 6))\n",
    "    sns.heatmap(cm, annot=True, fmt='d', cmap='Blues')\n",
    "    plt.title(f'Confusion Matrix - {model_name}')\n",
    "    plt.ylabel('Actual')\n",
    "    plt.xlabel('Predicted')\n",
    "    plt.show()"
   ]
  },
  {
   "cell_type": "code",
   "execution_count": null,
   "metadata": {
    "ExecuteTime": {
     "end_time": "2024-12-28T10:03:01.472428Z",
     "start_time": "2024-12-28T10:03:01.459235Z"
    }
   },
   "outputs": [],
   "source": [
    "# Fungsi untuk plot ROC curve\n",
    "def plot_roc_curve(y_true, y_pred_proba, model_name):\n",
    "    fpr, tpr, _ = roc_curve(y_true, y_pred_proba)\n",
    "    roc_auc = auc(fpr, tpr)\n",
    "    plt.figure(figsize=(8, 6))\n",
    "    plt.plot(fpr, tpr, color='darkorange', lw=2, label=f'ROC curve (area = {roc_auc:.2f})')\n",
    "    plt.plot([0, 1], [0, 1], color='navy', lw=2, linestyle='--')\n",
    "    plt.xlim([0.0, 1.0])\n",
    "    plt.ylim([0.0, 1.05])\n",
    "    plt.xlabel('False Positive Rate')\n",
    "    plt.ylabel('True Positive Rate')\n",
    "    plt.title(f'Receiver Operating Characteristic - {model_name}')\n",
    "    plt.legend(loc=\"lower right\")\n",
    "    plt.show()\n"
   ]
  },
  {
   "cell_type": "code",
   "execution_count": null,
   "metadata": {
    "ExecuteTime": {
     "end_time": "2024-12-28T10:03:01.549021Z",
     "start_time": "2024-12-28T10:03:01.539892Z"
    }
   },
   "outputs": [],
   "source": [
    "# Evaluasi dan visualisasi untuk setiap model\n",
    "models = {\n",
    "    'Decision Tree': dt_model,\n",
    "    'Random Forest': rf_model,\n",
    "    'Naive Bayes': nb_model\n",
    "}"
   ]
  },
  {
   "cell_type": "code",
   "execution_count": null,
   "metadata": {
    "ExecuteTime": {
     "end_time": "2024-12-28T10:03:07.957278Z",
     "start_time": "2024-12-28T10:03:01.723744Z"
    }
   },
   "outputs": [],
   "source": [
    "for model_name, model in models.items():\n",
    "    y_pred = model.predict(X_test)\n",
    "    print(f\"\\nModel: {model_name}\")\n",
    "    print(\"Accuracy:\", accuracy_score(y_test, y_pred))\n",
    "    print(\"Classification Report:\\n\", classification_report(y_test, y_pred))\n",
    "    print(\"Confusion Matrix:\\n\", confusion_matrix(y_test, y_pred))\n",
    "    \n",
    "    # Plot confusion matrix\n",
    "    plot_confusion_matrix(y_test, y_pred, model_name)\n",
    "    \n",
    "    # Plot ROC curve if model supports probability prediction\n",
    "    if hasattr(model, \"predict_proba\"):\n",
    "        y_pred_proba = model.predict_proba(X_test)[:, 1]\n",
    "        plot_roc_curve(y_test, y_pred_proba, model_name)\n",
    "    # elif model_name == 'SVM':  # SVM with linear kernel uses decision_function\n",
    "    #     y_pred_proba = model.decision_function(X_test)\n",
    "    #     plot_roc_curve(y_test, y_pred_proba, model_name)"
   ]
  },
  {
   "cell_type": "code",
   "execution_count": null,
   "metadata": {
    "ExecuteTime": {
     "end_time": "2024-12-28T10:03:08.134114Z",
     "start_time": "2024-12-28T10:03:07.988084Z"
    }
   },
   "outputs": [],
   "source": [
    "# Evaluate Decision Tree\n",
    "accuracy_dt = accuracy_score(y_test, y_pred_dt)\n",
    "classification_report_dt = classification_report(y_test, y_pred_dt)\n",
    "confusion_matrix_dt = confusion_matrix(y_test, y_pred_dt)\n",
    "\n",
    "print(\"Decision Tree Accuracy:\", accuracy_dt)\n",
    "print(\"Decision Tree Classification Report:\\n\", classification_report_dt)\n",
    "print(\"Decision Tree Confusion Matrix:\\n\", confusion_matrix_dt)\n",
    "\n",
    "# Evaluate Random Forest\n",
    "accuracy_rf = accuracy_score(y_test, y_pred_rf)\n",
    "classification_report_rf = classification_report(y_test, y_pred_rf)\n",
    "confusion_matrix_rf = confusion_matrix(y_test, y_pred_rf)\n",
    "\n",
    "print(\"Random Forest Accuracy:\", accuracy_rf)\n",
    "print(\"Random Forest Classification Report:\\n\", classification_report_rf)\n",
    "print(\"Random Forest Confusion Matrix:\\n\", confusion_matrix_rf)\n",
    "\n",
    "# Evaluate Naive Bayes\n",
    "accuracy_nb = accuracy_score(y_test, y_pred_nb)\n",
    "classification_report_nb = classification_report(y_test, y_pred_nb)\n",
    "confusion_matrix_nb = confusion_matrix(y_test, y_pred_nb)\n",
    "\n",
    "print(\"Naive Bayes Accuracy:\", accuracy_nb)\n",
    "print(\"Naive Bayes Classification Report:\\n\", classification_report_nb)\n",
    "print(\"Naive Bayes Confusion Matrix:\\n\", confusion_matrix_nb)"
   ]
  },
  {
   "cell_type": "code",
   "execution_count": null,
   "metadata": {
    "ExecuteTime": {
     "end_time": "2024-12-28T10:03:08.245778Z",
     "start_time": "2024-12-28T10:03:08.222771Z"
    }
   },
   "outputs": [],
   "source": [
    "# Compile all results into a dictionary for easy comparison\n",
    "model_performance = {\n",
    "    'Decision Tree': {\n",
    "        'Accuracy': accuracy_dt,\n",
    "        'Classification Report': classification_report_dt,\n",
    "        'Confusion Matrix': confusion_matrix_dt\n",
    "    },\n",
    "    'Random Forest': {\n",
    "        'Accuracy': accuracy_rf,\n",
    "        'Classification Report': classification_report_rf,\n",
    "        'Confusion Matrix': confusion_matrix_rf\n",
    "    },\n",
    "    'Naive Bayes': {\n",
    "        'Accuracy': accuracy_nb,\n",
    "        'Classification Report': classification_report_nb,\n",
    "        'Confusion Matrix': confusion_matrix_nb\n",
    "    }\n",
    "}\n",
    "\n",
    "\n",
    "# Display model performance\n",
    "for model_name, performance in model_performance.items():\n",
    "    print(f\"\\nModel: {model_name}\")\n",
    "    print(f\"Accuracy: {performance['Accuracy']}\")\n",
    "    print(\"Classification Report:\\n\", performance['Classification Report'])\n",
    "    print(\"Confusion Matrix:\\n\", performance['Confusion Matrix'])"
   ]
  },
  {
   "cell_type": "code",
   "execution_count": null,
   "metadata": {},
   "outputs": [],
   "source": [
    "# 6. Deployment"
   ]
  },
  {
   "cell_type": "code",
   "execution_count": null,
   "metadata": {},
   "outputs": [],
   "source": [
    "df = df.to_excel('simpan_data.xlsx')"
   ]
  },
  {
   "cell_type": "code",
   "execution_count": null,
   "metadata": {
    "ExecuteTime": {
     "end_time": "2024-12-28T10:03:08.580645Z",
     "start_time": "2024-12-28T10:03:08.448629Z"
    }
   },
   "outputs": [],
   "source": [
    "import joblib\n",
    "\n",
    "# Menyimpan model\n",
    "joblib.dump(dt_model, 'decision_tree_model.pkl')\n",
    "joblib.dump(rf_model, 'random_forest_model.pkl')\n",
    "joblib.dump(nb_model, 'naive_bayes_model.pkl')"
   ]
  },
  {
   "cell_type": "code",
   "execution_count": null,
   "metadata": {
    "ExecuteTime": {
     "end_time": "2024-12-28T10:03:08.782371Z",
     "start_time": "2024-12-28T10:03:08.687335Z"
    }
   },
   "outputs": [],
   "source": [
    "# Memuat model\n",
    "loaded_dt_model = joblib.load('decision_tree_model.pkl')\n",
    "loaded_rf_model = joblib.load('random_forest_model.pkl')\n",
    "loaded_nb_model = joblib.load('naive_bayes_model.pkl')"
   ]
  },
  {
   "cell_type": "code",
   "execution_count": null,
   "metadata": {
    "ExecuteTime": {
     "end_time": "2024-12-28T10:03:08.910518Z",
     "start_time": "2024-12-28T10:03:08.860791Z"
    }
   },
   "outputs": [],
   "source": [
    "# Data baru untuk prediksi (sesuaikan dengan data Anda)\n",
    "new_data = X_test.iloc[0].to_frame().T  # Mengambil satu baris data sebagai contoh\n",
    "\n",
    "# Prediksi menggunakan model yang telah dimuat\n",
    "prediction_dt = loaded_dt_model.predict(new_data)\n",
    "prediction_rf = loaded_rf_model.predict(new_data)\n",
    "prediction_nb = loaded_nb_model.predict(new_data)\n",
    "\n",
    "# Menampilkan hasil prediksi\n",
    "print(f\"Decision Tree Prediction: {'Positif' if prediction_dt[0] == 1 else 'Negatif'}\")\n",
    "print(f\"Random Forest Prediction: {'Positif' if prediction_rf[0] == 1 else 'Negatif'}\")\n",
    "print(f\"Naive Bayes Prediction: {'Positif' if prediction_nb[0] == 1 else 'Negatif'}\")"
   ]
  }
 ],
 "metadata": {
  "kernelspec": {
   "display_name": "venv",
   "language": "python",
   "name": "python3"
  },
  "language_info": {
   "codemirror_mode": {
    "name": "ipython",
    "version": 3
   },
   "file_extension": ".py",
   "mimetype": "text/x-python",
   "name": "python",
   "nbconvert_exporter": "python",
   "pygments_lexer": "ipython3",
   "version": "3.12.0"
  }
 },
 "nbformat": 4,
 "nbformat_minor": 4
}
