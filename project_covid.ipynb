{
 "cells": [
  {
   "cell_type": "markdown",
   "metadata": {},
   "source": [
    "# <p style=\"background-color:lime; font-family:calibri; color:maroon; font-size:150%; text-align:center; border-radius:15px 50px;\">1. Business Understanding</p>"
   ]
  },
  {
   "cell_type": "markdown",
   "metadata": {},
   "source": [
    "##### Global pandemi yang terjadi di dunia saat ini bernama SARS-CoV-2 atau disebut juga sebagai COVID-19 telah memakan banyak korban jiwa. Pemerintah secara khusus memberlakukan pencegahan-pencegahan dari gejala covid yang muncul. Berdasarkan hasil wawancara, research journal dan observasi pada Puskesmas Pakuhaji yang merupakan Unit Pelaksana Teknis Dinas (UPTD) kesehatan kabupaten/kota yang bertanggung jawab untuk memutus mata rantai penyebaran covid khususnya di daerah Pakuhaji dan sekitarnya. Banyak terdapat kasus tanpa gejala dan kurangnya diagnosis mengakibatkan keterlambatan atau bahkan diagnosis yang terlewatkan, membuat pasien terpapar covid. Oleh karena itu penulis mencoba menggunakan pendekatan non-klinis yaitu menggunakan pembelajaran mesin, penambangan data, dan kecerdasan buatan untuk mendiagnosis gejala awal virus serta menekan bertambahnya kasus COVID-19"
   ]
  },
  {
   "cell_type": "markdown",
   "metadata": {},
   "source": [
    "# <p style=\"background-color:lime; font-family:calibri; color:maroon; font-size:150%; text-align:center; border-radius:15px 50px;\">2. Data Understanding</p>"
   ]
  },
  {
   "cell_type": "code",
   "metadata": {
    "ExecuteTime": {
     "end_time": "2025-05-31T08:43:04.266132Z",
     "start_time": "2025-05-31T08:43:04.215350Z"
    }
   },
   "source": [
    "import pandas as pd\n",
    "import numpy as np\n",
    "import matplotlib.pyplot as plt\n",
    "import seaborn as sns\n",
    "\n",
    "from sklearn.model_selection import train_test_split\n",
    "from sklearn.preprocessing import LabelEncoder\n",
    "from imblearn.over_sampling import SMOTE\n",
    "\n",
    "from sklearn.tree import DecisionTreeClassifier\n",
    "from sklearn.ensemble import RandomForestClassifier\n",
    "from sklearn.naive_bayes import GaussianNB\n",
    "from sklearn.svm import SVC\n",
    "from sklearn.neighbors import KNeighborsClassifier\n",
    "from sklearn.metrics import accuracy_score, classification_report, confusion_matrix\n",
    "\n",
    "from sklearn.metrics import roc_curve, auc\n",
    "\n",
    "%matplotlib inline"
   ],
   "outputs": [
    {
     "ename": "ModuleNotFoundError",
     "evalue": "No module named 'pandas'",
     "output_type": "error",
     "traceback": [
      "\u001B[1;31m---------------------------------------------------------------------------\u001B[0m",
      "\u001B[1;31mModuleNotFoundError\u001B[0m                       Traceback (most recent call last)",
      "Cell \u001B[1;32mIn[1], line 1\u001B[0m\n\u001B[1;32m----> 1\u001B[0m \u001B[38;5;28;01mimport\u001B[39;00m \u001B[38;5;21;01mpandas\u001B[39;00m \u001B[38;5;28;01mas\u001B[39;00m \u001B[38;5;21;01mpd\u001B[39;00m\n\u001B[0;32m      2\u001B[0m \u001B[38;5;28;01mimport\u001B[39;00m \u001B[38;5;21;01mnumpy\u001B[39;00m \u001B[38;5;28;01mas\u001B[39;00m \u001B[38;5;21;01mnp\u001B[39;00m\n\u001B[0;32m      3\u001B[0m \u001B[38;5;28;01mimport\u001B[39;00m \u001B[38;5;21;01mmatplotlib\u001B[39;00m\u001B[38;5;21;01m.\u001B[39;00m\u001B[38;5;21;01mpyplot\u001B[39;00m \u001B[38;5;28;01mas\u001B[39;00m \u001B[38;5;21;01mplt\u001B[39;00m\n",
      "\u001B[1;31mModuleNotFoundError\u001B[0m: No module named 'pandas'"
     ]
    }
   ],
   "execution_count": 1
  },
  {
   "cell_type": "code",
   "execution_count": null,
   "metadata": {
    "ExecuteTime": {
     "end_time": "2024-12-28T10:02:11.904875Z",
     "start_time": "2024-12-28T10:02:11.784665Z"
    }
   },
   "outputs": [],
   "source": [
    "# Memuat dataset\n",
    "df = pd.read_csv('Covid Dataset.csv')  "
   ]
  },
  {
   "cell_type": "code",
   "execution_count": null,
   "metadata": {
    "ExecuteTime": {
     "end_time": "2024-12-28T10:02:14.248140Z",
     "start_time": "2024-12-28T10:02:14.152914Z"
    }
   },
   "outputs": [],
   "source": [
    "# Menampilkan semua baris\n",
    "df"
   ]
  },
  {
   "cell_type": "code",
   "execution_count": null,
   "metadata": {
    "ExecuteTime": {
     "end_time": "2024-12-28T10:02:14.516122Z",
     "start_time": "2024-12-28T10:02:14.501466Z"
    }
   },
   "outputs": [],
   "source": [
    "# Melihat dimensi data\n",
    "print(\"Dimensi data:\", df.shape)"
   ]
  },
  {
   "cell_type": "code",
   "execution_count": null,
   "metadata": {
    "ExecuteTime": {
     "end_time": "2024-12-28T10:02:14.668201Z",
     "start_time": "2024-12-28T10:02:14.615333Z"
    }
   },
   "outputs": [],
   "source": [
    "# Menampilkan beberapa baris pertama data\n",
    "print(\"Baris pertama data:\")\n",
    "df.head()\n"
   ]
  },
  {
   "cell_type": "code",
   "execution_count": null,
   "metadata": {
    "ExecuteTime": {
     "end_time": "2024-12-28T10:02:15.097581Z",
     "start_time": "2024-12-28T10:02:15.039206Z"
    }
   },
   "outputs": [],
   "source": [
    "# Menampilkan beberapa baris terakhir data\n",
    "print(\"Baris terakhir data:\")\n",
    "df.tail()"
   ]
  },
  {
   "cell_type": "code",
   "execution_count": null,
   "metadata": {
    "ExecuteTime": {
     "end_time": "2024-12-28T10:02:15.827608Z",
     "start_time": "2024-12-28T10:02:15.738856Z"
    }
   },
   "outputs": [],
   "source": [
    "# Mengecek tipe data dari setiap kolom\n",
    "print(\"Tipe data setiap kolom:\")\n",
    "df.dtypes"
   ]
  },
  {
   "cell_type": "code",
   "execution_count": null,
   "metadata": {
    "ExecuteTime": {
     "end_time": "2024-12-28T10:02:16.967123Z",
     "start_time": "2024-12-28T10:02:16.498646Z"
    }
   },
   "outputs": [],
   "source": [
    "# Menghitung statistik deskriptif untuk kolom numerik\n",
    "print(\"Statistik deskriptif untuk kolom numerik:\")\n",
    "df.describe()"
   ]
  },
  {
   "cell_type": "markdown",
   "metadata": {},
   "source": [
    "# <p style=\"background-color:lime; font-family:calibri; color:maroon; font-size:150%; text-align:center; border-radius:15px 50px;\">3. Data Preparation</p>"
   ]
  },
  {
   "cell_type": "code",
   "execution_count": null,
   "metadata": {
    "ExecuteTime": {
     "end_time": "2024-12-28T10:02:18.857466Z",
     "start_time": "2024-12-28T10:02:18.811336Z"
    }
   },
   "outputs": [],
   "source": [
    "# Mengecek nilai yang hilang (missing values) di setiap kolom\n",
    "print(\"Nilai yang hilang di setiap kolom:\")\n",
    "df.isnull().sum()"
   ]
  },
  {
   "cell_type": "code",
   "execution_count": null,
   "metadata": {
    "ExecuteTime": {
     "end_time": "2024-12-28T10:02:19.879049Z",
     "start_time": "2024-12-28T10:02:19.867819Z"
    }
   },
   "outputs": [],
   "source": [
    "# # Langkah 1: Menangani Missing Values\n",
    "# # Mengisi nilai yang hilang dengan mean untuk kolom numerik dan mode untuk kolom kategorikal\n",
    "# for column in df.select_dtypes(include=[np.number]).columns:\n",
    "#     df[column].fillna(df[column].mean(), inplace=True)\n",
    "\n",
    "# for column in df.select_dtypes(include=[object]).columns:\n",
    "#     df[column].fillna(df[column].mode()[0], inplace=True)"
   ]
  },
  {
   "cell_type": "code",
   "execution_count": null,
   "metadata": {
    "ExecuteTime": {
     "end_time": "2024-12-28T10:02:21.088250Z",
     "start_time": "2024-12-28T10:02:21.015237Z"
    }
   },
   "outputs": [],
   "source": [
    "# Langkah 2: Feature Selection yaitu Menghapus kolom tertentu\n",
    "columns_to_drop = ['Wearing Masks', 'Sanitization from Market']\n",
    "df = df.drop(columns=columns_to_drop)"
   ]
  },
  {
   "cell_type": "code",
   "execution_count": null,
   "metadata": {
    "ExecuteTime": {
     "end_time": "2024-12-28T10:02:21.546565Z",
     "start_time": "2024-12-28T10:02:21.487995Z"
    }
   },
   "outputs": [],
   "source": [
    "df"
   ]
  },
  {
   "cell_type": "code",
   "execution_count": null,
   "metadata": {
    "ExecuteTime": {
     "end_time": "2024-12-28T10:02:31.326672Z",
     "start_time": "2024-12-28T10:02:22.075324Z"
    }
   },
   "outputs": [],
   "source": [
    "# Langkah 3: Data Visualization\n",
    "# Membuat beberapa visualisasi dasar untuk memahami distribusi data\n",
    "# Fungsi untuk membuat bar chart\n",
    "def plot_bar_chart(data, column):\n",
    "    plt.figure(figsize=(8, 6))\n",
    "    sns.countplot(x=column, data=data, hue=column, palette=\"deep\", legend=False)\n",
    "    plt.title(f'Distribusi {column}')\n",
    "    plt.xlabel(column)\n",
    "    plt.ylabel('Jumlah')\n",
    "    plt.xticks(rotation=45)\n",
    "    plt.tight_layout()\n",
    "    plt.show()\n",
    "\n",
    "# Membuat bar chart untuk setiap atribut\n",
    "for column in df.columns:\n",
    "    plot_bar_chart(df, column)\n"
   ]
  },
  {
   "cell_type": "code",
   "execution_count": null,
   "metadata": {
    "ExecuteTime": {
     "end_time": "2024-12-28T10:02:42.412786Z",
     "start_time": "2024-12-28T10:02:32.525932Z"
    }
   },
   "outputs": [],
   "source": [
    "# Membuat bar chart dengan perbandingan terhadap status COVID-19\n",
    "def plot_stacked_bar_chart(data, column):\n",
    "    plt.figure(figsize=(10, 6))\n",
    "    sns.countplot(x=column, hue='COVID-19', data=data)\n",
    "    plt.title(f'Distribusi {column} berdasarkan Status COVID-19')\n",
    "    plt.xlabel(column)\n",
    "    plt.ylabel('Jumlah')\n",
    "    plt.xticks(rotation=45)\n",
    "    plt.legend(title='COVID-19', loc='upper right')\n",
    "    plt.tight_layout()\n",
    "    plt.show()\n",
    "\n",
    "# Membuat bar chart bertumpuk untuk setiap atribut (kecuali 'COVID-19')\n",
    "for column in df.columns:\n",
    "    if column != 'COVID-19':\n",
    "        plot_stacked_bar_chart(df, column)"
   ]
  },
  {
   "cell_type": "code",
   "execution_count": null,
   "metadata": {
    "ExecuteTime": {
     "end_time": "2024-12-28T10:02:46.327750Z",
     "start_time": "2024-12-28T10:02:42.816059Z"
    }
   },
   "outputs": [],
   "source": [
    "# Menampilkan distribusi beberapa fitur kunci\n",
    "fitur_kunci = ['Breathing Problem', 'Fever', 'Dry Cough', 'Sore throat']\n",
    "fig, axes = plt.subplots(2, 2, figsize=(12, 10))\n",
    "for i, fitur in enumerate(fitur_kunci):\n",
    "    sns.countplot(x=fitur, hue='COVID-19', data=df, ax=axes[i//2, i%2])\n",
    "    axes[i//2, i%2].set_title(f'Distribusi {fitur}')\n",
    "plt.tight_layout()\n",
    "plt.show()"
   ]
  },
  {
   "cell_type": "code",
   "execution_count": null,
   "metadata": {
    "ExecuteTime": {
     "end_time": "2024-12-28T10:02:48.367324Z",
     "start_time": "2024-12-28T10:02:47.487442Z"
    }
   },
   "outputs": [],
   "source": [
    "# Menampilkan pie chart untuk kolom COVID-19\n",
    "explode = (0.2, 0)\n",
    "plt.figure(figsize=(8, 6))\n",
    "df['COVID-19'].value_counts().plot(kind='pie', autopct='%1.1f%%', startangle=0, colors=['#007BFF', '#FFA500'], shadow=True, explode=explode)\n",
    "plt.title('Distribusi Kasus COVID-19')\n",
    "plt.ylabel('COVID-19')\n",
    "plt.show()"
   ]
  },
  {
   "cell_type": "code",
   "execution_count": null,
   "metadata": {
    "ExecuteTime": {
     "end_time": "2024-12-28T10:02:48.593046Z",
     "start_time": "2024-12-28T10:02:48.470661Z"
    }
   },
   "outputs": [],
   "source": [
    "# Encoding Variabel Kategorikal\n",
    "label_encoder = LabelEncoder()\n",
    "for column in df.select_dtypes(include=[object]).columns:\n",
    "    df[column] = label_encoder.fit_transform(df[column])\n"
   ]
  },
  {
   "cell_type": "code",
   "execution_count": null,
   "metadata": {
    "ExecuteTime": {
     "end_time": "2024-12-28T10:02:48.732374Z",
     "start_time": "2024-12-28T10:02:48.658041Z"
    }
   },
   "outputs": [],
   "source": [
    "df"
   ]
  },
  {
   "cell_type": "code",
   "execution_count": null,
   "metadata": {
    "ExecuteTime": {
     "end_time": "2024-12-28T10:02:56.274803Z",
     "start_time": "2024-12-28T10:02:49.249135Z"
    }
   },
   "outputs": [],
   "source": [
    "# Menampilkan peta panas korelasi untuk kolom numerik\n",
    "kolom_numerik = df.select_dtypes(include=['int64', 'float64']).columns\n",
    "plt.figure(figsize=(18, 10))\n",
    "sns.heatmap(df[kolom_numerik].corr(), annot=True, cmap='coolwarm')\n",
    "plt.title('Peta Panas Korelasi')\n",
    "plt.show()"
   ]
  },
  {
   "cell_type": "code",
   "execution_count": null,
   "metadata": {
    "ExecuteTime": {
     "end_time": "2024-12-28T10:02:56.431970Z",
     "start_time": "2024-12-28T10:02:56.417011Z"
    }
   },
   "outputs": [],
   "source": [
    "# Langkah 5: Memisahkan Fitur dan Target\n",
    "# Asumsikan kolom target bernama 'COVID-19'\n",
    "X = df.drop(columns=['COVID-19'])\n",
    "y = df['COVID-19']"
   ]
  },
  {
   "cell_type": "code",
   "execution_count": null,
   "metadata": {
    "ExecuteTime": {
     "end_time": "2024-12-28T10:02:56.665037Z",
     "start_time": "2024-12-28T10:02:56.458746Z"
    }
   },
   "outputs": [],
   "source": [
    "# Langkah 6: Data Balancing Menggunakan SMOTE\n",
    "smote = SMOTE(random_state=42)\n",
    "X_balanced, y_balanced = smote.fit_resample(X, y)\n"
   ]
  },
  {
   "cell_type": "code",
   "execution_count": null,
   "metadata": {
    "ExecuteTime": {
     "end_time": "2024-12-28T10:02:57.064685Z",
     "start_time": "2024-12-28T10:02:57.006325Z"
    }
   },
   "outputs": [],
   "source": [
    "# Langkah 7: Membagi Data Menjadi Set Pelatihan dan Pengujian dengan rasio 80%-20%\n",
    "X_train, X_test, y_train, y_test = train_test_split(X_balanced, y_balanced, test_size=0.2, random_state=42, stratify=y_balanced)"
   ]
  },
  {
   "cell_type": "code",
   "execution_count": null,
   "metadata": {
    "ExecuteTime": {
     "end_time": "2024-12-28T10:02:57.356773Z",
     "start_time": "2024-12-28T10:02:57.277409Z"
    }
   },
   "outputs": [],
   "source": [
    "# Menampilkan ringkasan dari pembagian data setelah SMOTE\n",
    "print(\"Dimensi X_train:\", X_train.shape)\n",
    "print(\"Dimensi y_train:\", y_train.shape)\n",
    "print(\"Dimensi X_test:\", X_test.shape)\n",
    "print(\"Dimensi y_test:\", y_test.shape)\n",
    "\n",
    "print(\"Distribusi kelas pada y_train:\")\n",
    "print(y_train.value_counts())\n",
    "\n",
    "print(\"Fitur yang digunakan:\", X_train.columns)"
   ]
  },
  {
   "cell_type": "markdown",
   "metadata": {},
   "source": [
    "# <p style=\"background-color:lime; font-family:calibri; color:maroon; font-size:150%; text-align:center; border-radius:15px 50px;\">4. Modelling</p>"
   ]
  },
  {
   "cell_type": "code",
   "execution_count": null,
   "metadata": {
    "ExecuteTime": {
     "end_time": "2024-12-28T10:02:57.528251Z",
     "start_time": "2024-12-28T10:02:57.409094Z"
    }
   },
   "outputs": [],
   "source": [
    "# Decision Tree\n",
    "dt_model = DecisionTreeClassifier(random_state=42)\n",
    "dt_model.fit(X_train, y_train)\n",
    "y_pred_dt = dt_model.predict(X_test)"
   ]
  },
  {
   "cell_type": "code",
   "execution_count": null,
   "metadata": {
    "ExecuteTime": {
     "end_time": "2024-12-28T10:02:58.737319Z",
     "start_time": "2024-12-28T10:02:57.702439Z"
    }
   },
   "outputs": [],
   "source": [
    "# Random Forest\n",
    "rf_model = RandomForestClassifier(random_state=42, n_estimators=100)\n",
    "rf_model.fit(X_train, y_train)\n",
    "y_pred_rf = rf_model.predict(X_test)"
   ]
  },
  {
   "cell_type": "code",
   "execution_count": null,
   "metadata": {
    "ExecuteTime": {
     "end_time": "2024-12-28T10:02:58.817250Z",
     "start_time": "2024-12-28T10:02:58.786657Z"
    }
   },
   "outputs": [],
   "source": [
    "# Naive Bayes\n",
    "nb_model = GaussianNB()\n",
    "nb_model.fit(X_train, y_train)\n",
    "y_pred_nb = nb_model.predict(X_test)"
   ]
  },
  {
   "cell_type": "code",
   "execution_count": null,
   "metadata": {
    "ExecuteTime": {
     "end_time": "2024-12-28T10:02:59.728509Z",
     "start_time": "2024-12-28T10:02:58.955773Z"
    }
   },
   "outputs": [],
   "source": [
    "# Support Vector Machine (SVM)\n",
    "svm_model = SVC(kernel='linear', random_state=42)\n",
    "svm_model.fit(X_train, y_train)\n",
    "y_pred_svm = svm_model.predict(X_test)"
   ]
  },
  {
   "cell_type": "code",
   "execution_count": null,
   "metadata": {
    "ExecuteTime": {
     "end_time": "2024-12-28T10:03:01.320418Z",
     "start_time": "2024-12-28T10:02:59.806035Z"
    }
   },
   "outputs": [],
   "source": [
    "# K-Nearest Neighbors (KNN)\n",
    "knn_model = KNeighborsClassifier(n_neighbors=5)\n",
    "knn_model.fit(X_train, y_train)\n",
    "y_pred_knn = knn_model.predict(X_test)"
   ]
  },
  {
   "cell_type": "markdown",
   "metadata": {},
   "source": [
    "# <p style=\"background-color:lime; font-family:calibri; color:maroon; font-size:150%; text-align:center; border-radius:15px 50px;\">5. Evaluation</p>"
   ]
  },
  {
   "cell_type": "code",
   "execution_count": null,
   "metadata": {
    "ExecuteTime": {
     "end_time": "2024-12-28T10:03:01.442079Z",
     "start_time": "2024-12-28T10:03:01.423266Z"
    }
   },
   "outputs": [],
   "source": [
    "# Fungsi untuk plot confusion matrix\n",
    "def plot_confusion_matrix(y_true, y_pred, model_name):\n",
    "    cm = confusion_matrix(y_true, y_pred)\n",
    "    plt.figure(figsize=(8, 6))\n",
    "    sns.heatmap(cm, annot=True, fmt='d', cmap='Blues')\n",
    "    plt.title(f'Confusion Matrix - {model_name}')\n",
    "    plt.ylabel('Actual')\n",
    "    plt.xlabel('Predicted')\n",
    "    plt.show()"
   ]
  },
  {
   "cell_type": "code",
   "execution_count": null,
   "metadata": {
    "ExecuteTime": {
     "end_time": "2024-12-28T10:03:01.472428Z",
     "start_time": "2024-12-28T10:03:01.459235Z"
    }
   },
   "outputs": [],
   "source": [
    "# Fungsi untuk plot ROC curve\n",
    "def plot_roc_curve(y_true, y_pred_proba, model_name):\n",
    "    fpr, tpr, _ = roc_curve(y_true, y_pred_proba)\n",
    "    roc_auc = auc(fpr, tpr)\n",
    "    plt.figure(figsize=(8, 6))\n",
    "    plt.plot(fpr, tpr, color='darkorange', lw=2, label=f'ROC curve (area = {roc_auc:.2f})')\n",
    "    plt.plot([0, 1], [0, 1], color='navy', lw=2, linestyle='--')\n",
    "    plt.xlim([0.0, 1.0])\n",
    "    plt.ylim([0.0, 1.05])\n",
    "    plt.xlabel('False Positive Rate')\n",
    "    plt.ylabel('True Positive Rate')\n",
    "    plt.title(f'Receiver Operating Characteristic - {model_name}')\n",
    "    plt.legend(loc=\"lower right\")\n",
    "    plt.show()\n"
   ]
  },
  {
   "cell_type": "code",
   "execution_count": null,
   "metadata": {
    "ExecuteTime": {
     "end_time": "2024-12-28T10:03:01.549021Z",
     "start_time": "2024-12-28T10:03:01.539892Z"
    }
   },
   "outputs": [],
   "source": [
    "# Evaluasi dan visualisasi untuk setiap model\n",
    "models = {\n",
    "    'Decision Tree': dt_model,\n",
    "    'Random Forest': rf_model,\n",
    "    'Naive Bayes': nb_model,\n",
    "    'SVM': svm_model,\n",
    "    'KNN': knn_model\n",
    "}"
   ]
  },
  {
   "cell_type": "code",
   "execution_count": null,
   "metadata": {
    "ExecuteTime": {
     "end_time": "2024-12-28T10:03:07.957278Z",
     "start_time": "2024-12-28T10:03:01.723744Z"
    }
   },
   "outputs": [],
   "source": [
    "for model_name, model in models.items():\n",
    "    y_pred = model.predict(X_test)\n",
    "    print(f\"\\nModel: {model_name}\")\n",
    "    print(\"Accuracy:\", accuracy_score(y_test, y_pred))\n",
    "    print(\"Classification Report:\\n\", classification_report(y_test, y_pred))\n",
    "    print(\"Confusion Matrix:\\n\", confusion_matrix(y_test, y_pred))\n",
    "    \n",
    "    # Plot confusion matrix\n",
    "    plot_confusion_matrix(y_test, y_pred, model_name)\n",
    "    \n",
    "    # Plot ROC curve if model supports probability prediction\n",
    "    if hasattr(model, \"predict_proba\"):\n",
    "        y_pred_proba = model.predict_proba(X_test)[:, 1]\n",
    "        plot_roc_curve(y_test, y_pred_proba, model_name)\n",
    "    elif model_name == 'SVM':  # SVM with linear kernel uses decision_function\n",
    "        y_pred_proba = model.decision_function(X_test)\n",
    "        plot_roc_curve(y_test, y_pred_proba, model_name)"
   ]
  },
  {
   "cell_type": "code",
   "execution_count": null,
   "metadata": {
    "ExecuteTime": {
     "end_time": "2024-12-28T10:03:08.134114Z",
     "start_time": "2024-12-28T10:03:07.988084Z"
    }
   },
   "outputs": [],
   "source": [
    "# Evaluate Decision Tree\n",
    "accuracy_dt = accuracy_score(y_test, y_pred_dt)\n",
    "classification_report_dt = classification_report(y_test, y_pred_dt)\n",
    "confusion_matrix_dt = confusion_matrix(y_test, y_pred_dt)\n",
    "\n",
    "print(\"Decision Tree Accuracy:\", accuracy_dt)\n",
    "print(\"Decision Tree Classification Report:\\n\", classification_report_dt)\n",
    "print(\"Decision Tree Confusion Matrix:\\n\", confusion_matrix_dt)\n",
    "\n",
    "# Evaluate Random Forest\n",
    "accuracy_rf = accuracy_score(y_test, y_pred_rf)\n",
    "classification_report_rf = classification_report(y_test, y_pred_rf)\n",
    "confusion_matrix_rf = confusion_matrix(y_test, y_pred_rf)\n",
    "\n",
    "print(\"Random Forest Accuracy:\", accuracy_rf)\n",
    "print(\"Random Forest Classification Report:\\n\", classification_report_rf)\n",
    "print(\"Random Forest Confusion Matrix:\\n\", confusion_matrix_rf)\n",
    "\n",
    "# Evaluate Naive Bayes\n",
    "accuracy_nb = accuracy_score(y_test, y_pred_nb)\n",
    "classification_report_nb = classification_report(y_test, y_pred_nb)\n",
    "confusion_matrix_nb = confusion_matrix(y_test, y_pred_nb)\n",
    "\n",
    "print(\"Naive Bayes Accuracy:\", accuracy_nb)\n",
    "print(\"Naive Bayes Classification Report:\\n\", classification_report_nb)\n",
    "print(\"Naive Bayes Confusion Matrix:\\n\", confusion_matrix_nb)\n",
    "\n",
    "# Evaluate SVM\n",
    "accuracy_svm = accuracy_score(y_test, y_pred_svm)\n",
    "classification_report_svm = classification_report(y_test, y_pred_svm)\n",
    "confusion_matrix_svm = confusion_matrix(y_test, y_pred_svm)\n",
    "\n",
    "print(\"SVM Accuracy:\", accuracy_svm)\n",
    "print(\"SVM Classification Report:\\n\", classification_report_svm)\n",
    "print(\"SVM Confusion Matrix:\\n\", confusion_matrix_svm)\n",
    "\n",
    "# Evaluate KNN\n",
    "accuracy_knn = accuracy_score(y_test, y_pred_knn)\n",
    "classification_report_knn = classification_report(y_test, y_pred_knn)\n",
    "confusion_matrix_knn = confusion_matrix(y_test, y_pred_knn)\n",
    "\n",
    "print(\"KNN Accuracy:\", accuracy_knn)\n",
    "print(\"KNN Classification Report:\\n\", classification_report_knn)\n",
    "print(\"KNN Confusion Matrix:\\n\", confusion_matrix_knn)\n",
    "\n"
   ]
  },
  {
   "cell_type": "code",
   "execution_count": null,
   "metadata": {
    "ExecuteTime": {
     "end_time": "2024-12-28T10:03:08.245778Z",
     "start_time": "2024-12-28T10:03:08.222771Z"
    }
   },
   "outputs": [],
   "source": [
    "# Compile all results into a dictionary for easy comparison\n",
    "model_performance = {\n",
    "    'Decision Tree': {\n",
    "        'Accuracy': accuracy_dt,\n",
    "        'Classification Report': classification_report_dt,\n",
    "        'Confusion Matrix': confusion_matrix_dt\n",
    "    },\n",
    "    'Random Forest': {\n",
    "        'Accuracy': accuracy_rf,\n",
    "        'Classification Report': classification_report_rf,\n",
    "        'Confusion Matrix': confusion_matrix_rf\n",
    "    },\n",
    "    'Naive Bayes': {\n",
    "        'Accuracy': accuracy_nb,\n",
    "        'Classification Report': classification_report_nb,\n",
    "        'Confusion Matrix': confusion_matrix_nb\n",
    "    },\n",
    "    'SVM': {\n",
    "        'Accuracy': accuracy_svm,\n",
    "        'Classification Report': classification_report_svm,\n",
    "        'Confusion Matrix': confusion_matrix_svm\n",
    "    },\n",
    "    'KNN': {\n",
    "        'Accuracy': accuracy_knn,\n",
    "        'Classification Report': classification_report_knn,\n",
    "        'Confusion Matrix': confusion_matrix_knn\n",
    "    }\n",
    "}\n",
    "\n",
    "# Display model performance\n",
    "for model_name, performance in model_performance.items():\n",
    "    print(f\"\\nModel: {model_name}\")\n",
    "    print(f\"Accuracy: {performance['Accuracy']}\")\n",
    "    print(\"Classification Report:\\n\", performance['Classification Report'])\n",
    "    print(\"Confusion Matrix:\\n\", performance['Confusion Matrix'])"
   ]
  },
  {
   "cell_type": "markdown",
   "metadata": {},
   "source": [
    "# <p style=\"background-color:lime; font-family:calibri; color:maroon; font-size:150%; text-align:center; border-radius:15px 50px;\">6. Deployment</p>"
   ]
  },
  {
   "cell_type": "code",
   "execution_count": null,
   "metadata": {
    "ExecuteTime": {
     "end_time": "2024-12-28T10:03:08.580645Z",
     "start_time": "2024-12-28T10:03:08.448629Z"
    }
   },
   "outputs": [],
   "source": [
    "import joblib\n",
    "\n",
    "# Menyimpan model\n",
    "joblib.dump(dt_model, 'decision_tree_model.pkl')\n",
    "joblib.dump(rf_model, 'random_forest_model.pkl')\n",
    "joblib.dump(nb_model, 'naive_bayes_model.pkl')\n",
    "joblib.dump(svm_model, 'svm_model.pkl')\n",
    "joblib.dump(knn_model, 'knn_model.pkl')"
   ]
  },
  {
   "cell_type": "code",
   "execution_count": null,
   "metadata": {
    "ExecuteTime": {
     "end_time": "2024-12-28T10:03:08.782371Z",
     "start_time": "2024-12-28T10:03:08.687335Z"
    }
   },
   "outputs": [],
   "source": [
    "# Memuat model\n",
    "loaded_dt_model = joblib.load('decision_tree_model.pkl')\n",
    "loaded_rf_model = joblib.load('random_forest_model.pkl')\n",
    "loaded_nb_model = joblib.load('naive_bayes_model.pkl')\n",
    "loaded_svm_model = joblib.load('svm_model.pkl')\n",
    "loaded_knn_model = joblib.load('knn_model.pkl')"
   ]
  },
  {
   "cell_type": "code",
   "execution_count": null,
   "metadata": {
    "ExecuteTime": {
     "end_time": "2024-12-28T10:03:08.910518Z",
     "start_time": "2024-12-28T10:03:08.860791Z"
    }
   },
   "outputs": [],
   "source": [
    "# Data baru untuk prediksi (sesuaikan dengan data Anda)\n",
    "new_data = X_test.iloc[0].to_frame().T  # Mengambil satu baris data sebagai contoh\n",
    "\n",
    "# Prediksi menggunakan model yang telah dimuat\n",
    "prediction_dt = loaded_dt_model.predict(new_data)\n",
    "prediction_rf = loaded_rf_model.predict(new_data)\n",
    "prediction_nb = loaded_nb_model.predict(new_data)\n",
    "prediction_svm = loaded_svm_model.predict(new_data)\n",
    "prediction_knn = loaded_knn_model.predict(new_data)\n",
    "\n",
    "# Menampilkan hasil prediksi\n",
    "print(f\"Decision Tree Prediction: {'Positif' if prediction_dt[0] == 1 else 'Negatif'}\")\n",
    "print(f\"Random Forest Prediction: {'Positif' if prediction_rf[0] == 1 else 'Negatif'}\")\n",
    "print(f\"Naive Bayes Prediction: {'Positif' if prediction_nb[0] == 1 else 'Negatif'}\")\n",
    "print(f\"SVM Prediction: {'Positif' if prediction_svm[0] == 1 else 'Negatif'}\")\n",
    "print(f\"KNN Prediction: {'Positif' if prediction_knn[0] == 1 else 'Negatif'}\")"
   ]
  },
  {
   "cell_type": "code",
   "execution_count": null,
   "metadata": {
    "ExecuteTime": {
     "end_time": "2024-12-28T10:03:08.934555Z",
     "start_time": "2024-12-28T10:03:08.929133Z"
    }
   },
   "outputs": [],
   "source": []
  }
 ],
 "metadata": {
  "kernelspec": {
   "display_name": "venv",
   "language": "python",
   "name": "python3"
  },
  "language_info": {
   "codemirror_mode": {
    "name": "ipython",
    "version": 3
   },
   "file_extension": ".py",
   "mimetype": "text/x-python",
   "name": "python",
   "nbconvert_exporter": "python",
   "pygments_lexer": "ipython3",
   "version": "3.12.0"
  }
 },
 "nbformat": 4,
 "nbformat_minor": 4
}
