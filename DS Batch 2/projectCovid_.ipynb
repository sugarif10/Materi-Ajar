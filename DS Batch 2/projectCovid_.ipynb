{
 "cells": [
  {
   "cell_type": "markdown",
   "metadata": {},
   "source": [
    "# <p style=\"background-color:lime; font-family:calibri; color:maroon; font-size:150%; text-align:center; border-radius:15px 50px;\">1. Business Understanding</p>"
   ]
  },
  {
   "cell_type": "markdown",
   "metadata": {},
   "source": [
    "##### Global pandemi yang terjadi di dunia saat ini bernama SARS-CoV-2 atau disebut juga sebagai COVID-19 telah memakan banyak korban jiwa. Pemerintah secara khusus memberlakukan pencegahan-pencegahan dari gejala covid yang muncul. Berdasarkan hasil wawancara, research journal dan observasi pada Puskesmas Pakuhaji yang merupakan Unit Pelaksana Teknis Dinas (UPTD) kesehatan kabupaten/kota yang bertanggung jawab untuk memutus mata rantai penyebaran covid khususnya di daerah Pakuhaji dan sekitarnya. Banyak terdapat kasus tanpa gejala dan kurangnya diagnosis mengakibatkan keterlambatan atau bahkan diagnosis yang terlewatkan, membuat pasien terpapar covid. Oleh karena itu penulis mencoba menggunakan pendekatan non-klinis yaitu menggunakan pembelajaran mesin, penambangan data, dan kecerdasan buatan untuk mendiagnosis gejala awal virus serta menekan bertambahnya kasus COVID-19"
   ]
  },
  {
   "cell_type": "markdown",
   "metadata": {},
   "source": [
    "# <p style=\"background-color:lime; font-family:calibri; color:maroon; font-size:150%; text-align:center; border-radius:15px 50px;\">2. Data Understanding</p>"
   ]
  },
  {
   "cell_type": "code",
   "execution_count": null,
   "metadata": {
    "ExecuteTime": {
     "end_time": "2024-12-28T10:02:11.752771Z",
     "start_time": "2024-12-28T10:02:00.369381Z"
    }
   },
   "outputs": [],
   "source": [
    "# Import library untuk manipulasi data\n",
    "import pandas as pd  # Untuk pengolahan data tabular\n",
    "import numpy as np   # Untuk komputasi numerik\n",
    "import matplotlib.pyplot as plt  # Untuk visualisasi data\n",
    "import seaborn as sns  # Untuk visualisasi data statistik\n",
    "from skimpy import skim # Import library skimpy untuk mendapatkan ringkasan statistik data yang lebih detail dan mudah dibaca\n",
    "from summarytools import dfSummary # Import library summarytools untuk membuat ringkasan data yang komprehensif termasuk statistik, distribusi, dan missing values\n",
    "\n",
    "# Import library untuk preprocessing data\n",
    "from sklearn.model_selection import train_test_split  # Untuk membagi data train dan test\n",
    "from sklearn.preprocessing import LabelEncoder  # Untuk encoding label kategorikal\n",
    "from imblearn.over_sampling import SMOTE  # Untuk menangani data tidak seimbang\n",
    "\n",
    "# Import library untuk model machine learning\n",
    "from sklearn.tree import DecisionTreeClassifier  # Model pohon keputusan\n",
    "from sklearn.ensemble import RandomForestClassifier  # Model random forest\n",
    "from sklearn.naive_bayes import GaussianNB  # Model naive bayes\n",
    "from sklearn.svm import SVC  # Model support vector machine\n",
    "from sklearn.neighbors import KNeighborsClassifier  # Model k-nearest neighbors\n",
    "\n",
    "# Import library untuk evaluasi model\n",
    "from sklearn.metrics import accuracy_score, classification_report, confusion_matrix  # Metrik evaluasi\n",
    "from sklearn.metrics import roc_curve, auc  # Untuk kurva ROC dan nilai AUC\n",
    "\n",
    "# Mengatur matplotlib untuk menampilkan plot di notebook\n",
    "%matplotlib inline"
   ]
  },
  {
   "cell_type": "code",
   "execution_count": 2,
   "metadata": {
    "ExecuteTime": {
     "end_time": "2024-12-28T10:02:11.904875Z",
     "start_time": "2024-12-28T10:02:11.784665Z"
    }
   },
   "outputs": [],
   "source": [
    "# Memuat dataset\n",
    "df = pd.read_csv('Covid Dataset.csv')  "
   ]
  },
  {
   "cell_type": "code",
   "execution_count": null,
   "metadata": {
    "ExecuteTime": {
     "end_time": "2024-12-28T10:02:14.516122Z",
     "start_time": "2024-12-28T10:02:14.501466Z"
    }
   },
   "outputs": [],
   "source": [
    "# Melihat dimensi data\n",
    "print(\"Dimensi data:\", df.shape)"
   ]
  },
  {
   "cell_type": "code",
   "execution_count": null,
   "metadata": {
    "ExecuteTime": {
     "end_time": "2024-12-28T10:02:14.668201Z",
     "start_time": "2024-12-28T10:02:14.615333Z"
    }
   },
   "outputs": [],
   "source": [
    "# Menampilkan beberapa baris pertama data\n",
    "print(\"Baris pertama data:\")\n"
   ]
  },
  {
   "cell_type": "code",
   "execution_count": null,
   "metadata": {
    "ExecuteTime": {
     "end_time": "2024-12-28T10:02:15.097581Z",
     "start_time": "2024-12-28T10:02:15.039206Z"
    }
   },
   "outputs": [],
   "source": [
    "# Menampilkan beberapa baris terakhir data\n",
    "print(\"Baris terakhir data:\")\n"
   ]
  },
  {
   "cell_type": "code",
   "execution_count": null,
   "metadata": {
    "ExecuteTime": {
     "end_time": "2024-12-28T10:02:15.827608Z",
     "start_time": "2024-12-28T10:02:15.738856Z"
    }
   },
   "outputs": [],
   "source": [
    "# Mengecek tipe data dari setiap kolom\n",
    "print(\"Tipe data setiap kolom:\")\n"
   ]
  },
  {
   "cell_type": "code",
   "execution_count": null,
   "metadata": {
    "ExecuteTime": {
     "end_time": "2024-12-28T10:02:16.967123Z",
     "start_time": "2024-12-28T10:02:16.498646Z"
    }
   },
   "outputs": [],
   "source": [
    "# Menghitung statistik deskriptif untuk kolom numerik\n",
    "print(\"Statistik deskriptif untuk kolom numerik:\")\n"
   ]
  },
  {
   "cell_type": "code",
   "execution_count": null,
   "metadata": {},
   "outputs": [],
   "source": [
    "# Menggunakan fungsi dfSummary untuk membuat ringkasan data yang komprehensif\n",
    "# dfSummary akan menampilkan:\n",
    "# - Statistik dasar seperti jumlah data, mean, std dev untuk kolom numerik\n",
    "# - Distribusi nilai untuk setiap kolom\n",
    "# - Persentase missing values\n",
    "# - Visualisasi distribusi data\n"
   ]
  },
  {
   "cell_type": "code",
   "execution_count": null,
   "metadata": {},
   "outputs": [],
   "source": [
    "# Menggunakan fungsi skim() untuk menganalisis dataset\n",
    "# skim() akan menampilkan:\n",
    "# - Ringkasan statistik untuk setiap kolom (mean, std dev, min, max)\n",
    "# - Tipe data setiap kolom\n",
    "# - Jumlah missing values\n",
    "# - Histogram untuk kolom numerik\n",
    "# - Frekuensi nilai untuk kolom kategorikal\n"
   ]
  },
  {
   "cell_type": "markdown",
   "metadata": {},
   "source": [
    "# <p style=\"background-color:lime; font-family:calibri; color:maroon; font-size:150%; text-align:center; border-radius:15px 50px;\">3. Data Preparation</p>"
   ]
  },
  {
   "cell_type": "code",
   "execution_count": null,
   "metadata": {
    "ExecuteTime": {
     "end_time": "2024-12-28T10:02:18.857466Z",
     "start_time": "2024-12-28T10:02:18.811336Z"
    }
   },
   "outputs": [],
   "source": [
    "# Mengecek nilai yang hilang (missing values) di setiap kolom\n",
    "print(\"Nilai yang hilang di setiap kolom:\")\n"
   ]
  },
  {
   "cell_type": "code",
   "execution_count": null,
   "metadata": {
    "ExecuteTime": {
     "end_time": "2024-12-28T10:02:19.879049Z",
     "start_time": "2024-12-28T10:02:19.867819Z"
    }
   },
   "outputs": [],
   "source": [
    "# # Langkah 1: Menangani Missing Values\n",
    "# # Mengisi nilai yang hilang dengan mean untuk kolom numerik dan mode untuk kolom kategorikal\n",
    "# for column in df.select_dtypes(include=[np.number]).columns:\n",
    "#     df[column].fillna(df[column].mean(), inplace=True)\n",
    "\n",
    "# for column in df.select_dtypes(include=[object]).columns:\n",
    "#     df[column].fillna(df[column].mode()[0], inplace=True)"
   ]
  },
  {
   "cell_type": "code",
   "execution_count": 10,
   "metadata": {
    "ExecuteTime": {
     "end_time": "2024-12-28T10:02:21.088250Z",
     "start_time": "2024-12-28T10:02:21.015237Z"
    }
   },
   "outputs": [],
   "source": [
    "# Langkah 2: Feature Selection yaitu Menghapus kolom tertentu\n"
   ]
  },
  {
   "cell_type": "code",
   "execution_count": null,
   "metadata": {
    "ExecuteTime": {
     "end_time": "2024-12-28T10:02:21.546565Z",
     "start_time": "2024-12-28T10:02:21.487995Z"
    }
   },
   "outputs": [],
   "source": []
  },
  {
   "cell_type": "code",
   "execution_count": null,
   "metadata": {
    "ExecuteTime": {
     "end_time": "2024-12-28T10:02:31.326672Z",
     "start_time": "2024-12-28T10:02:22.075324Z"
    }
   },
   "outputs": [],
   "source": [
    "# Langkah 3: Data Visualization\n",
    "# Membuat beberapa visualisasi dasar untuk memahami distribusi data\n",
    "\n",
    "# Mendefinisikan fungsi plot_bar_chart yang menerima parameter data dan column\n",
    "# Fungsi ini akan membuat visualisasi bar chart untuk setiap kolom\n",
    "\n",
    "    # Membuat figure baru dengan ukuran 8x6 inch\n",
    "    \n",
    "    \n",
    "    # Membuat bar chart menggunakan seaborn countplot\n",
    "    # x = nama kolom yang akan divisualisasikan\n",
    "    # data = dataframe yang digunakan\n",
    "    # hue = memberikan warna berbeda untuk setiap nilai unik pada kolom\n",
    "    # palette = skema warna yang digunakan (\"deep\")\n",
    "    # legend = False untuk menyembunyikan legend\n",
    "    \n",
    "    \n",
    "    # Menambahkan judul grafik\n",
    "    \n",
    "    \n",
    "    # Menambahkan label pada sumbu x dan y\n",
    "    \n",
    "\n",
    "    \n",
    "    # Memutar label sumbu x 45 derajat agar lebih mudah dibaca\n",
    "    \n",
    "    \n",
    "    # Mengatur layout agar tidak tumpang tindih\n",
    "    \n",
    "    \n",
    "    # Menampilkan plot\n",
    "    \n",
    "\n",
    "# Melakukan iterasi untuk setiap kolom dalam dataframe\n",
    "# Dan membuat bar chart untuk masing-masing kolom menggunakan fungsi plot_bar_chart\n",
    "\n",
    "\n"
   ]
  },
  {
   "cell_type": "code",
   "execution_count": null,
   "metadata": {
    "ExecuteTime": {
     "end_time": "2024-12-28T10:02:42.412786Z",
     "start_time": "2024-12-28T10:02:32.525932Z"
    }
   },
   "outputs": [],
   "source": [
    "# Mendefinisikan fungsi untuk membuat bar chart yang membandingkan setiap kolom dengan status COVID-19\n",
    "\n",
    "    # Membuat figure baru dengan ukuran 10x6 inch\n",
    "    \n",
    "    \n",
    "    # Membuat bar chart menggunakan seaborn countplot\n",
    "    # x = kolom yang akan divisualisasikan\n",
    "    # hue = memberikan warna berbeda berdasarkan status COVID-19\n",
    "    # data = dataframe yang digunakan\n",
    "    \n",
    "    \n",
    "    # Menambahkan judul grafik\n",
    "    \n",
    "    \n",
    "    # Menambahkan label pada sumbu x dan y\n",
    "    \n",
    "\n",
    "    \n",
    "    # Memutar label sumbu x 45 derajat agar lebih mudah dibaca\n",
    "    \n",
    "    \n",
    "    # Menambahkan legend dengan judul 'COVID-19' di pojok kanan atas\n",
    "    \n",
    "    \n",
    "    # Mengatur layout agar tidak tumpang tindih\n",
    "    \n",
    "\n",
    "    # Menampilkan plot\n",
    "    \n",
    "\n",
    "# Melakukan iterasi untuk setiap kolom dalam dataframe\n",
    "# Dan membuat bar chart untuk membandingkan dengan status COVID-19\n",
    "# Kecuali untuk kolom 'COVID-19' itu sendiri\n",
    "\n"
   ]
  },
  {
   "cell_type": "code",
   "execution_count": null,
   "metadata": {
    "ExecuteTime": {
     "end_time": "2024-12-28T10:02:46.327750Z",
     "start_time": "2024-12-28T10:02:42.816059Z"
    }
   },
   "outputs": [],
   "source": [
    "# Mendefinisikan fitur-fitur kunci yang akan divisualisasikan\n",
    "# Yaitu gejala-gejala utama COVID-19: masalah pernapasan, demam, batuk kering, dan sakit tenggorokan\n",
    "\n",
    "\n",
    "# Membuat subplot dengan ukuran 2x2 (total 4 plot) dan ukuran figure 12x10 inch\n",
    "\n",
    "\n",
    "# Melakukan iterasi untuk setiap fitur kunci\n",
    "\n",
    "    # Membuat countplot untuk setiap fitur\n",
    "    # x = fitur yang akan divisualisasikan\n",
    "    # hue = memberikan warna berbeda berdasarkan status COVID-19\n",
    "    # data = dataframe yang digunakan\n",
    "    # ax = menentukan posisi subplot (menggunakan integer division dan modulo)\n",
    "    # i//2 menentukan baris (0 atau 1)\n",
    "    # i%2 menentukan kolom (0 atau 1)\n",
    "    \n",
    "    \n",
    "    # Menambahkan judul untuk setiap subplot\n",
    "    \n",
    "\n",
    "# Mengatur layout agar subplot tidak tumpang tindih\n",
    "\n",
    "\n",
    "# Menampilkan seluruh plot\n"
   ]
  },
  {
   "cell_type": "code",
   "execution_count": null,
   "metadata": {
    "ExecuteTime": {
     "end_time": "2024-12-28T10:02:48.367324Z",
     "start_time": "2024-12-28T10:02:47.487442Z"
    }
   },
   "outputs": [],
   "source": [
    "# Membuat pie chart untuk menampilkan distribusi kasus COVID-19\n",
    "\n",
    "# Membuat efek 'explode' untuk memisahkan potongan pie sebesar 0.2 untuk slice pertama\n",
    "# dan 0 untuk slice kedua\n",
    "\n",
    "\n",
    "# Membuat figure dengan ukuran 8x6 inch\n",
    "\n",
    "\n",
    "# Membuat pie chart:\n",
    "# - Menghitung jumlah nilai unik dalam kolom COVID-19 menggunakan value_counts()\n",
    "# - Mengatur jenis plot menjadi 'pie'\n",
    "# - autopct='%1.1f%%' untuk menampilkan persentase dengan 1 desimal\n",
    "# - startangle=0 mengatur sudut awal pie chart\n",
    "# - colors mengatur warna slice (biru dan oranye)\n",
    "# - shadow=True memberikan efek bayangan\n",
    "# - explode mengatur jarak pemisahan slice\n",
    "\n",
    "\n",
    "\n",
    "\n",
    "\n",
    "# Menambahkan judul grafik\n",
    "\n",
    "\n",
    "# Menambahkan label untuk sumbu y\n",
    "\n",
    "\n",
    "# Menampilkan plot\n"
   ]
  },
  {
   "cell_type": "code",
   "execution_count": null,
   "metadata": {
    "ExecuteTime": {
     "end_time": "2024-12-28T10:02:48.593046Z",
     "start_time": "2024-12-28T10:02:48.470661Z"
    }
   },
   "outputs": [],
   "source": [
    "# Melakukan encoding pada variabel kategorikal (mengubah data teks menjadi numerik)\n",
    "# Membuat objek LabelEncoder untuk melakukan proses encoding\n",
    "\n",
    "\n",
    "# Melakukan iterasi untuk setiap kolom yang bertipe object (string/teks) dalam dataframe\n",
    "\n",
    "    # Mengubah nilai kategorikal menjadi numerik menggunakan fit_transform\n",
    "    # fit_transform akan:\n",
    "    # 1. Mempelajari kategori unik dalam kolom (fit)\n",
    "    # 2. Mengubah setiap kategori menjadi angka (transform)\n",
    "    # Contoh: 'Yes' -> 1, 'No' -> 0\n",
    "\n"
   ]
  },
  {
   "cell_type": "code",
   "execution_count": null,
   "metadata": {
    "ExecuteTime": {
     "end_time": "2024-12-28T10:02:48.732374Z",
     "start_time": "2024-12-28T10:02:48.658041Z"
    }
   },
   "outputs": [],
   "source": []
  },
  {
   "cell_type": "code",
   "execution_count": null,
   "metadata": {
    "ExecuteTime": {
     "end_time": "2024-12-28T10:02:56.274803Z",
     "start_time": "2024-12-28T10:02:49.249135Z"
    }
   },
   "outputs": [],
   "source": [
    "# Membuat visualisasi peta panas (heatmap) untuk melihat korelasi antar variabel numerik\n",
    "\n",
    "# Memilih kolom-kolom yang bertipe numerik (integer dan float) dari dataframe\n",
    "\n",
    "\n",
    "# Membuat figure dengan ukuran 18x10 inci\n",
    "\n",
    "\n",
    "# Membuat peta panas menggunakan seaborn:\n",
    "# - df[kolom_numerik].corr() menghitung korelasi antar kolom numerik\n",
    "# - annot=True menampilkan nilai korelasi di setiap sel\n",
    "# - cmap='coolwarm' mengatur skema warna (merah=korelasi positif, biru=korelasi negatif)\n",
    "\n",
    "\n",
    "# Menambahkan judul pada plot\n",
    "\n",
    "\n",
    "# Menampilkan visualisasi\n"
   ]
  },
  {
   "cell_type": "code",
   "execution_count": null,
   "metadata": {
    "ExecuteTime": {
     "end_time": "2024-12-28T10:02:56.431970Z",
     "start_time": "2024-12-28T10:02:56.417011Z"
    }
   },
   "outputs": [],
   "source": [
    "# Langkah 5: Memisahkan data menjadi fitur (X) dan target/label (y)\n",
    "\n",
    "# Membuat variabel X yang berisi semua kolom kecuali kolom 'COVID-19'\n",
    "# df.drop(columns=['COVID-19']) akan menghapus kolom 'COVID-19' dari dataframe\n",
    "# dan menyimpan hasilnya ke variabel X sebagai fitur untuk model\n",
    "\n",
    "\n",
    "# Membuat variabel y yang hanya berisi kolom 'COVID-19' \n",
    "# df['COVID-19'] akan mengambil kolom 'COVID-19' saja\n",
    "# dan menyimpannya ke variabel y sebagai target/label yang akan diprediksi\n"
   ]
  },
  {
   "cell_type": "code",
   "execution_count": null,
   "metadata": {
    "ExecuteTime": {
     "end_time": "2024-12-28T10:02:56.665037Z",
     "start_time": "2024-12-28T10:02:56.458746Z"
    }
   },
   "outputs": [],
   "source": [
    "# Langkah 6: Data Balancing Menggunakan SMOTE\n",
    "\n",
    "# Membuat objek SMOTE dengan random_state=42 untuk memastikan hasil yang konsisten\n",
    "# SMOTE (Synthetic Minority Over-sampling Technique) adalah teknik untuk menangani data yang tidak seimbang\n",
    "# dengan cara membuat sampel sintetis dari kelas minoritas\n",
    "\n",
    "\n",
    "# Melakukan resampling data menggunakan SMOTE:\n",
    "# - X_balanced: fitur yang sudah diseimbangkan jumlah kelasnya\n",
    "# - y_balanced: target/label yang sudah diseimbangkan jumlah kelasnya\n",
    "# fit_resample() akan membuat sampel baru sehingga jumlah data di setiap kelas menjadi sama\n",
    "\n"
   ]
  },
  {
   "cell_type": "code",
   "execution_count": null,
   "metadata": {
    "ExecuteTime": {
     "end_time": "2024-12-28T10:02:57.064685Z",
     "start_time": "2024-12-28T10:02:57.006325Z"
    }
   },
   "outputs": [],
   "source": [
    "# Langkah 7: Membagi data menjadi data latih dan data uji\n",
    "# train_test_split() adalah fungsi untuk membagi dataset menjadi data latih dan data uji\n",
    "# Parameter yang digunakan:\n",
    "# - X_balanced: fitur yang sudah diseimbangkan dengan SMOTE\n",
    "# - y_balanced: target/label yang sudah diseimbangkan dengan SMOTE  \n",
    "# - test_size=0.2: 20% data akan digunakan sebagai data uji, sisanya 80% untuk data latih\n",
    "# - random_state=42: untuk memastikan hasil pembagian data yang konsisten setiap kali kode dijalankan\n",
    "# - stratify=y_balanced: memastikan proporsi kelas pada data latih dan uji tetap seimbang\n",
    "# Hasil pembagian disimpan ke dalam 4 variabel:\n",
    "# - X_train: fitur untuk data latih (80% data)\n",
    "# - X_test: fitur untuk data uji (20% data)\n",
    "# - y_train: label untuk data latih (80% data)\n",
    "# - y_test: label untuk data uji (20% data)\n"
   ]
  },
  {
   "cell_type": "code",
   "execution_count": null,
   "metadata": {
    "ExecuteTime": {
     "end_time": "2024-12-28T10:02:57.356773Z",
     "start_time": "2024-12-28T10:02:57.277409Z"
    }
   },
   "outputs": [],
   "source": [
    "# Menampilkan ringkasan dari pembagian data setelah SMOTE\n",
    "# Mencetak dimensi/ukuran dari data latih fitur (X_train)\n",
    "# shape akan menampilkan (jumlah baris, jumlah kolom)\n",
    "\n",
    "\n",
    "# Mencetak dimensi/ukuran dari data latih label (y_train)\n",
    "# shape akan menampilkan (jumlah baris,) karena y_train hanya 1 kolom\n",
    "\n",
    "\n",
    "# Mencetak dimensi/ukuran dari data uji fitur (X_test)\n",
    "# shape akan menampilkan (jumlah baris, jumlah kolom) \n",
    "\n",
    "\n",
    "# Mencetak dimensi/ukuran dari data uji label (y_test)\n",
    "# shape akan menampilkan (jumlah baris,) karena y_test hanya 1 kolom\n",
    "\n",
    "\n",
    "# Mencetak distribusi kelas pada data latih label (y_train)\n",
    "# value_counts() akan menghitung jumlah data untuk setiap kelas\n",
    "\n",
    "\n",
    "\n",
    "# Mencetak nama-nama fitur yang digunakan dalam model\n",
    "# columns akan menampilkan daftar nama kolom dari X_train\n"
   ]
  },
  {
   "cell_type": "markdown",
   "metadata": {},
   "source": [
    "# <p style=\"background-color:lime; font-family:calibri; color:maroon; font-size:150%; text-align:center; border-radius:15px 50px;\">4. Modelling</p>"
   ]
  },
  {
   "cell_type": "code",
   "execution_count": null,
   "metadata": {
    "ExecuteTime": {
     "end_time": "2024-12-28T10:02:57.528251Z",
     "start_time": "2024-12-28T10:02:57.409094Z"
    }
   },
   "outputs": [],
   "source": [
    "# Membuat model Decision Tree untuk klasifikasi\n",
    "# DecisionTreeClassifier adalah algoritma pembelajaran mesin yang membuat keputusan berdasarkan aturan if-else\n",
    "# Parameter random_state=42 digunakan untuk memastikan hasil yang konsisten setiap kali kode dijalankan\n",
    "\n",
    "\n",
    "# Melatih model Decision Tree menggunakan data latih (X_train dan y_train)\n",
    "# fit() akan mempelajari pola dari data latih untuk membuat pohon keputusan\n",
    "\n",
    "\n",
    "# Melakukan prediksi menggunakan model yang sudah dilatih pada data uji (X_test)\n",
    "# predict() akan menghasilkan prediksi kelas untuk setiap data dalam X_test\n",
    "# Hasil prediksi disimpan dalam variabel y_pred_dt untuk evaluasi model\n"
   ]
  },
  {
   "cell_type": "code",
   "execution_count": null,
   "metadata": {
    "ExecuteTime": {
     "end_time": "2024-12-28T10:02:58.737319Z",
     "start_time": "2024-12-28T10:02:57.702439Z"
    }
   },
   "outputs": [],
   "source": [
    "# Membuat model Random Forest untuk klasifikasi\n",
    "# Random Forest adalah algoritma ensemble yang menggunakan banyak pohon keputusan\n",
    "# random_state=42 digunakan untuk memastikan hasil yang konsisten setiap kali kode dijalankan\n",
    "# n_estimators=100 menentukan jumlah pohon keputusan yang akan dibuat (100 pohon)\n",
    "\n",
    "\n",
    "# Melatih model Random Forest menggunakan data latih (X_train dan y_train)\n",
    "# fit() akan mempelajari pola dari data latih dengan membuat 100 pohon keputusan yang berbeda\n",
    "\n",
    "\n",
    "# Melakukan prediksi menggunakan model yang sudah dilatih pada data uji (X_test)\n",
    "# predict() akan menghasilkan prediksi kelas untuk setiap data dalam X_test\n",
    "# Hasil prediksi disimpan dalam variabel y_pred_rf untuk evaluasi model\n"
   ]
  },
  {
   "cell_type": "code",
   "execution_count": null,
   "metadata": {
    "ExecuteTime": {
     "end_time": "2024-12-28T10:02:58.817250Z",
     "start_time": "2024-12-28T10:02:58.786657Z"
    }
   },
   "outputs": [],
   "source": [
    "# Membuat model Naive Bayes untuk klasifikasi\n",
    "# GaussianNB() adalah algoritma Naive Bayes yang mengasumsikan fitur-fitur berdistribusi normal/Gaussian\n",
    "# Naive Bayes bekerja berdasarkan teorema Bayes dengan asumsi bahwa setiap fitur independen satu sama lain\n",
    "\n",
    "\n",
    "# Melatih model Naive Bayes menggunakan data latih (X_train dan y_train)\n",
    "# fit() akan mempelajari probabilitas setiap fitur untuk setiap kelas dari data latih\n",
    "\n",
    "\n",
    "# Melakukan prediksi menggunakan model yang sudah dilatih pada data uji (X_test)\n",
    "# predict() akan menghasilkan prediksi kelas untuk setiap data dalam X_test berdasarkan probabilitas yang telah dipelajari\n",
    "# Hasil prediksi disimpan dalam variabel y_pred_nb untuk evaluasi model\n"
   ]
  },
  {
   "cell_type": "code",
   "execution_count": null,
   "metadata": {
    "ExecuteTime": {
     "end_time": "2024-12-28T10:02:59.728509Z",
     "start_time": "2024-12-28T10:02:58.955773Z"
    }
   },
   "outputs": [],
   "source": [
    "# Membuat model Support Vector Machine (SVM) untuk klasifikasi\n",
    "# SVM bekerja dengan mencari hyperplane terbaik yang memisahkan kelas-kelas data\n",
    "# Parameter kernel='linear' menentukan jenis kernel yang digunakan (dalam hal ini kernel linear)\n",
    "# random_state=42 digunakan untuk memastikan hasil yang konsisten setiap kali kode dijalankan\n",
    "\n",
    "\n",
    "# Melatih model SVM menggunakan data latih (X_train dan y_train)\n",
    "# fit() akan mencari hyperplane optimal yang memisahkan kelas-kelas dalam data latih\n",
    "\n",
    "\n",
    "# Melakukan prediksi menggunakan model yang sudah dilatih pada data uji (X_test)\n",
    "# predict() akan mengklasifikasikan data uji berdasarkan hyperplane yang telah ditemukan\n",
    "# Hasil prediksi disimpan dalam variabel y_pred_svm untuk evaluasi model\n"
   ]
  },
  {
   "cell_type": "code",
   "execution_count": null,
   "metadata": {
    "ExecuteTime": {
     "end_time": "2024-12-28T10:03:01.320418Z",
     "start_time": "2024-12-28T10:02:59.806035Z"
    }
   },
   "outputs": [],
   "source": [
    "# Membuat model K-Nearest Neighbors (KNN) untuk klasifikasi\n",
    "# KNN bekerja dengan mencari k tetangga terdekat dari data yang akan diprediksi\n",
    "# Parameter n_neighbors=5 menentukan jumlah tetangga terdekat yang akan dipertimbangkan (k=5)\n",
    "\n",
    "\n",
    "# Melatih model KNN menggunakan data latih (X_train dan y_train)\n",
    "# fit() akan menyimpan data latih sebagai referensi untuk prediksi\n",
    "\n",
    "\n",
    "# Melakukan prediksi menggunakan model yang sudah dilatih pada data uji (X_test)\n",
    "# predict() akan mencari 5 tetangga terdekat untuk setiap data uji dan menentukan kelas berdasarkan mayoritas\n",
    "# Hasil prediksi disimpan dalam variabel y_pred_knn untuk evaluasi model\n"
   ]
  },
  {
   "cell_type": "markdown",
   "metadata": {},
   "source": [
    "# <p style=\"background-color:lime; font-family:calibri; color:maroon; font-size:150%; text-align:center; border-radius:15px 50px;\">5. Evaluation</p>"
   ]
  },
  {
   "cell_type": "code",
   "execution_count": null,
   "metadata": {
    "ExecuteTime": {
     "end_time": "2024-12-28T10:03:01.442079Z",
     "start_time": "2024-12-28T10:03:01.423266Z"
    }
   },
   "outputs": [],
   "source": [
    "# Mendefinisikan fungsi untuk membuat visualisasi confusion matrix\n",
    "\n",
    "    # Membuat confusion matrix dengan membandingkan nilai aktual (y_true) dan prediksi (y_pred)\n",
    "    \n",
    "    \n",
    "    # Membuat figure baru dengan ukuran 8x6 inci\n",
    "    \n",
    "    \n",
    "    # Membuat heatmap dari confusion matrix menggunakan seaborn\n",
    "    # annot=True untuk menampilkan nilai di setiap sel\n",
    "    # fmt='d' untuk format angka sebagai integer\n",
    "    # cmap='Blues' untuk menggunakan skema warna biru\n",
    "    \n",
    "    \n",
    "    # Menambahkan judul plot dengan nama model\n",
    "    \n",
    "    \n",
    "    # Menambahkan label untuk sumbu y (nilai aktual)\n",
    "    \n",
    "    \n",
    "    # Menambahkan label untuk sumbu x (nilai prediksi) \n",
    "    \n",
    "    \n",
    "    # Menampilkan plot\n",
    "    "
   ]
  },
  {
   "cell_type": "code",
   "execution_count": null,
   "metadata": {
    "ExecuteTime": {
     "end_time": "2024-12-28T10:03:01.472428Z",
     "start_time": "2024-12-28T10:03:01.459235Z"
    }
   },
   "outputs": [],
   "source": [
    "# Mendefinisikan fungsi untuk membuat plot ROC (Receiver Operating Characteristic) curve\n",
    "\n",
    "    # Menghitung False Positive Rate (FPR) dan True Positive Rate (TPR)\n",
    "    # menggunakan fungsi roc_curve dari sklearn\n",
    "    \n",
    "    \n",
    "    # Menghitung area di bawah kurva ROC (AUC)\n",
    "    \n",
    "    \n",
    "    # Membuat figure baru dengan ukuran 8x6 inci\n",
    "    \n",
    "    \n",
    "    # Plot kurva ROC dengan warna oranye dan label yang menunjukkan nilai AUC\n",
    "    \n",
    "    \n",
    "    # Plot garis baseline (garis diagonal) sebagai pembanding\n",
    "    \n",
    "    \n",
    "    # Mengatur batas sumbu x dari 0 sampai 1\n",
    "    \n",
    "    \n",
    "    # Mengatur batas sumbu y dari 0 sampai 1.05\n",
    "    \n",
    "    \n",
    "    # Menambahkan label untuk sumbu x\n",
    "    \n",
    "    \n",
    "    # Menambahkan label untuk sumbu y\n",
    "    \n",
    "    \n",
    "    # Menambahkan judul plot dengan nama model\n",
    "    \n",
    "    \n",
    "    # Menambahkan legend di pojok kanan bawah\n",
    "   \n",
    "    \n",
    "    # Menampilkan plot\n"
   ]
  },
  {
   "cell_type": "code",
   "execution_count": null,
   "metadata": {
    "ExecuteTime": {
     "end_time": "2024-12-28T10:03:01.549021Z",
     "start_time": "2024-12-28T10:03:01.539892Z"
    }
   },
   "outputs": [],
   "source": [
    "# Membuat dictionary yang berisi model-model machine learning yang akan dievaluasi\n",
    "# Dictionary ini memiliki:\n",
    "# - Key: nama model (string) \n",
    "# - Value: objek model yang sudah dilatih sebelumnya\n",
    "\n",
    "# models adalah dictionary yang berisi:\n",
    "# - Decision Tree (dt_model): Model pohon keputusan untuk klasifikasi\n",
    "# - Random Forest (rf_model): Model random forest yang menggunakan banyak pohon keputusan\n",
    "# - Naive Bayes (nb_model): Model naive bayes untuk klasifikasi probabilistik\n",
    "# - SVM (svm_model): Model Support Vector Machine untuk klasifikasi\n",
    "# - KNN (knn_model): Model K-Nearest Neighbors untuk klasifikasi berdasarkan tetangga terdekat\n",
    "\n",
    "\n",
    "\n"
   ]
  },
  {
   "cell_type": "code",
   "execution_count": null,
   "metadata": {
    "ExecuteTime": {
     "end_time": "2024-12-28T10:03:07.957278Z",
     "start_time": "2024-12-28T10:03:01.723744Z"
    }
   },
   "outputs": [],
   "source": [
    "# Melakukan iterasi untuk setiap model dalam dictionary models\n",
    "\n",
    "    # Melakukan prediksi menggunakan data test\n",
    "\n",
    "\n",
    "    # Mencetak nama model yang sedang dievaluasi\n",
    "\n",
    "\n",
    "    # Menghitung dan mencetak accuracy score dengan membandingkan hasil prediksi dengan nilai sebenarnya\n",
    "\n",
    "\n",
    "    # Mencetak classification report yang berisi precision, recall, f1-score untuk setiap kelas\n",
    "\n",
    "\n",
    "    # Mencetak confusion matrix yang menunjukkan jumlah true positive, false positive, true negative, false negative\n",
    "\n",
    "\n",
    "    # Membuat visualisasi confusion matrix dalam bentuk heatmap\n",
    "\n",
    "\n",
    "    # Mengecek apakah model mendukung prediksi probabilitas\n",
    "\n",
    "        # Jika model mendukung predict_proba, gunakan itu untuk mendapatkan probabilitas kelas positif\n",
    "\n",
    "        # Plot kurva ROC menggunakan probabilitas prediksi\n",
    "\n",
    "\n",
    "        # Khusus untuk model SVM, gunakan decision_function untuk mendapatkan skor prediksi\n",
    "\n",
    "        # Plot kurva ROC menggunakan skor decision function\n"
   ]
  },
  {
   "cell_type": "code",
   "execution_count": null,
   "metadata": {
    "ExecuteTime": {
     "end_time": "2024-12-28T10:03:08.134114Z",
     "start_time": "2024-12-28T10:03:07.988084Z"
    }
   },
   "outputs": [],
   "source": [
    "# Evaluasi model Decision Tree\n",
    "# Menghitung akurasi dengan membandingkan nilai prediksi dengan nilai sebenarnya\n",
    "\n",
    "# Membuat laporan klasifikasi yang berisi precision, recall, f1-score untuk setiap kelas\n",
    "\n",
    "# Membuat confusion matrix untuk melihat true positive, false positive, true negative, false negative\n",
    "\n",
    "\n",
    "# Menampilkan hasil evaluasi Decision Tree\n",
    "\n",
    "\n",
    "\n",
    "# Evaluasi model Random Forest\n",
    "# Menghitung akurasi Random Forest\n",
    "\n",
    "\n",
    "# Membuat laporan klasifikasi Random Forest\n",
    "\n",
    "# Membuat confusion matrix Random Forest\n",
    "\n",
    "\n",
    "# Menampilkan hasil evaluasi Random Forest\n",
    "\n",
    "\n",
    "\n",
    "# Evaluasi model Naive Bayes\n",
    "# Menghitung akurasi Naive Bayes\n",
    "\n",
    "# Membuat laporan klasifikasi Naive Bayes\n",
    "\n",
    "# Membuat confusion matrix Naive Bayes\n",
    "\n",
    "\n",
    "# Menampilkan hasil evaluasi Naive Bayes\n",
    "\n",
    "\n",
    "\n",
    "# Evaluasi model SVM (Support Vector Machine)\n",
    "# Menghitung akurasi SVM\n",
    "\n",
    "# Membuat laporan klasifikasi SVM\n",
    "\n",
    "# Membuat confusion matrix SVM\n",
    "\n",
    "\n",
    "# Menampilkan hasil evaluasi SVM\n",
    "\n",
    "\n",
    "\n",
    "# Evaluasi model KNN (K-Nearest Neighbors)\n",
    "# Menghitung akurasi KNN\n",
    "\n",
    "# Membuat laporan klasifikasi KNN\n",
    "\n",
    "# Membuat confusion matrix KNN\n",
    "\n",
    "\n",
    "# Menampilkan hasil evaluasi KNN\n",
    "\n",
    "\n",
    "\n"
   ]
  },
  {
   "cell_type": "code",
   "execution_count": null,
   "metadata": {
    "ExecuteTime": {
     "end_time": "2024-12-28T10:03:08.245778Z",
     "start_time": "2024-12-28T10:03:08.222771Z"
    }
   },
   "outputs": [],
   "source": [
    "# Membuat dictionary untuk menyimpan hasil evaluasi dari semua model\n",
    "# Dictionary ini akan memudahkan dalam membandingkan performa antar model\n",
    "model_performance = {\n",
    "    # Menyimpan hasil evaluasi model Decision Tree\n",
    "    'Decision Tree': {\n",
    "        'Accuracy': accuracy_dt,                       # Nilai akurasi\n",
    "        'Classification Report': classification_report_dt,  # Laporan klasifikasi detail\n",
    "        'Confusion Matrix': confusion_matrix_dt        # Matrix konfusi\n",
    "    },\n",
    "    # Menyimpan hasil evaluasi model Random Forest \n",
    "    'Random Forest': {\n",
    "        'Accuracy': accuracy_rf,\n",
    "        'Classification Report': classification_report_rf,\n",
    "        'Confusion Matrix': confusion_matrix_rf\n",
    "    },\n",
    "    # Menyimpan hasil evaluasi model Naive Bayes\n",
    "    'Naive Bayes': {\n",
    "        'Accuracy': accuracy_nb,\n",
    "        'Classification Report': classification_report_nb,\n",
    "        'Confusion Matrix': confusion_matrix_nb\n",
    "    },\n",
    "    # Menyimpan hasil evaluasi model SVM\n",
    "    'SVM': {\n",
    "        'Accuracy': accuracy_svm,\n",
    "        'Classification Report': classification_report_svm,\n",
    "        'Confusion Matrix': confusion_matrix_svm\n",
    "    },\n",
    "    # Menyimpan hasil evaluasi model KNN\n",
    "    'KNN': {\n",
    "        'Accuracy': accuracy_knn,\n",
    "        'Classification Report': classification_report_knn,\n",
    "        'Confusion Matrix': confusion_matrix_knn\n",
    "    }\n",
    "}\n",
    "\n",
    "# Menampilkan hasil evaluasi untuk setiap model\n",
    "# Loop melalui setiap model dalam dictionary\n",
    "for model_name, performance in model_performance.items():\n",
    "    print(f\"\\nModel: {model_name}\")                                    # Nama model\n",
    "    print(f\"Accuracy: {performance['Accuracy']}\")                      # Nilai akurasi model\n",
    "    print(\"Classification Report:\\n\", performance['Classification Report'])  # Laporan klasifikasi detail\n",
    "    print(\"Confusion Matrix:\\n\", performance['Confusion Matrix'])           # Matrix konfusi"
   ]
  },
  {
   "cell_type": "markdown",
   "metadata": {},
   "source": [
    "# <p style=\"background-color:lime; font-family:calibri; color:maroon; font-size:150%; text-align:center; border-radius:15px 50px;\">6. Deployment</p>"
   ]
  },
  {
   "cell_type": "code",
   "execution_count": null,
   "metadata": {
    "ExecuteTime": {
     "end_time": "2024-12-28T10:03:08.580645Z",
     "start_time": "2024-12-28T10:03:08.448629Z"
    }
   },
   "outputs": [],
   "source": [
    "# Import library joblib untuk menyimpan dan memuat model machine learning\n",
    "import joblib\n",
    "\n",
    "# Menyimpan model-model yang telah dilatih ke dalam file .pkl\n",
    "# joblib.dump() digunakan untuk menyimpan model ke dalam file\n",
    "# Parameter pertama adalah model yang akan disimpan\n",
    "# Parameter kedua adalah nama file untuk menyimpan model\n",
    "\n",
    "# Menyimpan model Decision Tree ke file decision_tree_model.pkl\n",
    "joblib.dump(dt_model, 'decision_tree_model.pkl')\n",
    "\n",
    "# Menyimpan model Random Forest ke file random_forest_model.pkl \n",
    "joblib.dump(rf_model, 'random_forest_model.pkl')\n",
    "\n",
    "# Menyimpan model Naive Bayes ke file naive_bayes_model.pkl\n",
    "joblib.dump(nb_model, 'naive_bayes_model.pkl')\n",
    "\n",
    "# Menyimpan model Support Vector Machine ke file svm_model.pkl\n",
    "joblib.dump(svm_model, 'svm_model.pkl')\n",
    "\n",
    "# Menyimpan model K-Nearest Neighbors ke file knn_model.pkl\n",
    "joblib.dump(knn_model, 'knn_model.pkl')"
   ]
  },
  {
   "cell_type": "code",
   "execution_count": null,
   "metadata": {
    "ExecuteTime": {
     "end_time": "2024-12-28T10:03:08.782371Z",
     "start_time": "2024-12-28T10:03:08.687335Z"
    }
   },
   "outputs": [],
   "source": [
    "# Memuat kembali model-model yang telah disimpan sebelumnya menggunakan joblib.load()\n",
    "\n",
    "# Memuat model Decision Tree dari file decision_tree_model.pkl\n",
    "# Model ini akan digunakan untuk melakukan prediksi klasifikasi COVID-19\n",
    "loaded_dt_model = joblib.load('decision_tree_model.pkl')\n",
    "\n",
    "# Memuat model Random Forest dari file random_forest_model.pkl\n",
    "# Model ini menggunakan kumpulan decision tree untuk prediksi yang lebih akurat\n",
    "loaded_rf_model = joblib.load('random_forest_model.pkl')\n",
    "\n",
    "# Memuat model Naive Bayes dari file naive_bayes_model.pkl\n",
    "# Model probabilistik yang menggunakan teorema Bayes untuk klasifikasi\n",
    "loaded_nb_model = joblib.load('naive_bayes_model.pkl')\n",
    "\n",
    "# Memuat model Support Vector Machine dari file svm_model.pkl\n",
    "# Model yang mencari hyperplane terbaik untuk memisahkan kelas-kelas\n",
    "loaded_svm_model = joblib.load('svm_model.pkl')\n",
    "\n",
    "# Memuat model K-Nearest Neighbors dari file knn_model.pkl\n",
    "# Model yang melakukan klasifikasi berdasarkan tetangga terdekat\n",
    "loaded_knn_model = joblib.load('knn_model.pkl')"
   ]
  },
  {
   "cell_type": "code",
   "execution_count": null,
   "metadata": {
    "ExecuteTime": {
     "end_time": "2024-12-28T10:03:08.910518Z",
     "start_time": "2024-12-28T10:03:08.860791Z"
    }
   },
   "outputs": [],
   "source": [
    "# Membuat data baru untuk pengujian prediksi\n",
    "# Mengambil baris pertama dari data test (X_test) sebagai contoh data\n",
    "# to_frame().T digunakan untuk mengubah series menjadi dataframe dan melakukan transpose\n",
    "new_data = X_test.iloc[0].to_frame().T\n",
    "\n",
    "# Melakukan prediksi menggunakan model-model yang telah dimuat sebelumnya\n",
    "# Setiap model akan memberikan prediksi berdasarkan data baru yang diberikan\n",
    "prediction_dt = loaded_dt_model.predict(new_data)    # Prediksi menggunakan Decision Tree\n",
    "prediction_rf = loaded_rf_model.predict(new_data)    # Prediksi menggunakan Random Forest  \n",
    "prediction_nb = loaded_nb_model.predict(new_data)    # Prediksi menggunakan Naive Bayes\n",
    "prediction_svm = loaded_svm_model.predict(new_data)  # Prediksi menggunakan Support Vector Machine\n",
    "prediction_knn = loaded_knn_model.predict(new_data)  # Prediksi menggunakan K-Nearest Neighbors\n",
    "\n",
    "# Menampilkan hasil prediksi dari setiap model\n",
    "# Jika hasil prediksi = 1 maka \"Positif\", jika tidak maka \"Negatif\"\n",
    "# Menggunakan f-string dan ternary operator untuk format output\n",
    "print(f\"Decision Tree Prediction: {'Positif' if prediction_dt[0] == 1 else 'Negatif'}\")   # Hasil prediksi Decision Tree\n",
    "print(f\"Random Forest Prediction: {'Positif' if prediction_rf[0] == 1 else 'Negatif'}\")   # Hasil prediksi Random Forest\n",
    "print(f\"Naive Bayes Prediction: {'Positif' if prediction_nb[0] == 1 else 'Negatif'}\")     # Hasil prediksi Naive Bayes\n",
    "print(f\"SVM Prediction: {'Positif' if prediction_svm[0] == 1 else 'Negatif'}\")            # Hasil prediksi SVM\n",
    "print(f\"KNN Prediction: {'Positif' if prediction_knn[0] == 1 else 'Negatif'}\")            # Hasil prediksi KNN"
   ]
  },
  {
   "cell_type": "code",
   "execution_count": null,
   "metadata": {
    "ExecuteTime": {
     "end_time": "2024-12-28T10:03:08.934555Z",
     "start_time": "2024-12-28T10:03:08.929133Z"
    }
   },
   "outputs": [],
   "source": []
  }
 ],
 "metadata": {
  "kernelspec": {
   "display_name": "venv",
   "language": "python",
   "name": "python3"
  },
  "language_info": {
   "codemirror_mode": {
    "name": "ipython",
    "version": 3
   },
   "file_extension": ".py",
   "mimetype": "text/x-python",
   "name": "python",
   "nbconvert_exporter": "python",
   "pygments_lexer": "ipython3",
   "version": "3.12.0"
  }
 },
 "nbformat": 4,
 "nbformat_minor": 4
}
