{
 "cells": [
  {
   "cell_type": "markdown",
   "metadata": {},
   "source": [
    "# 1. Import Library"
   ]
  },
  {
   "cell_type": "code",
   "execution_count": null,
   "metadata": {},
   "outputs": [],
   "source": [
    "# Import necessary libraries\n"
   ]
  },
  {
   "cell_type": "markdown",
   "metadata": {},
   "source": [
    "# Load Dataset"
   ]
  },
  {
   "cell_type": "code",
   "execution_count": null,
   "metadata": {},
   "outputs": [],
   "source": [
    "# Load the uploaded dataset\n"
   ]
  },
  {
   "cell_type": "markdown",
   "metadata": {},
   "source": [
    "# 3. Data Preprocessing"
   ]
  },
  {
   "cell_type": "code",
   "execution_count": null,
   "metadata": {},
   "outputs": [],
   "source": [
    "# Step 1: Check for missing values and data types\n"
   ]
  },
  {
   "cell_type": "code",
   "execution_count": null,
   "metadata": {},
   "outputs": [],
   "source": [
    "# Menggunakan kolom 'Nama' sebagai index\n"
   ]
  },
  {
   "cell_type": "code",
   "execution_count": null,
   "metadata": {},
   "outputs": [],
   "source": [
    "# Rename columns for easier access\n"
   ]
  },
  {
   "cell_type": "code",
   "execution_count": null,
   "metadata": {},
   "outputs": [],
   "source": [
    "# Check for any missing values in the dataset\n"
   ]
  },
  {
   "cell_type": "markdown",
   "metadata": {},
   "source": [
    "# 4. Split Data menjadi Training test dan Testing test 70% - 30%"
   ]
  },
  {
   "cell_type": "code",
   "execution_count": null,
   "metadata": {},
   "outputs": [],
   "source": [
    "# Step 2: Split the data into training and testing sets\n",
    "\n",
    "# Using a 70-30 train-test split\n",
    "\n"
   ]
  },
  {
   "cell_type": "markdown",
   "metadata": {},
   "source": [
    "# 5. Model Linear Regression"
   ]
  },
  {
   "cell_type": "code",
   "execution_count": null,
   "metadata": {},
   "outputs": [],
   "source": [
    "# Step 3: Apply Linear Regression\n"
   ]
  },
  {
   "cell_type": "code",
   "execution_count": null,
   "metadata": {},
   "outputs": [],
   "source": [
    "# Step 4: Make predictions on the test set\n",
    "\n"
   ]
  },
  {
   "cell_type": "markdown",
   "metadata": {},
   "source": [
    "# 6. Evaluasi Matriks"
   ]
  },
  {
   "cell_type": "code",
   "execution_count": null,
   "metadata": {},
   "outputs": [],
   "source": [
    "# Step 5: Calculate evaluation metrics\n",
    "\n",
    "\n",
    "# Display model coefficients and evaluation metrics\n",
    "\n",
    "\n",
    "# Display the calculated metrics and model coefficients\n"
   ]
  },
  {
   "cell_type": "code",
   "execution_count": null,
   "metadata": {},
   "outputs": [],
   "source": [
    "print(\"hasil intercept adalah\", \"{:.2f}\".format(a))\n",
    "print(\"setiap peningkatan asupan kalori harian sebesar 1 satuan diasumsikan meningkatkan berat badan sekitar\", \"{:.3f}\".format(b), \"kg\")\n",
    "print(\"Rata-rata kesalahan absolut dalam prediksi berat badan adalah sekitar\", \"{:.2f}\".format(mae), \"kg\")\n",
    "print(\"Kuadrat rata-rata kesalahan adalah\", \"{:.2f}\".format(mse))\n",
    "print(\"Kesalahan dalam satuan yang sama dengan data asli\", \"{:.2f}\".format(rmse), 'kg')\n",
    "print(\"Nilai negatif menunjukkan bahwa model tidak cocok dengan data (fit yang buruk), mungkin karena outliers atau ukuran dataset yang kecil\", \"{:.2f}\".format(r_squared))\n",
    "print(\"Kesalahan rata-rata dalam bentuk persentase, yang tergolong akurat secara umum sekitar\", \"{:.2f}\".format(mape)+'%')\n"
   ]
  },
  {
   "cell_type": "markdown",
   "metadata": {},
   "source": [
    "# 7. Visualisasi"
   ]
  },
  {
   "cell_type": "code",
   "execution_count": null,
   "metadata": {},
   "outputs": [],
   "source": [
    "# Visualize the original data and the linear regression results\n",
    "\n",
    "# Scatter plot of the original data points\n",
    "plt.figure(figsize=(12, 6))\n",
    "plt.scatter(X_test, y_test, color='blue', label=\"Berat badan actual (Test Data)\", s=80, edgecolor='k')\n",
    "plt.scatter(X_train, y_train, color='green', label=\"Training Data\", alpha=0.5, s=80, edgecolor='k')\n",
    "\n",
    "# Plotting the regression line based on the model\n",
    "X_line = np.linspace(X.min(), X.max(), 100).reshape(-1, 1)  # Generating X values for a smooth line\n",
    "y_line = model.predict(X_line)  # Predicted Y values based on the regression line\n",
    "plt.plot(X_line, y_line, color='red', label=\"Regression Line (Predicted)\")\n",
    "\n",
    "# Adding labels, title, and legend\n",
    "plt.xlabel(\"Kalori_per_hari\")\n",
    "plt.ylabel(\"berat_badan (kg)\")\n",
    "plt.title(\"Linear Regression: Prediksi berat badan berdasarkan kalori per hari\")\n",
    "plt.legend()\n",
    "plt.grid(True)\n",
    "plt.show()\n"
   ]
  },
  {
   "cell_type": "code",
   "execution_count": null,
   "metadata": {},
   "outputs": [],
   "source": [
    "# 1. Judul Grafik:\n",
    "# \"Linear Regression: Prediksi berat badan berdasarkan kalori per hari\": Judul ini menunjukkan bahwa hubungan antara kalori per hari (variabel independen) dan berat badan (variabel dependen) dimodelkan menggunakan regresi linier.\n",
    "# 2. Sumbu Grafik:\n",
    "# Sumbu X:\n",
    "\n",
    "# Mewakili jumlah kalori yang dikonsumsi per hari.\n",
    "# Semakin ke kanan, semakin besar jumlah kalori yang dikonsumsi.\n",
    "# Rentang data berkisar antara 300 hingga 500 kalori per hari.\n",
    "# Sumbu Y:\n",
    "\n",
    "# Mewakili berat badan dalam kilogram (kg).\n",
    "# Semakin tinggi nilai pada sumbu Y, semakin besar berat badan yang diukur.\n",
    "# Rentang data berkisar antara 40 kg hingga 90 kg.\n",
    "# 3. Titik Data:\n",
    "# Training Data (Titik Hijau):\n",
    "\n",
    "# Titik-titik hijau menunjukkan data pelatihan yang digunakan untuk melatih model regresi linier.\n",
    "# Titik ini mencerminkan hubungan antara jumlah kalori yang dikonsumsi per hari dan berat badan berdasarkan data historis.\n",
    "# Model menggunakan titik-titik ini untuk membangun garis regresi (garis merah).\n",
    "# Test Data (Titik Biru):\n",
    "\n",
    "# Titik biru menunjukkan test data, yaitu data yang tidak digunakan selama pelatihan model tetapi digunakan untuk menguji keakuratan model.\n",
    "# Titik biru mewakili nilai sebenarnya (actual) berat badan untuk jumlah kalori tertentu.\n",
    "# 4. Garis Regresi (Regression Line):\n",
    "# Garis Merah:\n",
    "# Garis merah menunjukkan hubungan linier antara jumlah kalori dan berat badan yang diprediksi oleh model regresi.\n",
    "# Model ini mencoba memprediksi berat badan berdasarkan jumlah kalori dengan asumsi hubungan linier antara kedua variabel.\n",
    "# 5. Interpretasi Model:\n",
    "# Hubungan Positif:\n",
    "\n",
    "# Grafik menunjukkan bahwa ada hubungan positif antara kalori per hari dan berat badan: semakin banyak kalori yang dikonsumsi, semakin besar berat badan.\n",
    "# Model ini cocok untuk menggambarkan data karena garis regresi berada di dekat sebagian besar titik data (baik training maupun test).\n",
    "# Kinerja Model:\n",
    "\n",
    "# Jika garis merah mendekati titik-titik biru (test data), ini menunjukkan bahwa model memiliki keakuratan yang baik untuk memprediksi berat badan berdasarkan konsumsi kalori.\n",
    "# Dalam grafik ini, garis regresi cukup dekat dengan titik biru, menunjukkan bahwa model memiliki performa yang baik.\n",
    "# 6. Potensi Peningkatan Model:\n",
    "# Jika ada variabilitas besar di luar garis merah (outliers), model mungkin memerlukan tambahan fitur (misalnya: aktivitas fisik, usia, atau jenis kelamin) untuk meningkatkan akurasi.\n",
    "# Model ini bisa diperluas dengan menggunakan Polynomial Regression jika hubungan antara kalori dan berat badan tidak sepenuhnya linier.\n",
    "# Kesimpulan:\n",
    "# Model Linear Regression menunjukkan hubungan yang masuk akal antara kalori per hari dan berat badan.\n",
    "# Dengan grafik ini, kita dapat memprediksi berat badan seseorang jika jumlah kalorinya diketahui.\n",
    "# Prediksi ini berguna dalam pengelolaan berat badan atau perencanaan nutrisi."
   ]
  }
 ],
 "metadata": {
  "kernelspec": {
   "display_name": "venv",
   "language": "python",
   "name": "python3"
  },
  "language_info": {
   "codemirror_mode": {
    "name": "ipython",
    "version": 3
   },
   "file_extension": ".py",
   "mimetype": "text/x-python",
   "name": "python",
   "nbconvert_exporter": "python",
   "pygments_lexer": "ipython3",
   "version": "3.12.0"
  }
 },
 "nbformat": 4,
 "nbformat_minor": 2
}
