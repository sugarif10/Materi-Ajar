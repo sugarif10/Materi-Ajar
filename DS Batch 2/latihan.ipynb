{
 "cells": [
  {
   "cell_type": "markdown",
   "metadata": {},
   "source": [
    "# <p style=\"background-color:lime; font-family:calibri; color:maroon; font-size:150%; text-align:center; border-radius:15px 50px;\">1. Business Understanding</p>"
   ]
  },
  {
   "cell_type": "code",
   "execution_count": null,
   "metadata": {},
   "outputs": [],
   "source": []
  },
  {
   "cell_type": "markdown",
   "metadata": {},
   "source": [
    "# <p style=\"background-color:lime; font-family:calibri; color:maroon; font-size:150%; text-align:center; border-radius:15px 50px;\">2. Data Understanding</p>"
   ]
  },
  {
   "cell_type": "markdown",
   "metadata": {},
   "source": [
    "# <p style=\"background-color:#8502d1; font-family:calibri; color:white; font-size:150%; text-align:center; border-radius:15px 50px;\">Step 1 | Install Libraries</p>"
   ]
  },
  {
   "cell_type": "code",
   "execution_count": null,
   "metadata": {},
   "outputs": [],
   "source": [
    "# !pip install pandas\n",
    "# !pip install numpy\n",
    "# !pip install scikit-learn\n",
    "# !pip install matplotlib\n",
    "# !pip install seaborn"
   ]
  },
  {
   "cell_type": "markdown",
   "metadata": {},
   "source": [
    "# <p style=\"background-color:#8502d1; font-family:calibri; color:white; font-size:150%; text-align:center; border-radius:15px 50px;\">Step 2 | Import Libraries</p>"
   ]
  },
  {
   "cell_type": "code",
   "execution_count": null,
   "metadata": {},
   "outputs": [],
   "source": [
    "import os, sys\n",
    "import numpy as np\n",
    "import pandas as pd\n",
    "import matplotlib.pyplot as plt\n",
    "import seaborn as sns\n",
    "\n",
    "import warnings\n",
    "warnings.filterwarnings('ignore')\n",
    "\n",
    "pd.set_option('display.max_columns', 500)\n",
    "pd.set_option('display.max_rows', 500)\n",
    "pd.set_option('display.width', 1000)\n",
    "\n",
    "%matplotlib inline\n"
   ]
  },
  {
   "cell_type": "markdown",
   "metadata": {},
   "source": [
    "# <p style=\"background-color:#8502d1; font-family:calibri; color:white; font-size:150%; text-align:center; border-radius:15px 50px;\">Step 3 | Load Dataset</p>"
   ]
  },
  {
   "cell_type": "code",
   "execution_count": null,
   "metadata": {},
   "outputs": [],
   "source": [
    "df = pd.read_csv('penjualan.csv')"
   ]
  },
  {
   "cell_type": "markdown",
   "metadata": {},
   "source": [
    "# <p style=\"background-color:#8502d1; font-family:calibri; color:white; font-size:150%; text-align:center; border-radius:15px 50px;\">Step 4 | Data Exploration</p>"
   ]
  },
  {
   "cell_type": "code",
   "execution_count": null,
   "metadata": {},
   "outputs": [],
   "source": [
    "# Menampilkan semua baris dan kolom\n",
    "df"
   ]
  },
  {
   "cell_type": "code",
   "execution_count": null,
   "metadata": {},
   "outputs": [],
   "source": [
    "# Menampilkan baris pertama\n",
    "df.head()"
   ]
  },
  {
   "cell_type": "code",
   "execution_count": null,
   "metadata": {},
   "outputs": [],
   "source": [
    "# Menampilkan baris terakhir\n",
    "df.tail()"
   ]
  },
  {
   "cell_type": "code",
   "execution_count": null,
   "metadata": {},
   "outputs": [],
   "source": [
    "# Menampilkan ringkasan dataframe\n",
    "df.info()"
   ]
  },
  {
   "cell_type": "code",
   "execution_count": null,
   "metadata": {},
   "outputs": [],
   "source": [
    "# Menampilkan statistik deskriptif\n",
    "df.describe()"
   ]
  },
  {
   "cell_type": "markdown",
   "metadata": {},
   "source": [
    "# <p style=\"background-color:lime; font-family:calibri; color:maroon; font-size:150%; text-align:center; border-radius:15px 50px;\">3. Data Preparation</p>"
   ]
  },
  {
   "cell_type": "code",
   "execution_count": null,
   "metadata": {},
   "outputs": [],
   "source": [
    "# 1. Mengecek nilai yang hilang\n",
    "df.isnull().sum()"
   ]
  },
  {
   "cell_type": "code",
   "execution_count": null,
   "metadata": {},
   "outputs": [],
   "source": [
    "# 2. Menghapus baris yang memiliki nilai yang hilang di kolom 'statecode'\n",
    "df.dropna(subset=['statecode'], inplace=True)"
   ]
  },
  {
   "cell_type": "code",
   "execution_count": null,
   "metadata": {},
   "outputs": [],
   "source": [
    "df.info()"
   ]
  },
  {
   "cell_type": "code",
   "execution_count": null,
   "metadata": {},
   "outputs": [],
   "source": [
    "# 3. Mengubah tipe data kolom 'date_str' dari object ke datetime\n",
    "df['orderdate'] = pd.to_datetime(df['orderdate'])\n",
    "df['birthday'] = pd.to_datetime(df['birthday'])\n",
    "df['deliverydate'] = pd.to_datetime(df['deliverydate'])\n",
    "df['opendate'] = pd.to_datetime(df['opendate'])"
   ]
  },
  {
   "cell_type": "code",
   "execution_count": null,
   "metadata": {},
   "outputs": [],
   "source": [
    "# 4. Mengisi nilai yang hilang untuk kolom 'deliverydate' dengan 'orderdate' + 12\n",
    "# Mengisi nilai yang hilang pada kolom 'deliverydate' menggunakan np.where:\n",
    "# - Jika deliverydate kosong (isna), maka diisi dengan orderdate + 12 hari\n",
    "# - Jika deliverydate sudah ada isinya, maka tetap menggunakan nilai yang ada\n",
    "df['deliverydate'] = np.where(df['deliverydate'].isna(),                    # Kondisi: cek apakah deliverydate kosong\n",
    "                              df['orderdate'] + pd.Timedelta(days=12),       # Nilai jika kondisi True: orderdate + 12 hari\n",
    "                              df['deliverydate'])                            # Nilai jika kondisi False: tetap pakai deliverydate yang ada"
   ]
  },
  {
   "cell_type": "code",
   "execution_count": null,
   "metadata": {},
   "outputs": [],
   "source": [
    "df"
   ]
  },
  {
   "cell_type": "code",
   "execution_count": null,
   "metadata": {},
   "outputs": [],
   "source": [
    "# 5. Mencari dan menghapus duplikat\n",
    "df.drop_duplicates(inplace=True)"
   ]
  },
  {
   "cell_type": "code",
   "execution_count": null,
   "metadata": {},
   "outputs": [],
   "source": [
    "df.info()"
   ]
  },
  {
   "cell_type": "code",
   "execution_count": null,
   "metadata": {},
   "outputs": [],
   "source": [
    "# 6. Membuat kolom baru dengan nama profit yang menghitung selisih antara unit_price_usd dan unit_cost_usd\n",
    "# Langkah 1: Mengubah tipe data menjadi float\n",
    "# Mengubah kolom unit_price_usd:\n",
    "# 1. Menghapus simbol $ menggunakan str.replace('$', '')\n",
    "# 2. Menghapus tanda koma menggunakan str.replace(',', '') \n",
    "# 3. Mengubah string menjadi numerik menggunakan pd.to_numeric()\n",
    "# 4. Parameter errors='coerce' akan mengubah nilai yang tidak valid menjadi NaN\n",
    "df['unit_price_usd'] = pd.to_numeric(df['unit_price_usd'].str.replace('$', '').str.replace(',', ''), errors='coerce')\n",
    "\n",
    "# Mengubah kolom unit_cost_usd dengan cara yang sama:\n",
    "# 1. Menghapus simbol $ menggunakan str.replace('$', '')\n",
    "# 2. Menghapus tanda koma menggunakan str.replace(',', '')\n",
    "# 3. Mengubah string menjadi numerik menggunakan pd.to_numeric() \n",
    "# 4. Parameter errors='coerce' akan mengubah nilai yang tidak valid menjadi NaN\n",
    "df['unit_cost_usd'] = pd.to_numeric(df['unit_cost_usd'].str.replace('$', '').str.replace(',', ''), errors='coerce')\n"
   ]
  },
  {
   "cell_type": "code",
   "execution_count": null,
   "metadata": {},
   "outputs": [],
   "source": [
    "# Langkah 2: Buat kolom 'profit'\n",
    "df['profit'] = df['unit_price_usd'] - df['unit_cost_usd']\n",
    "\n",
    "df"
   ]
  },
  {
   "cell_type": "code",
   "execution_count": null,
   "metadata": {},
   "outputs": [],
   "source": [
    "# Langkah 3: Mengatur ulang / indexing kolom profit menjadi disebelah unit_cost_usd\n",
    "# Mendapatkan daftar semua nama kolom\n",
    "columns = list(df.columns)\n",
    "\n",
    "# Menentukan posisi kolom 'unit_price_usd' dalam daftar\n",
    "position = columns.index('unit_price_usd')\n",
    "\n",
    "# Menyisipkan 'profit' ke posisi setelah 'unit_price_usd'\n",
    "# Menggunakan position+1 karena ingin menempatkannya setelah 'unit_price_usd'\n",
    "columns.insert(position + 1, columns.pop(columns.index('profit')))\n",
    "\n",
    "\n",
    "# Mengatur ulang kolom DataFrame berdasarkan daftar kolom yang telah disusun ulang\n",
    "df = df[columns]\n",
    "\n",
    "df"
   ]
  },
  {
   "cell_type": "code",
   "execution_count": null,
   "metadata": {},
   "outputs": [],
   "source": [
    "# 7. Membuat kolom baru dengan nama age yang menghitung umur berdasarkan tanggal lahir\n",
    "# # Pastikan kolom 'birthday' dalam format datetime\n",
    "# Membuat kolom baru 'age' untuk menghitung umur\n",
    "# 1. pd.Timestamp.now() mengambil waktu saat ini\n",
    "# 2. Mengurangi dengan kolom 'birthday' untuk mendapatkan selisih waktu\n",
    "# 3. .dt.days mengkonversi selisih waktu menjadi jumlah hari\n",
    "# 4. Membagi dengan 365 (// operator pembagian bulat) untuk mendapatkan umur dalam tahun\n",
    "df['age'] = (pd.Timestamp.now() - df['birthday']).dt.days // 365"
   ]
  },
  {
   "cell_type": "code",
   "execution_count": null,
   "metadata": {},
   "outputs": [],
   "source": [
    "# Langkah 4: Mengatur ulang / indexing kolom profit menjadi disebelah unit_cost_usd\n",
    "# Mendapatkan daftar semua nama kolom\n",
    "columns = list(df.columns)\n",
    "\n",
    "# Menentukan posisi kolom 'birthday' dalam daftar\n",
    "position = columns.index('birthday')\n",
    "\n",
    "# Menyisipkan 'profit' ke posisi setelah 'birthday'\n",
    "# Menggunakan position+1 karena ingin menempatkannya setelah 'birthday'\n",
    "columns.insert(position + 1, columns.pop(columns.index('age')))\n",
    "\n",
    "# Mengatur ulang kolom DataFrame berdasarkan daftar kolom yang telah disusun ulang\n",
    "df = df[columns]\n",
    "\n",
    "df"
   ]
  },
  {
   "cell_type": "code",
   "execution_count": null,
   "metadata": {},
   "outputs": [],
   "source": [
    "df=df.to_csv('penjualanBaru.csv', index=False)"
   ]
  },
  {
   "cell_type": "code",
   "execution_count": null,
   "metadata": {},
   "outputs": [],
   "source": []
  },
  {
   "cell_type": "code",
   "execution_count": null,
   "metadata": {},
   "outputs": [],
   "source": [
    "plt.figure(figsize=(10, 8))\n",
    "corr = df.select_dtypes(include=['float64', 'int64']).corr()\n",
    "sns.heatmap(corr, annot=True, cmap='coolwarm')\n",
    "plt.title('Heatmap Korelasi Variabel Numerik')\n",
    "plt.show()"
   ]
  },
  {
   "cell_type": "code",
   "execution_count": null,
   "metadata": {},
   "outputs": [],
   "source": [
    "import matplotlib.pyplot as plt\n",
    "import seaborn as sns\n",
    "\n",
    "# Histogram untuk variabel 'age'\n",
    "plt.figure(figsize=(8, 6))\n",
    "sns.histplot(df['age'], bins=10, kde=True)  # kde=True menambahkan estimasi kepadatan kernel\n",
    "plt.title('Distribusi Umur')\n",
    "plt.xlabel('Umur')\n",
    "plt.ylabel('Frekuensi')\n",
    "plt.show()"
   ]
  },
  {
   "cell_type": "code",
   "execution_count": null,
   "metadata": {},
   "outputs": [],
   "source": [
    "from sklearn.preprocessing import LabelEncoder, MinMaxScaler, StandardScaler\n",
    "from sklearn.model_selection import train_test_split\n",
    "from imblearn.over_sampling import SMOTE"
   ]
  },
  {
   "cell_type": "code",
   "execution_count": null,
   "metadata": {},
   "outputs": [],
   "source": [
    "\n",
    "\n",
    "\n",
    "\n",
    "\n",
    "\n",
    "\n",
    "# 3. Encoding untuk variabel kategorikal\n",
    "label_encoder = LabelEncoder()\n",
    "for column in df.select_dtypes(include=['object']).columns:\n",
    "    df[column] = label_encoder.fit_transform(df[column])\n",
    "\n",
    "# 4. Penanganan tipe data\n",
    "# Contoh: Konversi tipe data jika diperlukan, misal konversi 'unit_price_usd' dari object ke float\n",
    "# df['unit_price_usd'] = df['unit_price_usd'].str.replace('$', '').astype(float)\n",
    "\n",
    "# 5. Penanganan outlier\n",
    "# Contoh sederhana: Menghapus outlier berdasarkan Z-score untuk kolom numerik\n",
    "from scipy import stats\n",
    "import numpy as np\n",
    "z_scores = stats.zscore(df.select_dtypes(include=[np.number]))\n",
    "abs_z_scores = np.abs(z_scores)\n",
    "filtered_entries = (abs_z_scores < 3).all(axis=1)\n",
    "df = df[filtered_entries]\n",
    "\n",
    "# 6. Scaling fitur\n",
    "scaler = MinMaxScaler()\n",
    "df[df.columns] = scaler.fit_transform(df[df.columns])\n",
    "\n",
    "# 7. Balancing Data\n",
    "# Asumsi: Target adalah kolom terakhir 'y'\n",
    "X = df.iloc[:, :-1]\n",
    "y = df.iloc[:, -1]\n",
    "\n",
    "smote = SMOTE(random_state=42)\n",
    "X_res, y_res = smote.fit_resample(X, y)\n",
    "\n",
    "# Note: Pastikan langkah-langkah di atas disesuaikan dengan struktur dan kebutuhan data Anda."
   ]
  },
  {
   "cell_type": "markdown",
   "metadata": {},
   "source": [
    "# <p style=\"background-color:lime; font-family:calibri; color:maroon; font-size:150%; text-align:center; border-radius:15px 50px;\">4. Modelling</p>"
   ]
  },
  {
   "cell_type": "code",
   "execution_count": null,
   "metadata": {},
   "outputs": [],
   "source": []
  },
  {
   "cell_type": "markdown",
   "metadata": {},
   "source": [
    "# <p style=\"background-color:lime; font-family:calibri; color:maroon; font-size:150%; text-align:center; border-radius:15px 50px;\">5. Evaluation</p>"
   ]
  },
  {
   "cell_type": "code",
   "execution_count": null,
   "metadata": {},
   "outputs": [],
   "source": []
  }
 ],
 "metadata": {
  "kernelspec": {
   "display_name": "venv",
   "language": "python",
   "name": "python3"
  },
  "language_info": {
   "codemirror_mode": {
    "name": "ipython",
    "version": 3
   },
   "file_extension": ".py",
   "mimetype": "text/x-python",
   "name": "python",
   "nbconvert_exporter": "python",
   "pygments_lexer": "ipython3",
   "version": "3.12.0"
  }
 },
 "nbformat": 4,
 "nbformat_minor": 2
}
